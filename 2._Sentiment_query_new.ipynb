{
 "cells": [
  {
   "cell_type": "code",
   "execution_count": 63,
   "metadata": {},
   "outputs": [],
   "source": [
    "import pandas as pd\n",
    "import re\n",
    "pd.options.display.max_columns = 999\n",
    "pd.options.display.max_rows = 999\n",
    "import numpy as np\n",
    "import matplotlib.pyplot as plt\n",
    "%matplotlib inline\n",
    "import seaborn as sns\n",
    "from tqdm import tqdm\n",
    "tqdm.pandas()\n",
    "from tqdm import tqdm_notebook\n",
    "import pickle\n",
    "import datetime\n",
    "import collections"
   ]
  },
  {
   "cell_type": "code",
   "execution_count": 3,
   "metadata": {},
   "outputs": [],
   "source": [
    "df_post = pd.read_csv('../out/car/df_post.csv',parse_dates=['post_date'])"
   ]
  },
  {
   "cell_type": "code",
   "execution_count": 4,
   "metadata": {},
   "outputs": [],
   "source": [
    "with open('../out/car/tokens_post.txt', 'rb') as fp:   #Pickling\n",
    "    tokens_post = pickle.load(fp)"
   ]
  },
  {
   "cell_type": "code",
   "execution_count": 21,
   "metadata": {},
   "outputs": [
    {
     "data": {
      "text/plain": [
       "(417101, 417101)"
      ]
     },
     "execution_count": 21,
     "metadata": {},
     "output_type": "execute_result"
    }
   ],
   "source": [
    "len(tokens_post), len(df_post)"
   ]
  },
  {
   "cell_type": "markdown",
   "metadata": {},
   "source": [
    "## sentiment query with kws radius"
   ]
  },
  {
   "cell_type": "code",
   "execution_count": 5,
   "metadata": {},
   "outputs": [],
   "source": [
    "# pos_txt = list(pd.read_csv('../src/positive-sentiment-words.txt',header=None)[0].values)\n",
    "# neg_txt = list(pd.read_csv('../src/negative-sentiment-words.txt', header=None)[0].values)\n",
    "# pos_df = pd.DataFrame({'word':pos_txt, 'score':1})\n",
    "# neg_df = pd.DataFrame({'word':neg_txt, 'score':1})\n",
    "# pos_df.to_excel('../src/positive_word_score.xlsx', index=False)\n",
    "# neg_df.to_excel('../src/negative_word_score.xlsx', index=False)"
   ]
  },
  {
   "cell_type": "code",
   "execution_count": 6,
   "metadata": {},
   "outputs": [],
   "source": [
    "pos_df = pd.read_excel('../src/positive_word_score.xlsx')\n",
    "neg_df = pd.read_excel('../src/negative_word_score.xlsx')"
   ]
  },
  {
   "cell_type": "code",
   "execution_count": 7,
   "metadata": {},
   "outputs": [],
   "source": [
    "# convert dataframe to default dict\n",
    "pos_dict = collections.defaultdict(lambda:0 ,{word:score for word,score in zip(pos_df.word.values,pos_df.score.values)})\n",
    "neg_dict = collections.defaultdict(lambda:0 ,{word:score for word,score in zip(neg_df.word.values,neg_df.score.values)})"
   ]
  },
  {
   "cell_type": "code",
   "execution_count": 32,
   "metadata": {},
   "outputs": [],
   "source": [
    "def count_score(tokens_post, kws, kws_radius):\n",
    "    \n",
    "    idxs=[]\n",
    "    scores=[]\n",
    "    for i,tokens in enumerate(tokens_post):\n",
    "        pos,neg = 0, 0\n",
    "        lhs_idx, rhs_idx = -np.inf, -np.inf\n",
    "        for j,word in enumerate(tokens):\n",
    "            if word in kws:\n",
    "                # append the index only one time\n",
    "                if lhs_idx == -np.inf:\n",
    "                    idxs.append(i)\n",
    "                # update the range of search index\n",
    "                if min(0,j-kws_radius) < rhs_idx:\n",
    "                    lhs_idx = rhs_idx\n",
    "                else:\n",
    "                    lhs_idx = max(0,j-kws_radius)\n",
    "\n",
    "                rhs_idx = min(len(tokens)-1,j+kws_radius)\n",
    "\n",
    "                # count the score\n",
    "                for k in range(lhs_idx,rhs_idx):\n",
    "                    pos+=pos_dict[tokens[k]]\n",
    "                    neg+=neg_dict[tokens[k]]\n",
    "                \n",
    "        score = pos-neg\n",
    "        if lhs_idx != -np.inf:\n",
    "            scores.append(score)\n",
    "    \n",
    "    return idxs, scores"
   ]
  },
  {
   "cell_type": "code",
   "execution_count": 95,
   "metadata": {},
   "outputs": [],
   "source": [
    "def get_sentiment(df):\n",
    "    df_temp = df.copy()\n",
    "    df_temp = df_temp.iloc[idxs]\n",
    "    df_temp['sent_score'] = scores\n",
    "    df_temp['sentiment'] = df_temp.sent_score.apply(lambda x:'positive' if x>0 else 'negative' if x<0 else 'neutral')\n",
    "    return df_temp"
   ]
  },
  {
   "cell_type": "code",
   "execution_count": 93,
   "metadata": {
    "scrolled": false
   },
   "outputs": [
    {
     "data": {
      "application/vnd.jupyter.widget-view+json": {
       "model_id": "e802fc60102b49c78f000169baaa32a6",
       "version_major": 2,
       "version_minor": 0
      },
      "text/plain": [
       "HBox(children=(IntProgress(value=0, max=3), HTML(value='')))"
      ]
     },
     "metadata": {},
     "output_type": "display_data"
    },
    {
     "name": "stderr",
     "output_type": "stream",
     "text": [
      "/opt/anaconda3/lib/python3.7/site-packages/ipykernel_launcher.py:18: FutureWarning: Comparing Series of datetimes with 'datetime.date'.  Currently, the\n",
      "'datetime.date' is coerced to a datetime. In the future pandas will\n",
      "not coerce, and a TypeError will be raised. To retain the current\n",
      "behavior, convert the 'datetime.date' to a datetime with\n",
      "'pd.Timestamp'.\n"
     ]
    },
    {
     "name": "stdout",
     "output_type": "stream",
     "text": [
      "Total mentions: 862 \n",
      "\n",
      "Total mentions: 440 \n",
      "\n",
      "Total mentions: 97 \n",
      "\n",
      "\n"
     ]
    },
    {
     "data": {
      "image/png": "[encoded data removed]",
      "text/plain": [
       "<Figure size 432x288 with 1 Axes>"
      ]
     },
     "metadata": {
      "needs_background": "light"
     },
     "output_type": "display_data"
    }
   ],
   "source": [
    "kws_list = [['city'],['yaris','ativ'],['almera']]\n",
    "dt = datetime.date(2018,11,1)\n",
    "win_len = 365\n",
    "kws_radius = 10\n",
    "sent_sum_list = []\n",
    "\n",
    "for kws in tqdm_notebook(kws_list):\n",
    "    idxs, scores = count_score(tokens_post, kws, kws_radius)\n",
    "    df_temp = get_sentiment(df_post)\n",
    "    \n",
    "    # filter by datetime\n",
    "    df_temp = df_temp.loc[(df_temp.post_date < dt)&\\\n",
    "                          (dt - df_temp.post_date.dt.date < datetime.timedelta(days=win_len))]\n",
    "    \n",
    "    sent_sum_df = pd.DataFrame(df_temp.sentiment.value_counts()).reset_index().rename({'sentiment':'count','index':'sentiment'},axis=1)\n",
    "    sent_sum_df['key words'] = ', '.join(kws)\n",
    "    sent_sum_list.append(sent_sum_df)\n",
    "    \n",
    "all_brand_df = pd.concat(sent_sum_list)\n",
    "_ = sns.barplot(x='sentiment',y='count',hue='key words',data=all_brand_df)"
   ]
  },
  {
   "cell_type": "code",
   "execution_count": 94,
   "metadata": {
    "scrolled": true
   },
   "outputs": [
    {
     "name": "stderr",
     "output_type": "stream",
     "text": [
      "100%|██████████| 417101/417101 [00:02<00:00, 148185.50it/s]\n"
     ]
    }
   ],
   "source": [
    "# extract month-year and year from date time\n",
    "df_post['month-year'] = df_post.post_date.progress_apply(lambda x:datetime.date(x.year,x.month,1))\n",
    "df_post['year'] = df_post.post_date.dt.year"
   ]
  },
  {
   "cell_type": "code",
   "execution_count": 98,
   "metadata": {},
   "outputs": [
    {
     "data": {
      "application/vnd.jupyter.widget-view+json": {
       "model_id": "3e0d7ce04eda409ab253cd747bd6268e",
       "version_major": 2,
       "version_minor": 0
      },
      "text/plain": [
       "HBox(children=(IntProgress(value=0, max=3), HTML(value='')))"
      ]
     },
     "metadata": {},
     "output_type": "display_data"
    },
    {
     "name": "stdout",
     "output_type": "stream",
     "text": [
      "\n"
     ]
    }
   ],
   "source": [
    "kws_list = [['city'],['yaris','ativ'],['almera']]\n",
    "kws_radius = 10\n",
    "agg_month_list = []\n",
    "agg_year_list = []\n",
    "\n",
    "for kws in tqdm_notebook(kws_list):\n",
    "    idxs, scores = count_score(tokens_post, kws, kws_radius)\n",
    "    df_temp = get_sentiment(df_post)\n",
    "    \n",
    "    # aggregate\n",
    "    df_temp_mo = df_temp.groupby(['month-year','sentiment'])['sent_score'].count().reset_index()\n",
    "    df_temp_mo['key words'] = ', '.join(kws)\n",
    "    agg_month_list.append(df_temp_mo)\n",
    "    df_temp_y = df_temp.groupby(['year','sentiment'])['sent_score'].count().reset_index()\n",
    "    df_temp_y['key words'] = ', '.join(kws)\n",
    "    agg_year_list.append(df_temp_y)\n",
    "\n",
    "mo_all_df = pd.concat(agg_month_list)\n",
    "mo_all_df['kws-sent'] = mo_all_df['key words'] + mo_all_df['sentiment']\n",
    "_ = sns.lineplot(x='month-year', y='sent_score', hue='sentiment',data=mo_all_df)\n",
    "plt.show()\n",
    "# _ = sns.lineplot(x='year', y='sent_score', hue='sentiment',data=df_temp_y)\n",
    "# plt.show()"
   ]
  },
  {
   "cell_type": "code",
   "execution_count": 26,
   "metadata": {},
   "outputs": [
    {
     "data": {
      "image/png": "[encoded data removed]",
      "text/plain": [
       "<Figure size 432x720 with 1 Axes>"
      ]
     },
     "metadata": {
      "needs_background": "light"
     },
     "output_type": "display_data"
    }
   ],
   "source": [
    "df_temp['user_id'] = df_temp['user_id'].astype(int)\n",
    "\n",
    "# visualize engagement by top user\n",
    "df_temp_user = df_temp.groupby('user_id')['sentiment'].count().reset_index().sort_values('sentiment',ascending=False)\n",
    "\n",
    "df_temp_user.rename({'sentiment':'total_post'},axis=1,inplace=True)\n",
    "\n",
    "_ = df_temp_user.head(50).plot(x='user_id',y='total_post',kind='barh',legend=False,figsize=(6,10))"
   ]
  },
  {
   "cell_type": "code",
   "execution_count": 27,
   "metadata": {},
   "outputs": [
    {
     "data": {
      "image/png": "[encoded data removed]",
      "text/plain": [
       "<Figure size 432x288 with 1 Axes>"
      ]
     },
     "metadata": {
      "needs_background": "light"
     },
     "output_type": "display_data"
    }
   ],
   "source": [
    "# single user view\n",
    "user_id = 1228757\n",
    "df_temp_1u = df_temp.loc[df_temp.user_id == user_id]\n",
    "\n",
    "_ = df_temp_1u.sentiment.value_counts().plot('barh')"
   ]
  },
  {
   "cell_type": "code",
   "execution_count": null,
   "metadata": {},
   "outputs": [],
   "source": []
  }
 ],
 "metadata": {
  "kernelspec": {
   "display_name": "Python 3",
   "language": "python",
   "name": "python3"
  },
  "language_info": {
   "codemirror_mode": {
    "name": "ipython",
    "version": 3
   },
   "file_extension": ".py",
   "mimetype": "text/x-python",
   "name": "python",
   "nbconvert_exporter": "python",
   "pygments_lexer": "ipython3",
   "version": "3.6.8"
  }
 },
 "nbformat": 4,
 "nbformat_minor": 2
}
