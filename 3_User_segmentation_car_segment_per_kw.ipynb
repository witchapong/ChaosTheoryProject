{
 "cells": [
  {
   "cell_type": "markdown",
   "metadata": {},
   "source": [
    "## Import libs and data"
   ]
  },
  {
   "cell_type": "code",
   "execution_count": 2,
   "metadata": {},
   "outputs": [
    {
     "name": "stdout",
     "output_type": "stream",
     "text": [
      "Collecting squarify\n",
      "  Downloading https://files.pythonhosted.org/packages/0b/2b/2e77c35326efec19819cd1d729540d4d235e6c2a3f37658288a363a67da5/squarify-0.4.3-py3-none-any.whl\n",
      "Installing collected packages: squarify\n",
      "Successfully installed squarify-0.4.3\n",
      "\u001b[33mWARNING: You are using pip version 19.1.1, however version 19.2.1 is available.\n",
      "You should consider upgrading via the 'pip install --upgrade pip' command.\u001b[0m\n"
     ]
    }
   ],
   "source": [
    "import pandas as pd\n",
    "import re\n",
    "pd.options.display.max_columns = 999\n",
    "pd.options.display.max_rows = 999\n",
    "import numpy as np\n",
    "import matplotlib.pyplot as plt\n",
    "%matplotlib inline\n",
    "import seaborn as sns\n",
    "from tqdm import tqdm, tqdm_notebook, trange\n",
    "tqdm.pandas()\n",
    "from collections import Counter\n",
    "import pickle\n",
    "import squarify\n",
    "import collections\n",
    "from sklearn.preprocessing import StandardScaler\n",
    "from sklearn.cluster import KMeans"
   ]
  },
  {
   "cell_type": "code",
   "execution_count": 3,
   "metadata": {},
   "outputs": [],
   "source": [
    "# load dataframe of post and corresponding tokens\n",
    "df_post = pd.read_csv('../out/car/df_post.csv')\n",
    "\n",
    "with open('../out/car/tokens_post.txt', 'rb') as fp:\n",
    "    tokens_post = pickle.load(fp)\n",
    "\n",
    "df_post['user_id'] = df_post['user_id'].astype(int)"
   ]
  },
  {
   "cell_type": "code",
   "execution_count": 4,
   "metadata": {},
   "outputs": [],
   "source": [
    "# load user x tag file\n",
    "df_user_x_cat = pd.read_csv('../src/pantip_user_cat.csv')"
   ]
  },
  {
   "cell_type": "code",
   "execution_count": 5,
   "metadata": {
    "scrolled": true
   },
   "outputs": [
    {
     "data": {
      "text/html": [
       "<div>\n",
       "<style scoped>\n",
       "    .dataframe tbody tr th:only-of-type {\n",
       "        vertical-align: middle;\n",
       "    }\n",
       "\n",
       "    .dataframe tbody tr th {\n",
       "        vertical-align: top;\n",
       "    }\n",
       "\n",
       "    .dataframe thead th {\n",
       "        text-align: right;\n",
       "    }\n",
       "</style>\n",
       "<table border=\"1\" class=\"dataframe\">\n",
       "  <thead>\n",
       "    <tr style=\"text-align: right;\">\n",
       "      <th></th>\n",
       "      <th>user_id</th>\n",
       "      <th>category</th>\n",
       "      <th>post_date</th>\n",
       "    </tr>\n",
       "  </thead>\n",
       "  <tbody>\n",
       "    <tr>\n",
       "      <th>0</th>\n",
       "      <td>4179868</td>\n",
       "      <td>travel</td>\n",
       "      <td>2018-12-06 21:31:06</td>\n",
       "    </tr>\n",
       "    <tr>\n",
       "      <th>1</th>\n",
       "      <td>2897151</td>\n",
       "      <td>travel</td>\n",
       "      <td>2018-12-06 21:19:04</td>\n",
       "    </tr>\n",
       "    <tr>\n",
       "      <th>2</th>\n",
       "      <td>772076</td>\n",
       "      <td>travel</td>\n",
       "      <td>2018-12-06 20:52:07</td>\n",
       "    </tr>\n",
       "    <tr>\n",
       "      <th>3</th>\n",
       "      <td>4977690</td>\n",
       "      <td>travel</td>\n",
       "      <td>2018-12-06 20:24:25</td>\n",
       "    </tr>\n",
       "    <tr>\n",
       "      <th>4</th>\n",
       "      <td>2239672</td>\n",
       "      <td>travel</td>\n",
       "      <td>2018-12-06 20:03:01</td>\n",
       "    </tr>\n",
       "  </tbody>\n",
       "</table>\n",
       "</div>"
      ],
      "text/plain": [
       "   user_id category            post_date\n",
       "0  4179868   travel  2018-12-06 21:31:06\n",
       "1  2897151   travel  2018-12-06 21:19:04\n",
       "2   772076   travel  2018-12-06 20:52:07\n",
       "3  4977690   travel  2018-12-06 20:24:25\n",
       "4  2239672   travel  2018-12-06 20:03:01"
      ]
     },
     "execution_count": 5,
     "metadata": {},
     "output_type": "execute_result"
    }
   ],
   "source": [
    "df_user_x_cat.head()"
   ]
  },
  {
   "cell_type": "code",
   "execution_count": 6,
   "metadata": {},
   "outputs": [
    {
     "data": {
      "text/plain": [
       "5915"
      ]
     },
     "execution_count": 6,
     "metadata": {},
     "output_type": "execute_result"
    }
   ],
   "source": [
    "df_user_x_cat.category.nunique()"
   ]
  },
  {
   "cell_type": "code",
   "execution_count": 7,
   "metadata": {},
   "outputs": [],
   "source": [
    "# select top 500 most popular categories\n",
    "cat_counter = Counter(df_user_x_cat.category.values)"
   ]
  },
  {
   "cell_type": "markdown",
   "metadata": {},
   "source": [
    "## create tags set and prepare dataframe"
   ]
  },
  {
   "cell_type": "code",
   "execution_count": 8,
   "metadata": {},
   "outputs": [],
   "source": [
    "# create list of tags\n",
    "tag_list=[]\n",
    "for text in df_user_x_cat.category:\n",
    "    tag_list.append(text.split(', '))\n",
    "\n",
    "all_tags = []\n",
    "for tl in tag_list:\n",
    "    for tag in tl:\n",
    "        if not tag in all_tags:\n",
    "            all_tags.append(tag)"
   ]
  },
  {
   "cell_type": "code",
   "execution_count": 9,
   "metadata": {},
   "outputs": [
    {
     "data": {
      "text/plain": [
       "['travel',\n",
       " 'auto',\n",
       " 'pantip_food',\n",
       " 'pantip_cartoon',\n",
       " 'pantip_chalermthai',\n",
       " 'pantip_chalermkrung',\n",
       " 'pantip_korea',\n",
       " 'pantip_gadget',\n",
       " 'pantip_siliconvalley',\n",
       " 'pantip_family',\n",
       " 'pantip_rajdumnern',\n",
       " 'pantip_social',\n",
       " 'pantip_klaibann',\n",
       " 'pantip_home',\n",
       " 'pantip_tvshow',\n",
       " 'pantip_region',\n",
       " 'pantip_mbk',\n",
       " 'pantip_supachalasai',\n",
       " 'pantip_lumpini',\n",
       " 'pantip_sinthorn',\n",
       " 'pantip_wahkor',\n",
       " 'pantip_library',\n",
       " 'pantip_siam',\n",
       " 'pantip_beauty',\n",
       " 'pantip_bangrak']"
      ]
     },
     "execution_count": 9,
     "metadata": {},
     "output_type": "execute_result"
    }
   ],
   "source": [
    "all_tags"
   ]
  },
  {
   "cell_type": "code",
   "execution_count": null,
   "metadata": {},
   "outputs": [],
   "source": [
    "df_tags = pd.DataFrame(np.zeros((len(tag_list),len(all_tags))),columns=all_tags)\n",
    "\n",
    "for i in tqdm_notebook(range(len(tag_list))):\n",
    "    for tag in tag_list[i]:\n",
    "        df_tags.loc[i,tag] = 1\n",
    "\n",
    "df_tags['user_id'] = df_user_x_cat.user_id.values\n",
    "\n",
    "df_tags.to_csv('../tmp/df_tags.csv',index=False)"
   ]
  },
  {
   "cell_type": "code",
   "execution_count": 11,
   "metadata": {},
   "outputs": [],
   "source": [
    "df_tags = pd.read_csv('../tmp/df_tags.csv')"
   ]
  },
  {
   "cell_type": "code",
   "execution_count": 12,
   "metadata": {},
   "outputs": [
    {
     "data": {
      "text/html": [
       "<div>\n",
       "<style scoped>\n",
       "    .dataframe tbody tr th:only-of-type {\n",
       "        vertical-align: middle;\n",
       "    }\n",
       "\n",
       "    .dataframe tbody tr th {\n",
       "        vertical-align: top;\n",
       "    }\n",
       "\n",
       "    .dataframe thead th {\n",
       "        text-align: right;\n",
       "    }\n",
       "</style>\n",
       "<table border=\"1\" class=\"dataframe\">\n",
       "  <thead>\n",
       "    <tr style=\"text-align: right;\">\n",
       "      <th></th>\n",
       "      <th>travel</th>\n",
       "      <th>auto</th>\n",
       "      <th>pantip_food</th>\n",
       "      <th>pantip_cartoon</th>\n",
       "      <th>pantip_chalermthai</th>\n",
       "      <th>pantip_chalermkrung</th>\n",
       "      <th>pantip_korea</th>\n",
       "      <th>pantip_gadget</th>\n",
       "      <th>pantip_siliconvalley</th>\n",
       "      <th>pantip_family</th>\n",
       "      <th>pantip_rajdumnern</th>\n",
       "      <th>pantip_social</th>\n",
       "      <th>pantip_klaibann</th>\n",
       "      <th>pantip_home</th>\n",
       "      <th>pantip_tvshow</th>\n",
       "      <th>pantip_region</th>\n",
       "      <th>pantip_mbk</th>\n",
       "      <th>pantip_supachalasai</th>\n",
       "      <th>pantip_lumpini</th>\n",
       "      <th>pantip_sinthorn</th>\n",
       "      <th>pantip_wahkor</th>\n",
       "      <th>pantip_library</th>\n",
       "      <th>pantip_siam</th>\n",
       "      <th>pantip_beauty</th>\n",
       "      <th>pantip_bangrak</th>\n",
       "    </tr>\n",
       "    <tr>\n",
       "      <th>user_id</th>\n",
       "      <th></th>\n",
       "      <th></th>\n",
       "      <th></th>\n",
       "      <th></th>\n",
       "      <th></th>\n",
       "      <th></th>\n",
       "      <th></th>\n",
       "      <th></th>\n",
       "      <th></th>\n",
       "      <th></th>\n",
       "      <th></th>\n",
       "      <th></th>\n",
       "      <th></th>\n",
       "      <th></th>\n",
       "      <th></th>\n",
       "      <th></th>\n",
       "      <th></th>\n",
       "      <th></th>\n",
       "      <th></th>\n",
       "      <th></th>\n",
       "      <th></th>\n",
       "      <th></th>\n",
       "      <th></th>\n",
       "      <th></th>\n",
       "      <th></th>\n",
       "    </tr>\n",
       "  </thead>\n",
       "  <tbody>\n",
       "    <tr>\n",
       "      <th>4</th>\n",
       "      <td>3.0</td>\n",
       "      <td>0.0</td>\n",
       "      <td>4.0</td>\n",
       "      <td>3.0</td>\n",
       "      <td>2.0</td>\n",
       "      <td>0.0</td>\n",
       "      <td>0.0</td>\n",
       "      <td>0.0</td>\n",
       "      <td>1.0</td>\n",
       "      <td>5.0</td>\n",
       "      <td>0.0</td>\n",
       "      <td>1.0</td>\n",
       "      <td>0.0</td>\n",
       "      <td>0.0</td>\n",
       "      <td>1.0</td>\n",
       "      <td>1.0</td>\n",
       "      <td>0.0</td>\n",
       "      <td>0.0</td>\n",
       "      <td>1.0</td>\n",
       "      <td>0.0</td>\n",
       "      <td>1.0</td>\n",
       "      <td>2.0</td>\n",
       "      <td>0.0</td>\n",
       "      <td>0.0</td>\n",
       "      <td>0.0</td>\n",
       "    </tr>\n",
       "    <tr>\n",
       "      <th>5</th>\n",
       "      <td>0.0</td>\n",
       "      <td>0.0</td>\n",
       "      <td>0.0</td>\n",
       "      <td>0.0</td>\n",
       "      <td>0.0</td>\n",
       "      <td>0.0</td>\n",
       "      <td>0.0</td>\n",
       "      <td>0.0</td>\n",
       "      <td>0.0</td>\n",
       "      <td>0.0</td>\n",
       "      <td>0.0</td>\n",
       "      <td>0.0</td>\n",
       "      <td>0.0</td>\n",
       "      <td>0.0</td>\n",
       "      <td>0.0</td>\n",
       "      <td>0.0</td>\n",
       "      <td>0.0</td>\n",
       "      <td>0.0</td>\n",
       "      <td>0.0</td>\n",
       "      <td>1.0</td>\n",
       "      <td>0.0</td>\n",
       "      <td>0.0</td>\n",
       "      <td>0.0</td>\n",
       "      <td>0.0</td>\n",
       "      <td>0.0</td>\n",
       "    </tr>\n",
       "    <tr>\n",
       "      <th>13</th>\n",
       "      <td>0.0</td>\n",
       "      <td>1.0</td>\n",
       "      <td>0.0</td>\n",
       "      <td>0.0</td>\n",
       "      <td>1.0</td>\n",
       "      <td>1.0</td>\n",
       "      <td>0.0</td>\n",
       "      <td>0.0</td>\n",
       "      <td>0.0</td>\n",
       "      <td>0.0</td>\n",
       "      <td>0.0</td>\n",
       "      <td>0.0</td>\n",
       "      <td>0.0</td>\n",
       "      <td>0.0</td>\n",
       "      <td>0.0</td>\n",
       "      <td>0.0</td>\n",
       "      <td>0.0</td>\n",
       "      <td>0.0</td>\n",
       "      <td>0.0</td>\n",
       "      <td>1.0</td>\n",
       "      <td>0.0</td>\n",
       "      <td>0.0</td>\n",
       "      <td>0.0</td>\n",
       "      <td>0.0</td>\n",
       "      <td>0.0</td>\n",
       "    </tr>\n",
       "    <tr>\n",
       "      <th>101</th>\n",
       "      <td>0.0</td>\n",
       "      <td>0.0</td>\n",
       "      <td>0.0</td>\n",
       "      <td>0.0</td>\n",
       "      <td>1.0</td>\n",
       "      <td>0.0</td>\n",
       "      <td>0.0</td>\n",
       "      <td>0.0</td>\n",
       "      <td>0.0</td>\n",
       "      <td>0.0</td>\n",
       "      <td>0.0</td>\n",
       "      <td>0.0</td>\n",
       "      <td>0.0</td>\n",
       "      <td>0.0</td>\n",
       "      <td>0.0</td>\n",
       "      <td>0.0</td>\n",
       "      <td>0.0</td>\n",
       "      <td>0.0</td>\n",
       "      <td>0.0</td>\n",
       "      <td>0.0</td>\n",
       "      <td>0.0</td>\n",
       "      <td>0.0</td>\n",
       "      <td>0.0</td>\n",
       "      <td>0.0</td>\n",
       "      <td>0.0</td>\n",
       "    </tr>\n",
       "    <tr>\n",
       "      <th>123</th>\n",
       "      <td>1.0</td>\n",
       "      <td>0.0</td>\n",
       "      <td>5.0</td>\n",
       "      <td>1.0</td>\n",
       "      <td>0.0</td>\n",
       "      <td>0.0</td>\n",
       "      <td>0.0</td>\n",
       "      <td>0.0</td>\n",
       "      <td>2.0</td>\n",
       "      <td>0.0</td>\n",
       "      <td>0.0</td>\n",
       "      <td>1.0</td>\n",
       "      <td>0.0</td>\n",
       "      <td>92.0</td>\n",
       "      <td>0.0</td>\n",
       "      <td>0.0</td>\n",
       "      <td>0.0</td>\n",
       "      <td>0.0</td>\n",
       "      <td>0.0</td>\n",
       "      <td>4.0</td>\n",
       "      <td>0.0</td>\n",
       "      <td>0.0</td>\n",
       "      <td>0.0</td>\n",
       "      <td>2.0</td>\n",
       "      <td>0.0</td>\n",
       "    </tr>\n",
       "  </tbody>\n",
       "</table>\n",
       "</div>"
      ],
      "text/plain": [
       "         travel  auto  pantip_food  pantip_cartoon  pantip_chalermthai  \\\n",
       "user_id                                                                  \n",
       "4           3.0   0.0          4.0             3.0                 2.0   \n",
       "5           0.0   0.0          0.0             0.0                 0.0   \n",
       "13          0.0   1.0          0.0             0.0                 1.0   \n",
       "101         0.0   0.0          0.0             0.0                 1.0   \n",
       "123         1.0   0.0          5.0             1.0                 0.0   \n",
       "\n",
       "         pantip_chalermkrung  pantip_korea  pantip_gadget  \\\n",
       "user_id                                                     \n",
       "4                        0.0           0.0            0.0   \n",
       "5                        0.0           0.0            0.0   \n",
       "13                       1.0           0.0            0.0   \n",
       "101                      0.0           0.0            0.0   \n",
       "123                      0.0           0.0            0.0   \n",
       "\n",
       "         pantip_siliconvalley  pantip_family  pantip_rajdumnern  \\\n",
       "user_id                                                           \n",
       "4                         1.0            5.0                0.0   \n",
       "5                         0.0            0.0                0.0   \n",
       "13                        0.0            0.0                0.0   \n",
       "101                       0.0            0.0                0.0   \n",
       "123                       2.0            0.0                0.0   \n",
       "\n",
       "         pantip_social  pantip_klaibann  pantip_home  pantip_tvshow  \\\n",
       "user_id                                                               \n",
       "4                  1.0              0.0          0.0            1.0   \n",
       "5                  0.0              0.0          0.0            0.0   \n",
       "13                 0.0              0.0          0.0            0.0   \n",
       "101                0.0              0.0          0.0            0.0   \n",
       "123                1.0              0.0         92.0            0.0   \n",
       "\n",
       "         pantip_region  pantip_mbk  pantip_supachalasai  pantip_lumpini  \\\n",
       "user_id                                                                   \n",
       "4                  1.0         0.0                  0.0             1.0   \n",
       "5                  0.0         0.0                  0.0             0.0   \n",
       "13                 0.0         0.0                  0.0             0.0   \n",
       "101                0.0         0.0                  0.0             0.0   \n",
       "123                0.0         0.0                  0.0             0.0   \n",
       "\n",
       "         pantip_sinthorn  pantip_wahkor  pantip_library  pantip_siam  \\\n",
       "user_id                                                                \n",
       "4                    0.0            1.0             2.0          0.0   \n",
       "5                    1.0            0.0             0.0          0.0   \n",
       "13                   1.0            0.0             0.0          0.0   \n",
       "101                  0.0            0.0             0.0          0.0   \n",
       "123                  4.0            0.0             0.0          0.0   \n",
       "\n",
       "         pantip_beauty  pantip_bangrak  \n",
       "user_id                                 \n",
       "4                  0.0             0.0  \n",
       "5                  0.0             0.0  \n",
       "13                 0.0             0.0  \n",
       "101                0.0             0.0  \n",
       "123                2.0             0.0  "
      ]
     },
     "execution_count": 12,
     "metadata": {},
     "output_type": "execute_result"
    }
   ],
   "source": [
    "df_user_segment = df_tags.groupby('user_id').sum()\n",
    "df_user_segment.head()"
   ]
  },
  {
   "cell_type": "code",
   "execution_count": 13,
   "metadata": {},
   "outputs": [],
   "source": [
    "df_user_segment = df_user_segment.div(df_user_segment.sum(axis=1), axis=0)"
   ]
  },
  {
   "cell_type": "markdown",
   "metadata": {},
   "source": [
    "## Performing segmentation"
   ]
  },
  {
   "cell_type": "code",
   "execution_count": 14,
   "metadata": {},
   "outputs": [
    {
     "name": "stdout",
     "output_type": "stream",
     "text": [
      "total unique user: 2210\n"
     ]
    }
   ],
   "source": [
    "# filter unique user id based on kws\n",
    "kws = ['yaris','ativ']\n",
    "\n",
    "idxs=[]\n",
    "for i,tkn in enumerate(tokens_post):\n",
    "    for kw in kws:\n",
    "        if kw in tkn:\n",
    "            idxs.append(i)\n",
    "            break\n",
    "            \n",
    "df_temp = df_post.iloc[idxs]\n",
    "\n",
    "unique_user = df_temp.user_id.unique()\n",
    "\n",
    "print('total unique user:',len(unique_user))"
   ]
  },
  {
   "cell_type": "code",
   "execution_count": 15,
   "metadata": {},
   "outputs": [],
   "source": [
    "df_user_segment_filt = df_user_segment.loc[unique_user]"
   ]
  },
  {
   "cell_type": "code",
   "execution_count": 16,
   "metadata": {},
   "outputs": [],
   "source": [
    "sc = StandardScaler()\n",
    "user_segment_sc = sc.fit_transform(df_user_segment_filt)"
   ]
  },
  {
   "cell_type": "markdown",
   "metadata": {
    "heading_collapsed": true
   },
   "source": [
    "## experiment with K-mean clustering"
   ]
  },
  {
   "cell_type": "code",
   "execution_count": 30,
   "metadata": {
    "hidden": true
   },
   "outputs": [
    {
     "name": "stderr",
     "output_type": "stream",
     "text": [
      "100%|██████████| 20/20 [00:04<00:00,  3.58it/s]\n"
     ]
    }
   ],
   "source": [
    "labels = []\n",
    "wcss = []\n",
    "for i in trange(1,21):\n",
    "    k_model = KMeans(n_clusters=i,)\n",
    "    labels.append(k_model.fit_predict(user_segment_sc))\n",
    "    wcss.append(k_model.inertia_)"
   ]
  },
  {
   "cell_type": "code",
   "execution_count": 31,
   "metadata": {
    "hidden": true
   },
   "outputs": [],
   "source": [
    "import matplotlib.pyplot as plt\n",
    "%matplotlib inline"
   ]
  },
  {
   "cell_type": "code",
   "execution_count": 32,
   "metadata": {
    "hidden": true
   },
   "outputs": [
    {
     "data": {
      "text/plain": [
       "[<matplotlib.lines.Line2D at 0x14df483c8>]"
      ]
     },
     "execution_count": 32,
     "metadata": {},
     "output_type": "execute_result"
    },
    {
     "data": {
      "image/png": "[encoded data removed]",
      "text/plain": [
       "<Figure size 432x288 with 1 Axes>"
      ]
     },
     "metadata": {
      "needs_background": "light"
     },
     "output_type": "display_data"
    }
   ],
   "source": [
    "plt.plot(range(1,21),wcss)"
   ]
  },
  {
   "cell_type": "markdown",
   "metadata": {},
   "source": [
    "## experiment with DBScan"
   ]
  },
  {
   "cell_type": "code",
   "execution_count": 17,
   "metadata": {},
   "outputs": [],
   "source": [
    "from sklearn.cluster import DBSCAN"
   ]
  },
  {
   "cell_type": "code",
   "execution_count": 18,
   "metadata": {},
   "outputs": [],
   "source": [
    "# first check distance to nearest neighbor\n",
    "from sklearn.neighbors import NearestNeighbors\n",
    "nbrs = NearestNeighbors(n_neighbors=2,metric='cosine').fit(user_segment_sc)"
   ]
  },
  {
   "cell_type": "code",
   "execution_count": 19,
   "metadata": {},
   "outputs": [],
   "source": [
    "distances, _ = nbrs.kneighbors(user_segment_sc)"
   ]
  },
  {
   "cell_type": "code",
   "execution_count": 20,
   "metadata": {},
   "outputs": [
    {
     "data": {
      "image/png": "[encoded data removed]",
      "text/plain": [
       "<Figure size 432x288 with 1 Axes>"
      ]
     },
     "metadata": {
      "needs_background": "light"
     },
     "output_type": "display_data"
    }
   ],
   "source": [
    "_=plt.hist(distances[:,1])"
   ]
  },
  {
   "cell_type": "code",
   "execution_count": 21,
   "metadata": {},
   "outputs": [
    {
     "data": {
      "text/plain": [
       "0.06777602560624979"
      ]
     },
     "execution_count": 21,
     "metadata": {},
     "output_type": "execute_result"
    }
   ],
   "source": [
    "np.median(distances[:,1])"
   ]
  },
  {
   "cell_type": "code",
   "execution_count": 22,
   "metadata": {},
   "outputs": [
    {
     "name": "stdout",
     "output_type": "stream",
     "text": [
      "Estimated number of clusters: 6\n",
      "Estimated number of noise points: 448\n"
     ]
    },
    {
     "data": {
      "text/plain": [
       " 0    1541\n",
       "-1     448\n",
       " 2     101\n",
       " 5      37\n",
       " 3      33\n",
       " 1      32\n",
       " 4      18\n",
       "dtype: int64"
      ]
     },
     "execution_count": 22,
     "metadata": {},
     "output_type": "execute_result"
    }
   ],
   "source": [
    "dbscan = DBSCAN(eps=0.20, min_samples=10,n_jobs=-1,metric='cosine')\n",
    "\n",
    "label = dbscan.fit_predict(user_segment_sc)\n",
    "\n",
    "# Number of clusters in labels, ignoring noise if present.\n",
    "n_clusters_ = len(set(label)) - (1 if -1 in label else 0)\n",
    "n_noise_ = list(label).count(-1)\n",
    "\n",
    "print('Estimated number of clusters: %d' % n_clusters_)\n",
    "print('Estimated number of noise points: %d' % n_noise_)\n",
    "\n",
    "pd.value_counts(label)"
   ]
  },
  {
   "cell_type": "code",
   "execution_count": 23,
   "metadata": {},
   "outputs": [
    {
     "data": {
      "text/html": [
       "<div>\n",
       "<style scoped>\n",
       "    .dataframe tbody tr th:only-of-type {\n",
       "        vertical-align: middle;\n",
       "    }\n",
       "\n",
       "    .dataframe tbody tr th {\n",
       "        vertical-align: top;\n",
       "    }\n",
       "\n",
       "    .dataframe thead th {\n",
       "        text-align: right;\n",
       "    }\n",
       "</style>\n",
       "<table border=\"1\" class=\"dataframe\">\n",
       "  <thead>\n",
       "    <tr style=\"text-align: right;\">\n",
       "      <th></th>\n",
       "      <th>travel</th>\n",
       "      <th>auto</th>\n",
       "      <th>pantip_food</th>\n",
       "      <th>pantip_cartoon</th>\n",
       "      <th>pantip_chalermthai</th>\n",
       "      <th>pantip_chalermkrung</th>\n",
       "      <th>pantip_korea</th>\n",
       "      <th>pantip_gadget</th>\n",
       "      <th>pantip_siliconvalley</th>\n",
       "      <th>pantip_family</th>\n",
       "      <th>pantip_rajdumnern</th>\n",
       "      <th>pantip_social</th>\n",
       "      <th>pantip_klaibann</th>\n",
       "      <th>pantip_home</th>\n",
       "      <th>pantip_tvshow</th>\n",
       "      <th>pantip_region</th>\n",
       "      <th>pantip_mbk</th>\n",
       "      <th>pantip_supachalasai</th>\n",
       "      <th>pantip_lumpini</th>\n",
       "      <th>pantip_sinthorn</th>\n",
       "      <th>pantip_wahkor</th>\n",
       "      <th>pantip_library</th>\n",
       "      <th>pantip_siam</th>\n",
       "      <th>pantip_beauty</th>\n",
       "      <th>pantip_bangrak</th>\n",
       "    </tr>\n",
       "    <tr>\n",
       "      <th>user_id</th>\n",
       "      <th></th>\n",
       "      <th></th>\n",
       "      <th></th>\n",
       "      <th></th>\n",
       "      <th></th>\n",
       "      <th></th>\n",
       "      <th></th>\n",
       "      <th></th>\n",
       "      <th></th>\n",
       "      <th></th>\n",
       "      <th></th>\n",
       "      <th></th>\n",
       "      <th></th>\n",
       "      <th></th>\n",
       "      <th></th>\n",
       "      <th></th>\n",
       "      <th></th>\n",
       "      <th></th>\n",
       "      <th></th>\n",
       "      <th></th>\n",
       "      <th></th>\n",
       "      <th></th>\n",
       "      <th></th>\n",
       "      <th></th>\n",
       "      <th></th>\n",
       "    </tr>\n",
       "  </thead>\n",
       "  <tbody>\n",
       "    <tr>\n",
       "      <th>250736</th>\n",
       "      <td>0.336957</td>\n",
       "      <td>0.076087</td>\n",
       "      <td>0.076087</td>\n",
       "      <td>0.005435</td>\n",
       "      <td>0.005435</td>\n",
       "      <td>0.000000</td>\n",
       "      <td>0.0</td>\n",
       "      <td>0.0</td>\n",
       "      <td>0.005435</td>\n",
       "      <td>0.021739</td>\n",
       "      <td>0.0</td>\n",
       "      <td>0.010870</td>\n",
       "      <td>0.038043</td>\n",
       "      <td>0.103261</td>\n",
       "      <td>0.0</td>\n",
       "      <td>0.000000</td>\n",
       "      <td>0.054348</td>\n",
       "      <td>0.0</td>\n",
       "      <td>0.038043</td>\n",
       "      <td>0.206522</td>\n",
       "      <td>0.0</td>\n",
       "      <td>0.005435</td>\n",
       "      <td>0.010870</td>\n",
       "      <td>0.005435</td>\n",
       "      <td>0.000000</td>\n",
       "    </tr>\n",
       "    <tr>\n",
       "      <th>4992439</th>\n",
       "      <td>0.000000</td>\n",
       "      <td>1.000000</td>\n",
       "      <td>0.000000</td>\n",
       "      <td>0.000000</td>\n",
       "      <td>0.000000</td>\n",
       "      <td>0.000000</td>\n",
       "      <td>0.0</td>\n",
       "      <td>0.0</td>\n",
       "      <td>0.000000</td>\n",
       "      <td>0.000000</td>\n",
       "      <td>0.0</td>\n",
       "      <td>0.000000</td>\n",
       "      <td>0.000000</td>\n",
       "      <td>0.000000</td>\n",
       "      <td>0.0</td>\n",
       "      <td>0.000000</td>\n",
       "      <td>0.000000</td>\n",
       "      <td>0.0</td>\n",
       "      <td>0.000000</td>\n",
       "      <td>0.000000</td>\n",
       "      <td>0.0</td>\n",
       "      <td>0.000000</td>\n",
       "      <td>0.000000</td>\n",
       "      <td>0.000000</td>\n",
       "      <td>0.000000</td>\n",
       "    </tr>\n",
       "    <tr>\n",
       "      <th>4992206</th>\n",
       "      <td>0.000000</td>\n",
       "      <td>1.000000</td>\n",
       "      <td>0.000000</td>\n",
       "      <td>0.000000</td>\n",
       "      <td>0.000000</td>\n",
       "      <td>0.000000</td>\n",
       "      <td>0.0</td>\n",
       "      <td>0.0</td>\n",
       "      <td>0.000000</td>\n",
       "      <td>0.000000</td>\n",
       "      <td>0.0</td>\n",
       "      <td>0.000000</td>\n",
       "      <td>0.000000</td>\n",
       "      <td>0.000000</td>\n",
       "      <td>0.0</td>\n",
       "      <td>0.000000</td>\n",
       "      <td>0.000000</td>\n",
       "      <td>0.0</td>\n",
       "      <td>0.000000</td>\n",
       "      <td>0.000000</td>\n",
       "      <td>0.0</td>\n",
       "      <td>0.000000</td>\n",
       "      <td>0.000000</td>\n",
       "      <td>0.000000</td>\n",
       "      <td>0.000000</td>\n",
       "    </tr>\n",
       "    <tr>\n",
       "      <th>603108</th>\n",
       "      <td>0.078947</td>\n",
       "      <td>0.052632</td>\n",
       "      <td>0.000000</td>\n",
       "      <td>0.000000</td>\n",
       "      <td>0.000000</td>\n",
       "      <td>0.052632</td>\n",
       "      <td>0.0</td>\n",
       "      <td>0.0</td>\n",
       "      <td>0.000000</td>\n",
       "      <td>0.052632</td>\n",
       "      <td>0.0</td>\n",
       "      <td>0.078947</td>\n",
       "      <td>0.000000</td>\n",
       "      <td>0.210526</td>\n",
       "      <td>0.0</td>\n",
       "      <td>0.078947</td>\n",
       "      <td>0.026316</td>\n",
       "      <td>0.0</td>\n",
       "      <td>0.105263</td>\n",
       "      <td>0.026316</td>\n",
       "      <td>0.0</td>\n",
       "      <td>0.000000</td>\n",
       "      <td>0.157895</td>\n",
       "      <td>0.026316</td>\n",
       "      <td>0.052632</td>\n",
       "    </tr>\n",
       "    <tr>\n",
       "      <th>4982252</th>\n",
       "      <td>0.000000</td>\n",
       "      <td>1.000000</td>\n",
       "      <td>0.000000</td>\n",
       "      <td>0.000000</td>\n",
       "      <td>0.000000</td>\n",
       "      <td>0.000000</td>\n",
       "      <td>0.0</td>\n",
       "      <td>0.0</td>\n",
       "      <td>0.000000</td>\n",
       "      <td>0.000000</td>\n",
       "      <td>0.0</td>\n",
       "      <td>0.000000</td>\n",
       "      <td>0.000000</td>\n",
       "      <td>0.000000</td>\n",
       "      <td>0.0</td>\n",
       "      <td>0.000000</td>\n",
       "      <td>0.000000</td>\n",
       "      <td>0.0</td>\n",
       "      <td>0.000000</td>\n",
       "      <td>0.000000</td>\n",
       "      <td>0.0</td>\n",
       "      <td>0.000000</td>\n",
       "      <td>0.000000</td>\n",
       "      <td>0.000000</td>\n",
       "      <td>0.000000</td>\n",
       "    </tr>\n",
       "  </tbody>\n",
       "</table>\n",
       "</div>"
      ],
      "text/plain": [
       "           travel      auto  pantip_food  pantip_cartoon  pantip_chalermthai  \\\n",
       "user_id                                                                        \n",
       "250736   0.336957  0.076087     0.076087        0.005435            0.005435   \n",
       "4992439  0.000000  1.000000     0.000000        0.000000            0.000000   \n",
       "4992206  0.000000  1.000000     0.000000        0.000000            0.000000   \n",
       "603108   0.078947  0.052632     0.000000        0.000000            0.000000   \n",
       "4982252  0.000000  1.000000     0.000000        0.000000            0.000000   \n",
       "\n",
       "         pantip_chalermkrung  pantip_korea  pantip_gadget  \\\n",
       "user_id                                                     \n",
       "250736              0.000000           0.0            0.0   \n",
       "4992439             0.000000           0.0            0.0   \n",
       "4992206             0.000000           0.0            0.0   \n",
       "603108              0.052632           0.0            0.0   \n",
       "4982252             0.000000           0.0            0.0   \n",
       "\n",
       "         pantip_siliconvalley  pantip_family  pantip_rajdumnern  \\\n",
       "user_id                                                           \n",
       "250736               0.005435       0.021739                0.0   \n",
       "4992439              0.000000       0.000000                0.0   \n",
       "4992206              0.000000       0.000000                0.0   \n",
       "603108               0.000000       0.052632                0.0   \n",
       "4982252              0.000000       0.000000                0.0   \n",
       "\n",
       "         pantip_social  pantip_klaibann  pantip_home  pantip_tvshow  \\\n",
       "user_id                                                               \n",
       "250736        0.010870         0.038043     0.103261            0.0   \n",
       "4992439       0.000000         0.000000     0.000000            0.0   \n",
       "4992206       0.000000         0.000000     0.000000            0.0   \n",
       "603108        0.078947         0.000000     0.210526            0.0   \n",
       "4982252       0.000000         0.000000     0.000000            0.0   \n",
       "\n",
       "         pantip_region  pantip_mbk  pantip_supachalasai  pantip_lumpini  \\\n",
       "user_id                                                                   \n",
       "250736        0.000000    0.054348                  0.0        0.038043   \n",
       "4992439       0.000000    0.000000                  0.0        0.000000   \n",
       "4992206       0.000000    0.000000                  0.0        0.000000   \n",
       "603108        0.078947    0.026316                  0.0        0.105263   \n",
       "4982252       0.000000    0.000000                  0.0        0.000000   \n",
       "\n",
       "         pantip_sinthorn  pantip_wahkor  pantip_library  pantip_siam  \\\n",
       "user_id                                                                \n",
       "250736          0.206522            0.0        0.005435     0.010870   \n",
       "4992439         0.000000            0.0        0.000000     0.000000   \n",
       "4992206         0.000000            0.0        0.000000     0.000000   \n",
       "603108          0.026316            0.0        0.000000     0.157895   \n",
       "4982252         0.000000            0.0        0.000000     0.000000   \n",
       "\n",
       "         pantip_beauty  pantip_bangrak  \n",
       "user_id                                 \n",
       "250736        0.005435        0.000000  \n",
       "4992439       0.000000        0.000000  \n",
       "4992206       0.000000        0.000000  \n",
       "603108        0.026316        0.052632  \n",
       "4982252       0.000000        0.000000  "
      ]
     },
     "execution_count": 23,
     "metadata": {},
     "output_type": "execute_result"
    }
   ],
   "source": [
    "df_user_segment_filt.head()"
   ]
  },
  {
   "cell_type": "code",
   "execution_count": 24,
   "metadata": {},
   "outputs": [],
   "source": [
    "'''\n",
    "NEXT STEP:\n",
    "describe profile of each segment\n",
    "'''\n",
    "df_user_segment_filt['segment_id'] = label\n",
    "\n",
    "# summary statistic by segment\n",
    "df_segment = df_user_segment_filt.groupby('segment_id')[all_tags].mean()\n",
    "\n",
    "df_user_segment_filt.reset_index(inplace=True)\n",
    "\n",
    "df_segment = df_segment.join(df_user_segment_filt.groupby('segment_id')['user_id'].count()).rename({'user_id':'total_user'},axis=1)"
   ]
  },
  {
   "cell_type": "code",
   "execution_count": 25,
   "metadata": {},
   "outputs": [
    {
     "data": {
      "text/html": [
       "<div>\n",
       "<style scoped>\n",
       "    .dataframe tbody tr th:only-of-type {\n",
       "        vertical-align: middle;\n",
       "    }\n",
       "\n",
       "    .dataframe tbody tr th {\n",
       "        vertical-align: top;\n",
       "    }\n",
       "\n",
       "    .dataframe thead th {\n",
       "        text-align: right;\n",
       "    }\n",
       "</style>\n",
       "<table border=\"1\" class=\"dataframe\">\n",
       "  <thead>\n",
       "    <tr style=\"text-align: right;\">\n",
       "      <th></th>\n",
       "      <th>travel</th>\n",
       "      <th>auto</th>\n",
       "      <th>pantip_food</th>\n",
       "      <th>pantip_cartoon</th>\n",
       "      <th>pantip_chalermthai</th>\n",
       "      <th>pantip_chalermkrung</th>\n",
       "      <th>pantip_korea</th>\n",
       "      <th>pantip_gadget</th>\n",
       "      <th>pantip_siliconvalley</th>\n",
       "      <th>pantip_family</th>\n",
       "      <th>pantip_rajdumnern</th>\n",
       "      <th>pantip_social</th>\n",
       "      <th>pantip_klaibann</th>\n",
       "      <th>pantip_home</th>\n",
       "      <th>pantip_tvshow</th>\n",
       "      <th>pantip_region</th>\n",
       "      <th>pantip_mbk</th>\n",
       "      <th>pantip_supachalasai</th>\n",
       "      <th>pantip_lumpini</th>\n",
       "      <th>pantip_sinthorn</th>\n",
       "      <th>pantip_wahkor</th>\n",
       "      <th>pantip_library</th>\n",
       "      <th>pantip_siam</th>\n",
       "      <th>pantip_beauty</th>\n",
       "      <th>pantip_bangrak</th>\n",
       "      <th>total_user</th>\n",
       "    </tr>\n",
       "    <tr>\n",
       "      <th>segment_id</th>\n",
       "      <th></th>\n",
       "      <th></th>\n",
       "      <th></th>\n",
       "      <th></th>\n",
       "      <th></th>\n",
       "      <th></th>\n",
       "      <th></th>\n",
       "      <th></th>\n",
       "      <th></th>\n",
       "      <th></th>\n",
       "      <th></th>\n",
       "      <th></th>\n",
       "      <th></th>\n",
       "      <th></th>\n",
       "      <th></th>\n",
       "      <th></th>\n",
       "      <th></th>\n",
       "      <th></th>\n",
       "      <th></th>\n",
       "      <th></th>\n",
       "      <th></th>\n",
       "      <th></th>\n",
       "      <th></th>\n",
       "      <th></th>\n",
       "      <th></th>\n",
       "      <th></th>\n",
       "    </tr>\n",
       "  </thead>\n",
       "  <tbody>\n",
       "    <tr>\n",
       "      <th>-1</th>\n",
       "      <td>0.069138</td>\n",
       "      <td>0.221640</td>\n",
       "      <td>0.028532</td>\n",
       "      <td>0.006292</td>\n",
       "      <td>0.019373</td>\n",
       "      <td>0.020487</td>\n",
       "      <td>0.003601</td>\n",
       "      <td>0.002987</td>\n",
       "      <td>0.061402</td>\n",
       "      <td>0.028333</td>\n",
       "      <td>0.008979</td>\n",
       "      <td>0.068697</td>\n",
       "      <td>0.012282</td>\n",
       "      <td>0.052139</td>\n",
       "      <td>0.012372</td>\n",
       "      <td>0.023796</td>\n",
       "      <td>0.109188</td>\n",
       "      <td>0.030995</td>\n",
       "      <td>0.061054</td>\n",
       "      <td>0.068475</td>\n",
       "      <td>0.016689</td>\n",
       "      <td>0.020104</td>\n",
       "      <td>0.042576</td>\n",
       "      <td>0.005528</td>\n",
       "      <td>0.005340</td>\n",
       "      <td>448</td>\n",
       "    </tr>\n",
       "    <tr>\n",
       "      <th>0</th>\n",
       "      <td>0.051701</td>\n",
       "      <td>0.472227</td>\n",
       "      <td>0.016462</td>\n",
       "      <td>0.001686</td>\n",
       "      <td>0.011245</td>\n",
       "      <td>0.008225</td>\n",
       "      <td>0.000128</td>\n",
       "      <td>0.002267</td>\n",
       "      <td>0.048074</td>\n",
       "      <td>0.020852</td>\n",
       "      <td>0.001957</td>\n",
       "      <td>0.030858</td>\n",
       "      <td>0.008099</td>\n",
       "      <td>0.042677</td>\n",
       "      <td>0.003488</td>\n",
       "      <td>0.016566</td>\n",
       "      <td>0.097243</td>\n",
       "      <td>0.031910</td>\n",
       "      <td>0.028495</td>\n",
       "      <td>0.066372</td>\n",
       "      <td>0.003281</td>\n",
       "      <td>0.004890</td>\n",
       "      <td>0.025439</td>\n",
       "      <td>0.001330</td>\n",
       "      <td>0.004528</td>\n",
       "      <td>1541</td>\n",
       "    </tr>\n",
       "    <tr>\n",
       "      <th>1</th>\n",
       "      <td>0.029591</td>\n",
       "      <td>0.220712</td>\n",
       "      <td>0.027711</td>\n",
       "      <td>0.180766</td>\n",
       "      <td>0.054006</td>\n",
       "      <td>0.019102</td>\n",
       "      <td>0.001106</td>\n",
       "      <td>0.001193</td>\n",
       "      <td>0.062948</td>\n",
       "      <td>0.012801</td>\n",
       "      <td>0.007944</td>\n",
       "      <td>0.048558</td>\n",
       "      <td>0.002350</td>\n",
       "      <td>0.021896</td>\n",
       "      <td>0.012528</td>\n",
       "      <td>0.004661</td>\n",
       "      <td>0.105525</td>\n",
       "      <td>0.031116</td>\n",
       "      <td>0.017332</td>\n",
       "      <td>0.022321</td>\n",
       "      <td>0.023547</td>\n",
       "      <td>0.016165</td>\n",
       "      <td>0.069569</td>\n",
       "      <td>0.003183</td>\n",
       "      <td>0.003370</td>\n",
       "      <td>32</td>\n",
       "    </tr>\n",
       "    <tr>\n",
       "      <th>2</th>\n",
       "      <td>0.042746</td>\n",
       "      <td>0.254371</td>\n",
       "      <td>0.016833</td>\n",
       "      <td>0.004935</td>\n",
       "      <td>0.009165</td>\n",
       "      <td>0.007186</td>\n",
       "      <td>0.000066</td>\n",
       "      <td>0.000691</td>\n",
       "      <td>0.051274</td>\n",
       "      <td>0.010779</td>\n",
       "      <td>0.005301</td>\n",
       "      <td>0.054227</td>\n",
       "      <td>0.006107</td>\n",
       "      <td>0.032488</td>\n",
       "      <td>0.005389</td>\n",
       "      <td>0.014423</td>\n",
       "      <td>0.060263</td>\n",
       "      <td>0.022108</td>\n",
       "      <td>0.033421</td>\n",
       "      <td>0.046084</td>\n",
       "      <td>0.116386</td>\n",
       "      <td>0.132812</td>\n",
       "      <td>0.069727</td>\n",
       "      <td>0.001552</td>\n",
       "      <td>0.001667</td>\n",
       "      <td>101</td>\n",
       "    </tr>\n",
       "    <tr>\n",
       "      <th>3</th>\n",
       "      <td>0.044483</td>\n",
       "      <td>0.197198</td>\n",
       "      <td>0.007368</td>\n",
       "      <td>0.002331</td>\n",
       "      <td>0.016117</td>\n",
       "      <td>0.013481</td>\n",
       "      <td>0.000000</td>\n",
       "      <td>0.000941</td>\n",
       "      <td>0.023936</td>\n",
       "      <td>0.006727</td>\n",
       "      <td>0.388502</td>\n",
       "      <td>0.025447</td>\n",
       "      <td>0.017607</td>\n",
       "      <td>0.032367</td>\n",
       "      <td>0.004768</td>\n",
       "      <td>0.006439</td>\n",
       "      <td>0.078712</td>\n",
       "      <td>0.044162</td>\n",
       "      <td>0.010891</td>\n",
       "      <td>0.040964</td>\n",
       "      <td>0.024978</td>\n",
       "      <td>0.004264</td>\n",
       "      <td>0.006409</td>\n",
       "      <td>0.001909</td>\n",
       "      <td>0.000000</td>\n",
       "      <td>33</td>\n",
       "    </tr>\n",
       "    <tr>\n",
       "      <th>4</th>\n",
       "      <td>0.036842</td>\n",
       "      <td>0.227091</td>\n",
       "      <td>0.010728</td>\n",
       "      <td>0.000561</td>\n",
       "      <td>0.025267</td>\n",
       "      <td>0.013466</td>\n",
       "      <td>0.002874</td>\n",
       "      <td>0.000000</td>\n",
       "      <td>0.035193</td>\n",
       "      <td>0.000748</td>\n",
       "      <td>0.001991</td>\n",
       "      <td>0.043280</td>\n",
       "      <td>0.002092</td>\n",
       "      <td>0.025291</td>\n",
       "      <td>0.351368</td>\n",
       "      <td>0.005233</td>\n",
       "      <td>0.078755</td>\n",
       "      <td>0.031946</td>\n",
       "      <td>0.028651</td>\n",
       "      <td>0.037865</td>\n",
       "      <td>0.010255</td>\n",
       "      <td>0.004081</td>\n",
       "      <td>0.025301</td>\n",
       "      <td>0.001122</td>\n",
       "      <td>0.000000</td>\n",
       "      <td>18</td>\n",
       "    </tr>\n",
       "    <tr>\n",
       "      <th>5</th>\n",
       "      <td>0.076074</td>\n",
       "      <td>0.230480</td>\n",
       "      <td>0.032529</td>\n",
       "      <td>0.008076</td>\n",
       "      <td>0.002461</td>\n",
       "      <td>0.005825</td>\n",
       "      <td>0.000000</td>\n",
       "      <td>0.000000</td>\n",
       "      <td>0.025574</td>\n",
       "      <td>0.040680</td>\n",
       "      <td>0.000000</td>\n",
       "      <td>0.085968</td>\n",
       "      <td>0.009106</td>\n",
       "      <td>0.042236</td>\n",
       "      <td>0.002354</td>\n",
       "      <td>0.040255</td>\n",
       "      <td>0.089327</td>\n",
       "      <td>0.015607</td>\n",
       "      <td>0.091747</td>\n",
       "      <td>0.052392</td>\n",
       "      <td>0.001077</td>\n",
       "      <td>0.011481</td>\n",
       "      <td>0.031634</td>\n",
       "      <td>0.103030</td>\n",
       "      <td>0.002090</td>\n",
       "      <td>37</td>\n",
       "    </tr>\n",
       "  </tbody>\n",
       "</table>\n",
       "</div>"
      ],
      "text/plain": [
       "              travel      auto  pantip_food  pantip_cartoon  \\\n",
       "segment_id                                                    \n",
       "-1          0.069138  0.221640     0.028532        0.006292   \n",
       " 0          0.051701  0.472227     0.016462        0.001686   \n",
       " 1          0.029591  0.220712     0.027711        0.180766   \n",
       " 2          0.042746  0.254371     0.016833        0.004935   \n",
       " 3          0.044483  0.197198     0.007368        0.002331   \n",
       " 4          0.036842  0.227091     0.010728        0.000561   \n",
       " 5          0.076074  0.230480     0.032529        0.008076   \n",
       "\n",
       "            pantip_chalermthai  pantip_chalermkrung  pantip_korea  \\\n",
       "segment_id                                                          \n",
       "-1                    0.019373             0.020487      0.003601   \n",
       " 0                    0.011245             0.008225      0.000128   \n",
       " 1                    0.054006             0.019102      0.001106   \n",
       " 2                    0.009165             0.007186      0.000066   \n",
       " 3                    0.016117             0.013481      0.000000   \n",
       " 4                    0.025267             0.013466      0.002874   \n",
       " 5                    0.002461             0.005825      0.000000   \n",
       "\n",
       "            pantip_gadget  pantip_siliconvalley  pantip_family  \\\n",
       "segment_id                                                       \n",
       "-1               0.002987              0.061402       0.028333   \n",
       " 0               0.002267              0.048074       0.020852   \n",
       " 1               0.001193              0.062948       0.012801   \n",
       " 2               0.000691              0.051274       0.010779   \n",
       " 3               0.000941              0.023936       0.006727   \n",
       " 4               0.000000              0.035193       0.000748   \n",
       " 5               0.000000              0.025574       0.040680   \n",
       "\n",
       "            pantip_rajdumnern  pantip_social  pantip_klaibann  pantip_home  \\\n",
       "segment_id                                                                   \n",
       "-1                   0.008979       0.068697         0.012282     0.052139   \n",
       " 0                   0.001957       0.030858         0.008099     0.042677   \n",
       " 1                   0.007944       0.048558         0.002350     0.021896   \n",
       " 2                   0.005301       0.054227         0.006107     0.032488   \n",
       " 3                   0.388502       0.025447         0.017607     0.032367   \n",
       " 4                   0.001991       0.043280         0.002092     0.025291   \n",
       " 5                   0.000000       0.085968         0.009106     0.042236   \n",
       "\n",
       "            pantip_tvshow  pantip_region  pantip_mbk  pantip_supachalasai  \\\n",
       "segment_id                                                                  \n",
       "-1               0.012372       0.023796    0.109188             0.030995   \n",
       " 0               0.003488       0.016566    0.097243             0.031910   \n",
       " 1               0.012528       0.004661    0.105525             0.031116   \n",
       " 2               0.005389       0.014423    0.060263             0.022108   \n",
       " 3               0.004768       0.006439    0.078712             0.044162   \n",
       " 4               0.351368       0.005233    0.078755             0.031946   \n",
       " 5               0.002354       0.040255    0.089327             0.015607   \n",
       "\n",
       "            pantip_lumpini  pantip_sinthorn  pantip_wahkor  pantip_library  \\\n",
       "segment_id                                                                   \n",
       "-1                0.061054         0.068475       0.016689        0.020104   \n",
       " 0                0.028495         0.066372       0.003281        0.004890   \n",
       " 1                0.017332         0.022321       0.023547        0.016165   \n",
       " 2                0.033421         0.046084       0.116386        0.132812   \n",
       " 3                0.010891         0.040964       0.024978        0.004264   \n",
       " 4                0.028651         0.037865       0.010255        0.004081   \n",
       " 5                0.091747         0.052392       0.001077        0.011481   \n",
       "\n",
       "            pantip_siam  pantip_beauty  pantip_bangrak  total_user  \n",
       "segment_id                                                          \n",
       "-1             0.042576       0.005528        0.005340         448  \n",
       " 0             0.025439       0.001330        0.004528        1541  \n",
       " 1             0.069569       0.003183        0.003370          32  \n",
       " 2             0.069727       0.001552        0.001667         101  \n",
       " 3             0.006409       0.001909        0.000000          33  \n",
       " 4             0.025301       0.001122        0.000000          18  \n",
       " 5             0.031634       0.103030        0.002090          37  "
      ]
     },
     "execution_count": 25,
     "metadata": {},
     "output_type": "execute_result"
    }
   ],
   "source": [
    "df_segment"
   ]
  },
  {
   "cell_type": "code",
   "execution_count": 26,
   "metadata": {},
   "outputs": [],
   "source": [
    "segment_lst = df_segment.columns[:-1]\n",
    "\n",
    "# find top 3 traits for each segment\n",
    "seg_character = []\n",
    "for seg_id in df_segment.index:\n",
    "    seg_dict = dict()\n",
    "    top_3 = np.argsort(df_segment.loc[seg_id].values[:-1])[-3:]\n",
    "    for i in range(2, -1,-1):\n",
    "        seg_dict[segment_lst[top_3[i]]] = df_segment.loc[seg_id].values[top_3[i]]\n",
    "    seg_character.append(seg_dict)"
   ]
  },
  {
   "cell_type": "code",
   "execution_count": 38,
   "metadata": {},
   "outputs": [
    {
     "data": {
      "image/png": "[encoded data removed]",
      "text/plain": [
       "<Figure size 432x288 with 1 Axes>"
      ]
     },
     "metadata": {
      "needs_background": "light"
     },
     "output_type": "display_data"
    },
    {
     "data": {
      "image/png": "[encoded data removed]",
      "text/plain": [
       "<Figure size 432x288 with 1 Axes>"
      ]
     },
     "metadata": {
      "needs_background": "light"
     },
     "output_type": "display_data"
    },
    {
     "data": {
      "image/png": "[encoded data removed]",
      "text/plain": [
       "<Figure size 432x288 with 1 Axes>"
      ]
     },
     "metadata": {
      "needs_background": "light"
     },
     "output_type": "display_data"
    },
    {
     "data": {
      "image/png": "[encoded data removed]",
      "text/plain": [
       "<Figure size 432x288 with 1 Axes>"
      ]
     },
     "metadata": {
      "needs_background": "light"
     },
     "output_type": "display_data"
    },
    {
     "data": {
      "image/png": "[encoded data removed]",
      "text/plain": [
       "<Figure size 432x288 with 1 Axes>"
      ]
     },
     "metadata": {
      "needs_background": "light"
     },
     "output_type": "display_data"
    },
    {
     "data": {
      "image/png": "[encoded data removed]",
      "text/plain": [
       "<Figure size 432x288 with 1 Axes>"
      ]
     },
     "metadata": {
      "needs_background": "light"
     },
     "output_type": "display_data"
    }
   ],
   "source": [
    "# visualize segment character\n",
    "for i in range(n_clusters_):\n",
    "    df_plot = pd.DataFrame({'key':list(seg_character[i].keys()),'percent(%)':list(seg_character[i].values())})\n",
    "    df_plot['percent(%)']=df_plot['percent(%)']*100\n",
    "    sns.barplot(x='key',y='percent(%)',data=df_plot,).set_title(f'segment {df_segment.index[i]}')\n",
    "    plt.show()\n",
    "    df_plot.to_csv(f'../tmp/segment_{df_segment.index[i]}.csv',index=False)"
   ]
  },
  {
   "cell_type": "code",
   "execution_count": 31,
   "metadata": {},
   "outputs": [
    {
     "data": {
      "image/png": "[encoded data removed]",
      "text/plain": [
       "<Figure size 432x288 with 1 Axes>"
      ]
     },
     "metadata": {
      "needs_background": "light"
     },
     "output_type": "display_data"
    }
   ],
   "source": [
    "squarify.plot(sizes=df_user_segment_filt.segment_id.value_counts().values, label=df_user_segment_filt.segment_id.value_counts().index, alpha=.8 )\n",
    "_=plt.axis('off')"
   ]
  },
  {
   "cell_type": "code",
   "execution_count": 37,
   "metadata": {},
   "outputs": [],
   "source": [
    "segment_pop = df_user_segment_filt.segment_id.value_counts().reset_index()\n",
    "segment_pop.columns = ['segment_id','population']\n",
    "segment_pop.to_csv('../tmp/segment_pop.csv',index=False)"
   ]
  },
  {
   "cell_type": "code",
   "execution_count": null,
   "metadata": {},
   "outputs": [],
   "source": []
  }
 ],
 "metadata": {
  "kernelspec": {
   "display_name": "Python 3",
   "language": "python",
   "name": "python3"
  },
  "language_info": {
   "codemirror_mode": {
    "name": "ipython",
    "version": 3
   },
   "file_extension": ".py",
   "mimetype": "text/x-python",
   "name": "python",
   "nbconvert_exporter": "python",
   "pygments_lexer": "ipython3",
   "version": "3.7.3"
  },
  "toc": {
   "base_numbering": 1,
   "nav_menu": {},
   "number_sections": true,
   "sideBar": true,
   "skip_h1_title": false,
   "title_cell": "Table of Contents",
   "title_sidebar": "Contents",
   "toc_cell": false,
   "toc_position": {},
   "toc_section_display": true,
   "toc_window_display": false
  }
 },
 "nbformat": 4,
 "nbformat_minor": 2
}
