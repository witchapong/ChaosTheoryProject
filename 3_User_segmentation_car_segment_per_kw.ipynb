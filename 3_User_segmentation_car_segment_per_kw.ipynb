{
 "cells": [
  {
   "cell_type": "markdown",
   "metadata": {},
   "source": [
    "## Import libs and data"
   ]
  },
  {
   "cell_type": "code",
   "execution_count": 39,
   "metadata": {},
   "outputs": [],
   "source": [
    "import pandas as pd\n",
    "import re\n",
    "pd.options.display.max_columns = 999\n",
    "pd.options.display.max_rows = 999\n",
    "import numpy as np\n",
    "import matplotlib.pyplot as plt\n",
    "%matplotlib inline\n",
    "import seaborn as sns\n",
    "from tqdm import tqdm, tqdm_notebook, trange\n",
    "tqdm.pandas()\n",
    "from collections import Counter\n",
    "import pickle\n",
    "import squarify\n",
    "import collections\n",
    "from sklearn.preprocessing import StandardScaler\n",
    "from sklearn.cluster import KMeans\n",
    "from scipy import stats"
   ]
  },
  {
   "cell_type": "code",
   "execution_count": 2,
   "metadata": {},
   "outputs": [],
   "source": [
    "# load dataframe of post and corresponding tokens\n",
    "df_post = pd.read_csv('../out/car/df_post.csv')\n",
    "\n",
    "with open('../out/car/tokens_post.txt', 'rb') as fp:\n",
    "    tokens_post = pickle.load(fp)\n",
    "\n",
    "df_post['user_id'] = df_post['user_id'].astype(int)"
   ]
  },
  {
   "cell_type": "code",
   "execution_count": 3,
   "metadata": {},
   "outputs": [],
   "source": [
    "# load user x tag file\n",
    "df_user_x_cat = pd.read_csv('../src/pantip_user_cat.csv')"
   ]
  },
  {
   "cell_type": "code",
   "execution_count": 4,
   "metadata": {
    "scrolled": true
   },
   "outputs": [
    {
     "data": {
      "text/html": [
       "<div>\n",
       "<style scoped>\n",
       "    .dataframe tbody tr th:only-of-type {\n",
       "        vertical-align: middle;\n",
       "    }\n",
       "\n",
       "    .dataframe tbody tr th {\n",
       "        vertical-align: top;\n",
       "    }\n",
       "\n",
       "    .dataframe thead th {\n",
       "        text-align: right;\n",
       "    }\n",
       "</style>\n",
       "<table border=\"1\" class=\"dataframe\">\n",
       "  <thead>\n",
       "    <tr style=\"text-align: right;\">\n",
       "      <th></th>\n",
       "      <th>user_id</th>\n",
       "      <th>category</th>\n",
       "      <th>post_date</th>\n",
       "    </tr>\n",
       "  </thead>\n",
       "  <tbody>\n",
       "    <tr>\n",
       "      <th>0</th>\n",
       "      <td>4179868</td>\n",
       "      <td>travel</td>\n",
       "      <td>2018-12-06 21:31:06</td>\n",
       "    </tr>\n",
       "    <tr>\n",
       "      <th>1</th>\n",
       "      <td>2897151</td>\n",
       "      <td>travel</td>\n",
       "      <td>2018-12-06 21:19:04</td>\n",
       "    </tr>\n",
       "    <tr>\n",
       "      <th>2</th>\n",
       "      <td>772076</td>\n",
       "      <td>travel</td>\n",
       "      <td>2018-12-06 20:52:07</td>\n",
       "    </tr>\n",
       "    <tr>\n",
       "      <th>3</th>\n",
       "      <td>4977690</td>\n",
       "      <td>travel</td>\n",
       "      <td>2018-12-06 20:24:25</td>\n",
       "    </tr>\n",
       "    <tr>\n",
       "      <th>4</th>\n",
       "      <td>2239672</td>\n",
       "      <td>travel</td>\n",
       "      <td>2018-12-06 20:03:01</td>\n",
       "    </tr>\n",
       "  </tbody>\n",
       "</table>\n",
       "</div>"
      ],
      "text/plain": [
       "   user_id category            post_date\n",
       "0  4179868   travel  2018-12-06 21:31:06\n",
       "1  2897151   travel  2018-12-06 21:19:04\n",
       "2   772076   travel  2018-12-06 20:52:07\n",
       "3  4977690   travel  2018-12-06 20:24:25\n",
       "4  2239672   travel  2018-12-06 20:03:01"
      ]
     },
     "execution_count": 4,
     "metadata": {},
     "output_type": "execute_result"
    }
   ],
   "source": [
    "df_user_x_cat.head()"
   ]
  },
  {
   "cell_type": "code",
   "execution_count": 5,
   "metadata": {},
   "outputs": [
    {
     "data": {
      "text/plain": [
       "5915"
      ]
     },
     "execution_count": 5,
     "metadata": {},
     "output_type": "execute_result"
    }
   ],
   "source": [
    "df_user_x_cat.category.nunique()"
   ]
  },
  {
   "cell_type": "code",
   "execution_count": 6,
   "metadata": {},
   "outputs": [],
   "source": [
    "# select top 500 most popular categories\n",
    "cat_counter = Counter(df_user_x_cat.category.values)"
   ]
  },
  {
   "cell_type": "markdown",
   "metadata": {},
   "source": [
    "## create tags set and prepare dataframe"
   ]
  },
  {
   "cell_type": "code",
   "execution_count": 31,
   "metadata": {},
   "outputs": [],
   "source": [
    "# create list of tags\n",
    "tag_list=[]\n",
    "for text in df_user_x_cat.category:\n",
    "    tag_list.append(text.split(', '))\n",
    "\n",
    "all_tags = []\n",
    "for tl in tag_list:\n",
    "    for tag in tl:\n",
    "        if not tag in all_tags:\n",
    "            all_tags.append(tag)"
   ]
  },
  {
   "cell_type": "code",
   "execution_count": null,
   "metadata": {},
   "outputs": [],
   "source": [
    "df_tags = pd.DataFrame(np.zeros((len(tag_list),len(all_tags))),columns=all_tags)\n",
    "\n",
    "for i in tqdm_notebook(range(len(tag_list))):\n",
    "    for tag in tag_list[i]:\n",
    "        df_tags.loc[i,tag] = 1\n",
    "\n",
    "df_tags['user_id'] = df_user_x_cat.user_id.values\n",
    "\n",
    "df_tags.to_csv('../tmp/df_tags.csv',index=False)"
   ]
  },
  {
   "cell_type": "code",
   "execution_count": 7,
   "metadata": {},
   "outputs": [],
   "source": [
    "df_tags = pd.read_csv('../tmp/df_tags.csv')"
   ]
  },
  {
   "cell_type": "code",
   "execution_count": 8,
   "metadata": {},
   "outputs": [
    {
     "data": {
      "text/html": [
       "<div>\n",
       "<style scoped>\n",
       "    .dataframe tbody tr th:only-of-type {\n",
       "        vertical-align: middle;\n",
       "    }\n",
       "\n",
       "    .dataframe tbody tr th {\n",
       "        vertical-align: top;\n",
       "    }\n",
       "\n",
       "    .dataframe thead th {\n",
       "        text-align: right;\n",
       "    }\n",
       "</style>\n",
       "<table border=\"1\" class=\"dataframe\">\n",
       "  <thead>\n",
       "    <tr style=\"text-align: right;\">\n",
       "      <th></th>\n",
       "      <th>travel</th>\n",
       "      <th>auto</th>\n",
       "      <th>pantip_food</th>\n",
       "      <th>pantip_cartoon</th>\n",
       "      <th>pantip_chalermthai</th>\n",
       "      <th>pantip_chalermkrung</th>\n",
       "      <th>pantip_korea</th>\n",
       "      <th>pantip_gadget</th>\n",
       "      <th>pantip_siliconvalley</th>\n",
       "      <th>pantip_family</th>\n",
       "      <th>pantip_rajdumnern</th>\n",
       "      <th>pantip_social</th>\n",
       "      <th>pantip_klaibann</th>\n",
       "      <th>pantip_home</th>\n",
       "      <th>pantip_tvshow</th>\n",
       "      <th>pantip_region</th>\n",
       "      <th>pantip_mbk</th>\n",
       "      <th>pantip_supachalasai</th>\n",
       "      <th>pantip_lumpini</th>\n",
       "      <th>pantip_sinthorn</th>\n",
       "      <th>pantip_wahkor</th>\n",
       "      <th>pantip_library</th>\n",
       "      <th>pantip_siam</th>\n",
       "      <th>pantip_beauty</th>\n",
       "      <th>pantip_bangrak</th>\n",
       "    </tr>\n",
       "    <tr>\n",
       "      <th>user_id</th>\n",
       "      <th></th>\n",
       "      <th></th>\n",
       "      <th></th>\n",
       "      <th></th>\n",
       "      <th></th>\n",
       "      <th></th>\n",
       "      <th></th>\n",
       "      <th></th>\n",
       "      <th></th>\n",
       "      <th></th>\n",
       "      <th></th>\n",
       "      <th></th>\n",
       "      <th></th>\n",
       "      <th></th>\n",
       "      <th></th>\n",
       "      <th></th>\n",
       "      <th></th>\n",
       "      <th></th>\n",
       "      <th></th>\n",
       "      <th></th>\n",
       "      <th></th>\n",
       "      <th></th>\n",
       "      <th></th>\n",
       "      <th></th>\n",
       "      <th></th>\n",
       "    </tr>\n",
       "  </thead>\n",
       "  <tbody>\n",
       "    <tr>\n",
       "      <th>4</th>\n",
       "      <td>3.0</td>\n",
       "      <td>0.0</td>\n",
       "      <td>4.0</td>\n",
       "      <td>3.0</td>\n",
       "      <td>2.0</td>\n",
       "      <td>0.0</td>\n",
       "      <td>0.0</td>\n",
       "      <td>0.0</td>\n",
       "      <td>1.0</td>\n",
       "      <td>5.0</td>\n",
       "      <td>0.0</td>\n",
       "      <td>1.0</td>\n",
       "      <td>0.0</td>\n",
       "      <td>0.0</td>\n",
       "      <td>1.0</td>\n",
       "      <td>1.0</td>\n",
       "      <td>0.0</td>\n",
       "      <td>0.0</td>\n",
       "      <td>1.0</td>\n",
       "      <td>0.0</td>\n",
       "      <td>1.0</td>\n",
       "      <td>2.0</td>\n",
       "      <td>0.0</td>\n",
       "      <td>0.0</td>\n",
       "      <td>0.0</td>\n",
       "    </tr>\n",
       "    <tr>\n",
       "      <th>5</th>\n",
       "      <td>0.0</td>\n",
       "      <td>0.0</td>\n",
       "      <td>0.0</td>\n",
       "      <td>0.0</td>\n",
       "      <td>0.0</td>\n",
       "      <td>0.0</td>\n",
       "      <td>0.0</td>\n",
       "      <td>0.0</td>\n",
       "      <td>0.0</td>\n",
       "      <td>0.0</td>\n",
       "      <td>0.0</td>\n",
       "      <td>0.0</td>\n",
       "      <td>0.0</td>\n",
       "      <td>0.0</td>\n",
       "      <td>0.0</td>\n",
       "      <td>0.0</td>\n",
       "      <td>0.0</td>\n",
       "      <td>0.0</td>\n",
       "      <td>0.0</td>\n",
       "      <td>1.0</td>\n",
       "      <td>0.0</td>\n",
       "      <td>0.0</td>\n",
       "      <td>0.0</td>\n",
       "      <td>0.0</td>\n",
       "      <td>0.0</td>\n",
       "    </tr>\n",
       "    <tr>\n",
       "      <th>13</th>\n",
       "      <td>0.0</td>\n",
       "      <td>1.0</td>\n",
       "      <td>0.0</td>\n",
       "      <td>0.0</td>\n",
       "      <td>1.0</td>\n",
       "      <td>1.0</td>\n",
       "      <td>0.0</td>\n",
       "      <td>0.0</td>\n",
       "      <td>0.0</td>\n",
       "      <td>0.0</td>\n",
       "      <td>0.0</td>\n",
       "      <td>0.0</td>\n",
       "      <td>0.0</td>\n",
       "      <td>0.0</td>\n",
       "      <td>0.0</td>\n",
       "      <td>0.0</td>\n",
       "      <td>0.0</td>\n",
       "      <td>0.0</td>\n",
       "      <td>0.0</td>\n",
       "      <td>1.0</td>\n",
       "      <td>0.0</td>\n",
       "      <td>0.0</td>\n",
       "      <td>0.0</td>\n",
       "      <td>0.0</td>\n",
       "      <td>0.0</td>\n",
       "    </tr>\n",
       "    <tr>\n",
       "      <th>101</th>\n",
       "      <td>0.0</td>\n",
       "      <td>0.0</td>\n",
       "      <td>0.0</td>\n",
       "      <td>0.0</td>\n",
       "      <td>1.0</td>\n",
       "      <td>0.0</td>\n",
       "      <td>0.0</td>\n",
       "      <td>0.0</td>\n",
       "      <td>0.0</td>\n",
       "      <td>0.0</td>\n",
       "      <td>0.0</td>\n",
       "      <td>0.0</td>\n",
       "      <td>0.0</td>\n",
       "      <td>0.0</td>\n",
       "      <td>0.0</td>\n",
       "      <td>0.0</td>\n",
       "      <td>0.0</td>\n",
       "      <td>0.0</td>\n",
       "      <td>0.0</td>\n",
       "      <td>0.0</td>\n",
       "      <td>0.0</td>\n",
       "      <td>0.0</td>\n",
       "      <td>0.0</td>\n",
       "      <td>0.0</td>\n",
       "      <td>0.0</td>\n",
       "    </tr>\n",
       "    <tr>\n",
       "      <th>123</th>\n",
       "      <td>1.0</td>\n",
       "      <td>0.0</td>\n",
       "      <td>5.0</td>\n",
       "      <td>1.0</td>\n",
       "      <td>0.0</td>\n",
       "      <td>0.0</td>\n",
       "      <td>0.0</td>\n",
       "      <td>0.0</td>\n",
       "      <td>2.0</td>\n",
       "      <td>0.0</td>\n",
       "      <td>0.0</td>\n",
       "      <td>1.0</td>\n",
       "      <td>0.0</td>\n",
       "      <td>92.0</td>\n",
       "      <td>0.0</td>\n",
       "      <td>0.0</td>\n",
       "      <td>0.0</td>\n",
       "      <td>0.0</td>\n",
       "      <td>0.0</td>\n",
       "      <td>4.0</td>\n",
       "      <td>0.0</td>\n",
       "      <td>0.0</td>\n",
       "      <td>0.0</td>\n",
       "      <td>2.0</td>\n",
       "      <td>0.0</td>\n",
       "    </tr>\n",
       "  </tbody>\n",
       "</table>\n",
       "</div>"
      ],
      "text/plain": [
       "         travel  auto  pantip_food  pantip_cartoon  pantip_chalermthai  \\\n",
       "user_id                                                                  \n",
       "4           3.0   0.0          4.0             3.0                 2.0   \n",
       "5           0.0   0.0          0.0             0.0                 0.0   \n",
       "13          0.0   1.0          0.0             0.0                 1.0   \n",
       "101         0.0   0.0          0.0             0.0                 1.0   \n",
       "123         1.0   0.0          5.0             1.0                 0.0   \n",
       "\n",
       "         pantip_chalermkrung  pantip_korea  pantip_gadget  \\\n",
       "user_id                                                     \n",
       "4                        0.0           0.0            0.0   \n",
       "5                        0.0           0.0            0.0   \n",
       "13                       1.0           0.0            0.0   \n",
       "101                      0.0           0.0            0.0   \n",
       "123                      0.0           0.0            0.0   \n",
       "\n",
       "         pantip_siliconvalley  pantip_family  pantip_rajdumnern  \\\n",
       "user_id                                                           \n",
       "4                         1.0            5.0                0.0   \n",
       "5                         0.0            0.0                0.0   \n",
       "13                        0.0            0.0                0.0   \n",
       "101                       0.0            0.0                0.0   \n",
       "123                       2.0            0.0                0.0   \n",
       "\n",
       "         pantip_social  pantip_klaibann  pantip_home  pantip_tvshow  \\\n",
       "user_id                                                               \n",
       "4                  1.0              0.0          0.0            1.0   \n",
       "5                  0.0              0.0          0.0            0.0   \n",
       "13                 0.0              0.0          0.0            0.0   \n",
       "101                0.0              0.0          0.0            0.0   \n",
       "123                1.0              0.0         92.0            0.0   \n",
       "\n",
       "         pantip_region  pantip_mbk  pantip_supachalasai  pantip_lumpini  \\\n",
       "user_id                                                                   \n",
       "4                  1.0         0.0                  0.0             1.0   \n",
       "5                  0.0         0.0                  0.0             0.0   \n",
       "13                 0.0         0.0                  0.0             0.0   \n",
       "101                0.0         0.0                  0.0             0.0   \n",
       "123                0.0         0.0                  0.0             0.0   \n",
       "\n",
       "         pantip_sinthorn  pantip_wahkor  pantip_library  pantip_siam  \\\n",
       "user_id                                                                \n",
       "4                    0.0            1.0             2.0          0.0   \n",
       "5                    1.0            0.0             0.0          0.0   \n",
       "13                   1.0            0.0             0.0          0.0   \n",
       "101                  0.0            0.0             0.0          0.0   \n",
       "123                  4.0            0.0             0.0          0.0   \n",
       "\n",
       "         pantip_beauty  pantip_bangrak  \n",
       "user_id                                 \n",
       "4                  0.0             0.0  \n",
       "5                  0.0             0.0  \n",
       "13                 0.0             0.0  \n",
       "101                0.0             0.0  \n",
       "123                2.0             0.0  "
      ]
     },
     "execution_count": 8,
     "metadata": {},
     "output_type": "execute_result"
    }
   ],
   "source": [
    "df_user_segment = df_tags.groupby('user_id').sum()\n",
    "df_user_segment.head()"
   ]
  },
  {
   "cell_type": "code",
   "execution_count": 9,
   "metadata": {},
   "outputs": [],
   "source": [
    "df_user_segment = df_user_segment.div(df_user_segment.sum(axis=1), axis=0)"
   ]
  },
  {
   "cell_type": "markdown",
   "metadata": {},
   "source": [
    "## Performing segmentation"
   ]
  },
  {
   "cell_type": "code",
   "execution_count": 10,
   "metadata": {},
   "outputs": [
    {
     "name": "stdout",
     "output_type": "stream",
     "text": [
      "total unique user: 2210\n"
     ]
    }
   ],
   "source": [
    "# filter unique user id based on kws\n",
    "kws = ['yaris','ativ']\n",
    "\n",
    "idxs=[]\n",
    "for i,tkn in enumerate(tokens_post):\n",
    "    for kw in kws:\n",
    "        if kw in tkn:\n",
    "            idxs.append(i)\n",
    "            break\n",
    "            \n",
    "df_temp = df_post.iloc[idxs]\n",
    "\n",
    "unique_user = df_temp.user_id.unique()\n",
    "\n",
    "print('total unique user:',len(unique_user))"
   ]
  },
  {
   "cell_type": "code",
   "execution_count": 11,
   "metadata": {},
   "outputs": [],
   "source": [
    "df_user_segment_filt = df_user_segment.loc[unique_user]"
   ]
  },
  {
   "cell_type": "code",
   "execution_count": 12,
   "metadata": {},
   "outputs": [],
   "source": [
    "def boxcox_transform(df, skew_thd=1, lmbda_dict=dict(), except_cols=None):\n",
    "    '''\n",
    "    Function for performing boxcox transform on DataFrame object with given threshold of feature's\n",
    "    skewness.\n",
    "    - Unless except_cols parameter is specified, all features will be considered for the\n",
    "    transformation.\n",
    "    - Unless lmbda_dict parameter is specified, suitable lamba for boxcox transform will be used.\n",
    "    '''\n",
    "    df_copy=df.copy()\n",
    "    lambda_dict=lmbda_dict.copy()\n",
    "    if len(lambda_dict)==0:\n",
    "        except_cols = cast_none_or_str_to_list(except_cols)\n",
    "        for col in df_copy.columns:\n",
    "            if (df_copy[col].skew() > skew_thd) and (col not in except_cols):\n",
    "                df_copy[col], lamb = stats.boxcox(df_copy[col].values+np.ones_like(df[col]))\n",
    "                lambda_dict[col] = lamb\n",
    "    else:\n",
    "        for col,lamb in lambda_dict.items():\n",
    "            df_copy[col] = stats.boxcox(df_copy[col].values+np.ones_like(df_copy[col]),lmbda=lamb)\n",
    "            \n",
    "    return df_copy, lambda_dict\n",
    "def cast_none_or_str_to_list(var):\n",
    "    '''\n",
    "    This function cast None or str to list.\n",
    "    '''\n",
    "    if var==None:\n",
    "        var=[]\n",
    "    else:\n",
    "        if type(var) != list:\n",
    "            var = [var]\n",
    "    return var"
   ]
  },
  {
   "cell_type": "code",
   "execution_count": 13,
   "metadata": {},
   "outputs": [],
   "source": [
    "df_user_segment_filt_tf, tf_param = boxcox_transform(df_user_segment_filt)"
   ]
  },
  {
   "cell_type": "code",
   "execution_count": 19,
   "metadata": {},
   "outputs": [],
   "source": [
    "sc = StandardScaler()\n",
    "user_segment_sc = sc.fit_transform(df_user_segment_filt_tf)"
   ]
  },
  {
   "cell_type": "markdown",
   "metadata": {},
   "source": [
    "## experiment with K-mean clustering"
   ]
  },
  {
   "cell_type": "code",
   "execution_count": 20,
   "metadata": {},
   "outputs": [],
   "source": [
    "labels = []\n",
    "wcss = []\n",
    "for i in range(1,21):\n",
    "    k_model = KMeans(n_clusters=i,)\n",
    "    labels.append(k_model.fit_predict(user_segment_sc))\n",
    "    wcss.append(k_model.inertia_)"
   ]
  },
  {
   "cell_type": "code",
   "execution_count": 21,
   "metadata": {},
   "outputs": [],
   "source": [
    "import matplotlib.pyplot as plt\n",
    "%matplotlib inline"
   ]
  },
  {
   "cell_type": "code",
   "execution_count": 22,
   "metadata": {},
   "outputs": [
    {
     "data": {
      "text/plain": [
       "[<matplotlib.lines.Line2D at 0x1a3934eeb8>]"
      ]
     },
     "execution_count": 22,
     "metadata": {},
     "output_type": "execute_result"
    },
    {
     "data": {
      "image/png": "[encoded data removed]",
      "text/plain": [
       "<Figure size 432x288 with 1 Axes>"
      ]
     },
     "metadata": {
      "needs_background": "light"
     },
     "output_type": "display_data"
    }
   ],
   "source": [
    "plt.plot(range(1,21),wcss)"
   ]
  },
  {
   "cell_type": "code",
   "execution_count": 23,
   "metadata": {},
   "outputs": [],
   "source": [
    "label = KMeans(n_clusters=7,).fit_predict(user_segment_sc)"
   ]
  },
  {
   "cell_type": "code",
   "execution_count": 27,
   "metadata": {},
   "outputs": [],
   "source": [
    "df_user_segment_filt['segment_id'] = label"
   ]
  },
  {
   "cell_type": "code",
   "execution_count": 28,
   "metadata": {},
   "outputs": [
    {
     "data": {
      "text/plain": [
       "1    666\n",
       "5    620\n",
       "4    342\n",
       "2    270\n",
       "3    146\n",
       "0    128\n",
       "6     38\n",
       "Name: segment_id, dtype: int64"
      ]
     },
     "execution_count": 28,
     "metadata": {},
     "output_type": "execute_result"
    }
   ],
   "source": [
    "df_user_segment_filt.segment_id.value_counts()"
   ]
  },
  {
   "cell_type": "code",
   "execution_count": 32,
   "metadata": {},
   "outputs": [],
   "source": [
    "'''\n",
    "NEXT STEP:\n",
    "describe profile of each segment\n",
    "'''\n",
    "# df_user_segment_filt['segment_id'] = label\n",
    "\n",
    "# summary statistic by segment\n",
    "df_segment = df_user_segment_filt.groupby('segment_id')[all_tags].mean()\n",
    "\n",
    "df_user_segment_filt.reset_index(inplace=True)\n",
    "\n",
    "df_segment = df_segment.join(df_user_segment_filt.groupby('segment_id')['user_id'].count()).rename({'user_id':'total_user'},axis=1)"
   ]
  },
  {
   "cell_type": "code",
   "execution_count": 33,
   "metadata": {},
   "outputs": [
    {
     "data": {
      "text/html": [
       "<div>\n",
       "<style scoped>\n",
       "    .dataframe tbody tr th:only-of-type {\n",
       "        vertical-align: middle;\n",
       "    }\n",
       "\n",
       "    .dataframe tbody tr th {\n",
       "        vertical-align: top;\n",
       "    }\n",
       "\n",
       "    .dataframe thead th {\n",
       "        text-align: right;\n",
       "    }\n",
       "</style>\n",
       "<table border=\"1\" class=\"dataframe\">\n",
       "  <thead>\n",
       "    <tr style=\"text-align: right;\">\n",
       "      <th></th>\n",
       "      <th>travel</th>\n",
       "      <th>auto</th>\n",
       "      <th>pantip_food</th>\n",
       "      <th>pantip_cartoon</th>\n",
       "      <th>pantip_chalermthai</th>\n",
       "      <th>pantip_chalermkrung</th>\n",
       "      <th>pantip_korea</th>\n",
       "      <th>pantip_gadget</th>\n",
       "      <th>pantip_siliconvalley</th>\n",
       "      <th>pantip_family</th>\n",
       "      <th>pantip_rajdumnern</th>\n",
       "      <th>pantip_social</th>\n",
       "      <th>pantip_klaibann</th>\n",
       "      <th>pantip_home</th>\n",
       "      <th>pantip_tvshow</th>\n",
       "      <th>pantip_region</th>\n",
       "      <th>pantip_mbk</th>\n",
       "      <th>pantip_supachalasai</th>\n",
       "      <th>pantip_lumpini</th>\n",
       "      <th>pantip_sinthorn</th>\n",
       "      <th>pantip_wahkor</th>\n",
       "      <th>pantip_library</th>\n",
       "      <th>pantip_siam</th>\n",
       "      <th>pantip_beauty</th>\n",
       "      <th>pantip_bangrak</th>\n",
       "      <th>total_user</th>\n",
       "    </tr>\n",
       "    <tr>\n",
       "      <th>segment_id</th>\n",
       "      <th></th>\n",
       "      <th></th>\n",
       "      <th></th>\n",
       "      <th></th>\n",
       "      <th></th>\n",
       "      <th></th>\n",
       "      <th></th>\n",
       "      <th></th>\n",
       "      <th></th>\n",
       "      <th></th>\n",
       "      <th></th>\n",
       "      <th></th>\n",
       "      <th></th>\n",
       "      <th></th>\n",
       "      <th></th>\n",
       "      <th></th>\n",
       "      <th></th>\n",
       "      <th></th>\n",
       "      <th></th>\n",
       "      <th></th>\n",
       "      <th></th>\n",
       "      <th></th>\n",
       "      <th></th>\n",
       "      <th></th>\n",
       "      <th></th>\n",
       "      <th></th>\n",
       "    </tr>\n",
       "  </thead>\n",
       "  <tbody>\n",
       "    <tr>\n",
       "      <th>0</th>\n",
       "      <td>0.054806</td>\n",
       "      <td>0.208757</td>\n",
       "      <td>0.022798</td>\n",
       "      <td>0.007727</td>\n",
       "      <td>0.017196</td>\n",
       "      <td>0.012271</td>\n",
       "      <td>0.000000</td>\n",
       "      <td>0.031729</td>\n",
       "      <td>0.106423</td>\n",
       "      <td>0.011093</td>\n",
       "      <td>0.012717</td>\n",
       "      <td>0.028100</td>\n",
       "      <td>0.009711</td>\n",
       "      <td>0.083779</td>\n",
       "      <td>0.006749</td>\n",
       "      <td>0.013686</td>\n",
       "      <td>0.188261</td>\n",
       "      <td>0.046246</td>\n",
       "      <td>0.035112</td>\n",
       "      <td>0.057089</td>\n",
       "      <td>0.016458</td>\n",
       "      <td>0.008902</td>\n",
       "      <td>0.016579</td>\n",
       "      <td>0.003029</td>\n",
       "      <td>0.000782</td>\n",
       "      <td>128</td>\n",
       "    </tr>\n",
       "    <tr>\n",
       "      <th>1</th>\n",
       "      <td>0.008787</td>\n",
       "      <td>0.798180</td>\n",
       "      <td>0.003566</td>\n",
       "      <td>0.001295</td>\n",
       "      <td>0.002025</td>\n",
       "      <td>0.005141</td>\n",
       "      <td>0.000000</td>\n",
       "      <td>0.000876</td>\n",
       "      <td>0.012947</td>\n",
       "      <td>0.009802</td>\n",
       "      <td>0.002452</td>\n",
       "      <td>0.013642</td>\n",
       "      <td>0.001871</td>\n",
       "      <td>0.012599</td>\n",
       "      <td>0.003625</td>\n",
       "      <td>0.005036</td>\n",
       "      <td>0.020411</td>\n",
       "      <td>0.007934</td>\n",
       "      <td>0.016617</td>\n",
       "      <td>0.048113</td>\n",
       "      <td>0.002969</td>\n",
       "      <td>0.005313</td>\n",
       "      <td>0.015622</td>\n",
       "      <td>0.000079</td>\n",
       "      <td>0.001098</td>\n",
       "      <td>666</td>\n",
       "    </tr>\n",
       "    <tr>\n",
       "      <th>2</th>\n",
       "      <td>0.071695</td>\n",
       "      <td>0.156229</td>\n",
       "      <td>0.031038</td>\n",
       "      <td>0.017806</td>\n",
       "      <td>0.053584</td>\n",
       "      <td>0.024452</td>\n",
       "      <td>0.000000</td>\n",
       "      <td>0.000159</td>\n",
       "      <td>0.062513</td>\n",
       "      <td>0.019894</td>\n",
       "      <td>0.033523</td>\n",
       "      <td>0.051592</td>\n",
       "      <td>0.013977</td>\n",
       "      <td>0.044428</td>\n",
       "      <td>0.023866</td>\n",
       "      <td>0.017716</td>\n",
       "      <td>0.111868</td>\n",
       "      <td>0.084723</td>\n",
       "      <td>0.041172</td>\n",
       "      <td>0.060899</td>\n",
       "      <td>0.030911</td>\n",
       "      <td>0.021522</td>\n",
       "      <td>0.021555</td>\n",
       "      <td>0.004696</td>\n",
       "      <td>0.000179</td>\n",
       "      <td>270</td>\n",
       "    </tr>\n",
       "    <tr>\n",
       "      <th>3</th>\n",
       "      <td>0.059138</td>\n",
       "      <td>0.164656</td>\n",
       "      <td>0.027628</td>\n",
       "      <td>0.007659</td>\n",
       "      <td>0.017991</td>\n",
       "      <td>0.017535</td>\n",
       "      <td>0.000000</td>\n",
       "      <td>0.001043</td>\n",
       "      <td>0.030236</td>\n",
       "      <td>0.066017</td>\n",
       "      <td>0.003175</td>\n",
       "      <td>0.100404</td>\n",
       "      <td>0.015598</td>\n",
       "      <td>0.039220</td>\n",
       "      <td>0.007435</td>\n",
       "      <td>0.025647</td>\n",
       "      <td>0.058122</td>\n",
       "      <td>0.020233</td>\n",
       "      <td>0.064083</td>\n",
       "      <td>0.054036</td>\n",
       "      <td>0.011042</td>\n",
       "      <td>0.027951</td>\n",
       "      <td>0.113289</td>\n",
       "      <td>0.009222</td>\n",
       "      <td>0.058641</td>\n",
       "      <td>146</td>\n",
       "    </tr>\n",
       "    <tr>\n",
       "      <th>4</th>\n",
       "      <td>0.084607</td>\n",
       "      <td>0.211792</td>\n",
       "      <td>0.034466</td>\n",
       "      <td>0.005246</td>\n",
       "      <td>0.002872</td>\n",
       "      <td>0.007680</td>\n",
       "      <td>0.000000</td>\n",
       "      <td>0.000000</td>\n",
       "      <td>0.043311</td>\n",
       "      <td>0.053449</td>\n",
       "      <td>0.001725</td>\n",
       "      <td>0.074195</td>\n",
       "      <td>0.015889</td>\n",
       "      <td>0.051197</td>\n",
       "      <td>0.006971</td>\n",
       "      <td>0.037277</td>\n",
       "      <td>0.058898</td>\n",
       "      <td>0.023838</td>\n",
       "      <td>0.085821</td>\n",
       "      <td>0.062806</td>\n",
       "      <td>0.014777</td>\n",
       "      <td>0.032710</td>\n",
       "      <td>0.078393</td>\n",
       "      <td>0.012080</td>\n",
       "      <td>0.000000</td>\n",
       "      <td>342</td>\n",
       "    </tr>\n",
       "    <tr>\n",
       "      <th>5</th>\n",
       "      <td>0.078666</td>\n",
       "      <td>0.286613</td>\n",
       "      <td>0.018564</td>\n",
       "      <td>0.003075</td>\n",
       "      <td>0.010131</td>\n",
       "      <td>0.009335</td>\n",
       "      <td>0.000000</td>\n",
       "      <td>0.000000</td>\n",
       "      <td>0.081714</td>\n",
       "      <td>0.009395</td>\n",
       "      <td>0.011584</td>\n",
       "      <td>0.034136</td>\n",
       "      <td>0.007299</td>\n",
       "      <td>0.065337</td>\n",
       "      <td>0.005574</td>\n",
       "      <td>0.020175</td>\n",
       "      <td>0.186408</td>\n",
       "      <td>0.036725</td>\n",
       "      <td>0.018699</td>\n",
       "      <td>0.089354</td>\n",
       "      <td>0.009702</td>\n",
       "      <td>0.007141</td>\n",
       "      <td>0.009247</td>\n",
       "      <td>0.001127</td>\n",
       "      <td>0.000000</td>\n",
       "      <td>620</td>\n",
       "    </tr>\n",
       "    <tr>\n",
       "      <th>6</th>\n",
       "      <td>0.060206</td>\n",
       "      <td>0.110791</td>\n",
       "      <td>0.036131</td>\n",
       "      <td>0.015987</td>\n",
       "      <td>0.048187</td>\n",
       "      <td>0.040055</td>\n",
       "      <td>0.050133</td>\n",
       "      <td>0.003436</td>\n",
       "      <td>0.056327</td>\n",
       "      <td>0.026384</td>\n",
       "      <td>0.003598</td>\n",
       "      <td>0.061804</td>\n",
       "      <td>0.029740</td>\n",
       "      <td>0.035188</td>\n",
       "      <td>0.046961</td>\n",
       "      <td>0.018400</td>\n",
       "      <td>0.090917</td>\n",
       "      <td>0.024806</td>\n",
       "      <td>0.065371</td>\n",
       "      <td>0.045655</td>\n",
       "      <td>0.025755</td>\n",
       "      <td>0.024427</td>\n",
       "      <td>0.051383</td>\n",
       "      <td>0.020935</td>\n",
       "      <td>0.007425</td>\n",
       "      <td>38</td>\n",
       "    </tr>\n",
       "  </tbody>\n",
       "</table>\n",
       "</div>"
      ],
      "text/plain": [
       "              travel      auto  pantip_food  pantip_cartoon  \\\n",
       "segment_id                                                    \n",
       "0           0.054806  0.208757     0.022798        0.007727   \n",
       "1           0.008787  0.798180     0.003566        0.001295   \n",
       "2           0.071695  0.156229     0.031038        0.017806   \n",
       "3           0.059138  0.164656     0.027628        0.007659   \n",
       "4           0.084607  0.211792     0.034466        0.005246   \n",
       "5           0.078666  0.286613     0.018564        0.003075   \n",
       "6           0.060206  0.110791     0.036131        0.015987   \n",
       "\n",
       "            pantip_chalermthai  pantip_chalermkrung  pantip_korea  \\\n",
       "segment_id                                                          \n",
       "0                     0.017196             0.012271      0.000000   \n",
       "1                     0.002025             0.005141      0.000000   \n",
       "2                     0.053584             0.024452      0.000000   \n",
       "3                     0.017991             0.017535      0.000000   \n",
       "4                     0.002872             0.007680      0.000000   \n",
       "5                     0.010131             0.009335      0.000000   \n",
       "6                     0.048187             0.040055      0.050133   \n",
       "\n",
       "            pantip_gadget  pantip_siliconvalley  pantip_family  \\\n",
       "segment_id                                                       \n",
       "0                0.031729              0.106423       0.011093   \n",
       "1                0.000876              0.012947       0.009802   \n",
       "2                0.000159              0.062513       0.019894   \n",
       "3                0.001043              0.030236       0.066017   \n",
       "4                0.000000              0.043311       0.053449   \n",
       "5                0.000000              0.081714       0.009395   \n",
       "6                0.003436              0.056327       0.026384   \n",
       "\n",
       "            pantip_rajdumnern  pantip_social  pantip_klaibann  pantip_home  \\\n",
       "segment_id                                                                   \n",
       "0                    0.012717       0.028100         0.009711     0.083779   \n",
       "1                    0.002452       0.013642         0.001871     0.012599   \n",
       "2                    0.033523       0.051592         0.013977     0.044428   \n",
       "3                    0.003175       0.100404         0.015598     0.039220   \n",
       "4                    0.001725       0.074195         0.015889     0.051197   \n",
       "5                    0.011584       0.034136         0.007299     0.065337   \n",
       "6                    0.003598       0.061804         0.029740     0.035188   \n",
       "\n",
       "            pantip_tvshow  pantip_region  pantip_mbk  pantip_supachalasai  \\\n",
       "segment_id                                                                  \n",
       "0                0.006749       0.013686    0.188261             0.046246   \n",
       "1                0.003625       0.005036    0.020411             0.007934   \n",
       "2                0.023866       0.017716    0.111868             0.084723   \n",
       "3                0.007435       0.025647    0.058122             0.020233   \n",
       "4                0.006971       0.037277    0.058898             0.023838   \n",
       "5                0.005574       0.020175    0.186408             0.036725   \n",
       "6                0.046961       0.018400    0.090917             0.024806   \n",
       "\n",
       "            pantip_lumpini  pantip_sinthorn  pantip_wahkor  pantip_library  \\\n",
       "segment_id                                                                   \n",
       "0                 0.035112         0.057089       0.016458        0.008902   \n",
       "1                 0.016617         0.048113       0.002969        0.005313   \n",
       "2                 0.041172         0.060899       0.030911        0.021522   \n",
       "3                 0.064083         0.054036       0.011042        0.027951   \n",
       "4                 0.085821         0.062806       0.014777        0.032710   \n",
       "5                 0.018699         0.089354       0.009702        0.007141   \n",
       "6                 0.065371         0.045655       0.025755        0.024427   \n",
       "\n",
       "            pantip_siam  pantip_beauty  pantip_bangrak  total_user  \n",
       "segment_id                                                          \n",
       "0              0.016579       0.003029        0.000782         128  \n",
       "1              0.015622       0.000079        0.001098         666  \n",
       "2              0.021555       0.004696        0.000179         270  \n",
       "3              0.113289       0.009222        0.058641         146  \n",
       "4              0.078393       0.012080        0.000000         342  \n",
       "5              0.009247       0.001127        0.000000         620  \n",
       "6              0.051383       0.020935        0.007425          38  "
      ]
     },
     "execution_count": 33,
     "metadata": {},
     "output_type": "execute_result"
    }
   ],
   "source": [
    "df_segment"
   ]
  },
  {
   "cell_type": "code",
   "execution_count": 34,
   "metadata": {},
   "outputs": [],
   "source": [
    "segment_lst = df_segment.columns[:-1]\n",
    "\n",
    "# find top 3 traits for each segment\n",
    "seg_character = []\n",
    "for seg_id in df_segment.index:\n",
    "    seg_dict = dict()\n",
    "    top_3 = np.argsort(df_segment.loc[seg_id].values[:-1])[-3:]\n",
    "    for i in range(2, -1,-1):\n",
    "        seg_dict[segment_lst[top_3[i]]] = df_segment.loc[seg_id].values[top_3[i]]\n",
    "    seg_character.append(seg_dict)"
   ]
  },
  {
   "cell_type": "code",
   "execution_count": 41,
   "metadata": {
    "scrolled": false
   },
   "outputs": [
    {
     "data": {
      "image/png": "[encoded data removed]",
      "text/plain": [
       "<Figure size 432x288 with 1 Axes>"
      ]
     },
     "metadata": {
      "needs_background": "light"
     },
     "output_type": "display_data"
    },
    {
     "data": {
      "image/png": "[encoded data removed]",
      "text/plain": [
       "<Figure size 432x288 with 1 Axes>"
      ]
     },
     "metadata": {
      "needs_background": "light"
     },
     "output_type": "display_data"
    },
    {
     "data": {
      "image/png": "[encoded data removed]",
      "text/plain": [
       "<Figure size 432x288 with 1 Axes>"
      ]
     },
     "metadata": {
      "needs_background": "light"
     },
     "output_type": "display_data"
    },
    {
     "data": {
      "image/png": "[encoded data removed]",
      "text/plain": [
       "<Figure size 432x288 with 1 Axes>"
      ]
     },
     "metadata": {
      "needs_background": "light"
     },
     "output_type": "display_data"
    },
    {
     "data": {
      "image/png": "[encoded data removed]",
      "text/plain": [
       "<Figure size 432x288 with 1 Axes>"
      ]
     },
     "metadata": {
      "needs_background": "light"
     },
     "output_type": "display_data"
    },
    {
     "data": {
      "image/png": "[encoded data removed]",
      "text/plain": [
       "<Figure size 432x288 with 1 Axes>"
      ]
     },
     "metadata": {
      "needs_background": "light"
     },
     "output_type": "display_data"
    },
    {
     "data": {
      "image/png": "[encoded data removed]",
      "text/plain": [
       "<Figure size 432x288 with 1 Axes>"
      ]
     },
     "metadata": {
      "needs_background": "light"
     },
     "output_type": "display_data"
    }
   ],
   "source": [
    "# visualize segment character\n",
    "for i in range(7):\n",
    "    df_plot = pd.DataFrame({'key':list(seg_character[i].keys()),'percent(%)':list(seg_character[i].values())})\n",
    "    df_plot['percent(%)']=df_plot['percent(%)']*100\n",
    "    sns.barplot(x='key',y='percent(%)',data=df_plot,).set_title(f'segment {df_segment.index[i]}')\n",
    "    plt.show()\n",
    "    df_plot.to_json(f'../tmp/segment_{df_segment.index[i]}.json')"
   ]
  },
  {
   "cell_type": "code",
   "execution_count": 42,
   "metadata": {},
   "outputs": [
    {
     "data": {
      "image/png": "[encoded data removed]",
      "text/plain": [
       "<Figure size 432x288 with 1 Axes>"
      ]
     },
     "metadata": {
      "needs_background": "light"
     },
     "output_type": "display_data"
    }
   ],
   "source": [
    "squarify.plot(sizes=df_user_segment_filt.segment_id.value_counts().values, label=df_user_segment_filt.segment_id.value_counts().index, alpha=.8 )\n",
    "_=plt.axis('off')"
   ]
  },
  {
   "cell_type": "code",
   "execution_count": 43,
   "metadata": {},
   "outputs": [],
   "source": [
    "segment_pop = df_user_segment_filt.segment_id.value_counts().reset_index()\n",
    "segment_pop.columns = ['segment_id','population']\n",
    "segment_pop.to_json('../tmp/segment_pop.json')"
   ]
  },
  {
   "cell_type": "code",
   "execution_count": null,
   "metadata": {},
   "outputs": [],
   "source": []
  }
 ],
 "metadata": {
  "kernelspec": {
   "display_name": "Python 3",
   "language": "python",
   "name": "python3"
  },
  "language_info": {
   "codemirror_mode": {
    "name": "ipython",
    "version": 3
   },
   "file_extension": ".py",
   "mimetype": "text/x-python",
   "name": "python",
   "nbconvert_exporter": "python",
   "pygments_lexer": "ipython3",
   "version": "3.7.3"
  },
  "toc": {
   "base_numbering": 1,
   "nav_menu": {},
   "number_sections": true,
   "sideBar": true,
   "skip_h1_title": false,
   "title_cell": "Table of Contents",
   "title_sidebar": "Contents",
   "toc_cell": false,
   "toc_position": {},
   "toc_section_display": true,
   "toc_window_display": false
  }
 },
 "nbformat": 4,
 "nbformat_minor": 2
}
