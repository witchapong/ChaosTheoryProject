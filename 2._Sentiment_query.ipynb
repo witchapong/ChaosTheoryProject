{
 "cells": [
  {
   "cell_type": "markdown",
   "metadata": {},
   "source": [
    "## Import libs and data"
   ]
  },
  {
   "cell_type": "code",
   "execution_count": 1,
   "metadata": {},
   "outputs": [],
   "source": [
    "import pandas as pd\n",
    "import re\n",
    "pd.options.display.max_columns = 999\n",
    "pd.options.display.max_rows = 999\n",
    "import numpy as np\n",
    "import matplotlib.pyplot as plt\n",
    "%matplotlib inline\n",
    "from tqdm import tqdm\n",
    "tqdm.pandas()\n",
    "import pickle\n",
    "import datetime"
   ]
  },
  {
   "cell_type": "code",
   "execution_count": 2,
   "metadata": {},
   "outputs": [
    {
     "name": "stderr",
     "output_type": "stream",
     "text": [
      "/opt/anaconda3/lib/python3.7/site-packages/IPython/core/interactiveshell.py:3020: DtypeWarning: Columns (1) have mixed types. Specify dtype option on import or set low_memory=False.\n",
      "  interactivity=interactivity, compiler=compiler, result=result)\n"
     ]
    }
   ],
   "source": [
    "df_post = pd.read_csv('../out/df_post.csv')"
   ]
  },
  {
   "cell_type": "code",
   "execution_count": 3,
   "metadata": {},
   "outputs": [],
   "source": [
    "with open('../out/tokens_post.txt', 'rb') as fp:   #Pickling\n",
    "    tokens_post = pickle.load(fp)"
   ]
  },
  {
   "cell_type": "code",
   "execution_count": 4,
   "metadata": {},
   "outputs": [
    {
     "data": {
      "text/plain": [
       "(417279, 417279)"
      ]
     },
     "execution_count": 4,
     "metadata": {},
     "output_type": "execute_result"
    }
   ],
   "source": [
    "len(tokens_post), len(df_post)"
   ]
  },
  {
   "cell_type": "markdown",
   "metadata": {},
   "source": [
    "## Calculate sentiment score and clean"
   ]
  },
  {
   "cell_type": "code",
   "execution_count": 5,
   "metadata": {},
   "outputs": [],
   "source": [
    "df_post['sentiment'] = df_post.sent_score.apply(lambda x:'positive' if x>0 else 'negative' if x<0 else 'neutral')"
   ]
  },
  {
   "cell_type": "code",
   "execution_count": 6,
   "metadata": {},
   "outputs": [],
   "source": [
    "index_drp = df_post.loc[df_post.post_date.isna()].index.values\n",
    "\n",
    "# drop original topic from top_df\n",
    "df_post.drop(index_drp,inplace=True)\n",
    "\n",
    "# drop from input list\n",
    "for index in sorted(index_drp, reverse=True):\n",
    "    del tokens_post[index]"
   ]
  },
  {
   "cell_type": "code",
   "execution_count": 7,
   "metadata": {},
   "outputs": [
    {
     "data": {
      "text/plain": [
       "(417279, 417279)"
      ]
     },
     "execution_count": 7,
     "metadata": {},
     "output_type": "execute_result"
    }
   ],
   "source": [
    "len(tokens_post), len(df_post)"
   ]
  },
  {
   "cell_type": "code",
   "execution_count": 8,
   "metadata": {},
   "outputs": [
    {
     "data": {
      "text/html": [
       "<div>\n",
       "<style scoped>\n",
       "    .dataframe tbody tr th:only-of-type {\n",
       "        vertical-align: middle;\n",
       "    }\n",
       "\n",
       "    .dataframe tbody tr th {\n",
       "        vertical-align: top;\n",
       "    }\n",
       "\n",
       "    .dataframe thead th {\n",
       "        text-align: right;\n",
       "    }\n",
       "</style>\n",
       "<table border=\"1\" class=\"dataframe\">\n",
       "  <thead>\n",
       "    <tr style=\"text-align: right;\">\n",
       "      <th></th>\n",
       "      <th>category</th>\n",
       "      <th>content_id</th>\n",
       "      <th>user_id</th>\n",
       "      <th>title</th>\n",
       "      <th>tags</th>\n",
       "      <th>post_date</th>\n",
       "      <th>last_update</th>\n",
       "      <th>content</th>\n",
       "      <th>title-content</th>\n",
       "      <th>title_content_clean</th>\n",
       "      <th>pos_score</th>\n",
       "      <th>neg_score</th>\n",
       "      <th>sent_score</th>\n",
       "      <th>sentiment</th>\n",
       "    </tr>\n",
       "  </thead>\n",
       "  <tbody>\n",
       "    <tr>\n",
       "      <th>0</th>\n",
       "      <td>auto</td>\n",
       "      <td>38339573</td>\n",
       "      <td>3300767.0</td>\n",
       "      <td>Scoopi I  วิ่งอยู่ดีๆเกิดสำลัก สะดุด แล้วดับกล...</td>\n",
       "      <td>มอเตอร์ไซค์,Honda Scoopy i,Honda (มอเตอร์ไซค์)</td>\n",
       "      <td>2018-12-06 21:33:54</td>\n",
       "      <td>0000-00-00 00:00:00</td>\n",
       "      <td>Scoopi I   วิ่งอยู่ดีๆเกิดสำลัก สะดุด แล้วดับก...</td>\n",
       "      <td>Scoopi I  วิ่งอยู่ดีๆเกิดสำลัก สะดุด แล้วดับกล...</td>\n",
       "      <td>ScoopiIวิ่งอยู่ดีๆเกิดสำลักสะดุดแล้วดับกลางอาก...</td>\n",
       "      <td>1</td>\n",
       "      <td>2</td>\n",
       "      <td>-1</td>\n",
       "      <td>negative</td>\n",
       "    </tr>\n",
       "    <tr>\n",
       "      <th>1</th>\n",
       "      <td>auto</td>\n",
       "      <td>38339569</td>\n",
       "      <td>4918714.0</td>\n",
       "      <td>ทำไมรถFormula 1 เครื่องยนต์1.6ลิตร แต่แรงม้า70...</td>\n",
       "      <td>ไซเบอร์ฟอร์มูล่า,Formula 1,รถยนต์ไฮบริด,Super ...</td>\n",
       "      <td>2018-12-06 21:32:58</td>\n",
       "      <td>0000-00-00 00:00:00</td>\n",
       "      <td>1.6L คือ 1600 CC หรือป่าวถ้าเข้าใจผิดขออภัย แต...</td>\n",
       "      <td>ทำไมรถFormula 1 เครื่องยนต์1.6ลิตร แต่แรงม้า70...</td>\n",
       "      <td>ทำไมรถFormulanumberเครื่องยนต์timeลิตรแต่แรงม้...</td>\n",
       "      <td>0</td>\n",
       "      <td>0</td>\n",
       "      <td>0</td>\n",
       "      <td>neutral</td>\n",
       "    </tr>\n",
       "    <tr>\n",
       "      <th>2</th>\n",
       "      <td>auto</td>\n",
       "      <td>38339500</td>\n",
       "      <td>885135.0</td>\n",
       "      <td>จะซื้อรถใหม่ ขอคำแนะนำครับ</td>\n",
       "      <td>รถยนต์,ดูแลรักษารถยนต์,Toyota Yaris,Mazda 2 Sp...</td>\n",
       "      <td>2018-12-06 21:13:34</td>\n",
       "      <td>0000-00-00 00:00:00</td>\n",
       "      <td>ระหว่าง มาสด้า hi connect  620000กับ ยาริส  ตั...</td>\n",
       "      <td>จะซื้อรถใหม่ ขอคำแนะนำครับ ระหว่าง มาสด้า hi c...</td>\n",
       "      <td>จะซื้อรถใหม่ขอคำแนะนำครับระหว่างมาสด้าhiconnec...</td>\n",
       "      <td>1</td>\n",
       "      <td>0</td>\n",
       "      <td>1</td>\n",
       "      <td>positive</td>\n",
       "    </tr>\n",
       "    <tr>\n",
       "      <th>3</th>\n",
       "      <td>auto</td>\n",
       "      <td>38339462</td>\n",
       "      <td>4890089.0</td>\n",
       "      <td>งง กับ Filano hybrid</td>\n",
       "      <td>Yamaha,มอเตอร์ไซค์</td>\n",
       "      <td>2018-12-06 21:05:53</td>\n",
       "      <td>0000-00-00 00:00:00</td>\n",
       "      <td>คือว่าเรากำลังจะซื้อ Filano hybrid ตัวtop ที่เ...</td>\n",
       "      <td>งง กับ Filano hybrid คือว่าเรากำลังจะซื้อ Fila...</td>\n",
       "      <td>งงกับFilanohybridคือว่าเรากำลังจะซื้อFilanohyb...</td>\n",
       "      <td>0</td>\n",
       "      <td>2</td>\n",
       "      <td>-2</td>\n",
       "      <td>negative</td>\n",
       "    </tr>\n",
       "    <tr>\n",
       "      <th>4</th>\n",
       "      <td>auto</td>\n",
       "      <td>38339443</td>\n",
       "      <td>531171.0</td>\n",
       "      <td>บัตรมอเตอร์ expo เป็นบัตรฟรีหรือต้องเสียตังค์ครับ</td>\n",
       "      <td>รถยนต์</td>\n",
       "      <td>2018-12-06 21:02:19</td>\n",
       "      <td>0000-00-00 00:00:00</td>\n",
       "      <td>NaN</td>\n",
       "      <td>บัตรมอเตอร์ expo เป็นบัตรฟรีหรือต้องเสียตังค์ค...</td>\n",
       "      <td>บัตรมอเตอร์expoเป็นบัตรฟรีหรือต้องเสียตังค์ครับ</td>\n",
       "      <td>1</td>\n",
       "      <td>0</td>\n",
       "      <td>1</td>\n",
       "      <td>positive</td>\n",
       "    </tr>\n",
       "  </tbody>\n",
       "</table>\n",
       "</div>"
      ],
      "text/plain": [
       "  category content_id    user_id  \\\n",
       "0     auto   38339573  3300767.0   \n",
       "1     auto   38339569  4918714.0   \n",
       "2     auto   38339500   885135.0   \n",
       "3     auto   38339462  4890089.0   \n",
       "4     auto   38339443   531171.0   \n",
       "\n",
       "                                               title  \\\n",
       "0  Scoopi I  วิ่งอยู่ดีๆเกิดสำลัก สะดุด แล้วดับกล...   \n",
       "1  ทำไมรถFormula 1 เครื่องยนต์1.6ลิตร แต่แรงม้า70...   \n",
       "2                         จะซื้อรถใหม่ ขอคำแนะนำครับ   \n",
       "3                               งง กับ Filano hybrid   \n",
       "4  บัตรมอเตอร์ expo เป็นบัตรฟรีหรือต้องเสียตังค์ครับ   \n",
       "\n",
       "                                                tags            post_date  \\\n",
       "0     มอเตอร์ไซค์,Honda Scoopy i,Honda (มอเตอร์ไซค์)  2018-12-06 21:33:54   \n",
       "1  ไซเบอร์ฟอร์มูล่า,Formula 1,รถยนต์ไฮบริด,Super ...  2018-12-06 21:32:58   \n",
       "2  รถยนต์,ดูแลรักษารถยนต์,Toyota Yaris,Mazda 2 Sp...  2018-12-06 21:13:34   \n",
       "3                                 Yamaha,มอเตอร์ไซค์  2018-12-06 21:05:53   \n",
       "4                                             รถยนต์  2018-12-06 21:02:19   \n",
       "\n",
       "           last_update                                            content  \\\n",
       "0  0000-00-00 00:00:00  Scoopi I   วิ่งอยู่ดีๆเกิดสำลัก สะดุด แล้วดับก...   \n",
       "1  0000-00-00 00:00:00  1.6L คือ 1600 CC หรือป่าวถ้าเข้าใจผิดขออภัย แต...   \n",
       "2  0000-00-00 00:00:00  ระหว่าง มาสด้า hi connect  620000กับ ยาริส  ตั...   \n",
       "3  0000-00-00 00:00:00  คือว่าเรากำลังจะซื้อ Filano hybrid ตัวtop ที่เ...   \n",
       "4  0000-00-00 00:00:00                                                NaN   \n",
       "\n",
       "                                       title-content  \\\n",
       "0  Scoopi I  วิ่งอยู่ดีๆเกิดสำลัก สะดุด แล้วดับกล...   \n",
       "1  ทำไมรถFormula 1 เครื่องยนต์1.6ลิตร แต่แรงม้า70...   \n",
       "2  จะซื้อรถใหม่ ขอคำแนะนำครับ ระหว่าง มาสด้า hi c...   \n",
       "3  งง กับ Filano hybrid คือว่าเรากำลังจะซื้อ Fila...   \n",
       "4  บัตรมอเตอร์ expo เป็นบัตรฟรีหรือต้องเสียตังค์ค...   \n",
       "\n",
       "                                 title_content_clean  pos_score  neg_score  \\\n",
       "0  ScoopiIวิ่งอยู่ดีๆเกิดสำลักสะดุดแล้วดับกลางอาก...          1          2   \n",
       "1  ทำไมรถFormulanumberเครื่องยนต์timeลิตรแต่แรงม้...          0          0   \n",
       "2  จะซื้อรถใหม่ขอคำแนะนำครับระหว่างมาสด้าhiconnec...          1          0   \n",
       "3  งงกับFilanohybridคือว่าเรากำลังจะซื้อFilanohyb...          0          2   \n",
       "4    บัตรมอเตอร์expoเป็นบัตรฟรีหรือต้องเสียตังค์ครับ          1          0   \n",
       "\n",
       "   sent_score sentiment  \n",
       "0          -1  negative  \n",
       "1           0   neutral  \n",
       "2           1  positive  \n",
       "3          -2  negative  \n",
       "4           1  positive  "
      ]
     },
     "execution_count": 8,
     "metadata": {},
     "output_type": "execute_result"
    }
   ],
   "source": [
    "df_post.head()"
   ]
  },
  {
   "cell_type": "code",
   "execution_count": 9,
   "metadata": {},
   "outputs": [
    {
     "name": "stdout",
     "output_type": "stream",
     "text": [
      "417279 417279\n",
      "417092 417092\n"
     ]
    }
   ],
   "source": [
    "print(len(tokens_post), len(df_post))\n",
    "index_drp = df_post.loc[df_post.post_date.apply(len)!=19].index.values\n",
    "\n",
    "# drop original topic from top_df\n",
    "df_post.drop(index_drp,inplace=True)\n",
    "\n",
    "# drop from input list\n",
    "for index in sorted(index_drp, reverse=True):\n",
    "    del tokens_post[index]\n",
    "    \n",
    "print(len(tokens_post), len(df_post))"
   ]
  },
  {
   "cell_type": "code",
   "execution_count": 10,
   "metadata": {},
   "outputs": [],
   "source": [
    "df_post['post_date'] = pd.to_datetime(df_post['post_date'],errors='coerce')"
   ]
  },
  {
   "cell_type": "code",
   "execution_count": 11,
   "metadata": {},
   "outputs": [
    {
     "name": "stdout",
     "output_type": "stream",
     "text": [
      "417092 417092\n",
      "417086 417086\n"
     ]
    }
   ],
   "source": [
    "print(len(tokens_post), len(df_post))\n",
    "index_drp = df_post.loc[df_post.post_date.isna()].index.values\n",
    "\n",
    "# drop original topic from top_df\n",
    "df_post.drop(index_drp,inplace=True)\n",
    "\n",
    "# drop from input list\n",
    "for index in sorted(index_drp, reverse=True):\n",
    "    del tokens_post[index]\n",
    "    \n",
    "print(len(tokens_post), len(df_post))"
   ]
  },
  {
   "cell_type": "code",
   "execution_count": 12,
   "metadata": {},
   "outputs": [
    {
     "data": {
      "text/plain": [
       "count                  417086\n",
       "unique                 416447\n",
       "top       2017-06-26 14:49:07\n",
       "freq                        4\n",
       "first     2012-12-15 13:58:40\n",
       "last      2018-12-11 00:08:14\n",
       "Name: post_date, dtype: object"
      ]
     },
     "execution_count": 12,
     "metadata": {},
     "output_type": "execute_result"
    }
   ],
   "source": [
    "df_post.post_date.describe()"
   ]
  },
  {
   "cell_type": "markdown",
   "metadata": {},
   "source": [
    "## Input to program\n",
    "1) Key words<br>\n",
    "2) As of date<br>\n",
    "3) Window length<br>"
   ]
  },
  {
   "cell_type": "code",
   "execution_count": 13,
   "metadata": {},
   "outputs": [],
   "source": [
    "# IDEA: -> add useful statistic like lift for keywords co-occurence\n",
    "# analyse keyword x tags\n",
    "# use word vector to explore neighbor words"
   ]
  },
  {
   "cell_type": "code",
   "execution_count": 15,
   "metadata": {
    "scrolled": false
   },
   "outputs": [
    {
     "name": "stdout",
     "output_type": "stream",
     "text": [
      "Total posts: 659\n",
      "Total mentions: 62 \n",
      "\n"
     ]
    },
    {
     "name": "stderr",
     "output_type": "stream",
     "text": [
      "/opt/anaconda3/lib/python3.7/site-packages/ipykernel_launcher.py:16: FutureWarning: Comparing Series of datetimes with 'datetime.date'.  Currently, the\n",
      "'datetime.date' is coerced to a datetime. In the future pandas will\n",
      "not coerce, and a TypeError will be raised. To retain the current\n",
      "behavior, convert the 'datetime.date' to a datetime with\n",
      "'pd.Timestamp'.\n",
      "  app.launch_new_instance()\n"
     ]
    },
    {
     "data": {
      "image/png": "[encoded data removed]",
      "text/plain": [
       "<Figure size 432x288 with 1 Axes>"
      ]
     },
     "metadata": {
      "needs_background": "light"
     },
     "output_type": "display_data"
    },
    {
     "data": {
      "image/png": "[encoded data removed]",
      "text/plain": [
       "<Figure size 432x288 with 1 Axes>"
      ]
     },
     "metadata": {
      "needs_background": "light"
     },
     "output_type": "display_data"
    },
    {
     "name": "stdout",
     "output_type": "stream",
     "text": [
      "sentiment score:16\n",
      "Nsr150R (2532) ตาเหลียมกับการ All New Sticker ของทาง Honda Nsr150R (2532) ตาเหลียมกับการ All New Sticker ของทาง Hondaที่มา2tspecมาช้าแต่มานะ !!! สำหรับค่ายคนดี โดยหลังจากปล่อยให้คู่แข่งอย่าง Suzuki RGV-S และ Yamaha VR150 ทำตลาดรถจักรยานยนต์สปอรต์ขนาด 150cc ไปก่อนหน้านี้ บวกกับทิศทางตลาดที่รถทรงผู้ชายอย่างเจ้า Honda Fighter 135 ไม่สดใสเหมือนแต่ก่อน รวมไปถึงไม่อาจสามารถต่อกรกับ 150cc อีกสองค่ายได้แล้ว ทำให้การมาในครั้งนี้ของ Honda บอกเลยว่าเจ้า NSR150R ไม่ธรรมดาสำหรับความคิดของส่วนตัวของผู้เขียนหลังจากศึกษาข้อมูลของ RGV-S (รุ่นแรก 2528) และ VR150 (รุ่นแรก 2530) ผู้เขียนสามารถบอกได้เลยว่าทาง Honda มีตั้งใจเป็นอย่างมากในการสร้างสรรค์ Nsr150Rที่มา2tspecหากจะไล่เรียงหาถึงจุดถือกำเนิดของต้นตระกูล NSR ต้องย้อนวันเวลากลับไปในวันที่ 25 พฤษภาคม 2527 (1984) ทางค่าย Honda ได้ทำการเปิดตัวตัวรถจักรยานยนต์สปอร์ตที่มีประสิทธิภาพสูงมีรหัสว่า NS250F และ NS250R โดย NS250F/R ได้กลายเป็นต้นตระกูล NSR ขนาดความจุ 250cc รุ่นแรก ก่อนจะถูกพัฒนาต่อไปจนเป็น NSR250R (Mc16) ปี 1987NS250F และ NS250R เป็นการนำเอาเทคโนโลยีที่มีความซับซ้อนจาก Honda NS500 มาพัฒนา สำหรับ Honda NS500 มีดีกีเป็นรถแชมป์ MotoGp ในปี 1983สำหรับประเทศไทยทาง Honda ได้ทำการเปิดตัว Nsr150R ขึ้นเป็นครั้งแรกปีพ.ศ 2532 (1989) และจัดจำหน่ายอย่างเป็นทางการเมื่อวันที่ 14 กุมภาพันธ์ 2532 ซึ่งถือได้ว่าทาง Honda ได้ก้าวเข้าสู่ตลาดของรถจักรยานยนต์ 150cc โดยตามหลังค่ายเพื่อนร่วมชาติอย่าง Suzuki และ Yamaha หรืออาจจะเป็นเพียงกลยุทธ์ทางการตลาดของทางค่าย Hondaที่ปล่อยให้ค่ายอื่นๆทดลองตลาดรถใหม่ๆเสียก่อนNsr150R ถูกถอดแบบมาจาก NSR 250R ซึ่งทาง NSR 250R ก็ถูกทาง Honda ถอดแบบมาจาก NSR500 เหมือนกัน ทั้งนี้สามารถพูดได้ว่าทาง Honda ทำการย่อขนาดเจ้า NSR500 ให้เป็น NSR250R และสุดท้ายย่อจนเป็น Nsr150RNsr150R มาพร้อมกับเครื่องยนต์ที่มีขนาดความจุ 150cc ระบายความร้อนด้วยน้ำ ในส่วนของระบบไอดีมากับระบบแคร๊งค์เคสรีดวาว์ลซึ่งทำงานรวมกับ RcValve (Revolutionart Controlled Exhaust Valvesystem) ถ้าเรียกเป็นภาษาไทยคือ “ระบบควบคุมไอเสียตามรอบเครื่องด้วยระบบคอมพิวเตอร์” เพิ่มเติมด้วยกล่องเก็บไอดี (ปอด) อีกทั้ง Nsr150R ได้ใช้รีดวาว์ล 6 ใบทำจากเรซิ่น โดยจุดเด่นของรีดวาว์ลเรซิ่นคือการสั่นสะเทือนของแผ่นรีดน้อยกว่าแผ่นรีดแบบคาร์บอน ถึงแม้จะอยู่ในรอบเครื่องสูงก็ตาม อีกทั้งการจัดวางรีดวาว์ลยังอยู่ในแนวตั้งเพื่อที่จะได้พื้นที่มากขึ้นในห้องแครงค์ สำหรับให้พื้นที่ของพอร์ทไอดีวาว์ลมีมากขึ้น ซึ่งเทคโนโลยีทั้งหมดเป็นถูกพัฒนามาจากทีมแข่งรถของ Honda ที่มีชื่อว่า HRCสำหรับการทำงานของ Rc Valve โดยวาว์ลจะถูกติดตั้งอยู่ตรงต่ำแหน่งพอร์ทไอเสีย ซึ่งทำให้สามารถปรับเปลี่ยนตำแหน่งขึ้นลงของพอร์ทไอดีได้ตามรอบเครื่องยนต์ ซึ่งการควบคุมทั้งหมดถูกสั่งการมาจากระบบไมโครคอมพิวเตอร์ที่มา2tspecชุดแฟริ่งทาง Honda ได้จัดเต็มด้วยถอดแบบจากรถแข่ง ทำให้มีความถูกต้องทางแอโรไดนามิก ซึ่งทาง Honda ได้เครมว่ามีค่าต้านลมอยู่ที่ 0.00145 ซึ่งมีค่าน้อยสุดในบรรดาคู่แข่ง 150 cc และชุดแฟริ่งยังสามารถระบายความร้อนได้เป็นอย่างดี อีกทั้งสามารถถอดชุดฟูลแฟริ่งให้กลายเป็นฮาร์ฟแฟริ่งได้ สำหรับในส่วนของหน้ากากNsr150R ได้ถูกออกแบบให้สร้างไฟหน้าและไฟเลี้ยวติดอยู่ในหน้ากากเพื่อให้มีค่าต้านลมน้อยที่สุดที่มา2tspecในส่วนของถังน้ำมันทาง Honda ออกแบบให้มีขนาดที่เหมาะสมกับช่วงขาหนีบ ส่งผลให้ผู้ขับขี่เกิดความกระชับ คล่องตัวในการขับขี่ นอกจากนี้ยังใส่ใจรายละเอียดเล็กๆน้อยๆของฝาถังน้ำมัน โดยการออกแบบของฝาถังน้ำมันมีความแบนราบกับตัวถังน้ำมัน เพื่อให้ผู้ขับขี่ได้หมอบโดยที่ฝาถังน้ำมันไม่กระทบกับอกให้เจ็บเฟรมเหลี่ยมคู่ (Twin tube frame) ถูกพัฒนามาจาก Nsr250R สู่ Nsr150R โดยเฟรมมีรูปร่างเป็นสีเหลี่ยมพื้นผ้าหนา ซึ่งมีคุณสมบัติตรงความแข็งแกร่งและแข็งแรงเป็นอย่างมาก สำหรับตัวเฟรมก็ถูกออกแบบโดยทีมแข่ง HRC ของทาง Honda เช่นกันระบบกันสะเทือนในส่วนหน้าเป็น Telescopic แกนโช๊คขนาด 31 มม. สำหรับในส่วนระบบกันสะเทือนหลังเป็น Mono Shock มาพร้อมกับสวิงอาร์มสี่เหลียมผืนผ้าที่มีความหนา ทำให้สามารถทนต่อแรงบิดได้เป็นอย่างดีระบบเบรกทาง Honda ให้จานดิสก์เบรกหน้ามีขนาด 276 มม. และจานดิสก์หลัง 200 มม. ทั้งคู่มาพร้อมกับปั้มเบรก 2 ลูกสูบ ซึ่งขนาดของปั้มเบรกหน้าและหลังมีขนาดเท่ากันเพื่อการซ่อมบำรุงที่ง่ายดายสิ่งแต่หน้าแปลกใจสำหรับ Nsr150R คือการไม่มีสวิตซ์ off run มาให้ ซึ่งในส่วนของคู่แข่งค่ายอื่นๆ ล้วนแต่มีสวิตซ์ off run มาให้ แต่เมื่อวิเคราะห์หาเหตุผลอาจจะได้คำตอบว่าทาง Honda พยายามควบคุมราคาของ Nsr150R ไม่ให้มีราคาที่แรงไปกว่าคู่แข่งมากนัก สำหรับราคา Nsr150r มีราคาอยู่ที่ 52,000 – 59,000 บาท ซึ่งขึ้นอยู่กับพื้นที่จัดจำหน่ายที่มา2tspec---------------------หลังจาก Honda นำพาเจ้า Nsr150r รุ่นแรกเข้าสู่ตลาดในปี 2532 ก็ใช้ระยะเวลาเพียง 2 ปีในการออก New Nsr150R (2534) สำหรับ Nsr150R (รุ่น 2) ในเวอร์ชั่นนี้เป็นเพียงปรับเปลี่ยนไปแค่สติกเกอร์เท่านั้น ภาษาชาวบ้านเรียก All New Sticker สำหรับเครื่องยนต์ตามข้อมูลเทคนิคไม่พบการเปลี่ยนแปลงใดๆทั้งสิ้นในปี 2535 (1992) ทาง Honda ก็ปล่อย Nsr150r (รุ่น 3) ซึ่ง All New Sticker เหมือนรุ่นที่ 2***หากใครใจดีมีโบรชัวร์อยู่ สามารถถ่ายรูปมาแบ่งปันได้นะครับในปี 2536 (1993) ทาง Honda ก็ปล่อย Nsr150r (รุ่น 4) ซึ่ง All New Sticker เหมือนรุ่นที่ 3***หากใครใจดีมีโบรชัวร์อยู่ สามารถถ่ายรูปมาแบ่งปันได้นะครับในปี 2537 (1994) ทาง Honda ก็ปล่อย Nsr150r (รุ่น 5) ซึ่ง All New Sticker เหมือนรุ่นที่ 4 ซึ่งทาง Honda ไม่ได้เปลี่ยนแปลงเครื่องยนต์ใดๆ ทั้งสิ้น***หากใครใจดีมีโบรชัวร์อยู่ สามารถถ่ายรูปมาแบ่งปันได้นะครับรุ่นสุดท้าย รุ่นเบียร์ช้าง 2538 (1995) สำหรับในรุ่นนี้ ทาง Honda มีการเปลี่ยนแปลงในส่วนของ-โครงรถ สวิงอาร์ม สีเทา-เปลี่ยนพื้นหลังเรือนไมล์-ใช้กันตกใหญ่ของ RR-จุดยึดกันตกถูกเสริมขึ้นมาเพื่อยึดกันตกใหญ่-โช๊คหน้าสีเงิน-แผงคอสีเงิน-เบรคหน้าหลังสีเงิน***หากใครใจดีมีโบรชัวร์อยู่ สามารถถ่ายรูปมาแบ่งปันได้นะครับสรุปสำหรับเจ้า Nsr150R มีระยะโมเดลตั้งแต่ 2532-2538 ซึ่งในระยะเวลา 6 ปีที่ผ่านมาของ Nsr150R ทาง Honda ไม่ได้ทำการปรับปรุงแก้ไขเกี่ยวกับตัวรถหรือกับเครื่องยนต์ใดๆเลย โดยการเปลี่ยนแปลงที่เกิดขึ้นทั้งหมดคือสติ๊กเกอร์เท่านั้น แต่สำหรับรุ่นเบียร์ช้าง (2538) เป็นรุ่นที่มีการเปลี่ยนแปลงมากกว่าสติ๊กเกอร์--------------------------------------------***ที่มาของข้อมูลhttps://www.2strokeclub.com/smf/index.php?topic=70201.0https://www.facebook.com/groups/2tspec/-------------------------------------------ขอฝากเพจหน่อยครับSpoil คลิกเพื่อดูข้อความที่ซ่อนไว้https://www.facebook.com/ต้นรถเป็นอะไรอะ-451481885345798/\n",
      "\n",
      "sentiment score:15\n",
      "Suzuki RGV-S จุดเริ่มต้นรถสปอร์ต 150 cc ในประเทศไทย หากเมื่อย้อนเวลากลับไปช่วงพ.ศ. 2528 (ค.ศ.1985) เป็นช่วงเวลาที่ค่ายรถจักรยานยนต์ซูซูกิได้ก้าวย่างเข้าสู่รถสปอร์ตขนาด 150cc โดยมีชื่อรุ่นว่า RGV-S หรืออีกชื่อที่รู้จักกันในนาม “จรวดทางเรียบ” ซึ่งสมญานามจรวดทางเรียบอาจเป็นการได้รับอิทธิพลจากการที่นาซ่าได้ปล่อยกระสวยอวกาศแอตแลนติสขึ้นเป็นครั้งแรกในวันที่ 3 ตุลาคม 2528 นอกจากนี้ถือว่าเป็นจุดกำเนิดหรือเริ่มต้นของการต่อสู้กันของรถมอไซค์สปอต์ที่มีความจุ 150cc ยี่ห้อต่างๆ ในประเทศไทยจวรดทางเรียบ หรือ RGV เป็นชื่อเรียกที่ติดปากสำหรับรถจักรยานยนต์รุ่นนี้ นอกจากนี้ยังมีอีกชื่อที่ถูกกล่าวขานคือ “กิ๊กโก๋โลเดียว” สำหรับผู้เขียนเห็นด้วยในชื่อเรียกนี้ด้วยลักษณะของรถที่มีทรวดทรงเล็กปราดเปรียวหากเปรียบเทียบกับ 150cc รุ่นอื่นๆ อีกทั้งเครื่องยนต์ไม่มีระบบวาวล์ร่วมไปถึงไม่มีกล่องไฟทำให้ไม่ต้องรอรอบเครื่องหรือกล่องตัด ทำให้การออกตัวจากความเร็วที่ 0 กิโลเมตรเป็นไปอย่างรวดเร็ว เรียกง่ายๆว่า ต้นจัด ซึ่งลักษณะนี้เองเลยทำให้ถูกเรียกว่าจิกโก๋โลเดียวหากมาไล่เรียงช่วงปีที่ออกจำหน่ายพบว่า RGV ไม่มีได้มีคู่แข่งที่สามารถต่อกรความเร็วแรงได้จริงๆ เนื่องจากมีเครื่องยนต์ขนาด 150cc ซึ่งมีขนาดใหญ่กว่าคู่แข่งค่ายอื่น ๆ ในช่วงเวลานั้น ทำให้สามารถพูดได้เต็มปากว่าเจ้า RGV ออกมาเพื่อฆ่ารถทรงผู้ชายไม่ว่าจะเป็น Honda Fighter 135, Kawasaki Ar125 และYamaha Rxs 115 โดยเป็นรถคู่แข่งในเวลานั้น นอกจากนี้เมื่อเปรียบเทียบรูปทรงของรถที่กล่าวมาจะพบว่าจะมีรูปทรงที่ออกไปในทิศทางคล้ายๆอีกด้วยที่มาของรูปเพจ 2t specVR150> RGV-S > Ar125 > Fighter 135เมื่อซูซูกิได้ก้าวเข้าสู่รถสปอร์ตขนาด 150cc ดังนั้นหัวใจสำคัญคือเครื่องยนต์ โดยเครื่องยนต์ RGV เป็นเครื่องยนต์สูบเดียว 2 จังหวะ ระบายความร้อนของเครื่องยนต์ด้วยอากาศ (หม้อลม) และขนาดของเครื่องยนต์มีความจุของกระบอกสูบอยู่ที่ 147cc สามารถทำแรงม้าสูงสุดที่ 26.5 แรงม้าต่อรอบเครื่องยนต์ 9,500 และมีแรงบิดสูงสุดที่ 20.594 นิวตันเมตร (2.1 กก.-ม) ต่อรอบเครื่อง 8,000 รอบ/นาที นอกจากนี้ยังมาพร้อมกับเทคโนโลยีที่มีชื่อว่า Suzuki Super Scavenging System ย่อว่า (SSS) ซึ่งเทคโนโลยีนี้คือ “ระบบส่งถ่ายไอดี”ตัวอย่างลักษณะการทำงานของระบบ Suzuki Super Scavenging System  (SSS)https://www.youtube.com/watch?v=z6KCevf0pq4ระบบส่งถ่ายไอดี SSS เป็นระบบที่พัฒนาขึ้นมาเป็นพิเศษเฉพาะในซูซูกิ RGV โดยระบบ SSS ได้แยกไอดีออกเป็นสองทิศทาง โดยทางหนึ่งถูกส่งเข้าสู่เพลาข้อเหวี่ยงและอีกทางหนึ่งถูกส่งเข้าสู่ห้องเผาไหม้ ซึ่งไอดีที่ถูกส่งไปยังห้องเผาไหม้นอกจากเป็นไอดีที่บริสุทธ์แล้ว ยังสามารถช่วยสร้างสมดุลในห้องเผาไหม้ อีกทั้งเป็นตัวขับไอดีที่เกิดจากการเผาไหม้ให้ออกไปในระยะเวลาที่รวดเร็ว และยังเป็นการลดความร้อนให้กับลูกสูบโดยไอดีจะผ่านพอร์ทบู๊ทใกล้กับรีดวาว์ล นอกจากนี้ระบบ SSS มีการทำงานร่วมกันกับระบบ Suzuki Intake Pulse Control ย่อว่า (SIPC) ซึ่งเป็นการทำหน้าที่การควบคุมการนำเข้าไอดีไม่ให้เกิดการติดขัดหรือกระตุกระบบควบคุมไอดี SIPC เป็นพัฒนาการใหม่ของซูซูกิ RGV โดยระบบ SIPC สามารถจัดการแก้ปัญหาการควบคุมไอดีที่ถูกส่งเข้าไปในเครื่องยนต์ โดยการคำนวนความถี่แรงเคลื่อนไอดีกับแรงดันระยะทาง ร่วมถึงปริมาณไอดีแต่ละช่วง ซึ่งระบบ SIPC จะเก็บกักไอดีส่วนเกินนี้ส่งไปสู่ห้องเผาไหม้ในเครื่องยนต์ใหม่อีกครั้ง จึงส่งผลให้เครื่องยนต์ทำงานได้ราบรื่นในรอบสูงหรือรอบต่ำและไม่เกิดอาการสะดุดในขณะเร่ง นอกจากนี้ผลพวงของการส่งไอดีเข้าเครื่องยนต์อย่างสม่ำเสมอ ไม่ว่าในรอบต่ำหรือรอบสูงมีผลให้เครื่องยนต์สามารถรีดสมรรถนะได้อย่างเต็มที่ และรวมไปถึงการประหยัดน้ำมันเชื้อเพลิงอีกด้วยนอกจากนี้ ซูซูกิ RGV มาพร้อมกับ ตุ่มถ่วงดุลย์ (Counter Balancer) โดยใช้หลักการ“การหักล้างแรงเหวี่ยง” ซึ่งเป็นสาเหตุที่ทำให้เกิดอาการสั่นสะเทือนในขณะขับขี่ โดยใช้สิ่งที่เรียกว่าตุ่มถ่วงดุลย์ ซึ่งติดตั้งตุ่มถ่วงดุลย์ไว้ในเครื่องยนต์และทำงานสัมพันธ์กับชุดเพลาข้อเหวี่ยง ทำให้เกิดการหักล้างแรงเหวี่ยงที่เกิดขึ้น ส่งผลให้เครื่องยนต์ซูซูกิ RGV ทำงานนิ่งและเรียบ ไม่เกิดอาการมือชาและขาชาจากแรงสั่นของเครื่องยนต์เมื่อขับขี่เป็นเวลานาน ๆตัวถังเหล็กเลี่ยมเฟรมคู่ SRS ถูกพัฒนามาจากรถแข่ง โดยเฟรมทำจากวัสดุที่มีน้ำหนักเบา และสามารถรองรับการสั่นสะเทือนรวมถึงรับน้ำหนักได้เป็นอย่างดี อีกทั้งมีประสิทธิภาพในการทรงตัวและการเข้าโค้งที่แม่นยำ โดยเฟรมคู่มีลักษณะโดดเด่นตรงที่ความแข็งแรงกว่าเฟรมเดียวที่มีเพียงท่อนเหล็ก 1 ท่อนที่ค่อยรองรับเครื่องยนต์สำหรับระบบกันสะเทือนหลังใหม่ ซูซูกิ RGV เลือกที่จะใช้โช๊คอัพเดี่ยว EFF โดยโช๊คมีความโดดเด่นเหนือใครด้วยระบบกันสะเทือนหลังแบบใหม่ซึ่งโช๊คอัพ EFF สามารถปรับตัวเองอย่างอัตโนมัติ ทำให้เหมาะสมทุกสภาพการใช้งานไม่ว่าขับขี่หรือแข่งขันนอกจากนี้ยังมีอุปกรณ์ติดรถต่างๆ ที่ทางซูซูกิ RGV ได้โฆษณาไว้ว่า-ทั้งคันใหม่หมด ไฟหน้าจรดไฟท้าย-เรือนใหม่และวัดรอบสวยสปอรต์แบบรถใหญ่ หรู อ่านสบาย-ไฟหน้าเหลี่ยม หน้ากากไฟสวยเนียน-เบาะนั่งปราดเปรียว-สวิตควบคุมแบบใหม่-ถังน้ำมันและถังออโตลูปคู่ใกล้กัน สะดวกสบายในการเช็ด-เครื่องยนต์ทำงานเรียบ พร้อมติดตั้ง Counter Balancer-เกียร์ 6 จังหวะ-หม้อกรองอากาศแบบจั้มโบ้-ท่อไอเสียแบบรถแข่ง พร้อมติดตั้งไซเลนเซอร์-โซ่มีซีลในตัว ไม่มีข้อต่อ ทนทาน-ที่เก็บของกว้างขวาง (คาดว่าคือช่องที่เก็บเครื่องมือรถ)-ไฟท้าย ไฟเลี้ยว ล้ำสมัย เห็นชัดในคำคืน (เมื่อใช้งานจริงๆ แสงไฟเลี้ยว ไฟหน้ามีความสว่างไม่พอ เนื่องจากระบบไฟของรถ RGV ยังเป็นไฟ 6v)-ยางหน้ากว้าง ดอกยางแบบใหม่ เกาะถนนเป็นเลิศ-ระบบเบรค มั่นใจทุกสภาพ (สำหรับ RGV หน้าสั้นเบรกหน้ายังคงเป็นดรัมเบรกอยู่ เมื่อเทียบกำลังของรถแล้ว บอกได้เลยว่าไม่มีความมั่นใจทุกสภาพถนน)ข้อมูลโดยรวมของ RGVกว้าง-สูง-ยาว                      680-1970-1120 มม.ส่วนสูงใต้ท้องรถ                     150 มม.ส่วนสูงเบาะนั่ง                     765 มม.น้ำหนัก                              99.8 มม.แรงม้าสูงสุด                       26.5แรงม้าที่ 9,500รอบ/นาทีแรงบิดสูงสุด                      2.1 กก.ม.ที่ 8,000รอบ/นาทีระยะชัก-กระบอกสูบ            54.0-59.0มม.ความจุกระบอกสูบ              147 ซีซี.อัตราส่วนกำลังอัด              7.0:1คาร์บูเรเตอร์                     MIKUNI VM 26 SSโซ่                                 แบบ GOLDEN CHAIN ไม่มีข้อต่อ 124 ข้อตัวถัง                              เฟรมเหลี่ยมทรงเปลคู่ SRSระบบกันสะเทือนหลัง          ช็อคอัพเดี่ยวแบบ เอ็กเซ็นตริคฟูลโฟลทเตอร์ขนาดยางหน้า                   2.75-18ขนาดยางหลัง                   3.00-18ถังน้ำมันเชื้อเพลิง              11ลิตรถังน้ำมัน2T                      1.2ลิตรน้ำมันเกียร์                       900ซีซี.หัวเทียน                          NGK BP8ES , ND W24EP-Vแบตเตอรี่                         6v 4ahไฟหน้า                            6v 35/35wไฟท้าย/ไฟเบรค                 6v 3/10wสำหรับ RGV-S มีระยะโมเดลตั้งแต่ พ.ศ. 2528 – 2534 หลังจากนั้นทาง Suzuki ได้ปล่อย RGV-SS (หน้ายาว) ซึ่งเป็นรุ่นที่สองออกมาในปี พ.ศ. 2534-2536 การเปลี่ยนแปลงที่เกิดขึ้นของ RGV-SS ได้แก่หน้ากากหน้าแบบใหม่และระบบเบรกหน้าที่กลายเป็นดิสก์แทน นอกจากนั้นไม่ได้มีการปรับปรุงเปลี่ยนแปลงแต่อย่างไร โดยมีราคาเปิดตัวอยู่ที่ 45,500 บาท โดยประมาณ ซึ่งแพงกว่ารุ่น RGV-S ถึง 3,000 บาทในส่วนของโฉมสุดท้ายของ RGV มีชื่อเรียกว่า Megatone (เมกาโทน) ถูกจัดจำหน่ายอย่างเป็นทางการในปี พ.ศ.2536-2542 โดยการเปลี่ยนแปลงที่เกิดขึ้นในรุ่น Megatone เรียกได้ว่าทาง Suzuki ได้ปรับปรุงเปลี่ยนแปลงแฟริ่งใหม่ทั้งหมด รวมไปถึงเปลี่ยนแปลงโครงรถอีกด้วย ทำให้ RGV-S/SS ไม่สามารถใช้แฟริ่งของรุ่น Megatone ได้ สำหรับในส่วนต่างๆ ทาง Suzuki ไม่ได้ปรับปรุงเปลี่ยนแปลงอะไร โดย Megatone มีราคาเปิดตัวอยู่ที่ 45,000 บาทโดยประมาณ---เปิดก่อนได้เปรียบ ประโยคคำนี้คงไม่สามารถใช้ได้กับทาง Suzuki Thailand- RGV-S เป็นรถขนาด 150cc รุ่นแรกของไทย ซึ่งเพียงระยะเวลาไม่นานก็ถูกทาง Yamaha Vr150 ตามเชือดเฉือนด้วยแรงม้าที่เหนือกว่าเล็กน้อยมาพร้อมทั้งระบายความร้อนด้วยน้ำ และตามต่อด้วย Honda Nsr150R ปิดท้ายด้วย Kawasaki Kr150R ที่นับเป็นรถรุ่นเปิดตัวเหมือนกัน- หากจะมองหาข้อได้เปรียบที่พอสู้ได้ของเจ้า RGV คงหนีไม่พ้นด้วยเรื่องราคา ซึ่งมีราคาที่ถูกกว่ารถรุ่น 150cc ทุกรุ่น- ในความล้าหลังก็ยังมีดี สำหรับ RGV ทั้ง 3 รุ่น ที่มีระบบระบายความร้อนด้วยลม ทำให้สามารถตัดความจุจิกในเรื่องหม้อน้ำไป แต่ต้องแลกกับความแรงที่หดหายไม่สามารถขับแช่รอบสูงได้นาน- RGV กลายเป็นรุ่นรถที่นิยมของหน่วยงานรัฐรุ่นหนึ่งก็ว่าได้ ยกตัวอย่างเช่นหน่วยงานตำรวจเป็นต้นที่มาของรูปภาพบ้างส่วนhttps://www.facebook.com/groups/2tspechttps://www.facebook.com/groups/960078604050837/https://www.facebook.com/groups/724093804294820/ขอฝากเพจหน่อยครับhttps://www.facebook.com/ต้นรถเป็นอะไรอะ-451481885345798แก้ไขข้อความเมื่อ\n",
      "\n",
      "sentiment score:12\n",
      "ทำยังไงดีครับ sale suzuki ค้างชุดแต่งหลายอย่าง และกำลังจะลาออกแล้ว เกริ่นก่อนเลยน่ะครับ คือเมื่อประมาณช่วงต้นเดือนเมษายนที่ผ่านมาผมได้ตัดสินใจจองรถ all new suzuki swift จากงาน motor show ที่เพิ่งผ่านมา ด้วยเหตุผลที่ sale แจ้งรายละเอียดของที่จะแถมให้หลายรายการมากครับ เป็นชุดแต่งที่อยู่ในเอกสารชุดแต่งแท้ของบริษัท เราก็นั่งคุยตกลงพร้อมบันทึกรายละเอียดชุดแต่งทั้งหมดที่จะได้รับในใบจองพร้อมวางเงินมัดจำ ทุกอย่างดูเป็นไปด้วยดีจนกระทั่งใกล้ถึงวันรับรถ ผมบอกได้เลยครับว่าทาง sale ดูไม่ค่อยเอาใจใส่ลูกค้าเลย ผมต้องคอยตามตลอดว่าตอนนี้ชุดแต่งมาหรือยัง ขนาดวันจะรับรถทาง sale เพิ่งจะมาจัดการใส่ sensor ถอยหลังให้ในช่วงเช้า (ผมคิดว่าจริงๆ ทางศูนย์ควรจัดการให้เรียบร้อยก่อนลูกค้าจะมารับรถแล้ว)ในวันรับรถ (ห่างไปประมาณ 1 เดือนจากวันจอง) ผมก็อ่านใน pantip นี่แหละครับ ที่ว่าให้ตรวจสอบรายการทั้งหมดก่อนว่าได้ของครบมั้ยตามที่ตกลงกันไว้แล้วจึงค่อยเซ็นรับรถ แน่นอนครับว่ามันไม่ครบ ขาดไปหลายส่วนเลยทีเดียว โดยทาง sale อ้างว่าชุดแต่งบางอย่างต้องสั่งมาจากทางญี่ปุ่นซึ่งอาจจะต้องรอหน่อย ตอนนั้นผมก็ว่าเอาเถอะรอก็รอ และยังตรวจเจอชุดแต่งบางชิ้นมันไม่ใช่ของแท้ของศูนย์ครับ ทั้งรูปร่างและตัวเนื้อวัสดุมันแตกต่างจากที่คุยกันไว้ตอนในงาน motor show อย่างสิ้นเชิง แต่ทาง sale ก็ยังแจ้งว่าเป็นของแท้จากทางศูนย์ ผมก็เลยให้ sale ทำสัญญามาเพิ่มอีกฉบับสำหรับชุดแต่งที่ยังคงค้างและชุดแต่งที่ไม่ตรง spec โดยรวมประมาณ 5 รายการครับ ซึ่งในใบสัญญาระบุวันที่อุปกรณ์ตกแต่งมาทั้งหมดคือช่วงปลายเดือนพฤษภาคมจนเวลาผ่านไปใกล้ถึงวันกำหนดรับชุดแต่งทั้งหมด บอกตรงๆ ว่าตอนนั้นผมตื่นเต้นครับ อยากจะให้รถได้แต่งครบซักที (คนแต่งรถน่าจะเข้าใจเนอะ) แต่ sale ก็ยังคงทำหน้าที่อย่างเดิมครับคือไม่ได้ update อะไรแต่อย่างใด จนวันก่อนกำหนดผมตัดสินใจโทรไปถาม sale เลยครับ และได้คำตอบมาว่า... ตอนนี้ชุดแต่งยังมาแค่ชิ้นเดียวเองครับ ผมก็อึ้งสิครับ เวลาที่ผ่านไปนั้นมันไปติด process อะไรหรอ ผมข้องใจมากว่าทางญี่ปุ่นเค้ายังไม่ส่งของมาอีกหรอ เพราะจริงๆ ชุดแต่งทุกชิ้นที่ตกลงกันไว้ทาง sale เคยบอกผมว่าเค้ารีบสั่งให้ตั้งแต่ที่ผมผ่าน finance แล้วนั่นก็ปาไปเกือบ 2 เดือนแล้ว แล้วชุดแต่งชิ้นเดียวที่มานั้นก็เป็นชุดแต่งที่ผมให้เค้าไปเปลี่ยนเพราะไม่ใช่ของแท้ โดยผมถามทาง sale ไปว่าแล้วผมต้องรอไปอีกเมื่อไหร่ถึงจะได้ของครบ ทาง sale ให้คำตอบว่าจะให้คำตอบอีกทีวันถัดไป แล้ววันถัดไปก็มาถึง ทาง sale นัดแจ้งรับชุดแต่งที่ติดค้างทั้งหมดประมาณปลายเดือนมิถุนายน พร้อมแจ้งผมว่าเค้าจะลาออกสิ้นเดือนมิถุนายนนี้ ผมก็อึ้งอีกแล้วครับท่านเกริ่นมาซะยาว ที่ผมเกริ่นมาทั้งหมดนั้นผมอยากจะสอบถามทางเพื่อนสมาชิกหลายๆ ท่านทั้งที่เคยเจอหรือไม่เคยเจอเหตุการณ์แบบนี้มาก่อนดังนี้ครับ1.) ผมควรทำอย่างไรดีครับ ผมควรยังไว้ใจ sale คนนี้อีกมั้ยที่จะรอรับชุดแต่งในวันที่เค้าได้แจ้งกับผมไว้ เอาจริงๆ น่ะครับ ดูจากลักษณะเค้าเป็นคนรับปากแบบขอไปทีมากครับ เลื่อนไปเรื่อยๆ ผมเกรงว่าถึงวันนั้นแล้วทางเค้ายังแจ้งว่าไม่ได้ของอีกแล้วผมจะไปตามใครต่อหลังจากเค้าลาออก ผมเคยเห็นหลายๆ กรณีทางศูนย์บริการไม่ค่อยออกมารับผิดชอบด้วยซ้ำ2.) ในกรณีนี้หากผมได้ชุดแต่งตามที่ตกลงในสัญญาไม่ครบ ผมมีสิทธิฟ้องร้องทาง sale หรือทางศูนย์บริการ suzuki ได้มั้ยครับ ข้อหาหลอกลวงผู้บริโภค เหมือนชวนเชื่อให้เราจองรถไปก่อนเพื่อให้ได้ยอดจองเยอะๆ พอลูกค้าจ่ายเงินดาวน์แล้วก็เบี้ยวของที่ตกลงกันไว้3.) หากสมาชิกท่านใดที่เคยเจอกรณีแบบนี้มาก่อน สามารถแนะนำแนวทางมาได้เลยน่ะครับ ขอบคุณล่วงหน้าครับปล1. ผมรู้สึกเลยว่าการซื้อรถครั้งนี้มันเหนื่อยจริงๆ เป็นรถคันแรกของผมด้วย แต่ผมบอกเลยครับว่าตัวรถผมชอบมากครับ ขับสนุกเลยแหละ แต่มาเสียความรู้สึกเพราะการทำงานของ sale นี่แหละครับปล2. ผมเห็นลูกค้าบางท่านที่ซื้อหลังจากผมอีก แต่เป็นศูนย์อื่นน่ะครับ เค้าได้ชุดแต่งที่ทาง sale ยังค้างกับผมอยู่ ผมเลยอึ้งไปอีก งงเลยว่าสงสัยศูนย์ suzuki แต่ละศูนย์ ติดต่อทาง suzuki ญี่ปุ่นคนละที่กันมั้ง จึงได้ของมาช้าเร็วต่างกันเยอะเลยแก้ไขข้อความเมื่อ\n",
      "\n",
      "sentiment score:9\n",
      "งาน motor expo 2017 ขอพูดนิดเดียวครับ... มันเป็นความใฝ่ฝันของเด็กบ้านนอกคนนึงที่จะได้เข้ากรุงจากการที่ชอบมอเตอร์มาตั้งแต่เด็ก ๆ จึงต้องเดินตามฝันของตัวเองขอย้อนอดีตกันหน่อยนะครับภาพสมัยเรียนมัธยม ออกทริปแถวบ้าน กับเพื่อน ๆ ครับทริปน้ำหนาว ตอนนั้นรู้สึกตื่นเต้นมาก ที่ได้เห็นบิ๊กไบค์คันจริง ๆ ใกล้ ๆ แบบนี้มอเตอร์โชว์ ปีไหน จำไม่ได้ละ ถ่ายกับ 990 ADV คันงามพี่เซลล์ใจดี ขออนุญาตนะค้าบส่วนวัตถุประสงค์ที่ไปงานในปีนี้คือ ต้องการไปลองคร่อม V650 และ V1000 ว่าต่างกันมากไหม (แฮนด์รถ)เพราะเคยลองคร่อม V650 แล้วรู้สึกว่าก้มมากกว่านั่งไม่สบายเท่า V1000และอยากไปเดินเล่น ดูรถรุ่นใหม่ ๆ เช่น Toyota C-HR , Triumph tiger 800 (ที่ราคาแพงขึ้น แต่เหมือนคนไม่พูดถึง)รวมถึง Royal enfield Himalayan ที่ราคา สูสี CRF250Rally แต่วัสดุงานประกอบ และระบบเครื่องยนต์ ยังโบราณไปหน่อยและการไปดูรถในงานครั้งนี้ แอบไม่พอใจบูธที่ไม่เกี่ยวข้องกับรถ อยากให้ครั้งหน้า ห้ามเขาเข้ามาจัดบูธอีกSpoil คลิกเพื่อดูข้อความที่ซ่อนไว้เป็นบูธ ๆ นึง ที่คอยเรียกให้เราช่วยเขียนเสื้อ แต่ต้องบริจาคตัง โดย หักจากบัตรเคดิต คือ ผมบริจาค ผมเต็มใจอยู่แล้ว แต่จะให้ช่วยเป็นเดือน โดยแต่ละเดือนต้องเสีย 500 บาท ผมรู้สึกไม่โอเคกับบูธประเภทนี้เมื่อประตูงานเปิด 12.00 น. (สำหรับวันปกติ)คนยังไม่มากเท่าไหร่นัก สายขี้อายอย่างเราเลยไม่กล้าเข้าไปดูดีเทลรถมากมายได้แค่เดินเล็ง ๆ ไว้ ก่อนว่า โอเค กลับมาจะมาเจาะ มาลองคร่อมคันนี้ ๆ ๆๆ นะขอเริ่มกันที่ Kawasaki แล้วกันครับรู้สึกว่า ค่ายนี้ ปีนี้ จัดหนักจัดเต็ม เข็นรถออกมาส่งท้ายปีได้สุดจริง ๆตั้งแต่น้องเล็ก ยันพี่ยักษ์ แต่ไฮไลต์ ที่สายคลาสสิคต้องมาคร่อมกันก็คือW175 และ W250 ที่กาลเวลาฆ่ามันไม่ได้ปีนี้เหมือน Versys650 และน้อง 300 จะรู้สึกหงอย ๆ หน่อยถ้าไม่อยากหงอย ก็เข็น โปรแรง ๆ ออกมาให้สาวกคาวาลังเลกันเลยต่อมาคือค่ายจากเมืองผู้ดี ที่ปีนี้ ราคาเหมือนจะสูงขึ้นอ๊อฟชั่นต่าง ๆ ที่เห็นได้ชัดคือ เรือนไมล์ใหม่ ที่เป็น LED ทั้งหมดแล้วแถมให้กับ จิ๊กโก๋ จากเมืองผู้ดีค่าย YAMAHA ในงานปีนี้ มีรถมาใหม่ 2 รุ่นโดยรุ่นที่ผมชอบคือคันนี้ SCR950 ที่ออกแนว scrambler โดดเด่นด้วยเครื่องยนต์แบบ V-twin และระบบขับเคลื่อนด้วยสายพานแอบมาเม้ามอย อยู่ด้านหลังพี่ยักษ์ Tenere นี่ก็ไกลเกินฝันที่จะได้เป็นเจ้าของตัวพิเศษนี้เพิ่มไฟสปอร์ตไลต์มาให้เปิดกันตอนกลางคืนด้วยครับพระเอกอิตาลี มาดเข้ม Moto guzzi โดนเด่นด้วยการออกแบบกระบอกสูบเครื่องยนต์รายละเอียดแต่ละสิ่งสุดจริง ๆและก็มาถึงรถที่ผมชอบมากคันนึง ซึ่งจัดมันไว้เป็นรถในฝัน เพราะคงไม่มีปัญญาเป็นเจ้าของได้CRF 1000 Lมันเป็นรถเพียงรุ่นเดียวของ honda ที่ผมอยากขี่ตรงนี้ บ่งบอกว่าเป็น เกียร์ DCTส่วนคันนี้เกียร์ธรรมดา ช๊อบชอบแอบสังเกตไฟส่องป้ายทะเบียนและแผ่นสะท้อนแสง นี่ยกของตัว CBR250 มานี่นา 555งานขึ้นซี่ลวดของ Honda แบบบ้าน ๆสีนี้สวยฝุด ๆ ละค้าบบบบขอปิดท้ายกับ SUZUKI แล้วกันครับในส่วนนี้จะขอพูดถึง V-strom เท่านั้นคร่อมกันไป คร่อมกันมา V1000 นั่งสบายกว่า 650 แต่เซลล์มาบอกว่า ใส่ตัวยกแฮนด์ช่วยก็ได้ สว่างทันทีแต่ยังไงแล้วคนที่เคยขับ V1000 อย่างผม และไปติดใจเอามาก ๆ คงต้องคิดเยอะเหมือนกันงานขึ้นซี่ลวดของ V-strom สวยจริง ๆส่วนโปรโมชั่นของฝั่งทาง ซู นั้น ขนกันมาแบบไม่อั้น สูงสุดกันเป็นแสนเลยทีเดียวแต่ตัว V1000 ให้ 5 หมื่น และ 3 หมื่น สำหรับตัว 650แต่ใครอยากได้โปรออกทริปฟรีทั้งปี คงต้องไป BBkorat แล้วแหละแอบมาให้เครดิตครับ เพราะชอบ เจ้าของศูนย์ใช้เอง ขี่เอง พาเที่ยวเองไม่ใช่ขายแล้วขายเลย อยากให้ค่ายอื่นทำแบบนี้บ้าง ลูกค้าอย่างเรา ๆ จะได้มีตัวเลือกเยอะ ๆ ครับสุดท้ายนี้ขอลาไปก่อน กับ KTM สีส้ม สุดแสบคันนี้ครับ ขอบคุณครับ\n",
      "\n",
      "sentiment score:9\n",
      "ไปลองขับ Xpander มาวันนี้ครับ เลยอยากรีวิวสั้นๆ (มีรูปและวีดีโอ) วันนี้ไปศูนย์มิตซูตรงมีนบุรีตอน 4 โมงเย็น เพราะอยากลองขับ Xpander หลังจากที่ทราบอัตราเร่งและอัตราสิ้นเปลืองที่น่าพอใจจากเว็บดัง คิดว่าตัวรถคงจะพอเพียงกับตัวผมอย่างแน่นอน เพราะผมขับรถไม่เร็วความรู้สึกเมื่อเจอครั้งที่สอง จากครั้งก่อนที่ไปดูที่ Big motor salesรู้สึกรถสวยขึ้น แต่เมื่อเข้ารถก็ยังรู้สึกแขยงๆ กับเบาะหนังอยู่ดี ไม่รู้ทำไม รู้สึกไม่ชอบเบาะหนังในรถรุ่นนี้เลย แต่กลับกันพอไปดูตัวเบาะผ้า ก็จะรู้สึกดีกับคุณภาพมากกว่าพนักงานขายให้ผมนั่งในรถให้เขาก็เป็นคนขับรถพาไปอีกที่ก่อน แปลกดีเหมือนกันผมก็เลยถือโอกาสลองนั่งเบาะสอง ความรู้สึกคือช่วงล่างเฟิร์มแน่น ปกติผมขับCamry ACV40 ดังนั้นการที่นั่งรถนุ่มๆ แล้วมานั่งรถเฟิร์มๆ ก็จะรู้สึกว่ารถช่วงล่างแข็งไปแต่ก็รู้สึกว่ามันเฟิร์มและไม่โยนดี นับเป็นรถที่อยู่ในกลุ่มขับเร็วๆ แล้วดี การซับแรงกระแทกก็ดีเหมือนเป็นรถราคาแพง แต่ไม่ใช่รถนุ่มที่นั่งแล้วสะบ้ายสะบายผมนั่งในเบาะแถวสองก็ happy ดี ลองปรับแอร์บนเพดาน รู้สึกเสียงดังไปหน่อยแต่ลมเป่าไม่ค่อยสะใจ ท่านั่งก็สบายดีมีที่วางแขนครบ ซึ่ง Sienta ทำแบบนี้ไม่ได้เพราะประตูมีไว้เลื่อนถ้ามีที่เท้าแขนเดี๋ยวจะขัด องศาเบาะหลังโอเคพอประมาณ แต่ไม่สามารถเอนได้แบบสุดๆ คือเอนได้สบายกว่าเบาะหลังรถเก๋ง แต่ไม่สามารถจะเอนนอนไปเลยได้พอดีเบาะหลังไม่ได้ลองมา เพราะรถที่ลองเขาพับเบาะเก็บเรียบไปแล้ว เลยขี้เกียจขอลอง ถ้ามีโอกาสได้ลองขับอีกก็อาจจะขอลองนั่งดูอีกที แต่เบาะเมื่อพับแล้วก็ดูใหญ่โตดีมากทัศนวิสัยรอบคันดูโปร่งสบายตาดีมาก แม้ว่าจะทำรถให้ดูบึกบึนแต่ก็ไม่จำเป็นต้องทำให้หน้าต่างมันแคบอะไรมากมาย ความโปร่งโล่งตาเป็นสเน่ห์ของรถคันนี้เลย(ขออภัยในคุณภาพวีดีโอที่ไม่ค่อยดีเท่าไหร่ สงสัยเผลอถ่ายโดยใช้กล้องหน้าของโทรศัพท์)การเร่งบนถนน พนักงานขายก็เหยียบเต็มที่ดี ประมาณว่าอารมณ์แบบเรากำลังเร่งรีบนิดๆช่วงล่างดีใช้ได้ จัมพ์คอสะพานก็ดีไม่มีที่ติ แม้ดีไซน์ภายในจะไม่ล้ำอนาคต แต่ก็ดูสวยงามกำลังพอดีสำหรับผม การเก็บเสียงถือว่าทำได้ดี surprise ที่เคยทำ Lancer กับ Mirage ให้เสียงดังมากขนาดนั้นมาได้ยังไงจุดที่ดีงามมากของตัวรถก็คือแถวที่สาม ที่สามารถนั่งท่าแบบนี้ได้สบายๆ เลยแต่ในความดีงาม กลับมีสิ่งที่ทำร้ายความดีงามนั้น นั่งก็คือตัวเหล็กของประตูบานท้ายที่เป็นเหล็กเปลือยๆ แถมยังไม่มีหลบเว้า ดันยื่นเข้ามาแทงที่หัวซึ่งเป็นจุดที่เป็นมุมเหลี่ยมของตัวบานประตูพอดี ผลก็คือหัวกบาลโดนไอด้ามนี้แทงจนอยากจะบ้า ในช่วงเวลาที่เปิดตัวพร้อมกัน เหมือนอยากจะให้เห็นว่า headroom ที่ดีแต่นั่งชันเข่าของ Terra กับ headroomที่ดีเช่นกันแต่มีเหล็กยันกบาล แต่ท่านั่ง perfect อันไหนมันจะดีกว่ากันจริงๆ เล่าของ Terra ไปตอนกระทู้ที่แล้วว่า ที่นั่งตอนสาม สามารถทำให้นั่งได้ดีอย่างไม่น่าเชื่อ ทั้งๆ ที่ต้องชันเข่า ซึ่งคนออกแบบคงวางองศาให้เบาะรองหลังดีจึงทำให้ท่านั่งกลายเป็นสบาย ในขณะที่ Ertiga ที่เขาว่านั่งได้ดี คือท่านั่งทำได้ดีจริงแต่เบาะรองหลังตั้งชันมาก นั่นก็นั่งไม่สบายอีก บทสรุปคือ การจัดวางที่นั่งแบบแปลกๆของ Terra กลับทำให้มันเป็น SUV ladder frame ที่นั่งได้ดีที่สุดแบบ surprise(แต่โดนคนด่าทั้งเมืองไปแล้วหลังจากโดนพิธีกร driveautoblog คอมเม้นท์เรื่องการจัดวางแปลกๆ)เห็นคมเหลี่ยมมุมไหมครับ มันทิ่มมาที่หัวตรงๆ เลย แต่เด็กและผู้หญิงคงจะไม่มาชนตรงนี้ อาจจะมีคนบอกว่า คันไหนๆ ก็เป็นแบบนี้ทั้งนั้นแหล่ะ แถวสามให้เด็กกับผู้หญิงนั่งไปก็แล้วกัน แต่ไอที่เราเสียดายก็คือ ตัวที่นั่งและการจัดวางนี่มัน perfect แล้วนะตัวผมนั่งได้สบายๆ สูง 174 ก็ถือว่าตัวไม่เล็กแต่ก็ยังนั่งได้ ทำไมมันต้องมาชนกับกรอบบานประตูด้วย มันเป็นความเสียดายมากกว่าตอนผมขับเองนั้น รู้สึกว่ารถมันเร่งปรู้ดปร้าดตอนที่กดเท้าลงไปทันที เหมือนรถจะแรงมากแต่ว่าหลังจากนั้น มันก็ค่อนข้างอืดพอควรทีเดียวล่ะ วิศวกรเขาเซ็ตมาให้รถดูกระฉับกระเฉงได้ผมรู้สึกว่าถ้า 30-40-50-60 ตรงนี้น่าจะอืดพอควร เนื่องจากผมขับ hybrid เป็นประจำตรงนี้จะรู้สึกชัดอยู่ แต่ถ้าสมมติผมขับรถ 1500 สมัย Vios 2006 หรือขับ eco car เป็นประจำจะพูดว่า Xpander แรง ก็สามารถพูดได้นะ ที่ต้องชมคือการเก็บเสียง และพวงมาลัยน้ำหนักก็ใช้ได้การตัดต่อเกียร์สมูธไร้ที่ติ ถ้าบอกว่าเป็น CVT ก็อาจจะเชื่อด้วยซ้ำ แต่อาจจะไม่เชื่อตรงที่มีแรงดึงซึ่ง CVT จะไม่มีผมได้ลองใช้ Cruise ด้วย แต่ไม่ค่อยประทับใจ หนึ่งคือ จอ MID ที่โชว์อัตราบริโภคมีแต่แบบเฉลี่ย และใช้ L/km ซึ่งผมเกลียดมากตั้งแต่เคยใช้ BT50pro ละ คือเราต้อง convertเลขในใจตลอดเวลาที่มอง ส่วนที่โชว์แบบ real time ก็ดันไม่มีตัวเลข มีแค่แถบสี ซึ่งก็ดูไม่ออกอยู่ดีว่า ตอนนี้มันกำลังกินน้ำมันอยู่ที่ประมาณเท่าไหร่ ซึ่งเวลาผมใช้ครูซ ผมจะต้องดูคู่กับอัตราสิ้นเปลืองไปด้วย จะได้ set ให้มันพอดีๆ เพื่อที่จะล็อคความเร็วพอประมาณที่สามารถได้อัตราสิ้นเปลืองที่ดีไปด้วยตลอดทริป แต่ของ Xpander มันไม่ให้ผมทำอะไรแบบนั้นได้เลยแล้ว Cruise จะมีไว้เพื่ออะไรสำหรับมุมมองการใช้งานของผมนะส่วน font ผมไม่ชอบหน้าจอที่ไม่บิวท์อิน ข้อนี้ก็ไม่ปลื้ม ส่วนระบบ push start ผมเคยเห่อมันนะเมื่อก่อนจะซื้อรถถ้าไม่มีปุ่มนี้รู้สึกรับไม่ได้ แต่หลังจากใช้คันโน้นคันนี้ที่มีปุ่มมาเรื่อยๆเดี๋ยวนี้ผมกลับเฉยๆ ใช้กุญแจบิดก็คลาสสิคดี อาจจะเป็นคนบ้าเห่อ พอหายเห่อก็หายบ้า 555ผมไม่ได้ถ่ายหน้าปัดสีของรุ่นท๊อปมา ซึ่งผมรู้สึกว่ามันดูมีสีสันดี แต่อาจจะดู 2D นิดๆคือถ้า 2D มากกว่านี้อีกหน่อย อาจจะคล้ายไมล์ปรินท์ของ Yaris ก่อนไมเนอร์แล้วผมเลยขอให้เซลช่วยโชว์ไมล์ของตัวล่างให้ดูหน่อยตอนกลับมาที่ศูนย์ ปรากฎว่าก็ดูเรียบๆแต่ก็สวยดีแฮะ!ผมก็ไม่รู้ทำไมถึงได้รู้สึกเหนี่ยวนำไปที่รุ่นล่างยังไงไม่รู้ คือส่วนตัวชอบสีตัดๆ สีดำของรุ่นล่างด้วยและไม่ชอบตำแหน่งไฟตัดหมอกที่ดูเหมือนมีอะไรกลมๆ ติดอยู่ในปาก แต่พนักงานขายบอกว่ายอดจองนั้นเทไปที่ตัวท๊อปเลย และล็อตแรกที่จะนำเข้ามามี 2,600 คัน ซึ่งยอดจองก็คงจะล้นทะลักหลังจากงาน Big motor sales จนทำให้ผมนึกเล่นๆ ว่า จากการที่อินโดฮิตรุ่นนี้อย่างมากจนผลิตขายไม่ทัน ทำให้โควต้าสำหรับส่งมาไทยมันน้อยนิด และถึงราคาตัวบนจะถีบตัวไปที่ 8 แสนห้า คนก็ยังตอบรับตัวท็อปกันอยู่ดี ทำให้สงสัยว่า รุ่นนี้อาจจะเป็นรุ่นที่ Mitsubishi Thailand ฟันกำไรได้มากเป็นพิเศษและอาจจะหารถมาขายให้ลูกค้าไม่ทัน ลูกค้าอาจจะต้องแก่งแย่งรีบจองให้ทันด้วยซ้ำมันเพราะอะไร ?ผมคิดว่า การที่มิตซูตั้งราคามาแรง ก็ไม่ใช่อะไร เป็นเพราะ volume ที่อินโดจะผลิตให้ได้ ก็อาจจะไม่เยอะอยู่แล้ว ดังนั้นถ้าจะตั้งราคามาให้ถูก คนที่อยากซื้อก็จะมีมากกว่าปริมาณที่จะหารถมาได้จึงต้องตั้งราคาให้สูงเพื่อให้ demand พอดีกับ supplyแต่กระนั้น ตอนนี้ก็ดูเหมือน supply ก็จะไม่พอ demand อยู่ดี มิตซูตอนนี้คงยิ้มแก้มปริกันหมดทั้งฝ่ายขายและฝ่ายบริหาร เสียดายที่รุ่นนี้ไม่ได้ผลิตที่ไทยแบบ Mobilio/BR-V ซึ่งถ้าจะพูดว่ารุ่นไหนไทยผลิตรุ่นนั้นน่าใช้ที่สุด คงจะเอามาใช้กับ Xpander ไม่ได้Xpander มันมีสเน่ห์ตรงที่การออกแบบที่ดี เพราะคนไทยส่วนใหญ่ไม่ชอบดีไซน์แบบรถแวนๆXpander ดูมีเสน่ห์ทุกมุม ข้อนี้ Toyota Rush สู้ได้ ส่วนการขับขี่ก็ยิ่งทำให้ตัวรถดูมีเสน่ห์มากขึ้นไปอีกอยากที่บอก คงไม่ใช่ทุกคนที่เคยขับรถเทอร์โบดีเซลหรือไฮบริดหรือรถเบนซินเครื่องแรงๆ มาเยอะแยะเพราะคนส่วนมากก็คือคนที่ขับ Eco car, City car 1500cc และก็ขับแบบปกติ ลูกค้ากลุ่มนี้เป็นกลุ่มตลาดที่ใหญ่ที่สุด เมื่อได้มาขับ Xpander การ set up ที่ชาญฉลาดที่ทำให้รู้สึกว่ารถพุ่ง และการเก็บเสียงที่ดีแบบรถใหญ่ ทำให้ตัวรถดูมีคุณภาพสูง ตัวช่วงล่างและการบังคับควบคุมก็ set upให้ดูรถแน่น เฟิร์ม และควบคุมง่าย และตัวรถยังดูมีขนาดใหญ่คุ้ม กับการออกแบบที่ดูล้ำ ทั้งหมดทำให้รู้สึกว่าราคา 8 แสนห้าก็ยังคงไม่แพงในขณะที่คู่แข่ง เช่น BR-V, Mobilio ก็ยังเป็นรถที่มีกลิ่นอายของงานออกแบบที่ทะๆ ทั้งคันอยู่เพราะถูกแปลงมาจาก Brio ทำให้มันดูเป็นคนล่ะชั้นกับ Xpander ตัว Avanza ก็ดู look cheap ไปคนไทยไม่ต้องการอะไรที่ดู cheap ส่วน Ertiga ชื่อชั้นของ Suzuki ยังห่างไกลมากจากคำว่ารถตลาดในไทยSwift รุ่นที่แล้วคือออกแบบดีจริงๆ ถึงได้รับการยอมรับ ส่วน Ciaz ก็เป็นรถดี แต่ต้องค่อยๆ ขายไป เพราะแบรนด์ยังอ่อนแอมาก (ต้องโทษที่ Celerio ด้วย ที่ดันเจ๊ง)ผู้ท้าชิงที่พอจะสู้ Xpander ได้ก็จะมีแต่แชมป์เก่าอย่าง Sienta ซึ่งอันที่จริง ถ้าไม่ได้นับประตูเลื่อนก็ไม่รู้จะเอาอะไรไปสู้ Xpander เหมือนกัน อย่างที่หนึ่งคือ คนไทยชอบรถที่ดูใหญ่กว่าคันที่ดูเล็กกว่าสองคือ ระบบพับเบาะที่ยอดเยี่ยมไม่ใช่ปัจจัยหลักที่คนไทยจะเลือกรถ สามคือ คนไทยมองว่ามันคือเครื่อง 1500 เหมือนๆ กัน ไม่ได้ต้องการลงลึกว่าใครเร็วกว่ากี่วิ ประหยัดกว่ากันกี่ลิตร สี่ คนที่บ้าประตูเลื่อนคือคนเฉพาะกลุ่ม แต่คนไทยส่วนใหญ่ยังไม่ได้ need หรือ want ว่ามันต้องเป็นประตูเลื่อนถ้าไม่มีขีดจำกัดเรื่องโควต้า ผมคิดว่า Xpander ดูมีภาษีดีที่จะโกยยอดขายมากทีเดียวและอันที่จริง ทำไมมิตซูไทยไม่ลองเสนอที่จะผลิต Xpander ในประเทศบ้างล่ะ ขนาด Hondaยังเบิ้ลผลิต Mobilio / BR-V ทั้งที่ไทยและอินโดเลย ถ้าผมเข้าใจไม่ผิดนะ ของ Mobilio น่าจะชัวร์เพราะฝากระโปรงหน้าแก้มข้างปั้มขึ้นรูปคนล่ะทรงตั้งแต่ก่อนไมเนอร์แล้ว แต่ BR-V น่าจะทำมาทรงเดียวกันเลยไม่แน่ใจว่าทำทั้งคู่ หรือทำแค่ที่เดียวแล้วส่งให้อีกที่ แต่ตามหลักก็น่าจะทำทั้งคู่ผมณภัทร หวังว่ารีวิวจะมีประโยชน์บ้างไม่มากก็น้อยนะครับขอบคุณที่เข้ามาอ่านครับ\n",
      "\n",
      "##############################################################################################################\n",
      "sentiment score:-24\n",
      "MotoGP Analysis: สถิติการล้มประจำฤดูกาล 2017 มาดูกันว่าใครจะคว้ารางวัลประแจทองคำไปครอง นี่เป็นอีก 1 กระทู้ในช่วงพักเบรคฤดูกาล ที่เขียนไปเรื่อย หาสาระไม่ค่อยเจอ แต่ก็พยายามเข็นออกมา แม้ว่าช่วงนี้งานจะค่อนข้างท่วมคออยู่ก็ตาม เรื่องอู้ขอให้บอก ฮ่าๆๆ เราลองมาไล่ดูสถิติการล้มของนักแข่งในฤดูกาลที่ผ่านมากันตลอดทั้งฤดูกาล 2017 นักแข่งทั้ง 3 รุ่นล้มรวมกันทั้งหมดไปถึง1126ครั้ง โดย Moto2 เป็นรุ่นที่ล้มกันมากที่สุดที่ 434 ครั้ง เฉลี่ยแล้วมีการล้มทั้งหมด 24.1 ครั้งต่อ 1 จีพี พวกเด็กห้าวเป้งในรุ่นโมโต 3 ล้ม 379 ครั้ง ส่วนรุ่นใหญ่อย่างโมโตจีพีนั้นกลิ้งกันไปทั้งหมด 313 ครั้ง โดยเป็นการล้มในวันแข่ง 77 ครั้ง ในขณะที่ FP3 มีการล้มทั้งหมด 61 ครั้ง รอบที่มีการล้มน้อยที่สุดคือ 20 นาทีของ Q1หนักจริงวุ้ยสนามที่ 13 ของฤดูกาลที่ Misano World Circuit Marco Simoncelli เป็นสนามที่มีการล้มมากที่สุด โดยตลอดทั้ง 3 วัน รถทั้ง 3 รุ่นนั้นล้มรวมกันทั้งหมด 140 ครั้ง ส่วนการแข่งที่มูเจลโล่ เป็นรายการที่ทีมช่างสบายที่สุด มีการล้มแค่ 28 ครั้งเท่านั้นรางวัลแห่งความภาคภูมิใจ!Sam Lowes จาก Aprilia ครองแชมป์นักแข่งที่ล้มเยอะที่สุด โดยไอ้หินกลิ้งจากเกาะอังกฤษนั้นลงไปนอนบนผิวยางมะตอยทั้งหมด 31 ครั้ง เรียกได้ว่าเอาชนะแชมป์โลกอย่าง Marc Marquez ที่ล้มไป 27 ครั้งได้อย่างงดงาม(มั้ย?) อันดับสามยังคงเป็นพวกนักแข่งสายบ่อกรวดแถวหน้าอย่างเอาวาโร เบาติสต้าที่ล้มไป 26 ครั้ง ตามมาติดๆด้วย CC35 ที่ 24 ครั้งในอันดับที่ 4 ถือว่ารักษาฟอร์มได้คงเส้นคงวากันจริงๆ ห้าห้า ส่วนคนสุดท้ายใน Top 5 คืออเล็กซ์ เอสพากาโร่จาก Aprilia อีกแล้วครับท่าน ผู้บริหารของทีมคงบ่นเซ็งในใจว่า ไอ้สถิติแบบนี้พวกเอ็งดันติดอันดับต้นๆกันทั้งคู่เลยนะเจ้าของรางวัล ประแจทองคำแห่งปี 2017 อิอิด้านล่างคือสถิติการล้มของนักแข่งทั้งหมดประจำฤดูกาล 20171. Sam Lowes (Aprilia) 312. Marc Márquez (Honda) 273. Álvaro Bautista (Ducati) 264. Cal Crutchlow (Honda) 245. Aleix Espargaró (Aprilia) 196. Loris Baz (Ducati) 156. Karel Abraham (Ducati) 156. Andrea Iannone (Suzuki) 159. Jack Miller (Honda) 1410. Johann Zarco (Yamaha) 1211. Scott Redding (Ducati) 1111. Pol Espargaró (KTM) 1113. Tito Rabat (Honda) 1014. Dani Pedrosa (Honda) 914. Danilo Petrucci (Ducati) 914. Jorge Lorenzo (Ducati) 917. Jonas Folger (Yamaha) 817. Alex Rins (Suzuki) 819. Maverick Viñales (Yamaha ) 719. Bradley Smith (KTM) 721. Héctor Barberá (Ducati) 621. Andrea Dovizioso (Ducati) 623. Valentino Rossi (Yamaha) 424. Sylvain Guintoli (Suzuki) 224. Kotha Nozane (Yamaha) 224. Mika Kallio (KTM) 224. Michele Pirro (Ducati) 228. Broc Parkes (Yamaha) 128. Michael van der Mark (Yamaha) 1สำหรับสถิติการล้มเฉลี่ยของแต่ละโรงงานจากการล้มทั้งหมด 309 ครั้ง เทียบกับจำนวนรถที่แข่งแบบเต็มฤดูกาล นับรวมนักแข่งที่มาแข่งแทน เนื่องจากใช้รถคันเดียวกัน แต่ไม่นับการล้มคนละ 2 ครั้งของนักแข่ง Wildcard อย่าง Mika Kallio ของ KTM และ Michele Pirro ของ Ducati ที่ใช้รถแยก (ลบออก 4 ครั้ง) ผลคือAprilia: 50 ครั้ง / 2 คัน = 25.0 ครั้งHonda: 84 ครั้ง / 5 คัน = 16.8 ครั้งSuzuki: 25 ครั้ง / 2 คัน = 12.5 ครั้งDucati: 97 ครั้ง / 8 คัน = 12.1 ครั้งKTM: 18 ครั้ง / 2 คัน = 9.0 ครั้งYamaha: 35 ครั้ง / 4 คัน = 8.8Aprilia ชนะเลิศรางวัลขวัญใจรถยกไปครองในปีนี้โดยทิ้งอันดับ 2 อย่าง Honda อย่างขาดลอย 555+ ในขณะที่ Yamaha นั้นมีค่าเฉลี่ยในการล้มน้อยที่สุด ซึ่งก็ไม่รู้ว่าเพราะรถ YZR-M1 มันพยศน้อยที่กว่ารถคันอื่นหรือนักแข่ง Yamaha นั้นขี่กันมุทะลุน้อยที่สุดก็ไม่รู้SM22: ลุงมาโนชย์ภูมิใจในรางวัลนี้มั้ยครับ ผมนี่ภูมิใจสุดๆเลยนะลุงมาโนชย์: ไอ้ %&^%%$##%^^มาร์ค มาเกวซ นั้นล้มไปทั้งหมด 27 ครั้ง ซึ่งวันเสาร์ในรอบ FP3 และ QP เป็นวันที่ MM93 ล้มมากที่สุดคือ 15 ครั้ง ส่วนวันแข่ง ล้มในรอบเซสชั่น วอร์มอัพในช่วงเช้า 3 ครั้ง ล้มในการแข่ง 2 ครั้ง ส่วนที่เหลืออีก 7 ครั้งเป็นการล้มในวันศุกร์ จีพีที่คาตาลัน มาร์ค มาเกวซล้มในวันเสาร์วันเดียวไปถึง 4 ครั้ง นอกจากนี้ แชมป์โลก 4 สมัยยังบอกว่ามีประมาณ 50 ครั้ง ที่เกือบล้มแต่เอารถกลับมาได้ทั้งนี้ แม้มาร์คเป็นนักแข่งที่ล้มเยอะ แต่ว่าเค้าแทบไม่ค่อยได้รับบาดเจ็บหนักจากการล้มเหล่านั้นเท่าไหร่ การล้มด้วยความเร็วที่ 200 km/h นั้นถือว่าค่อนข้างอันตราย ซึ่ง MM เองก็บอกว่ามันไม่ใช่เรื่องง่ายที่จะป้องกันตัวเองให้รอดพ้นจากการบาดเจ็บเมื่อล้มในความเร็วระดับนั้นนอกจากโชคแล้ว ปรัชญาที่ดาวบิดเบอร์ 93 นำมาใช้คือต้องฝึกร่างกายให้ยืดหยุ่นเหมือนแมวและแข็งแรงเหมือนหมา โดยในการฝึกซ้อม ดาวบิดจากเคอร์เวร่าจะเพิ่มการฝึกเรื่องความคล่องตัวและยืดหยุ่นของร่างกายเข้ามาในโปรแกรมด้วย ซึ่งจะช่วยผ่อนหนักเป็นเบาในเวลาที่ล้มส่วนด้านล่างนี้เป็นสถิติการล้มของแชมป์โลกประจำแต่ละฤดูกาลตั้งแต่ปี 2007 เป็นต้นมา2007 Casey Stoner - 62008 Valentino Rossi - 42009 Valentino Rossi - 42010 Jorge Lorenzo - 32011 Casey Stoner - 72012 Jorge Lorenzo - 52013 Marc Marquez - 152014 Marc Marquez - 112015 Jorge Lorenzo - 32016 Marc Marquez - 172017 Marc Marquez - 27จากสถิติด้านบนจะเห็นได้ว่า MM93 เป็นแชมป์โลกที่ล้มแบบไม่เกรงหน้าอินทร์หน้าพรมจริงๆ ถ้านับตั้งแต่ปี 2007 เป็นต้นมาแชมป์โลกอย่างสโตนเนอร์, รอสซี่หรือลอเลนโซ่นั้นล้วนแต่ล้มไม่เกิน 10 ครั้งต่อฤดูกาล โดยเฉพาะ JL99 ที่ล้มน้อยมากๆ แต่สำหรับมาเกวซนั้นเป็นอะไรที่ต่างออกไป ขนาดปี 2014 ที่ว่าขี่ได้แบบไร้เทียมทานยังล้มไปตั้ง 11 ครั้ง จนมาถึงฤดูกาลนี้ ยังเดินหน้าเก็บสถิติล้มเกิน 20 ครั้งมาครอง ห้า ห้า เรียกได้ว่าเป็นแชมป์โลกในสไตล์คลุกฝุ่นของจริงเพื่อเป็นเกียรติยศและศักดิ์ศรี เราขอมอบประโยคสั้นๆให้กับบรรดานักแข่งที่ล้มมากที่สุด 10 อันดับของฤดูกาล 2017 ดังนี้1. Sam Lowes #22 (Aprilia)2. Marc Márquez #93 (Honda)3. Álvaro Bautista #19 (Ducati)4. Cal Crutchlow #35 (Honda)5. Aleix Espargaró #41 (Aprilia)6. Loris Baz #76 (Ducati)6. Karel Abraham #17 (Ducati)6. Andrea Iannone #29 (Suzuki)9. Jack Miller # 43 (Honda)10. Johann Zarco #5 (Yamaha)จบ เอิ๊กๆขอบคุณข้อมูลและรูปภาพจากเว็บMotoGP,Motomatter,Crash.net,Speedweekฟอนท์จากเว็บ f0nt.com รวมถึงจากเว็บอื่นๆที่ไม่ได้เอ่ยถึงด้วยครับแก้ไขข้อความเมื่อ\n",
      "\n",
      "sentiment score:-13\n",
      "Cagiva Stella (คาจิว่า สเตลล่า) กระเทยจากอิตาลี Cagiva Stellaกระแสรถมอเตอร์ไซค์ในช่วงยุค 90 นอกเหนือไปจากรถจักรยานยนต์ทรงสปอร์ตขนาด 150cc ที่ได้รับความนิยมแล้ว ก็ยังมีรถจักรยานยนต์ทรงกระเทยที่ได้รับความนิยมควบคู่ไปกับรถทรงสปอร์ตเช่นกัน ซึ่งถ้ามองมูลค่าในด้านเม็ดเงินจากรถจักรยานยนต์ทรงกระเทยแล้ว อาจจะพูดได้ว่าน่าลิ้มลองยิ่งนัก ส่งผลทำให้ค่ายรถจักรยานยนต์ต่างๆ ส่งรถจักรยานยนต์ทรงกระเทยเข้าสู่ตลาดCagiva (คาจิว่า) ก็เปรียบดังผู้ที่อยากจะเข้ามาลิ้มลองแบ่งก้อนเงินจากตลาดรถทรงกระเทยเช่นกัน โดยทาง Cagiva เป็นรถสัญชาติอิตาลี่ โดยมีบริษัท คาจิว่า มอเตอร์(เอเชีย-แปซิฟิก) เป็นผู้จัดจำหน่ายอย่างเป็นทางการCagiva ใช้วิศวกรไทยและอิตาลีในการออกแบบพัฒนารถจักรยานยนต์ที่มีความเหมาะสมกับสภาพถนนและสภาพการขับขี่ของผู้ใช้ โดยการวิจัยพัฒนาในครั้งนี้มีศูนย์วิจัยชื่อว่า ศูนย์วิจัยและพัฒนารถจักรยานยนต์คาจิว่า หรือ C.R.C (Cagiva Reseach Center) ตั้งอยู่ที่สาธารณรัฐซานมาริโน (San Marino)สำหรับงานวิจัยและพัฒนาทำให้ทาง Cagiva ได้ผลิตรถจักรยานยนต์ที่มีชื่อรุ่นว่า Stella (สเตลล่า) ซึ่งมีขนาดความเครื่องยนต์อยู่ที่ 115 cc โดยมีกำหนดการวางจำหน่ายในประเทศไทยในวันที่ 9 กันยายน 2539Stella 115 มาพร้อมกับเครื่องยนต์ 2 จังหวะที่ทรงพลัง โดยได้รับการพัฒนาจากทีมวิจัย C.R.C ซึ่งมีปริมาตรกระบอกสูบ 115.88 CC ระบายความร้อนด้วยน้ำ สามารถทำแรงม้าสูงสุดได้ที่ 23.8 แรงม้า ที่รอบเครื่อง 10,000 รอบ/นาที และแรงบิดสูงสุดอยู่ที่ 1.66 กก-ม. ที่รอบเครื่อง 10,000 รอบ/นาทีระบบไอดีแบบแคร๊งเคสรีดวาล์ว โดยทาง Cagiva ได้พัฒนาในการป้องกันประจุไอดีเข้าตรงห้องแครงตามทิศทางการหมุนของเพลาข้อเหวี่ยง พร้อมทั้งยังปรับทิศทางการไหลของไอดีให้เป็นไปอย่างต่อเนื่องผสมกับรีดวาล์วที่มีการเปิดปิดที่แม่นยำ ซึ่งส่งผลให้เครื่องยนต์มีประสิทธิ์ภาพในทุกๆ รอบความเร็วกระบอกสูบเคลือบ (Nickel Silicon Carbide Coating) และลูกสูบแบบหัวเรียบ โดยทาง Cagiva ได้นำเทคโนโลยีจากสนามแข่งมาปรับใช้กับ Stella ซึ่งสำหรับความพิเศษของการเคลือบกระบอกสูบคือช่วยลดความฝืด มีน้ำหนักที่เบา และกระจายความร้อนได้ดีเยี่ยม ส่งผลทำให้ลดอัตราความเสี่ยงลูกสูบติดระบบควบคุมการคายไอเสีย C.T.S (Cagiva Torque System) โดยทาง Cagiva ได้นำระบบ C.T.S ควบคุมการคายไอเสียให้มีความสัมพันธ์กับรอบความเร็วเครื่องยนต์ตัวถังแบบอันเดอร์โบน Stella เลือกใช้ตัวถังแบบอันเดอร์โบนที่มีขนาดใหญ่ สามารถทนต่อแรงบิดสูง พร้อมทั้งสวิงอาร์มทรงเหลี่ยมขนาดใหญ่ เพิ่มความมั่นใจให้แก่ผู้ขับขี่โช๊คอัพเดี่ยว Nitrogen Gas โช๊คอัพระบบใหม่ล่าสุดของรถจักรยานยนต์ที่ทำงานผสมผสานกับแก๊ส ซึ่งข้อดีของโช๊คอัพแบบแก๊สคือเพิ่มการรองรับแรงสั่นสะเทือนและให้ความนุ่มนวลในการขับขี่ดิสก์เบรดหน้า-หลัง แบบลูกสูบคู่ โดย Stella ติดตั้งระบบเบรกแบบลูกสูบคู่หน้าหลัง เพิ่มความมั่นใจในการเบรก พร้อมทั้งจานเบรกหน้าที่มีขนาด 240 มม. และจานเบรกหลังขนาด 200 มม. อีกทั้งใช้ผ้าเบรกแบบพิเศษไร้สารแอสเบสตอลทั้งนี้ Stella ยังให้สิทธิ์พิเศษ ได้แก่ ตวรจสภาพฟรี 4 ครั้ง• ครั้งที่ 1 ระยะ 1000 แรก• ครั้งที่ 2 ระยะ 4000 กม• ครั้งที่ 3 ระยะ 7000 กม• ครั้งที่ 4 ระยะ 10000 กมสำหรับสิ่งที่เกิดขึ้นนี้ ทั้งในด้านเทคโนโลยีในรถมอเตอร์ไซค์ รวมไปถึงการบริการหลังการขาย ถือได้ว่าเป็นจุดเด่นสำคัญที่จะมาช่วงชิงพื้นที่ของตลาดรถกระเทยในประเทศไทย------------Cagiva Stella New 125R (เร็ว แรง กระชากใจ)สำหรับ Stella 125R เป็นการพัฒนาต่อยอดจาก Stella 115 ทั้งนี้ทาง Cagiva ได้วิจัยและพัฒนาโดย  C.R.C  เหมือนครั้งก่อน ทั้งนี้ได้มีความพิเศษกว่านั้นคือทาง Cagiva ได้จับมือกับ PDK ในการพัฒนา Stella 125R ด้วยเช่นกันStella 125 มาพร้อมกับเครื่องยนต์ 2 จังหวะที่ทรงพลัง มีปริมาตรกระบอกสูบ 123.45 CC ระบายความร้อนด้วยน้ำ สำหรับในส่วนของแรงม้าไม่ได้ระบุไว้ แต่คาดว่าคงจะเพิ่มจากเดิมที่มี 23.8 แรงม้า อย่างแน่นอนในส่วนของเครื่องยนต์นอกจากปริมาตรกระบอกสูบที่เพิ่มขึ้น ในส่วนอื่นๆของเครื่องยังคงใช้เทคโนโลยีเหมือนรุ่น 115 ccทั้งนี้สำหรับองค์ประกอบต่างๆ ที่เปลี่ยนแปลงไปจากเดิมได้แก่- โช๊คหลังเดียวแบบแก๊ส ปรับได้ 5 ระดับ ซึ่งตัวโช๊คหลังเดียวแบบไนโตรเจนก๊าซ- ถังน้ำมันแบบพิเศษแบบเดียวกับรถเก๋ง โดยเป็นถังน้ำมันจากวัสดุสังเคราะห์ หมดกังวลเรื่องสนิมอย่างแน่นอน- ล้อแม็กกราไฟต์ สีดำด้าน ตามความนิยมของกระแสรถแม็กในช่วงนั้นนอกจากนี้ยังมีไฮไลท์สำคัญ คืออุปกรณ์ชุดปรับแต่งพิเศษ- คาร์บูเรเตอร์ มิคูนิ 26ss- ปลายท่อรถแข่ง PDK Racingข้อมูลเปรียบเทียบระหว่าง Stella 115 กับ Stella 125-------ในช่วงที่รถทรงกระเทยกำลังได้ความนิยม ไม่อาจปฏิเสธได้ว่าส่วนแบ่งทางการตลาดทั้งหมดอยู่กับค่ายรถญี่ปุ่นทั้ง 4 ค่าย Honda Yamaha Kawasaki และ Suzuki สำหรับค่าย Cagiva ถือได้ว่าเป็นการเดิมพันที่น่าชมเชย ในการมาทำตลาดรถทรงกระเทยในประเทศไทยการเปิดตัวในปี 2539 ของทาง Stella 115 อาจล่าช้าไปเสียหน่อย แต่ในความล่าช้าที่เกิดขึ้น แอบแฝงไปด้วยรายละเอียดและความใส่ใจในการออกแบบและพัฒนา Stellaไม่อาจปฏิเสธได้ว่ารถทรงกระเทยเบอร์ 1 ในด้านความแรงคงหนีไม่พ้น Honda Dash ทั้งนี้สำหรับ Dash 125 Rs มีแรงม้าอยู่ที่ 22 แรงม้า ซึ่งถ้าเปรียบเทียบกับ Stella 115 มีแรงม้าอยู่ที่ 23.8 แรงม้าเลยที่เดียวStella เป็นรถกระเทยรุ่นเดียวในประเทศไทยที่มีวาล์วแบบในรถ 150ccด้วยความเร็วแรงและงานออกแบบของ Stella ทำให้ทางค่าย Cagiva สามารถแจ้งเกิดรถรุ่นนี้ได้ แต่สำหรับความเร็วแรงและเทคโนโลยีที่มากับรถมันมีราคา ทำให้ Stella มีราคาแพงกว่ารถทรงกระเทยทั่วไปแม้จะงัดบริการหลังการขายมาสู้กับค่ายญี่ปุ่นอย่างสุดฤทธิ์ ไม่ว่าจะเป็การตรวจเช็ดสภาพฟรี การประกันเครื่องที่ 15,000 กิโล หรือแม้แต่รับประกันราคาซื้อคืน แต่ศูนย์บริการและอะไหล่ยังคงเป็นหัวใจสำคัญในการตัดสินใจซื้อรถมอเตอร์ไซค์ หากนึกย้อนกลับไปเมื่อ 20 ปีก่อน ในยุคที่ชาวบ้านและร้านค้ายังไม่มีอินเตอร์เน็ต การสแหวงหาอะไหล่ยังคงเป็นเรื่องที่ยาก ซึ่งปัจจัยเหล่านี้ส่งผลอย่างมากในการเลือกซื้อรถCagiva Stella แม้ยอดขายไม่ได้ดิบดีหรือติดตลาดเหมือนกับรถทรงกระเทยจากค่ายญี่ปุ่น แต่ไม่อาจจะปฏิเสธได้ว่าชื่อ Stella สามารถแจ้งเกิดในด้านความเร็วความแรงของรถทรงกระเทยได้เป็นอย่างดี ในปัจจุบันยังสามารถพบเห็นการซื้อขายได้อยู่เป็นอยู่เรื่อยๆ ซึ่งสิ่งนี้อาจเป็นตัวการันตีถึงคุณภาพของ Cagiva Stella ได้เป็นอย่างดี แม้เวลาจะล่วงเลยผ่านมา 22 ปีแล้วก็ตาม-------------แหล่งข้อมูลhttps://www.facebook.com/groups/724093804294820https://www.facebook.com/groups/2tspechttps://www.facebook.com/groups/960078604050837/#Stella #Stella115 #Stella125 #Cagivaฝากเพจหน่อยครับhttps://www.facebook.com/ต้นรถเป็นอะไรอะ-451481885345798\n",
      "\n",
      "sentiment score:-9\n",
      "MotoGP Review สนาม 14/2018: ภาระกิจดับซ่าส์ดูคาติของ MM93 + Suzuki เวอร์ชั่นติดฉนวนกันความร้อน กลับมาสนุกเร้าใจอีกครั้ง สำหรับการแข่งขันโมโตจีพีที่สนามมอเตอร์แลนด์ แอรากอนเมื่อสุดสัปดาห์ที่ผ่านมา โดยผลการแข่งขันก็เป็น มาร์ค มาเกวซที่เบียดเอาชนะอันเดรีย โดวิซิโอโซ่คว้าชัยชนะไปอย่างสุดมัน รวมถึงมีมาม่าชามเล็กๆมาให้พวกเราได้กินกันต่อ กับประเด็นที่โค้ง 1 ในจังหวะที่รถดูคาติเบอร์ 99 ของฮอร์เฮ ลอเรนโซ่พลาดล้ม ต้องออกจากการแข่งขันไปตั้งแต่นกกระจอกยังไม่ทันได้จิบน้ำลอเรนโซ่ เจ้าเวหาที่แอรากอนจีพีปีนี้ ทางสนามได้มีการประกาศเปลี่ยนชื่อโค้ง 10 มาเป็นชื่อ Marc Marquez อย่างเป็นทางการ เพื่อเป็นการเชิดชูเกียรติให้กับยอดนักแข่งเบอร์ 93 คนนี้ หลังจากที่ก่อนหน้านี้ Jorge Lorenzo ได้รับชื่อที่โค้งสุดท้ายของสนาม Jerez ไปแล้วเมื่อปี 2013 โดยตามธรรมเนียมของชาวสเปนนั้น การมอบชื่อโค้งให้กับนักแข่งที่ยังลงแข่งขันอยู่นั้นถือเป็นเรื่องปกติ ซึ่งจะต่างจากธรรมเนียมของชาวอิตาเลี่ยน ที่จะมีการมอบชื่อเพื่อเป็นเกียรติให้กับนักแข่ง ก็ต่อเมื่อได้ลาจากโลกนี้ไปแล้วเท่านั้น ซึ่งบางครั้งไม่ใช่แค่ชื่อโค้ง แต่เป็นการให้ชื่อพวกเข้าไปในชื่อของสนามเลยก็มีMarc Marquez 93ทั้งนี้ เรื่องนักแข่งสำรองที่จะมาขี่แทนติโต้ ราบัทของทีมอวินเทียนั้น ก็ยังมีดราม่าตามต่อเนื่องมาจากที่มิซาโน่ เพราะเดิมที เจ้าพอนสันนั้นได้เซ็นสัญญากับทีมไว้ยาวถึง 4 สนาม (ซึ่งเจ้าตัวหวังว่าเค้าจะค่อยๆเรียนรู้และทำผลงานได้ดีขึ้นเรื่อยๆ) แต่เมื่อมีสัญญาณต่อต้านออกมา ทีม Avintia ถูกบีบให้ยกเลิกสัญญา ทำให้เจ้าตัวบ่นอุบว่า ไม่ยักกะรู้ว่ามาเฟียในโมโตจีพีมันเฮี้ยนขนาดนี้ ห้าห้า ทำให้ต้องไปดึงจอร์ดี้ ทอเรส นักแข่ง WSBK ของ MV Agusta มาแข่งแทน ที่แม้จะไม่เคยจับรถ MotoGP มาก่อนเช่นกัน แต่ชื่อชั้นนั้นถือว่าดีกว่าอยู่พอสมควรรวมถึงเคยแข่งในรุ่น Moto2 มาก่อน และจากประเด็นความขัดแย้งตรงนี้นี้ ทำให้ต้องมีการออกกฏใหม่เพิ่มขึ้นมาว่า นักแข่งสำรองที่ทีมจะเลือกมาแข่งแทนนักแข่งที่ได้รับบาดเจ็บนั้น จะต้องได้รับการเห็นชอบจากคณะกรรมธิการเสียก่อนเดี๋ยวเราจะลองไปไล่ย้อนดูว่ามีเหตุการณ์อะไรที่น่าสนใจเกิดขึ้นในสนามนี้บ้าง\n",
      "\n",
      "sentiment score:-9\n",
      "MotoGP Review สนาม 2/2018: LCR vs Tech3, Suzuki กลับขึ้นโพเดี่ยมและอีกครั้งสำหรับศึกระหว่าง VR46 vs MM93 สายฝนที่ตกลงมาในช่วงสุดสัปดาห์ที่กรุงซานดิอาโก้ เดล เอสเทโร ซึ่งเป็นที่ตั้งของสนามเทอร์มาส เดอ ริโอ ฮอนโดะ ได้นำพาซึ่งความวุ่นวาย โกลาหลครั้งใหญ่มาสู่การแข่งขันโมโตจีพี โดยการแข่งขันเมื่อวันอาทิตย์ที่ผ่านมานั้น นับเป็นการแข่งที่มีเหตุการณ์ต่างๆเกิดขึ้นมากที่สุดครั้งหนึ่งในประวัติศาสตร์ของการแข่งขันมอเตอร์ไซค์ทางเรียบชิงแชมป์โลกเลยก็ว่าได้ และแน่นอนว่านี่คือความวุ่นวายอันดับ 1 สำหรับส่วนตัวที่เพิ่งเริ่มติดตามโมโตจีพีแบบจริงจังมาแค่สิบกว่าปีเรียกได้ว่าเป็นบ่ายวันอาทิตย์ที่ยาวนาน มีหลากหลายประเด็นดราม่าเกิดขึ้น จนตามกันแทบไม่หวาดไม่ไหว ทำให้บรรดาเจ้าหน้าที่สตาฟท์ของ FIM, Dorna ทั้งที่ทำหน้าที่ควบคุมการแข่งขันและเจ้าหน้าที่ภาคสนาม รวมไปถึงบรรดานักข่าวนี่งานเข้ากันไปตามๆกัน เริ่มตั้งแต่มีการเลื่อนการแข่งขันออกไป จากความโกลาหลในการกลับเข้าไปเปลี่ยนยาง จังหวะกำลังจะออกสตาร์ทก็มีเหตุการณ์ขึ้นอีก ถัดไปคือการปะทะกันในสนามที่นับไม่หวาดไม่ไหว ก่อนที่จะตามมาด้วยความขัดแย้งครั้งใหม่ระหว่างมาร์ค มาเกวซและวาเลนติโน่รอสซี่แขกรับเชิญที่สนาม Autódromo Termas de Río Hondoยิ่งมีประเด็นร้อนระหว่างมวยคู่หยุดโลกอย่าง Rossi และ Marquez เกิดขึ้นแล้วด้วย เรื่องธรรมดาก็กลายเป็นเรื่องใหญ่ได้ และแน่นอนว่าเหตุการณ์ในโค้ง 13 นั้นทำบรรยากาศในแพดด็อคหลังจบการแข่งขันนั้นกลับมาเต็มไปด้วยความตึงเครียดอีกครั้ง เดี๋ยวเราจะลองย้อนกลับไปเก็บตกเรื่องราวที่เกิดขึ้นในรายการอาร์เจนติน่า จีพีกัน\n",
      "\n",
      "sentiment score:-5\n",
      "ผมโดนผู้แทนขาย(เซลล์) ของรถยนต์ซูซูกิ แบน พร้อมทั้งประจาน ครับ กระผม เป็นลูกค้าของบริษัท ซูซูกิ มอเตอร์ประเทศไทย จำกัด ที่ผ่านมากระผมได้เดินทางไปติดต่อศูนย์บริการหลายศูนย์ อาทิ ซูซูกิ สมุทรสงคราม เพชรบุรี บางบัวทอง และบางใหญ่ ได้รับความรู้และการตอนรับที่ดีมาโดยตลอด ซึ่งกระผมมีความปรารถนาจะซื้อรถซูซูกิ รุ่น เซ่เรลิโอ เกียร์ออโต หลังจากที่เข้าไปรับบริการข้อมูลพร้อมทั้งได้รับข้อเสนอราคาดังกล่าวมาเพื่อใช้พิจารณาซื้อรถยนต์ โดยกระผมได้ทำการเจรจาต่อรองกับผู้ขายในศูนย์ที่เข้ารับบริการมาแล้วรวมถึงศูนย์บริการซูซูกิอื่นนอกเหนือจากที่ได้เข้ารับบริการ จนกระทั่งกระผมได้รับข้อเสนอที่ดีที่สุด และพร้อมทำการซื้อขาย หากแต่มีปัญหาเกิดขึ้นกับกระผมเนื่องจากผู้ทำการขายของศูนย์บริการแห่งหนึ่งโดยมีนามย่อว่า “M ซึ่งอาจเกียวข้องกับผู้ที่ใช้นามแฝงในสื่อโซเซียวมีเดีย(facebook)นามว่า \"s\" ซึ่งเป็นผู้ดูแลในกลุ่ม \"suzuki...\" ได้กล่าวหาว่าผมมีพฤติกรรมนำข้อมูลราคารถยนต์รุ่นดังกล่าว (ซึ่งบริษัท ซูซูกิมอเตอร์ ประเทศไทย เปิดเผยราคาดังกล่าวในเวปไซด์) พร้อมของสมนาคุณ มาเปรียบเทียบและเป็นต้นเหตุก่อให้ผู้แทนขายหลายท่านเสียผลประโยชน์ นอกจากนี้กลุ่มคนดังกล่าวทำการปิดช่องทางการสื่อสารในโซเชียวมีเดียพร้อมประจานและอธิบายหลักการของกลุ่มตนว่า การเจรจาซื้อขายรถยนต์เป็นความลับระหว่างผู้ต้องการซื้อและผู้แทนขาย มิอาจให้ผู้อื่นผู้ใดมาล่วงรู้ เพราะส่งผลต่อรายได้พร้อมทั้งผลประโยชน์ต่อกลุ่มของพวกตนที่พึ่งจะได้รับสำหรับเหตุการณ์ดังกล่าวนี้เองส่งผลให้กระผมผิดหวังกับความปรารถนาต้องการเป็นเจ้าของรถซูซูกิ และมิอาจทำใจยอมรับเรื่องดังกล่าวได้จึงแจ้งให้ทราบโดยทั่วกันครับจากลูกค้าธรรมดาคนหนึ่งที่โดนเซลล์ซูซูกิแบน จากการต่อรองราคารถยนต์\"\n",
      "\n"
     ]
    }
   ],
   "source": [
    "kws = ['suzuki']\n",
    "dt = datetime.date(2018,11,1)\n",
    "win_len = 365\n",
    "\n",
    "idxs=[]\n",
    "for i,tkn in enumerate(tokens_post):\n",
    "    for kw in kws:\n",
    "        if kw in tkn:\n",
    "            idxs.append(i)\n",
    "            break\n",
    "\n",
    "df_temp = df_post.copy()\n",
    "df_temp = df_temp.iloc[idxs]\n",
    "print('Total posts:',len(df_temp))\n",
    "# filter by datetime\n",
    "df_temp = df_temp.loc[(df_temp.post_date < dt)&\\\n",
    "                      (dt - df_temp.post_date.dt.date < datetime.timedelta(days=win_len))]\n",
    "print('Total mentions:',len(df_temp),'\\n')\n",
    "_=df_temp.sentiment.value_counts().plot('barh')\n",
    "plt.show()\n",
    "_=df_temp['sent_score'].hist()\n",
    "plt.show()\n",
    "# show top 5 positive and negative posts\n",
    "for row in df_temp.sort_values('sent_score',ascending=False).head(5)[['title-content','sent_score']].iterrows():\n",
    "    print('sentiment score:' + str(row[1]['sent_score'] )+ '\\n' + row[1]['title-content']+'\\n')\n",
    "\n",
    "print('##############################################################################################################')\n",
    "\n",
    "for row in df_temp.sort_values('sent_score',ascending=True).head(5)[['title-content','sent_score']].iterrows():\n",
    "    print('sentiment score:' + str(row[1]['sent_score'] )+ '\\n' + row[1]['title-content']+'\\n')"
   ]
  },
  {
   "cell_type": "code",
   "execution_count": null,
   "metadata": {},
   "outputs": [],
   "source": []
  }
 ],
 "metadata": {
  "kernelspec": {
   "display_name": "Python 3",
   "language": "python",
   "name": "python3"
  },
  "language_info": {
   "codemirror_mode": {
    "name": "ipython",
    "version": 3
   },
   "file_extension": ".py",
   "mimetype": "text/x-python",
   "name": "python",
   "nbconvert_exporter": "python",
   "pygments_lexer": "ipython3",
   "version": "3.7.1"
  }
 },
 "nbformat": 4,
 "nbformat_minor": 2
}
