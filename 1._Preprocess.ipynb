{
 "cells": [
  {
   "cell_type": "markdown",
   "metadata": {},
   "source": [
    "## Data Import"
   ]
  },
  {
   "cell_type": "code",
   "execution_count": 2,
   "metadata": {},
   "outputs": [],
   "source": [
    "import pandas as pd\n",
    "import re\n",
    "pd.options.display.max_columns = 999\n",
    "pd.options.display.max_rows = 999\n",
    "import numpy as np\n",
    "import matplotlib.pyplot as plt\n",
    "%matplotlib inline\n",
    "from tqdm import tqdm, tqdm_notebook, trange\n",
    "tqdm.pandas()\n",
    "import pickle"
   ]
  },
  {
   "cell_type": "code",
   "execution_count": 3,
   "metadata": {},
   "outputs": [
    {
     "name": "stderr",
     "output_type": "stream",
     "text": [
      "/Users/witchapong/anaconda3/lib/python3.6/site-packages/IPython/core/interactiveshell.py:3020: DtypeWarning: Columns (6) have mixed types. Specify dtype option on import or set low_memory=False.\n",
      "  interactivity=interactivity, compiler=compiler, result=result)\n"
     ]
    }
   ],
   "source": [
    "use_col_post = ['category','content_id','user_id','title','tags','post_date','last_update','content']\n",
    "df_post = pd.read_csv('../src/pantip_car_post.csv',usecols=use_col_post)\n",
    "\n",
    "# use_col_cmt = ['category','content_id','user_id','comment','tags','post_date','last_update']\n",
    "# df_cmt = pd.read_csv('../src/pantip_car_comment.csv',usecols=use_col_cmt)"
   ]
  },
  {
   "cell_type": "code",
   "execution_count": 14,
   "metadata": {},
   "outputs": [],
   "source": [
    "# df_post = pd.read_csv('../src/pantip_aviation.csv')\n",
    "# df_post = df_post.iloc[:,[5,6,9,11,12,15,16,17]]\n",
    "# df_post.columns = ['category','content_id','user_id','title','tags','post_date','last_update','content']"
   ]
  },
  {
   "cell_type": "code",
   "execution_count": 3,
   "metadata": {},
   "outputs": [],
   "source": [
    "# major car manufacturer\n",
    "# Honda: CRV ,BRV, CIVIC, CITY, JAZZ, ACCORD\n",
    "# Toyota: CHR, ALTIS, YARIS, VIOUS, CAMRY"
   ]
  },
  {
   "cell_type": "code",
   "execution_count": 4,
   "metadata": {},
   "outputs": [
    {
     "data": {
      "text/html": [
       "<div>\n",
       "<style scoped>\n",
       "    .dataframe tbody tr th:only-of-type {\n",
       "        vertical-align: middle;\n",
       "    }\n",
       "\n",
       "    .dataframe tbody tr th {\n",
       "        vertical-align: top;\n",
       "    }\n",
       "\n",
       "    .dataframe thead th {\n",
       "        text-align: right;\n",
       "    }\n",
       "</style>\n",
       "<table border=\"1\" class=\"dataframe\">\n",
       "  <thead>\n",
       "    <tr style=\"text-align: right;\">\n",
       "      <th></th>\n",
       "      <th>category</th>\n",
       "      <th>content_id</th>\n",
       "      <th>user_id</th>\n",
       "      <th>title</th>\n",
       "      <th>tags</th>\n",
       "      <th>post_date</th>\n",
       "      <th>last_update</th>\n",
       "      <th>content</th>\n",
       "    </tr>\n",
       "  </thead>\n",
       "  <tbody>\n",
       "    <tr>\n",
       "      <th>0</th>\n",
       "      <td>auto</td>\n",
       "      <td>38339573</td>\n",
       "      <td>3300767.0</td>\n",
       "      <td>Scoopi I  วิ่งอยู่ดีๆเกิดสำลัก สะดุด แล้วดับกล...</td>\n",
       "      <td>มอเตอร์ไซค์,Honda Scoopy i,Honda (มอเตอร์ไซค์)</td>\n",
       "      <td>2018-12-06 21:33:54</td>\n",
       "      <td>0000-00-00 00:00:00</td>\n",
       "      <td>Scoopi I   วิ่งอยู่ดีๆเกิดสำลัก สะดุด แล้วดับก...</td>\n",
       "    </tr>\n",
       "    <tr>\n",
       "      <th>1</th>\n",
       "      <td>auto</td>\n",
       "      <td>38339569</td>\n",
       "      <td>4918714.0</td>\n",
       "      <td>ทำไมรถFormula 1 เครื่องยนต์1.6ลิตร แต่แรงม้า70...</td>\n",
       "      <td>ไซเบอร์ฟอร์มูล่า,Formula 1,รถยนต์ไฮบริด,Super ...</td>\n",
       "      <td>2018-12-06 21:32:58</td>\n",
       "      <td>0000-00-00 00:00:00</td>\n",
       "      <td>1.6L คือ 1600 CC หรือป่าวถ้าเข้าใจผิดขออภัย แต...</td>\n",
       "    </tr>\n",
       "    <tr>\n",
       "      <th>2</th>\n",
       "      <td>auto</td>\n",
       "      <td>38339500</td>\n",
       "      <td>885135.0</td>\n",
       "      <td>จะซื้อรถใหม่ ขอคำแนะนำครับ</td>\n",
       "      <td>รถยนต์,ดูแลรักษารถยนต์,Toyota Yaris,Mazda 2 Sp...</td>\n",
       "      <td>2018-12-06 21:13:34</td>\n",
       "      <td>0000-00-00 00:00:00</td>\n",
       "      <td>ระหว่าง มาสด้า hi connect  620000กับ ยาริส  ตั...</td>\n",
       "    </tr>\n",
       "    <tr>\n",
       "      <th>3</th>\n",
       "      <td>auto</td>\n",
       "      <td>38339462</td>\n",
       "      <td>4890089.0</td>\n",
       "      <td>งง กับ Filano hybrid</td>\n",
       "      <td>Yamaha,มอเตอร์ไซค์</td>\n",
       "      <td>2018-12-06 21:05:53</td>\n",
       "      <td>0000-00-00 00:00:00</td>\n",
       "      <td>คือว่าเรากำลังจะซื้อ Filano hybrid ตัวtop ที่เ...</td>\n",
       "    </tr>\n",
       "    <tr>\n",
       "      <th>4</th>\n",
       "      <td>auto</td>\n",
       "      <td>38339443</td>\n",
       "      <td>531171.0</td>\n",
       "      <td>บัตรมอเตอร์ expo เป็นบัตรฟรีหรือต้องเสียตังค์ครับ</td>\n",
       "      <td>รถยนต์</td>\n",
       "      <td>2018-12-06 21:02:19</td>\n",
       "      <td>0000-00-00 00:00:00</td>\n",
       "      <td>NaN</td>\n",
       "    </tr>\n",
       "  </tbody>\n",
       "</table>\n",
       "</div>"
      ],
      "text/plain": [
       "  category content_id    user_id  \\\n",
       "0     auto   38339573  3300767.0   \n",
       "1     auto   38339569  4918714.0   \n",
       "2     auto   38339500   885135.0   \n",
       "3     auto   38339462  4890089.0   \n",
       "4     auto   38339443   531171.0   \n",
       "\n",
       "                                               title  \\\n",
       "0  Scoopi I  วิ่งอยู่ดีๆเกิดสำลัก สะดุด แล้วดับกล...   \n",
       "1  ทำไมรถFormula 1 เครื่องยนต์1.6ลิตร แต่แรงม้า70...   \n",
       "2                         จะซื้อรถใหม่ ขอคำแนะนำครับ   \n",
       "3                               งง กับ Filano hybrid   \n",
       "4  บัตรมอเตอร์ expo เป็นบัตรฟรีหรือต้องเสียตังค์ครับ   \n",
       "\n",
       "                                                tags            post_date  \\\n",
       "0     มอเตอร์ไซค์,Honda Scoopy i,Honda (มอเตอร์ไซค์)  2018-12-06 21:33:54   \n",
       "1  ไซเบอร์ฟอร์มูล่า,Formula 1,รถยนต์ไฮบริด,Super ...  2018-12-06 21:32:58   \n",
       "2  รถยนต์,ดูแลรักษารถยนต์,Toyota Yaris,Mazda 2 Sp...  2018-12-06 21:13:34   \n",
       "3                                 Yamaha,มอเตอร์ไซค์  2018-12-06 21:05:53   \n",
       "4                                             รถยนต์  2018-12-06 21:02:19   \n",
       "\n",
       "           last_update                                            content  \n",
       "0  0000-00-00 00:00:00  Scoopi I   วิ่งอยู่ดีๆเกิดสำลัก สะดุด แล้วดับก...  \n",
       "1  0000-00-00 00:00:00  1.6L คือ 1600 CC หรือป่าวถ้าเข้าใจผิดขออภัย แต...  \n",
       "2  0000-00-00 00:00:00  ระหว่าง มาสด้า hi connect  620000กับ ยาริส  ตั...  \n",
       "3  0000-00-00 00:00:00  คือว่าเรากำลังจะซื้อ Filano hybrid ตัวtop ที่เ...  \n",
       "4  0000-00-00 00:00:00                                                NaN  "
      ]
     },
     "execution_count": 4,
     "metadata": {},
     "output_type": "execute_result"
    }
   ],
   "source": [
    "df_post.head()"
   ]
  },
  {
   "cell_type": "code",
   "execution_count": 5,
   "metadata": {},
   "outputs": [
    {
     "data": {
      "text/plain": [
       "(417346, 8)"
      ]
     },
     "execution_count": 5,
     "metadata": {},
     "output_type": "execute_result"
    }
   ],
   "source": [
    "df_post.shape"
   ]
  },
  {
   "cell_type": "code",
   "execution_count": 6,
   "metadata": {},
   "outputs": [],
   "source": [
    "df_post['title-content'] = df_post['title'].fillna('') + ' ' + df_post['content'].fillna('')"
   ]
  },
  {
   "cell_type": "code",
   "execution_count": 7,
   "metadata": {},
   "outputs": [
    {
     "name": "stdout",
     "output_type": "stream",
     "text": [
      "สอบถามเส้นทางจากอุดมสุข ไปฟิวเจอร์พาร์ค รังสิตค่ะ พอดีวันที่ 29 นี้จะต้องเดินทางไปตรวจร่างกายที่ ศูนย์การแพทย์สมเด็จพระเทพรัตราชสุดาสยามบรมราชกุมารี ที่องค์รักษ์อะค่ะ แล้วไม่เคยเดินทางไปเส้นนั้นเลย  รู้แค่เพียงว่าต้องไปขึ้นรถตู้ที่ฟิวเจอร์ฯ  คุณหมอนัด 9 โมงเช้า ต้องเดินทางโดยรถโดยสารทางไหนที่คะ รถตู้ หรือแทกซี่ ดีคะ รบกวนด้วยนะคะ\n"
     ]
    }
   ],
   "source": [
    "# randomly check the text\n",
    "rand_topic_content = df_post.loc[np.random.randint(0,df_post.shape[0]),'title-content']\n",
    "print(rand_topic_content)"
   ]
  },
  {
   "cell_type": "markdown",
   "metadata": {},
   "source": [
    "## Text cleaning"
   ]
  },
  {
   "cell_type": "code",
   "execution_count": 8,
   "metadata": {},
   "outputs": [],
   "source": [
    "# prepare token from pantip data\n",
    "import string\n",
    "import re\n",
    "\n",
    "# put everything all together as a function\n",
    "def clean_msg(msg):\n",
    "    \n",
    "    # remove all the html notation---OK\n",
    "    msg = re.sub( r\"(\\<(\\/)?(\\w)*(\\d)?\\>)\",'', msg)\n",
    "    \n",
    "    # remove the link---OK\n",
    "    msg = re.sub(r'https*.*? ',' url ',msg)\n",
    "    \n",
    "    # remove the link2---OK\n",
    "    msg = re.sub(r'https*.*',' url ',msg)\n",
    "\n",
    "    # remove the link3---OK\n",
    "    msg = re.sub(r'www*.*? ',' url ',msg)\n",
    "    \n",
    "    # remove the link4---OK\n",
    "    msg = re.sub(r'www*.*',' url ',msg)\n",
    "    \n",
    "    # remove the email---OK\n",
    "    msg = re.sub(r'[\\w.-]+@[\\w.]+',' email ',msg)\n",
    "    \n",
    "    # remove the date---OK\n",
    "    msg = re.sub(r'\\d+\\W\\d+\\W\\d+','date ',msg)\n",
    "\n",
    "    # remove the date2---OK\n",
    "    msg = re.sub(r'\\d+\\W\\d+\\W\\d+',' date ',msg)\n",
    "    \n",
    "    # remove the time <--- need to check logic\n",
    "    msg = re.sub(r'\\d+\\s*:\\s*\\d+',' time ',msg)\n",
    "    \n",
    "    # remove the time2 <--- need to check logic\n",
    "    msg = re.sub(r'\\d+\\s*\\.\\s*\\d+',' time ',msg)\n",
    "    \n",
    "    # remove the number\n",
    "    msg = re.sub(r' \\d+,*\\d*,*\\d*,*\\d*,*\\d*,*\\d* ',' number ',msg)\n",
    "    \n",
    "    # removing punctuation ---> move to the dataframe function\n",
    "    for c in string.punctuation:\n",
    "        msg = re.sub(r'\\{}'.format(c),' ',msg)\n",
    "        \n",
    "    # remove white blank space\n",
    "    msg = re.sub(r'\\s+',' ',msg)\n",
    "    \n",
    "    return msg"
   ]
  },
  {
   "cell_type": "code",
   "execution_count": 12,
   "metadata": {},
   "outputs": [
    {
     "name": "stderr",
     "output_type": "stream",
     "text": [
      "100%|██████████| 417346/417346 [01:44<00:00, 3993.14it/s]\n"
     ]
    }
   ],
   "source": [
    "df_post['title_content_clean'] = df_post['title-content'].progress_apply(clean_msg)"
   ]
  },
  {
   "cell_type": "code",
   "execution_count": 13,
   "metadata": {},
   "outputs": [],
   "source": [
    "df_post = df_post.dropna(subset=['post_date','content_id'])\n",
    "df_post = df_post.reset_index(drop=True)"
   ]
  },
  {
   "cell_type": "code",
   "execution_count": 12,
   "metadata": {},
   "outputs": [],
   "source": [
    "# df_post['content_id'].progress_apply(lambda x:re.sub(r'\\d+','',x) == '')"
   ]
  },
  {
   "cell_type": "markdown",
   "metadata": {},
   "source": [
    "## Text tokenizing"
   ]
  },
  {
   "cell_type": "code",
   "execution_count": 14,
   "metadata": {},
   "outputs": [],
   "source": [
    "from pythainlp import word_tokenize\n",
    "from pythainlp.corpus import thai_stopwords\n",
    "from pythainlp.tokenize import dict_trie\n",
    "\n",
    "noncut_list = ['mazda 2','yaris ativ','mazda2']\n",
    "thai_stop = thai_stopwords()\n",
    "\n",
    "def tokenize(text):\n",
    "    \n",
    "    # change to lower case to normalise English word\n",
    "    text = text.lower()\n",
    "    \n",
    "    # tokenize\n",
    "    tokens = word_tokenize(text,custom_dict=noncut_list, engine='newmm')\n",
    "    \n",
    "    # remove stopwords\n",
    "    tokens = [tkn for tkn in tokens if not tkn in thai_stop]\n",
    "\n",
    "    \n",
    "    return tokens"
   ]
  },
  {
   "cell_type": "code",
   "execution_count": 24,
   "metadata": {},
   "outputs": [
    {
     "name": "stderr",
     "output_type": "stream",
     "text": [
      "100%|██████████| 54857/54857 [02:36<00:00, 350.57it/s]\n"
     ]
    }
   ],
   "source": [
    "tokens_post = []\n",
    "for i in trange(df_post.shape[0]):\n",
    "    tokens_post.append(tokenize(df_post.iloc[i]['title_content_clean']))"
   ]
  },
  {
   "cell_type": "code",
   "execution_count": 25,
   "metadata": {},
   "outputs": [],
   "source": [
    "# drop list with zero token\n",
    "cnt_tkn = [len(l) for l in tokens_post]\n",
    "cnt_tkn_serie = pd.Series(cnt_tkn)\n",
    "\n",
    "index_drp = cnt_tkn_serie[cnt_tkn_serie==0].index.values\n",
    "\n",
    "# drop original topic from top_df\n",
    "df_post.drop(index_drp,inplace=True)\n",
    "\n",
    "# drop from input list\n",
    "for index in sorted(index_drp, reverse=True):\n",
    "    del tokens_post[index]"
   ]
  },
  {
   "cell_type": "code",
   "execution_count": 26,
   "metadata": {},
   "outputs": [
    {
     "name": "stdout",
     "output_type": "stream",
     "text": [
      "54857 54857\n",
      "54844 54844\n"
     ]
    }
   ],
   "source": [
    "print(len(tokens_post), len(df_post))\n",
    "index_drp = df_post.loc[df_post.post_date.apply(len)!=19].index.values\n",
    "\n",
    "# drop original topic from top_df\n",
    "df_post.drop(index_drp,inplace=True)\n",
    "\n",
    "# drop from input list\n",
    "for index in sorted(index_drp, reverse=True):\n",
    "    del tokens_post[index]\n",
    "    \n",
    "print(len(tokens_post), len(df_post))"
   ]
  },
  {
   "cell_type": "code",
   "execution_count": 27,
   "metadata": {},
   "outputs": [
    {
     "name": "stdout",
     "output_type": "stream",
     "text": [
      "54844 54844\n",
      "54844 54844\n"
     ]
    }
   ],
   "source": [
    "df_post['post_date'] = pd.to_datetime(df_post['post_date'],errors='coerce')\n",
    "\n",
    "print(len(tokens_post), len(df_post))\n",
    "index_drp = df_post.loc[df_post.post_date.isna()].index.values\n",
    "\n",
    "# drop original topic from top_df\n",
    "df_post.drop(index_drp,inplace=True)\n",
    "\n",
    "# drop from input list\n",
    "for index in sorted(index_drp, reverse=True):\n",
    "    del tokens_post[index]\n",
    "    \n",
    "print(len(tokens_post), len(df_post))"
   ]
  },
  {
   "cell_type": "code",
   "execution_count": 28,
   "metadata": {},
   "outputs": [
    {
     "data": {
      "text/plain": [
       "count                   54844\n",
       "unique                  54832\n",
       "top       2014-10-10 11:00:39\n",
       "freq                        2\n",
       "first     2013-01-01 19:55:37\n",
       "last      2018-12-10 23:27:23\n",
       "Name: post_date, dtype: object"
      ]
     },
     "execution_count": 28,
     "metadata": {},
     "output_type": "execute_result"
    }
   ],
   "source": [
    "df_post.post_date.describe()"
   ]
  },
  {
   "cell_type": "code",
   "execution_count": 29,
   "metadata": {},
   "outputs": [],
   "source": [
    "with open('../out/aviation/tokens_post.txt', 'wb') as fp:\n",
    "    pickle.dump(tokens_post, fp)\n",
    "    \n",
    "with open('../out/aviation/tokens_post.txt', 'rb') as fp:\n",
    "    tokens_post = pickle.load(fp)"
   ]
  },
  {
   "cell_type": "code",
   "execution_count": 30,
   "metadata": {},
   "outputs": [],
   "source": [
    "df_post.to_csv('../out/aviation/df_post.csv',index=False)\n",
    "\n",
    "df_post = pd.read_csv('../out/aviation/df_post.csv')"
   ]
  },
  {
   "cell_type": "code",
   "execution_count": null,
   "metadata": {},
   "outputs": [],
   "source": []
  }
 ],
 "metadata": {
  "kernelspec": {
   "display_name": "Python 3",
   "language": "python",
   "name": "python3"
  },
  "language_info": {
   "codemirror_mode": {
    "name": "ipython",
    "version": 3
   },
   "file_extension": ".py",
   "mimetype": "text/x-python",
   "name": "python",
   "nbconvert_exporter": "python",
   "pygments_lexer": "ipython3",
   "version": "3.6.8"
  }
 },
 "nbformat": 4,
 "nbformat_minor": 2
}
