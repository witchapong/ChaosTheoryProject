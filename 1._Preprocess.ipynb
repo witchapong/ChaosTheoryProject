{
 "cells": [
  {
   "cell_type": "markdown",
   "metadata": {},
   "source": [
    "## Data Import"
   ]
  },
  {
   "cell_type": "code",
   "execution_count": 1,
   "metadata": {},
   "outputs": [],
   "source": [
    "import pandas as pd\n",
    "import re\n",
    "pd.options.display.max_columns = 999\n",
    "pd.options.display.max_rows = 999\n",
    "import numpy as np\n",
    "import matplotlib.pyplot as plt\n",
    "%matplotlib inline\n",
    "from tqdm import tqdm, tqdm_notebook, trange\n",
    "tqdm.pandas()\n",
    "import pickle"
   ]
  },
  {
   "cell_type": "code",
   "execution_count": 4,
   "metadata": {},
   "outputs": [],
   "source": [
    "# use_col_post = ['category','content_id','user_id','title','tags','post_date','last_update','content']\n",
    "# df_post = pd.read_csv('../src/pantip_car_post.csv',usecols=use_col_post)\n",
    "\n",
    "# use_col_cmt = ['category','content_id','user_id','comment','tags','post_date','last_update']\n",
    "# df_cmt = pd.read_csv('../src/pantip_car_comment.csv',usecols=use_col_cmt)"
   ]
  },
  {
   "cell_type": "code",
   "execution_count": 14,
   "metadata": {},
   "outputs": [],
   "source": [
    "df_post = pd.read_csv('../src/pantip_aviation.csv')\n",
    "df_post = df_post.iloc[:,[5,6,9,11,12,15,16,17]]\n",
    "df_post.columns = ['category','content_id','user_id','title','tags','post_date','last_update','content']"
   ]
  },
  {
   "cell_type": "code",
   "execution_count": 3,
   "metadata": {},
   "outputs": [],
   "source": [
    "# major car manufacturer\n",
    "# Honda: CRV ,BRV, CIVIC, CITY, JAZZ, ACCORD\n",
    "# Toyota: CHR, ALTIS, YARIS, VIOUS, CAMRY"
   ]
  },
  {
   "cell_type": "code",
   "execution_count": 15,
   "metadata": {},
   "outputs": [
    {
     "data": {
      "text/html": [
       "<div>\n",
       "<style scoped>\n",
       "    .dataframe tbody tr th:only-of-type {\n",
       "        vertical-align: middle;\n",
       "    }\n",
       "\n",
       "    .dataframe tbody tr th {\n",
       "        vertical-align: top;\n",
       "    }\n",
       "\n",
       "    .dataframe thead th {\n",
       "        text-align: right;\n",
       "    }\n",
       "</style>\n",
       "<table border=\"1\" class=\"dataframe\">\n",
       "  <thead>\n",
       "    <tr style=\"text-align: right;\">\n",
       "      <th></th>\n",
       "      <th>category</th>\n",
       "      <th>content_id</th>\n",
       "      <th>user_id</th>\n",
       "      <th>title</th>\n",
       "      <th>tags</th>\n",
       "      <th>post_date</th>\n",
       "      <th>last_update</th>\n",
       "      <th>content</th>\n",
       "    </tr>\n",
       "  </thead>\n",
       "  <tbody>\n",
       "    <tr>\n",
       "      <th>0</th>\n",
       "      <td>travel</td>\n",
       "      <td>38338139</td>\n",
       "      <td>342269.0</td>\n",
       "      <td>แลกไมล์ Lufthansa</td>\n",
       "      <td>สะสมไมล์,สายการบิน</td>\n",
       "      <td>2018-12-06 14:22:26</td>\n",
       "      <td>0000-00-00 00:00:00</td>\n",
       "      <td>สอบถามเพื่อนๆว่าไมล์สะสมของ Lufthansa แลกอะไรไ...</td>\n",
       "    </tr>\n",
       "    <tr>\n",
       "      <th>1</th>\n",
       "      <td>pantip_chalermthai</td>\n",
       "      <td>37876053</td>\n",
       "      <td>3982877.0</td>\n",
       "      <td>Moon 2009 ทำไมพระเอกถึงคุยกับแคทรีนได้ครับถ้าเ...</td>\n",
       "      <td>The Moon That Embraces the Sun,Interstellar (ภ...</td>\n",
       "      <td>2018-07-18 11:44:12</td>\n",
       "      <td>2018-07-18 12:15:09</td>\n",
       "      <td>ทำไมพระเอกคุยกับภรรยาได้ครับทั้งที่ตัวเองเป็นโ...</td>\n",
       "    </tr>\n",
       "    <tr>\n",
       "      <th>2</th>\n",
       "      <td>pantip_chalermthai</td>\n",
       "      <td>37712061</td>\n",
       "      <td>4571934.0</td>\n",
       "      <td>ทำไมบริษัทใหญ่แนวหน้าของไทย..ทำการตลาดร่วมกับ....</td>\n",
       "      <td>Tesco Lotus,การบินไทย,Starbucks,SF Cinema,Tops...</td>\n",
       "      <td>2018-05-28 02:27:11</td>\n",
       "      <td>2018-05-28 03:19:42</td>\n",
       "      <td>แค่งงว่าบริษัทใหญ่ๆทำการตลาด..เป็นPartner กับแ...</td>\n",
       "    </tr>\n",
       "    <tr>\n",
       "      <th>3</th>\n",
       "      <td>pantip_chalermkrung</td>\n",
       "      <td>37767545</td>\n",
       "      <td>2821989.0</td>\n",
       "      <td>ทำไมการบินไทยไม่เปิดเพลง 'ปลายทางคือคุณ' ในไฟล...</td>\n",
       "      <td>เพลงไทยสากล,การบินไทย,เพลงประกอบโฆษณา</td>\n",
       "      <td>2018-06-13 18:26:00</td>\n",
       "      <td>0000-00-00 00:00:00</td>\n",
       "      <td>พอดีมีโอกาสได้เห็นเพลง 'ปลายทางคือคุณ' ที่คุณว...</td>\n",
       "    </tr>\n",
       "    <tr>\n",
       "      <th>4</th>\n",
       "      <td>pantip_chalermthai</td>\n",
       "      <td>37324175</td>\n",
       "      <td>3960437.0</td>\n",
       "      <td>ขอถามคนที่เป็นนักบินหน่อยค่ะ</td>\n",
       "      <td>งานสายการบิน,ภาพยนตร์ต่างประเทศ</td>\n",
       "      <td>2018-01-28 15:41:24</td>\n",
       "      <td>0000-00-00 00:00:00</td>\n",
       "      <td>คือเราดูหนังมีฉากเครื่องบินตกบลาๆๆๆ และมีลำนึง...</td>\n",
       "    </tr>\n",
       "  </tbody>\n",
       "</table>\n",
       "</div>"
      ],
      "text/plain": [
       "              category content_id    user_id  \\\n",
       "0               travel   38338139   342269.0   \n",
       "1   pantip_chalermthai   37876053  3982877.0   \n",
       "2   pantip_chalermthai   37712061  4571934.0   \n",
       "3  pantip_chalermkrung   37767545  2821989.0   \n",
       "4   pantip_chalermthai   37324175  3960437.0   \n",
       "\n",
       "                                               title  \\\n",
       "0                                  แลกไมล์ Lufthansa   \n",
       "1  Moon 2009 ทำไมพระเอกถึงคุยกับแคทรีนได้ครับถ้าเ...   \n",
       "2  ทำไมบริษัทใหญ่แนวหน้าของไทย..ทำการตลาดร่วมกับ....   \n",
       "3  ทำไมการบินไทยไม่เปิดเพลง 'ปลายทางคือคุณ' ในไฟล...   \n",
       "4                       ขอถามคนที่เป็นนักบินหน่อยค่ะ   \n",
       "\n",
       "                                                tags            post_date  \\\n",
       "0                                 สะสมไมล์,สายการบิน  2018-12-06 14:22:26   \n",
       "1  The Moon That Embraces the Sun,Interstellar (ภ...  2018-07-18 11:44:12   \n",
       "2  Tesco Lotus,การบินไทย,Starbucks,SF Cinema,Tops...  2018-05-28 02:27:11   \n",
       "3              เพลงไทยสากล,การบินไทย,เพลงประกอบโฆษณา  2018-06-13 18:26:00   \n",
       "4                    งานสายการบิน,ภาพยนตร์ต่างประเทศ  2018-01-28 15:41:24   \n",
       "\n",
       "           last_update                                            content  \n",
       "0  0000-00-00 00:00:00  สอบถามเพื่อนๆว่าไมล์สะสมของ Lufthansa แลกอะไรไ...  \n",
       "1  2018-07-18 12:15:09  ทำไมพระเอกคุยกับภรรยาได้ครับทั้งที่ตัวเองเป็นโ...  \n",
       "2  2018-05-28 03:19:42  แค่งงว่าบริษัทใหญ่ๆทำการตลาด..เป็นPartner กับแ...  \n",
       "3  0000-00-00 00:00:00  พอดีมีโอกาสได้เห็นเพลง 'ปลายทางคือคุณ' ที่คุณว...  \n",
       "4  0000-00-00 00:00:00  คือเราดูหนังมีฉากเครื่องบินตกบลาๆๆๆ และมีลำนึง...  "
      ]
     },
     "execution_count": 15,
     "metadata": {},
     "output_type": "execute_result"
    }
   ],
   "source": [
    "df_post.head()"
   ]
  },
  {
   "cell_type": "code",
   "execution_count": 16,
   "metadata": {},
   "outputs": [
    {
     "data": {
      "text/plain": [
       "(54872, 8)"
      ]
     },
     "execution_count": 16,
     "metadata": {},
     "output_type": "execute_result"
    }
   ],
   "source": [
    "df_post.shape"
   ]
  },
  {
   "cell_type": "code",
   "execution_count": 17,
   "metadata": {},
   "outputs": [],
   "source": [
    "df_post['title-content'] = df_post['title'].fillna('') + ' ' + df_post['content'].fillna('')"
   ]
  },
  {
   "cell_type": "code",
   "execution_count": 19,
   "metadata": {},
   "outputs": [
    {
     "name": "stdout",
     "output_type": "stream",
     "text": [
      "nokair เปลี่ยนเวลาบิน ต้องทำอย่างไรดีคะ พอดีดิฉันจองเที่ยวบินกับนกแอร์จาก ลำปาง-ดอนเมือง ของวันเสาร์ที่ 9 มกราคม 2559รหัสการจอง 5197xxxxดิฉันไม่ได้เอะใจจนกระทั่งมาเช็คตารางเที่ยวบิน พบว่านกแอร์ได้แจ้งเปลี่ยนเวลาบินจากเดิมบิน 14.20น.เปลี่ยนเป็นเริ่มบิน 15.05น.ซึ่งเวลาต่างคือ 45 นาที ดิฉันจึงอยากถามว่าเรามีสิทธิ์ที่จะเปลี่ยนเที่ยวบินได้รึเปล่าคะ หรือทางสายการบินจะคืนเงินให้เรารึเปล่าดิฉันจึงมาตั้งกระทู้ถามค่ะ รบกวนผู้รู้ช่วยตอบที ขอบคุณค่ะ\n"
     ]
    }
   ],
   "source": [
    "# randomly check the text\n",
    "rand_topic_content = df_post.loc[np.random.randint(0,df_post.shape[0]),'title-content']\n",
    "print(rand_topic_content)"
   ]
  },
  {
   "cell_type": "markdown",
   "metadata": {},
   "source": [
    "## Text cleaning"
   ]
  },
  {
   "cell_type": "code",
   "execution_count": 20,
   "metadata": {},
   "outputs": [],
   "source": [
    "# prepare token from pantip data\n",
    "import string\n",
    "import re\n",
    "\n",
    "# put everything all together as a function\n",
    "def clean_msg(msg):\n",
    "    \n",
    "    # remove all the html notation---OK\n",
    "    msg = re.sub( r\"(\\<(\\/)?(\\w)*(\\d)?\\>)\",'', msg)\n",
    "    \n",
    "    # remove the link---OK\n",
    "    msg = re.sub(r'https*.*? ',' url ',msg)\n",
    "    \n",
    "    # remove the link2---OK\n",
    "    msg = re.sub(r'https*.*',' url ',msg)\n",
    "\n",
    "    # remove the link3---OK\n",
    "    msg = re.sub(r'www*.*? ',' url ',msg)\n",
    "    \n",
    "    # remove the link4---OK\n",
    "    msg = re.sub(r'www*.*',' url ',msg)\n",
    "    \n",
    "    # remove the email---OK\n",
    "    msg = re.sub(r'[\\w.-]+@[\\w.]+',' email ',msg)\n",
    "    \n",
    "    # remove the date---OK\n",
    "    msg = re.sub(r'\\d+\\W\\d+\\W\\d+','date ',msg)\n",
    "\n",
    "    # remove the date2---OK\n",
    "    msg = re.sub(r'\\d+\\W\\d+\\W\\d+',' date ',msg)\n",
    "    \n",
    "    # remove the time <--- need to check logic\n",
    "    msg = re.sub(r'\\d+\\s*:\\s*\\d+',' time ',msg)\n",
    "    \n",
    "    # remove the time2 <--- need to check logic\n",
    "    msg = re.sub(r'\\d+\\s*\\.\\s*\\d+',' time ',msg)\n",
    "    \n",
    "    # remove the number\n",
    "    msg = re.sub(r' \\d+,*\\d*,*\\d*,*\\d*,*\\d*,*\\d* ',' number ',msg)\n",
    "    \n",
    "    # removing punctuation ---> move to the dataframe function\n",
    "    for c in string.punctuation:\n",
    "        msg = re.sub(r'\\{}'.format(c),' ',msg)\n",
    "        \n",
    "    # remove white blank space\n",
    "    msg = re.sub(r'\\s+',' ',msg)\n",
    "    \n",
    "    return msg"
   ]
  },
  {
   "cell_type": "code",
   "execution_count": 21,
   "metadata": {},
   "outputs": [
    {
     "name": "stderr",
     "output_type": "stream",
     "text": [
      "100%|██████████| 54872/54872 [00:11<00:00, 4667.99it/s]\n"
     ]
    }
   ],
   "source": [
    "df_post['title_content_clean'] = df_post['title-content'].progress_apply(clean_msg)"
   ]
  },
  {
   "cell_type": "code",
   "execution_count": 22,
   "metadata": {},
   "outputs": [],
   "source": [
    "df_post = df_post.dropna(subset=['post_date','content_id'])\n",
    "df_post = df_post.reset_index(drop=True)"
   ]
  },
  {
   "cell_type": "code",
   "execution_count": 12,
   "metadata": {},
   "outputs": [],
   "source": [
    "# df_post['content_id'].progress_apply(lambda x:re.sub(r'\\d+','',x) == '')"
   ]
  },
  {
   "cell_type": "markdown",
   "metadata": {},
   "source": [
    "## Text tokenizing"
   ]
  },
  {
   "cell_type": "code",
   "execution_count": 23,
   "metadata": {},
   "outputs": [],
   "source": [
    "from pythainlp import word_tokenize\n",
    "from pythainlp.corpus import thai_stopwords\n",
    "\n",
    "thai_stop = thai_stopwords()\n",
    "\n",
    "def tokenize(text):\n",
    "    \n",
    "    # tokenize\n",
    "    tokens = word_tokenize(text,'ulmfit')\n",
    "    \n",
    "    # remove stopwords\n",
    "    tokens = [tkn for tkn in tokens if not tkn in thai_stop]\n",
    "    \n",
    "    # change to lower case to normalise English word\n",
    "    tokens = [tkn.lower() for tkn in tokens]\n",
    "    \n",
    "    return tokens"
   ]
  },
  {
   "cell_type": "code",
   "execution_count": 24,
   "metadata": {},
   "outputs": [
    {
     "name": "stderr",
     "output_type": "stream",
     "text": [
      "100%|██████████| 54857/54857 [02:36<00:00, 350.57it/s]\n"
     ]
    }
   ],
   "source": [
    "tokens_post = []\n",
    "for i in trange(df_post.shape[0]):\n",
    "    tokens_post.append(tokenize(df_post.iloc[i]['title_content_clean']))"
   ]
  },
  {
   "cell_type": "code",
   "execution_count": 25,
   "metadata": {},
   "outputs": [],
   "source": [
    "# drop list with zero token\n",
    "cnt_tkn = [len(l) for l in tokens_post]\n",
    "cnt_tkn_serie = pd.Series(cnt_tkn)\n",
    "\n",
    "index_drp = cnt_tkn_serie[cnt_tkn_serie==0].index.values\n",
    "\n",
    "# drop original topic from top_df\n",
    "df_post.drop(index_drp,inplace=True)\n",
    "\n",
    "# drop from input list\n",
    "for index in sorted(index_drp, reverse=True):\n",
    "    del tokens_post[index]"
   ]
  },
  {
   "cell_type": "code",
   "execution_count": 26,
   "metadata": {},
   "outputs": [
    {
     "name": "stdout",
     "output_type": "stream",
     "text": [
      "54857 54857\n",
      "54844 54844\n"
     ]
    }
   ],
   "source": [
    "print(len(tokens_post), len(df_post))\n",
    "index_drp = df_post.loc[df_post.post_date.apply(len)!=19].index.values\n",
    "\n",
    "# drop original topic from top_df\n",
    "df_post.drop(index_drp,inplace=True)\n",
    "\n",
    "# drop from input list\n",
    "for index in sorted(index_drp, reverse=True):\n",
    "    del tokens_post[index]\n",
    "    \n",
    "print(len(tokens_post), len(df_post))"
   ]
  },
  {
   "cell_type": "code",
   "execution_count": 27,
   "metadata": {},
   "outputs": [
    {
     "name": "stdout",
     "output_type": "stream",
     "text": [
      "54844 54844\n",
      "54844 54844\n"
     ]
    }
   ],
   "source": [
    "df_post['post_date'] = pd.to_datetime(df_post['post_date'],errors='coerce')\n",
    "\n",
    "print(len(tokens_post), len(df_post))\n",
    "index_drp = df_post.loc[df_post.post_date.isna()].index.values\n",
    "\n",
    "# drop original topic from top_df\n",
    "df_post.drop(index_drp,inplace=True)\n",
    "\n",
    "# drop from input list\n",
    "for index in sorted(index_drp, reverse=True):\n",
    "    del tokens_post[index]\n",
    "    \n",
    "print(len(tokens_post), len(df_post))"
   ]
  },
  {
   "cell_type": "code",
   "execution_count": 28,
   "metadata": {},
   "outputs": [
    {
     "data": {
      "text/plain": [
       "count                   54844\n",
       "unique                  54832\n",
       "top       2014-10-10 11:00:39\n",
       "freq                        2\n",
       "first     2013-01-01 19:55:37\n",
       "last      2018-12-10 23:27:23\n",
       "Name: post_date, dtype: object"
      ]
     },
     "execution_count": 28,
     "metadata": {},
     "output_type": "execute_result"
    }
   ],
   "source": [
    "df_post.post_date.describe()"
   ]
  },
  {
   "cell_type": "code",
   "execution_count": 29,
   "metadata": {},
   "outputs": [],
   "source": [
    "with open('../out/aviation/tokens_post.txt', 'wb') as fp:\n",
    "    pickle.dump(tokens_post, fp)\n",
    "    \n",
    "with open('../out/aviation/tokens_post.txt', 'rb') as fp:\n",
    "    tokens_post = pickle.load(fp)"
   ]
  },
  {
   "cell_type": "code",
   "execution_count": 30,
   "metadata": {},
   "outputs": [],
   "source": [
    "df_post.to_csv('../out/aviation/df_post.csv',index=False)\n",
    "\n",
    "df_post = pd.read_csv('../out/aviation/df_post.csv')"
   ]
  },
  {
   "cell_type": "code",
   "execution_count": null,
   "metadata": {},
   "outputs": [],
   "source": []
  }
 ],
 "metadata": {
  "kernelspec": {
   "display_name": "Python 3",
   "language": "python",
   "name": "python3"
  },
  "language_info": {
   "codemirror_mode": {
    "name": "ipython",
    "version": 3
   },
   "file_extension": ".py",
   "mimetype": "text/x-python",
   "name": "python",
   "nbconvert_exporter": "python",
   "pygments_lexer": "ipython3",
   "version": "3.6.8"
  }
 },
 "nbformat": 4,
 "nbformat_minor": 2
}
