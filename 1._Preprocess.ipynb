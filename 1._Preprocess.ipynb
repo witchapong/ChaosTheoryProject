{
 "cells": [
  {
   "cell_type": "markdown",
   "metadata": {},
   "source": [
    "## Data Import"
   ]
  },
  {
   "cell_type": "code",
   "execution_count": 1,
   "metadata": {},
   "outputs": [],
   "source": [
    "import pandas as pd\n",
    "import re\n",
    "pd.options.display.max_columns = 999\n",
    "pd.options.display.max_rows = 999\n",
    "import numpy as np\n",
    "import matplotlib.pyplot as plt\n",
    "%matplotlib inline\n",
    "from tqdm import tqdm, tqdm_notebook, trange\n",
    "tqdm.pandas()\n",
    "import pickle"
   ]
  },
  {
   "cell_type": "code",
   "execution_count": 2,
   "metadata": {},
   "outputs": [
    {
     "name": "stderr",
     "output_type": "stream",
     "text": [
      "/opt/anaconda3/lib/python3.7/site-packages/IPython/core/interactiveshell.py:3020: DtypeWarning: Columns (6) have mixed types. Specify dtype option on import or set low_memory=False.\n",
      "  interactivity=interactivity, compiler=compiler, result=result)\n"
     ]
    }
   ],
   "source": [
    "use_col_post = ['category','content_id','user_id','title','tags','post_date','last_update','content']\n",
    "df_post = pd.read_csv('../src/pantip_car_post.csv',usecols=use_col_post)\n",
    "\n",
    "use_col_cmt = ['category','content_id','user_id','comment','tags','post_date','last_update']\n",
    "df_cmt = pd.read_csv('../src/pantip_car_comment.csv',usecols=use_col_cmt)"
   ]
  },
  {
   "cell_type": "code",
   "execution_count": 3,
   "metadata": {},
   "outputs": [],
   "source": [
    "# major car manufacturer\n",
    "# Honda: CRV ,BRV, CIVIC, CITY, JAZZ, ACCORD\n",
    "# Toyota: CHR, ALTIS, YARIS, VIOUS, CAMRY"
   ]
  },
  {
   "cell_type": "code",
   "execution_count": 4,
   "metadata": {},
   "outputs": [
    {
     "data": {
      "text/html": [
       "<div>\n",
       "<style scoped>\n",
       "    .dataframe tbody tr th:only-of-type {\n",
       "        vertical-align: middle;\n",
       "    }\n",
       "\n",
       "    .dataframe tbody tr th {\n",
       "        vertical-align: top;\n",
       "    }\n",
       "\n",
       "    .dataframe thead th {\n",
       "        text-align: right;\n",
       "    }\n",
       "</style>\n",
       "<table border=\"1\" class=\"dataframe\">\n",
       "  <thead>\n",
       "    <tr style=\"text-align: right;\">\n",
       "      <th></th>\n",
       "      <th>category</th>\n",
       "      <th>content_id</th>\n",
       "      <th>user_id</th>\n",
       "      <th>title</th>\n",
       "      <th>tags</th>\n",
       "      <th>post_date</th>\n",
       "      <th>last_update</th>\n",
       "      <th>content</th>\n",
       "    </tr>\n",
       "  </thead>\n",
       "  <tbody>\n",
       "    <tr>\n",
       "      <th>0</th>\n",
       "      <td>auto</td>\n",
       "      <td>38339573</td>\n",
       "      <td>3300767.0</td>\n",
       "      <td>Scoopi I  วิ่งอยู่ดีๆเกิดสำลัก สะดุด แล้วดับกล...</td>\n",
       "      <td>มอเตอร์ไซค์,Honda Scoopy i,Honda (มอเตอร์ไซค์)</td>\n",
       "      <td>2018-12-06 21:33:54</td>\n",
       "      <td>0000-00-00 00:00:00</td>\n",
       "      <td>Scoopi I   วิ่งอยู่ดีๆเกิดสำลัก สะดุด แล้วดับก...</td>\n",
       "    </tr>\n",
       "    <tr>\n",
       "      <th>1</th>\n",
       "      <td>auto</td>\n",
       "      <td>38339569</td>\n",
       "      <td>4918714.0</td>\n",
       "      <td>ทำไมรถFormula 1 เครื่องยนต์1.6ลิตร แต่แรงม้า70...</td>\n",
       "      <td>ไซเบอร์ฟอร์มูล่า,Formula 1,รถยนต์ไฮบริด,Super ...</td>\n",
       "      <td>2018-12-06 21:32:58</td>\n",
       "      <td>0000-00-00 00:00:00</td>\n",
       "      <td>1.6L คือ 1600 CC หรือป่าวถ้าเข้าใจผิดขออภัย แต...</td>\n",
       "    </tr>\n",
       "    <tr>\n",
       "      <th>2</th>\n",
       "      <td>auto</td>\n",
       "      <td>38339500</td>\n",
       "      <td>885135.0</td>\n",
       "      <td>จะซื้อรถใหม่ ขอคำแนะนำครับ</td>\n",
       "      <td>รถยนต์,ดูแลรักษารถยนต์,Toyota Yaris,Mazda 2 Sp...</td>\n",
       "      <td>2018-12-06 21:13:34</td>\n",
       "      <td>0000-00-00 00:00:00</td>\n",
       "      <td>ระหว่าง มาสด้า hi connect  620000กับ ยาริส  ตั...</td>\n",
       "    </tr>\n",
       "    <tr>\n",
       "      <th>3</th>\n",
       "      <td>auto</td>\n",
       "      <td>38339462</td>\n",
       "      <td>4890089.0</td>\n",
       "      <td>งง กับ Filano hybrid</td>\n",
       "      <td>Yamaha,มอเตอร์ไซค์</td>\n",
       "      <td>2018-12-06 21:05:53</td>\n",
       "      <td>0000-00-00 00:00:00</td>\n",
       "      <td>คือว่าเรากำลังจะซื้อ Filano hybrid ตัวtop ที่เ...</td>\n",
       "    </tr>\n",
       "    <tr>\n",
       "      <th>4</th>\n",
       "      <td>auto</td>\n",
       "      <td>38339443</td>\n",
       "      <td>531171.0</td>\n",
       "      <td>บัตรมอเตอร์ expo เป็นบัตรฟรีหรือต้องเสียตังค์ครับ</td>\n",
       "      <td>รถยนต์</td>\n",
       "      <td>2018-12-06 21:02:19</td>\n",
       "      <td>0000-00-00 00:00:00</td>\n",
       "      <td>NaN</td>\n",
       "    </tr>\n",
       "  </tbody>\n",
       "</table>\n",
       "</div>"
      ],
      "text/plain": [
       "  category content_id    user_id  \\\n",
       "0     auto   38339573  3300767.0   \n",
       "1     auto   38339569  4918714.0   \n",
       "2     auto   38339500   885135.0   \n",
       "3     auto   38339462  4890089.0   \n",
       "4     auto   38339443   531171.0   \n",
       "\n",
       "                                               title  \\\n",
       "0  Scoopi I  วิ่งอยู่ดีๆเกิดสำลัก สะดุด แล้วดับกล...   \n",
       "1  ทำไมรถFormula 1 เครื่องยนต์1.6ลิตร แต่แรงม้า70...   \n",
       "2                         จะซื้อรถใหม่ ขอคำแนะนำครับ   \n",
       "3                               งง กับ Filano hybrid   \n",
       "4  บัตรมอเตอร์ expo เป็นบัตรฟรีหรือต้องเสียตังค์ครับ   \n",
       "\n",
       "                                                tags            post_date  \\\n",
       "0     มอเตอร์ไซค์,Honda Scoopy i,Honda (มอเตอร์ไซค์)  2018-12-06 21:33:54   \n",
       "1  ไซเบอร์ฟอร์มูล่า,Formula 1,รถยนต์ไฮบริด,Super ...  2018-12-06 21:32:58   \n",
       "2  รถยนต์,ดูแลรักษารถยนต์,Toyota Yaris,Mazda 2 Sp...  2018-12-06 21:13:34   \n",
       "3                                 Yamaha,มอเตอร์ไซค์  2018-12-06 21:05:53   \n",
       "4                                             รถยนต์  2018-12-06 21:02:19   \n",
       "\n",
       "           last_update                                            content  \n",
       "0  0000-00-00 00:00:00  Scoopi I   วิ่งอยู่ดีๆเกิดสำลัก สะดุด แล้วดับก...  \n",
       "1  0000-00-00 00:00:00  1.6L คือ 1600 CC หรือป่าวถ้าเข้าใจผิดขออภัย แต...  \n",
       "2  0000-00-00 00:00:00  ระหว่าง มาสด้า hi connect  620000กับ ยาริส  ตั...  \n",
       "3  0000-00-00 00:00:00  คือว่าเรากำลังจะซื้อ Filano hybrid ตัวtop ที่เ...  \n",
       "4  0000-00-00 00:00:00                                                NaN  "
      ]
     },
     "execution_count": 4,
     "metadata": {},
     "output_type": "execute_result"
    }
   ],
   "source": [
    "df_post.head()"
   ]
  },
  {
   "cell_type": "code",
   "execution_count": 5,
   "metadata": {},
   "outputs": [
    {
     "data": {
      "text/plain": [
       "(417346, 8)"
      ]
     },
     "execution_count": 5,
     "metadata": {},
     "output_type": "execute_result"
    }
   ],
   "source": [
    "df_post.shape"
   ]
  },
  {
   "cell_type": "code",
   "execution_count": 6,
   "metadata": {},
   "outputs": [],
   "source": [
    "df_post['title-content'] = df_post['title'].fillna('') + ' ' + df_post['content'].fillna('')"
   ]
  },
  {
   "cell_type": "code",
   "execution_count": 7,
   "metadata": {},
   "outputs": [
    {
     "name": "stdout",
     "output_type": "stream",
     "text": [
      "ถามเรื่องการใช้ทางด่วนบูรพาวิถีครับ สงสัยมาก ถึงมากที่สุดว่า speed limit บน บูรพาวิถีอยู่ที่เท่าไรครัย110 หรือ 120ใครทราบช่วยกรุณาบอกด้วยครับปล. แก้ไข  ได้คำตอบแล้วจาก คคห 1,2 ครับ  ว่า speed limit อนุโลมที่ 120ทีนี้  ไม่ทราบมีใครมีประสบการณ์โดนใบสั่งที่ความเร็ว ประมาณ 120-130 บ้างครับ ตัวผมเพิ่งโดนที่ 127  น่าจะเป็นช่วงเร่งแซงในเลนขวา  เพราะปกติจะขับไม่เกิน 120ก็เลยสงสัยว่าที่บอกอนุโลมที่ 120  มีความหมายว่าถ้าเกินจากนั้นไปเป็น 121  ก็โดนจับแล้ว  แบบนั้นรึเปล่าที่ถามเพราะจะได้ระวังมากขึ้น  ที่ผ่านมาคิดแค่ว่าน่าจะเหมือนเมืองนอก  อย่าง NZ  speed limit ที่ 100  แต่ในทางปฏิบัติ อนุโลมวิ่งได้ถึง 110  ที่ JP speed limit ที่ 100  อนุโลมวิ่งได้ถึง 110 (บางที 120)  เพราะเผื่อเร่งแซงแก้ไขข้อความเมื่อ\n"
     ]
    }
   ],
   "source": [
    "# randomly check the text\n",
    "rand_topic_content = df_post.loc[np.random.randint(0,df_post.shape[0]),'title-content']\n",
    "print(rand_topic_content)"
   ]
  },
  {
   "cell_type": "markdown",
   "metadata": {},
   "source": [
    "## Text cleaning"
   ]
  },
  {
   "cell_type": "code",
   "execution_count": 8,
   "metadata": {},
   "outputs": [],
   "source": [
    "import string\n",
    "import re\n",
    "\n",
    "# put everything all together as a function\n",
    "def clean_msg(msg):\n",
    "    \n",
    "    # remove the link---OK\n",
    "    msg = re.sub(r'https*.*? ',' url ',msg)\n",
    "    \n",
    "    # remove the link2---OK\n",
    "    msg = re.sub(r'https*.*',' url ',msg)\n",
    "\n",
    "    # remove the link3---OK\n",
    "    msg = re.sub(r'www*.*? ',' url ',msg)\n",
    "    \n",
    "    # remove the link4---OK\n",
    "    msg = re.sub(r'www*.*',' url ',msg)\n",
    "    \n",
    "    # remove the email---OK\n",
    "    msg = re.sub(r'[\\w.-]+@[\\w.]+',' email ',msg)\n",
    "    \n",
    "    # remove the date---OK\n",
    "    msg = re.sub(r'\\d+\\W\\d+\\W\\d+','date ',msg)\n",
    "\n",
    "    # remove the date2---OK\n",
    "    msg = re.sub(r'\\d+\\W\\d+\\W\\d+',' date ',msg)\n",
    "    \n",
    "    # remove the time <--- need to check logic\n",
    "    msg = re.sub(r'\\d+\\s*:\\s*\\d+',' time ',msg)\n",
    "    \n",
    "    # remove the time2 <--- need to check logic\n",
    "    msg = re.sub(r'\\d+\\s*\\.\\s*\\d+',' time ',msg)\n",
    "    \n",
    "    # remove the number\n",
    "    msg = re.sub(r' \\d+,*\\d*,*\\d*,*\\d*,*\\d*,*\\d* ',' number ',msg)\n",
    "    \n",
    "    # remove white blank space\n",
    "    msg = re.sub(r'\\s+','',msg)\n",
    "    \n",
    "    # removing punctuation ---> move to the dataframe function\n",
    "    for c in string.punctuation:\n",
    "        msg = re.sub(r'\\{}'.format(c),'',msg)\n",
    "        \n",
    "    return msg"
   ]
  },
  {
   "cell_type": "code",
   "execution_count": 9,
   "metadata": {},
   "outputs": [
    {
     "data": {
      "text/plain": [
       "'you*are*such*a*jerk!!!'"
      ]
     },
     "execution_count": 9,
     "metadata": {},
     "output_type": "execute_result"
    }
   ],
   "source": [
    "re.sub(r'\\s+','*','you are  such   a    jerk!!!')"
   ]
  },
  {
   "cell_type": "code",
   "execution_count": 10,
   "metadata": {},
   "outputs": [
    {
     "name": "stderr",
     "output_type": "stream",
     "text": [
      "100%|██████████| 417346/417346 [01:37<00:00, 4300.95it/s]\n"
     ]
    }
   ],
   "source": [
    "df_post['title_content_clean'] = df_post['title-content'].progress_apply(clean_msg)"
   ]
  },
  {
   "cell_type": "code",
   "execution_count": 11,
   "metadata": {},
   "outputs": [],
   "source": [
    "df_post = df_post.dropna(subset=['post_date','content_id'])\n",
    "df_post = df_post.reset_index(drop=True)"
   ]
  },
  {
   "cell_type": "code",
   "execution_count": 12,
   "metadata": {},
   "outputs": [],
   "source": [
    "# df_post['content_id'].progress_apply(lambda x:re.sub(r'\\d+','',x) == '')"
   ]
  },
  {
   "cell_type": "markdown",
   "metadata": {},
   "source": [
    "## Text tokenizing"
   ]
  },
  {
   "cell_type": "code",
   "execution_count": 13,
   "metadata": {},
   "outputs": [],
   "source": [
    "from pythainlp import word_tokenize\n",
    "from pythainlp.corpus import thai_stopwords\n",
    "\n",
    "thai_stop = thai_stopwords()\n",
    "\n",
    "def tokenize(text):\n",
    "    \n",
    "    # tokenize\n",
    "    tokens = word_tokenize(text,'newmm')\n",
    "    \n",
    "    # remove stopwords\n",
    "    tokens = [tkn for tkn in tokens if not tkn in thai_stop]\n",
    "    \n",
    "    # change to lower case to normalise English word\n",
    "    tokens = [tkn.lower() for tkn in tokens]\n",
    "    \n",
    "    return tokens"
   ]
  },
  {
   "cell_type": "code",
   "execution_count": 14,
   "metadata": {},
   "outputs": [
    {
     "name": "stderr",
     "output_type": "stream",
     "text": [
      "100%|██████████| 417294/417294 [11:51<00:00, 488.99it/s]\n"
     ]
    }
   ],
   "source": [
    "tokens_post = []\n",
    "for i in trange(df_post.shape[0]):\n",
    "    tokens_post.append(tokenize(df_post.iloc[i]['title_content_clean']))"
   ]
  },
  {
   "cell_type": "code",
   "execution_count": 15,
   "metadata": {},
   "outputs": [],
   "source": [
    "# drop list with zero token\n",
    "cnt_tkn = [len(l) for l in tokens_post]\n",
    "cnt_tkn_serie = pd.Series(cnt_tkn)\n",
    "\n",
    "index_drp = cnt_tkn_serie[cnt_tkn_serie==0].index.values\n",
    "\n",
    "# drop original topic from top_df\n",
    "df_post.drop(index_drp,inplace=True)\n",
    "\n",
    "# drop from input list\n",
    "for index in sorted(index_drp, reverse=True):\n",
    "    del tokens_post[index]\n",
    "\n",
    "with open('../out/tokens_post.txt', 'wb') as fp:   #Pickling\n",
    "    pickle.dump(tokens_post, fp)"
   ]
  },
  {
   "cell_type": "code",
   "execution_count": 16,
   "metadata": {},
   "outputs": [],
   "source": [
    "pos_txt = list(pd.read_csv('../src/positive-sentiment-words.txt',header=None)[0].values)\n",
    "neg_txt = list(pd.read_csv('../src/negative-sentiment-words.txt', header=None)[0].values)"
   ]
  },
  {
   "cell_type": "code",
   "execution_count": 17,
   "metadata": {},
   "outputs": [
    {
     "name": "stdout",
     "output_type": "stream",
     "text": [
      "total pos word:  512\n",
      "total neg word:  1218\n"
     ]
    }
   ],
   "source": [
    "print('total pos word: ',len(pos_txt))\n",
    "print('total neg word: ',len(neg_txt))"
   ]
  },
  {
   "cell_type": "code",
   "execution_count": 18,
   "metadata": {},
   "outputs": [
    {
     "data": {
      "application/vnd.jupyter.widget-view+json": {
       "model_id": "cdfdc97bdc2c4fb1883104b3e4aa7dd0",
       "version_major": 2,
       "version_minor": 0
      },
      "text/plain": [
       "HBox(children=(IntProgress(value=0, max=417279), HTML(value='')))"
      ]
     },
     "metadata": {},
     "output_type": "display_data"
    },
    {
     "name": "stdout",
     "output_type": "stream",
     "text": [
      "\n"
     ]
    }
   ],
   "source": [
    "pos_score_list = []\n",
    "neg_score_list = []\n",
    "for w_list in tqdm_notebook(tokens_post):\n",
    "    pos_score=0\n",
    "    neg_score=0\n",
    "    for w in w_list:\n",
    "        if w in pos_txt:pos_score+=1\n",
    "        if w in neg_txt:neg_score+=1\n",
    "    pos_score_list.append(pos_score)\n",
    "    neg_score_list.append(neg_score)"
   ]
  },
  {
   "cell_type": "code",
   "execution_count": 19,
   "metadata": {},
   "outputs": [],
   "source": [
    "df_post['pos_score'] = pos_score_list\n",
    "df_post['neg_score'] = neg_score_list\n",
    "df_post['sent_score'] = df_post.pos_score - df_post.neg_score"
   ]
  },
  {
   "cell_type": "code",
   "execution_count": 20,
   "metadata": {},
   "outputs": [
    {
     "data": {
      "text/plain": [
       "count    417279.000000\n",
       "mean          0.212481\n",
       "std           2.838756\n",
       "min         -70.000000\n",
       "25%          -1.000000\n",
       "50%           0.000000\n",
       "75%           1.000000\n",
       "max          77.000000\n",
       "Name: sent_score, dtype: float64"
      ]
     },
     "execution_count": 20,
     "metadata": {},
     "output_type": "execute_result"
    }
   ],
   "source": [
    "df_post['sent_score'].describe()"
   ]
  },
  {
   "cell_type": "code",
   "execution_count": 21,
   "metadata": {},
   "outputs": [
    {
     "data": {
      "text/plain": [
       "0.7062492960345477"
      ]
     },
     "execution_count": 21,
     "metadata": {},
     "output_type": "execute_result"
    }
   ],
   "source": [
    "# check portion of post with sentiment\n",
    "np.sum(df_post['sent_score']!=0)/len(df_post)"
   ]
  },
  {
   "cell_type": "code",
   "execution_count": 22,
   "metadata": {},
   "outputs": [
    {
     "data": {
      "text/plain": [
       "<matplotlib.axes._subplots.AxesSubplot at 0x7fb9ec3beac8>"
      ]
     },
     "execution_count": 22,
     "metadata": {},
     "output_type": "execute_result"
    },
    {
     "data": {
      "image/png": "[encoded data removed]",
      "text/plain": [
       "<Figure size 432x288 with 1 Axes>"
      ]
     },
     "metadata": {
      "needs_background": "light"
     },
     "output_type": "display_data"
    }
   ],
   "source": [
    "df_post.sent_score.hist()"
   ]
  },
  {
   "cell_type": "code",
   "execution_count": 23,
   "metadata": {},
   "outputs": [],
   "source": [
    "df_post.to_csv('../out/df_post.csv',index=False)"
   ]
  },
  {
   "cell_type": "code",
   "execution_count": 24,
   "metadata": {},
   "outputs": [
    {
     "name": "stderr",
     "output_type": "stream",
     "text": [
      "/opt/anaconda3/lib/python3.7/site-packages/IPython/core/interactiveshell.py:3020: DtypeWarning: Columns (1) have mixed types. Specify dtype option on import or set low_memory=False.\n",
      "  interactivity=interactivity, compiler=compiler, result=result)\n"
     ]
    }
   ],
   "source": [
    "df_post = pd.read_csv('../out/df_post.csv')"
   ]
  },
  {
   "cell_type": "code",
   "execution_count": 25,
   "metadata": {},
   "outputs": [
    {
     "data": {
      "text/html": [
       "<div>\n",
       "<style scoped>\n",
       "    .dataframe tbody tr th:only-of-type {\n",
       "        vertical-align: middle;\n",
       "    }\n",
       "\n",
       "    .dataframe tbody tr th {\n",
       "        vertical-align: top;\n",
       "    }\n",
       "\n",
       "    .dataframe thead th {\n",
       "        text-align: right;\n",
       "    }\n",
       "</style>\n",
       "<table border=\"1\" class=\"dataframe\">\n",
       "  <thead>\n",
       "    <tr style=\"text-align: right;\">\n",
       "      <th></th>\n",
       "      <th>category</th>\n",
       "      <th>content_id</th>\n",
       "      <th>user_id</th>\n",
       "      <th>title</th>\n",
       "      <th>tags</th>\n",
       "      <th>post_date</th>\n",
       "      <th>last_update</th>\n",
       "      <th>content</th>\n",
       "      <th>title-content</th>\n",
       "      <th>title_content_clean</th>\n",
       "      <th>pos_score</th>\n",
       "      <th>neg_score</th>\n",
       "      <th>sent_score</th>\n",
       "    </tr>\n",
       "  </thead>\n",
       "  <tbody>\n",
       "    <tr>\n",
       "      <th>90</th>\n",
       "      <td>auto</td>\n",
       "      <td>38350636</td>\n",
       "      <td>2700071.0</td>\n",
       "      <td>Audax 300 ห้วยโสมง ด่วน 304 ใจต้องนิ่ง (Windy ...</td>\n",
       "      <td>จักรยาน,จักรยานทัวร์ริ่ง,ทริปจักรยาน,จักรยานเส...</td>\n",
       "      <td>2018-12-10 14:42:43</td>\n",
       "      <td>2018-12-10 16:06:35</td>\n",
       "      <td>มาถึงเรื่องราวสานต่อ จากการที่จะต้องผ่านสนาม 3...</td>\n",
       "      <td>Audax 300 ห้วยโสมง ด่วน 304 ใจต้องนิ่ง (Windy ...</td>\n",
       "      <td>Audaxnumberห้วยโสมงด่วนnumberใจต้องนิ่งWindySn...</td>\n",
       "      <td>36</td>\n",
       "      <td>42</td>\n",
       "      <td>-6</td>\n",
       "    </tr>\n",
       "    <tr>\n",
       "      <th>111</th>\n",
       "      <td>auto</td>\n",
       "      <td>38350055</td>\n",
       "      <td>4995223.0</td>\n",
       "      <td>รถเก๋งu200b Toyota Altisu200b  ปี08u200b มีปัญ...</td>\n",
       "      <td>Toyota</td>\n",
       "      <td>2018-12-10 11:35:27</td>\n",
       "      <td>0000-00-00 00:00:00</td>\n",
       "      <td>คือu200bปัญหาu200bมันเริ่มจากที่ตอนแรกแฟนลืมปิ...</td>\n",
       "      <td>รถเก๋งu200b Toyota Altisu200b  ปี08u200b มีปัญ...</td>\n",
       "      <td>รถเก๋งu200bToyotaAltisu200bปี08u200bมีปัญหาu20...</td>\n",
       "      <td>0</td>\n",
       "      <td>6</td>\n",
       "      <td>-6</td>\n",
       "    </tr>\n",
       "    <tr>\n",
       "      <th>131</th>\n",
       "      <td>auto</td>\n",
       "      <td>38349578</td>\n",
       "      <td>4995068.0</td>\n",
       "      <td>เครื่องเวฟ 110 ไอ</td>\n",
       "      <td>อู่ซ่อมรถ</td>\n",
       "      <td>2018-12-10 08:37:50</td>\n",
       "      <td>0000-00-00 00:00:00</td>\n",
       "      <td>อยากทราบคับว่า มันเป็นที่อะไรตอนผมขับรถเวฟ 110...</td>\n",
       "      <td>เครื่องเวฟ 110 ไอ อยากทราบคับว่า มันเป็นที่อะไ...</td>\n",
       "      <td>เครื่องเวฟnumberไออยากทราบคับว่ามันเป็นที่อะไร...</td>\n",
       "      <td>2</td>\n",
       "      <td>9</td>\n",
       "      <td>-7</td>\n",
       "    </tr>\n",
       "    <tr>\n",
       "      <th>146</th>\n",
       "      <td>auto</td>\n",
       "      <td>38349208</td>\n",
       "      <td>4994804.0</td>\n",
       "      <td>ผมโดนประกันเรียกค่าเสียหายเกินจริงควรทำยังไงดีคับ</td>\n",
       "      <td>ร้องทุกข์,อุบัติเหตุบนท้องถนน</td>\n",
       "      <td>2018-12-10 00:50:37</td>\n",
       "      <td>0000-00-00 00:00:00</td>\n",
       "      <td>แก้ไขคือผมอยากจะถามว่าพอดีผมเกิดอุบัติเหตุแล้ว...</td>\n",
       "      <td>ผมโดนประกันเรียกค่าเสียหายเกินจริงควรทำยังไงดี...</td>\n",
       "      <td>ผมโดนประกันเรียกค่าเสียหายเกินจริงควรทำยังไงดี...</td>\n",
       "      <td>1</td>\n",
       "      <td>22</td>\n",
       "      <td>-21</td>\n",
       "    </tr>\n",
       "    <tr>\n",
       "      <th>214</th>\n",
       "      <td>auto</td>\n",
       "      <td>38347004</td>\n",
       "      <td>1180654.0</td>\n",
       "      <td>ใช้มอเตอร์ไซค์ในชีวิตประจำวันลำบากกันไหมคะ</td>\n",
       "      <td>มอเตอร์ไซค์</td>\n",
       "      <td>2018-12-09 12:01:23</td>\n",
       "      <td>0000-00-00 00:00:00</td>\n",
       "      <td>คือเราอยากจะเปลี่ยนมาใช้ไว้ขี่ไปทำงาน ที่ทำงาน...</td>\n",
       "      <td>ใช้มอเตอร์ไซค์ในชีวิตประจำวันลำบากกันไหมคะ คือ...</td>\n",
       "      <td>ใช้มอเตอร์ไซค์ในชีวิตประจำวันลำบากกันไหมคะคือเ...</td>\n",
       "      <td>0</td>\n",
       "      <td>6</td>\n",
       "      <td>-6</td>\n",
       "    </tr>\n",
       "    <tr>\n",
       "      <th>219</th>\n",
       "      <td>auto</td>\n",
       "      <td>38346803</td>\n",
       "      <td>552783.0</td>\n",
       "      <td>ถูกคนขับรถตู้สาธารณะลงมาทำร้าย</td>\n",
       "      <td>เมาไม่ขับ,ร้องทุกข์,กฎหมายชาวบ้าน,ปัญหาสังคม</td>\n",
       "      <td>2018-12-09 10:50:00</td>\n",
       "      <td>0000-00-00 00:00:00</td>\n",
       "      <td>เหตุเกิดเมื่อคืนนะครับผมขับรถออกจากในเมืองภูเก...</td>\n",
       "      <td>ถูกคนขับรถตู้สาธารณะลงมาทำร้าย เหตุเกิดเมื่อคื...</td>\n",
       "      <td>ถูกคนขับรถตู้สาธารณะลงมาทำร้ายเหตุเกิดเมื่อคืน...</td>\n",
       "      <td>5</td>\n",
       "      <td>12</td>\n",
       "      <td>-7</td>\n",
       "    </tr>\n",
       "    <tr>\n",
       "      <th>228</th>\n",
       "      <td>auto</td>\n",
       "      <td>38346409</td>\n",
       "      <td>4868143.0</td>\n",
       "      <td>ฝนตกในกรุงเทพอีกแล้ว วันที่10ธค.2561ปั่นจักรยา...</td>\n",
       "      <td>สุขภาพกาย,จักรยาน,พยากรณ์อากาศ</td>\n",
       "      <td>2018-12-09 06:27:45</td>\n",
       "      <td>0000-00-00 00:00:00</td>\n",
       "      <td>ทำไมต้องตกในวันหยุดเราเอาพัดลมเป่าลมร้อนจากภาค...</td>\n",
       "      <td>ฝนตกในกรุงเทพอีกแล้ว วันที่10ธค.2561ปั่นจักรยา...</td>\n",
       "      <td>ฝนตกในกรุงเทพอีกแล้ววันที่10ธค2561ปั่นจักรยานท...</td>\n",
       "      <td>0</td>\n",
       "      <td>6</td>\n",
       "      <td>-6</td>\n",
       "    </tr>\n",
       "    <tr>\n",
       "      <th>253</th>\n",
       "      <td>auto</td>\n",
       "      <td>38345583</td>\n",
       "      <td>4033756.0</td>\n",
       "      <td>ตำรวจจราจรเค้าไม่ทำงานกันหรอคะ</td>\n",
       "      <td>อุบัติเหตุบนท้องถนน,การจราจร,ปัญหาสังคม,กฎหมาย...</td>\n",
       "      <td>2018-12-08 21:07:56</td>\n",
       "      <td>0000-00-00 00:00:00</td>\n",
       "      <td>เราไม่ได้มีเจตนาจะทำร้ายใครนะคะ เราแค่สงสัยเฉย...</td>\n",
       "      <td>ตำรวจจราจรเค้าไม่ทำงานกันหรอคะ เราไม่ได้มีเจตน...</td>\n",
       "      <td>ตำรวจจราจรเค้าไม่ทำงานกันหรอคะเราไม่ได้มีเจตนา...</td>\n",
       "      <td>0</td>\n",
       "      <td>6</td>\n",
       "      <td>-6</td>\n",
       "    </tr>\n",
       "    <tr>\n",
       "      <th>264</th>\n",
       "      <td>auto</td>\n",
       "      <td>38345293</td>\n",
       "      <td>4992345.0</td>\n",
       "      <td>จะซื้อ/เทิร์นรถคันแรกก็โดนพนักงานโตโยต้าชัวร์เ...</td>\n",
       "      <td>โชว์รูมรถยนต์,รถยนต์,Toyota</td>\n",
       "      <td>2018-12-08 19:32:50</td>\n",
       "      <td>2018-12-08 19:47:27</td>\n",
       "      <td>เมื่อสองสามวันก่อนเราไปดูรถที่งานมอเตอร์เอ็กซ์...</td>\n",
       "      <td>จะซื้อ/เทิร์นรถคันแรกก็โดนพนักงานโตโยต้าชัวร์เ...</td>\n",
       "      <td>จะซื้อเทิร์นรถคันแรกก็โดนพนักงานโตโยต้าชัวร์เล...</td>\n",
       "      <td>10</td>\n",
       "      <td>24</td>\n",
       "      <td>-14</td>\n",
       "    </tr>\n",
       "    <tr>\n",
       "      <th>286</th>\n",
       "      <td>auto</td>\n",
       "      <td>38344693</td>\n",
       "      <td>3912631.0</td>\n",
       "      <td>ถามหน่อยครับ สมมติรถราคา 80,000 ผ่อนไปได้ 60,0...</td>\n",
       "      <td>กฎหมายชาวบ้าน,ทนายความ,หนี้สิน (Liability),รถยนต์</td>\n",
       "      <td>2018-12-08 16:00:16</td>\n",
       "      <td>0000-00-00 00:00:00</td>\n",
       "      <td>รู้แต่ว่าถ้ารถโดนยึดแล้วค้างผ่อนไปเท่าไหร่แล้ว...</td>\n",
       "      <td>ถามหน่อยครับ สมมติรถราคา 80,000 ผ่อนไปได้ 60,0...</td>\n",
       "      <td>ถามหน่อยครับสมมติรถราคาnumberผ่อนไปได้numberแล...</td>\n",
       "      <td>0</td>\n",
       "      <td>6</td>\n",
       "      <td>-6</td>\n",
       "    </tr>\n",
       "    <tr>\n",
       "      <th>312</th>\n",
       "      <td>auto</td>\n",
       "      <td>38344026</td>\n",
       "      <td>124188.0</td>\n",
       "      <td>บีบแตร แล้วโดนหาเรื่อง แบบนี้ผมผิดมั้ยครับ</td>\n",
       "      <td>การจราจร</td>\n",
       "      <td>2018-12-08 12:00:48</td>\n",
       "      <td>0000-00-00 00:00:00</td>\n",
       "      <td>เมื่อวานขับรถไปแล้วมีรถจะแทรกเข้ามาเลยบีบแตรไป...</td>\n",
       "      <td>บีบแตร แล้วโดนหาเรื่อง แบบนี้ผมผิดมั้ยครับ เมื...</td>\n",
       "      <td>บีบแตรแล้วโดนหาเรื่องแบบนี้ผมผิดมั้ยครับเมื่อว...</td>\n",
       "      <td>2</td>\n",
       "      <td>9</td>\n",
       "      <td>-7</td>\n",
       "    </tr>\n",
       "    <tr>\n",
       "      <th>365</th>\n",
       "      <td>auto</td>\n",
       "      <td>38342218</td>\n",
       "      <td>1770832.0</td>\n",
       "      <td>สมัคร Grab Food แล้ว เอากล่องกับกระเป๋าจากไหนคับ</td>\n",
       "      <td>GrabExpress,มอเตอร์ไซค์,Delivery Man,LINE MAN ...</td>\n",
       "      <td>2018-12-07 19:32:38</td>\n",
       "      <td>0000-00-00 00:00:00</td>\n",
       "      <td>คือผมสมัคร Grab Food คับ ได้รับการเข้าอบรมณ์เม...</td>\n",
       "      <td>สมัคร Grab Food แล้ว เอากล่องกับกระเป๋าจากไหนค...</td>\n",
       "      <td>สมัครGrabFoodแล้วเอากล่องกับกระเป๋าจากไหนคับคื...</td>\n",
       "      <td>0</td>\n",
       "      <td>7</td>\n",
       "      <td>-7</td>\n",
       "    </tr>\n",
       "    <tr>\n",
       "      <th>381</th>\n",
       "      <td>auto</td>\n",
       "      <td>38341819</td>\n",
       "      <td>4990218.0</td>\n",
       "      <td>ค้างค่างวดรถ2เดือนผ่อนมา5ปียังเหลืออยู่30งวด จ...</td>\n",
       "      <td>สินเชื่อรถยนต์</td>\n",
       "      <td>2018-12-07 17:14:07</td>\n",
       "      <td>0000-00-00 00:00:00</td>\n",
       "      <td>คือเราค้างค่างวดรถกระบะมา2เดือนผ่อนมาแล้ว5ปียั...</td>\n",
       "      <td>ค้างค่างวดรถ2เดือนผ่อนมา5ปียังเหลืออยู่30งวด จ...</td>\n",
       "      <td>ค้างค่างวดรถ2เดือนผ่อนมา5ปียังเหลืออยู่30งวดจะ...</td>\n",
       "      <td>0</td>\n",
       "      <td>6</td>\n",
       "      <td>-6</td>\n",
       "    </tr>\n",
       "    <tr>\n",
       "      <th>402</th>\n",
       "      <td>auto</td>\n",
       "      <td>38341274</td>\n",
       "      <td>2592264.0</td>\n",
       "      <td>เกิดอุบัติเหตุแต่รถร่วมไม่พาไปร.พ.ที่ใกล้ที่สุ...</td>\n",
       "      <td>อุบัติเหตุบนท้องถนน,โรงพยาบาล,ประกันสังคม,แพทย...</td>\n",
       "      <td>2018-12-07 13:50:55</td>\n",
       "      <td>0000-00-00 00:00:00</td>\n",
       "      <td>คือเรื่องเกิดวันที่5 บ่ายโมง รถมอเตอร์ไซค์ผมไป...</td>\n",
       "      <td>เกิดอุบัติเหตุแต่รถร่วมไม่พาไปร.พ.ที่ใกล้ที่สุ...</td>\n",
       "      <td>เกิดอุบัติเหตุแต่รถร่วมไม่พาไปรพที่ใกล้ที่สุดห...</td>\n",
       "      <td>2</td>\n",
       "      <td>8</td>\n",
       "      <td>-6</td>\n",
       "    </tr>\n",
       "    <tr>\n",
       "      <th>497</th>\n",
       "      <td>auto</td>\n",
       "      <td>38336531</td>\n",
       "      <td>4984805.0</td>\n",
       "      <td>คนขี้บ่น:PCXล้อClick ล้อมากๆ จะอายมั้ยนะ(ไม่ใช...</td>\n",
       "      <td>มอเตอร์ไซค์,Honda Click,Honda PCX</td>\n",
       "      <td>2018-12-06 00:05:45</td>\n",
       "      <td>0000-00-00 00:00:00</td>\n",
       "      <td>PCXล้อClick ล้อมากๆ จะอายมั้ยนะ(ไม่ใช่ละ)วันนี...</td>\n",
       "      <td>คนขี้บ่น:PCXล้อClick ล้อมากๆ จะอายมั้ยนะ(ไม่ใช...</td>\n",
       "      <td>คนขี้บ่นPCXล้อClickล้อมากๆจะอายมั้ยนะไม่ใช่ละP...</td>\n",
       "      <td>3</td>\n",
       "      <td>9</td>\n",
       "      <td>-6</td>\n",
       "    </tr>\n",
       "    <tr>\n",
       "      <th>675</th>\n",
       "      <td>auto</td>\n",
       "      <td>38328268</td>\n",
       "      <td>1677210.0</td>\n",
       "      <td>Scoopy i เสีย</td>\n",
       "      <td>อู่ซ่อมรถ,ช่างเทคนิค,Honda Scoopy i,มอเตอร์ไซค...</td>\n",
       "      <td>2018-12-03 16:50:14</td>\n",
       "      <td>0000-00-00 00:00:00</td>\n",
       "      <td>คือจะสอบถามอาการรถนะครับ scoopy i ตัวแรกสุดมีอ...</td>\n",
       "      <td>Scoopy i เสีย คือจะสอบถามอาการรถนะครับ scoopy ...</td>\n",
       "      <td>Scoopyiเสียคือจะสอบถามอาการรถนะครับscoopyiตัวแ...</td>\n",
       "      <td>0</td>\n",
       "      <td>8</td>\n",
       "      <td>-8</td>\n",
       "    </tr>\n",
       "    <tr>\n",
       "      <th>689</th>\n",
       "      <td>auto</td>\n",
       "      <td>38327877</td>\n",
       "      <td>4687885.0</td>\n",
       "      <td>เข้าเกียร์3แล้วหลุดมาเกียร์ว่างเป็นเพราะ?</td>\n",
       "      <td>ซ่อมบำรุงรถยนต์,Suzuki Swift</td>\n",
       "      <td>2018-12-03 14:34:16</td>\n",
       "      <td>2018-12-03 14:51:23</td>\n",
       "      <td>อาการเริ่มต้นคือ1.เข้าเกียร์3ยากมาก2.พอเข้าเกี...</td>\n",
       "      <td>เข้าเกียร์3แล้วหลุดมาเกียร์ว่างเป็นเพราะ? อากา...</td>\n",
       "      <td>เข้าเกียร์3แล้วหลุดมาเกียร์ว่างเป็นเพราะอาการเ...</td>\n",
       "      <td>1</td>\n",
       "      <td>8</td>\n",
       "      <td>-7</td>\n",
       "    </tr>\n",
       "    <tr>\n",
       "      <th>763</th>\n",
       "      <td>auto</td>\n",
       "      <td>38324767</td>\n",
       "      <td>612921.0</td>\n",
       "      <td>ขนมปังสำหรับลูกค้า vip</td>\n",
       "      <td>งานแสดงรถยนต์,Toyota,Thailand International Mo...</td>\n",
       "      <td>2018-12-02 15:33:35</td>\n",
       "      <td>0000-00-00 00:00:00</td>\n",
       "      <td>ไปงาน motoR expo 2018 โฉบไปดู new fortuner มาใ...</td>\n",
       "      <td>ขนมปังสำหรับลูกค้า vip ไปงาน motoR expo 2018 โ...</td>\n",
       "      <td>ขนมปังสำหรับลูกค้าvipไปงานmotoRexponumberโฉบไป...</td>\n",
       "      <td>0</td>\n",
       "      <td>8</td>\n",
       "      <td>-8</td>\n",
       "    </tr>\n",
       "    <tr>\n",
       "      <th>819</th>\n",
       "      <td>auto</td>\n",
       "      <td>38322176</td>\n",
       "      <td>1345092.0</td>\n",
       "      <td>BMW รถดับเองเวลาลงจากรถ?</td>\n",
       "      <td>BMW,รถยนต์,BMW 3 Series Sedan</td>\n",
       "      <td>2018-12-01 19:15:58</td>\n",
       "      <td>0000-00-00 00:00:00</td>\n",
       "      <td>ปัจจุบันใช้ 330e ครับ ลงจากรถทีไรจะมีกุญแจอยู่...</td>\n",
       "      <td>BMW รถดับเองเวลาลงจากรถ? ปัจจุบันใช้ 330e ครับ...</td>\n",
       "      <td>BMWรถดับเองเวลาลงจากรถปัจจุบันใช้330eครับลงจาก...</td>\n",
       "      <td>1</td>\n",
       "      <td>7</td>\n",
       "      <td>-6</td>\n",
       "    </tr>\n",
       "    <tr>\n",
       "      <th>823</th>\n",
       "      <td>auto</td>\n",
       "      <td>38322009</td>\n",
       "      <td>4868143.0</td>\n",
       "      <td>โอ้โห ตายยกครัว 5 ศพ พ่อแม่ลูก</td>\n",
       "      <td>การจราจร,อุบัติเหตุบนท้องถนน,ข่าวออนไลน์,อุบัต...</td>\n",
       "      <td>2018-12-01 18:27:25</td>\n",
       "      <td>0000-00-00 00:00:00</td>\n",
       "      <td>ตายยกครัว 5 ศพ! เก๋งกลับจากงานบุญ หลับในชนต้นไ...</td>\n",
       "      <td>โอ้โห ตายยกครัว 5 ศพ พ่อแม่ลูก ตายยกครัว 5 ศพ!...</td>\n",
       "      <td>โอ้โหตายยกครัวnumberศพพ่อแม่ลูกตายยกครัวnumber...</td>\n",
       "      <td>2</td>\n",
       "      <td>10</td>\n",
       "      <td>-8</td>\n",
       "    </tr>\n",
       "  </tbody>\n",
       "</table>\n",
       "</div>"
      ],
      "text/plain": [
       "    category content_id    user_id  \\\n",
       "90      auto   38350636  2700071.0   \n",
       "111     auto   38350055  4995223.0   \n",
       "131     auto   38349578  4995068.0   \n",
       "146     auto   38349208  4994804.0   \n",
       "214     auto   38347004  1180654.0   \n",
       "219     auto   38346803   552783.0   \n",
       "228     auto   38346409  4868143.0   \n",
       "253     auto   38345583  4033756.0   \n",
       "264     auto   38345293  4992345.0   \n",
       "286     auto   38344693  3912631.0   \n",
       "312     auto   38344026   124188.0   \n",
       "365     auto   38342218  1770832.0   \n",
       "381     auto   38341819  4990218.0   \n",
       "402     auto   38341274  2592264.0   \n",
       "497     auto   38336531  4984805.0   \n",
       "675     auto   38328268  1677210.0   \n",
       "689     auto   38327877  4687885.0   \n",
       "763     auto   38324767   612921.0   \n",
       "819     auto   38322176  1345092.0   \n",
       "823     auto   38322009  4868143.0   \n",
       "\n",
       "                                                 title  \\\n",
       "90   Audax 300 ห้วยโสมง ด่วน 304 ใจต้องนิ่ง (Windy ...   \n",
       "111  รถเก๋งu200b Toyota Altisu200b  ปี08u200b มีปัญ...   \n",
       "131                                  เครื่องเวฟ 110 ไอ   \n",
       "146  ผมโดนประกันเรียกค่าเสียหายเกินจริงควรทำยังไงดีคับ   \n",
       "214         ใช้มอเตอร์ไซค์ในชีวิตประจำวันลำบากกันไหมคะ   \n",
       "219                     ถูกคนขับรถตู้สาธารณะลงมาทำร้าย   \n",
       "228  ฝนตกในกรุงเทพอีกแล้ว วันที่10ธค.2561ปั่นจักรยา...   \n",
       "253                     ตำรวจจราจรเค้าไม่ทำงานกันหรอคะ   \n",
       "264  จะซื้อ/เทิร์นรถคันแรกก็โดนพนักงานโตโยต้าชัวร์เ...   \n",
       "286  ถามหน่อยครับ สมมติรถราคา 80,000 ผ่อนไปได้ 60,0...   \n",
       "312         บีบแตร แล้วโดนหาเรื่อง แบบนี้ผมผิดมั้ยครับ   \n",
       "365   สมัคร Grab Food แล้ว เอากล่องกับกระเป๋าจากไหนคับ   \n",
       "381  ค้างค่างวดรถ2เดือนผ่อนมา5ปียังเหลืออยู่30งวด จ...   \n",
       "402  เกิดอุบัติเหตุแต่รถร่วมไม่พาไปร.พ.ที่ใกล้ที่สุ...   \n",
       "497  คนขี้บ่น:PCXล้อClick ล้อมากๆ จะอายมั้ยนะ(ไม่ใช...   \n",
       "675                                      Scoopy i เสีย   \n",
       "689          เข้าเกียร์3แล้วหลุดมาเกียร์ว่างเป็นเพราะ?   \n",
       "763                             ขนมปังสำหรับลูกค้า vip   \n",
       "819                           BMW รถดับเองเวลาลงจากรถ?   \n",
       "823                     โอ้โห ตายยกครัว 5 ศพ พ่อแม่ลูก   \n",
       "\n",
       "                                                  tags            post_date  \\\n",
       "90   จักรยาน,จักรยานทัวร์ริ่ง,ทริปจักรยาน,จักรยานเส...  2018-12-10 14:42:43   \n",
       "111                                             Toyota  2018-12-10 11:35:27   \n",
       "131                                          อู่ซ่อมรถ  2018-12-10 08:37:50   \n",
       "146                      ร้องทุกข์,อุบัติเหตุบนท้องถนน  2018-12-10 00:50:37   \n",
       "214                                        มอเตอร์ไซค์  2018-12-09 12:01:23   \n",
       "219       เมาไม่ขับ,ร้องทุกข์,กฎหมายชาวบ้าน,ปัญหาสังคม  2018-12-09 10:50:00   \n",
       "228                     สุขภาพกาย,จักรยาน,พยากรณ์อากาศ  2018-12-09 06:27:45   \n",
       "253  อุบัติเหตุบนท้องถนน,การจราจร,ปัญหาสังคม,กฎหมาย...  2018-12-08 21:07:56   \n",
       "264                        โชว์รูมรถยนต์,รถยนต์,Toyota  2018-12-08 19:32:50   \n",
       "286  กฎหมายชาวบ้าน,ทนายความ,หนี้สิน (Liability),รถยนต์  2018-12-08 16:00:16   \n",
       "312                                           การจราจร  2018-12-08 12:00:48   \n",
       "365  GrabExpress,มอเตอร์ไซค์,Delivery Man,LINE MAN ...  2018-12-07 19:32:38   \n",
       "381                                     สินเชื่อรถยนต์  2018-12-07 17:14:07   \n",
       "402  อุบัติเหตุบนท้องถนน,โรงพยาบาล,ประกันสังคม,แพทย...  2018-12-07 13:50:55   \n",
       "497                  มอเตอร์ไซค์,Honda Click,Honda PCX  2018-12-06 00:05:45   \n",
       "675  อู่ซ่อมรถ,ช่างเทคนิค,Honda Scoopy i,มอเตอร์ไซค...  2018-12-03 16:50:14   \n",
       "689                       ซ่อมบำรุงรถยนต์,Suzuki Swift  2018-12-03 14:34:16   \n",
       "763  งานแสดงรถยนต์,Toyota,Thailand International Mo...  2018-12-02 15:33:35   \n",
       "819                      BMW,รถยนต์,BMW 3 Series Sedan  2018-12-01 19:15:58   \n",
       "823  การจราจร,อุบัติเหตุบนท้องถนน,ข่าวออนไลน์,อุบัต...  2018-12-01 18:27:25   \n",
       "\n",
       "             last_update                                            content  \\\n",
       "90   2018-12-10 16:06:35  มาถึงเรื่องราวสานต่อ จากการที่จะต้องผ่านสนาม 3...   \n",
       "111  0000-00-00 00:00:00  คือu200bปัญหาu200bมันเริ่มจากที่ตอนแรกแฟนลืมปิ...   \n",
       "131  0000-00-00 00:00:00  อยากทราบคับว่า มันเป็นที่อะไรตอนผมขับรถเวฟ 110...   \n",
       "146  0000-00-00 00:00:00  แก้ไขคือผมอยากจะถามว่าพอดีผมเกิดอุบัติเหตุแล้ว...   \n",
       "214  0000-00-00 00:00:00  คือเราอยากจะเปลี่ยนมาใช้ไว้ขี่ไปทำงาน ที่ทำงาน...   \n",
       "219  0000-00-00 00:00:00  เหตุเกิดเมื่อคืนนะครับผมขับรถออกจากในเมืองภูเก...   \n",
       "228  0000-00-00 00:00:00  ทำไมต้องตกในวันหยุดเราเอาพัดลมเป่าลมร้อนจากภาค...   \n",
       "253  0000-00-00 00:00:00  เราไม่ได้มีเจตนาจะทำร้ายใครนะคะ เราแค่สงสัยเฉย...   \n",
       "264  2018-12-08 19:47:27  เมื่อสองสามวันก่อนเราไปดูรถที่งานมอเตอร์เอ็กซ์...   \n",
       "286  0000-00-00 00:00:00  รู้แต่ว่าถ้ารถโดนยึดแล้วค้างผ่อนไปเท่าไหร่แล้ว...   \n",
       "312  0000-00-00 00:00:00  เมื่อวานขับรถไปแล้วมีรถจะแทรกเข้ามาเลยบีบแตรไป...   \n",
       "365  0000-00-00 00:00:00  คือผมสมัคร Grab Food คับ ได้รับการเข้าอบรมณ์เม...   \n",
       "381  0000-00-00 00:00:00  คือเราค้างค่างวดรถกระบะมา2เดือนผ่อนมาแล้ว5ปียั...   \n",
       "402  0000-00-00 00:00:00  คือเรื่องเกิดวันที่5 บ่ายโมง รถมอเตอร์ไซค์ผมไป...   \n",
       "497  0000-00-00 00:00:00  PCXล้อClick ล้อมากๆ จะอายมั้ยนะ(ไม่ใช่ละ)วันนี...   \n",
       "675  0000-00-00 00:00:00  คือจะสอบถามอาการรถนะครับ scoopy i ตัวแรกสุดมีอ...   \n",
       "689  2018-12-03 14:51:23  อาการเริ่มต้นคือ1.เข้าเกียร์3ยากมาก2.พอเข้าเกี...   \n",
       "763  0000-00-00 00:00:00  ไปงาน motoR expo 2018 โฉบไปดู new fortuner มาใ...   \n",
       "819  0000-00-00 00:00:00  ปัจจุบันใช้ 330e ครับ ลงจากรถทีไรจะมีกุญแจอยู่...   \n",
       "823  0000-00-00 00:00:00  ตายยกครัว 5 ศพ! เก๋งกลับจากงานบุญ หลับในชนต้นไ...   \n",
       "\n",
       "                                         title-content  \\\n",
       "90   Audax 300 ห้วยโสมง ด่วน 304 ใจต้องนิ่ง (Windy ...   \n",
       "111  รถเก๋งu200b Toyota Altisu200b  ปี08u200b มีปัญ...   \n",
       "131  เครื่องเวฟ 110 ไอ อยากทราบคับว่า มันเป็นที่อะไ...   \n",
       "146  ผมโดนประกันเรียกค่าเสียหายเกินจริงควรทำยังไงดี...   \n",
       "214  ใช้มอเตอร์ไซค์ในชีวิตประจำวันลำบากกันไหมคะ คือ...   \n",
       "219  ถูกคนขับรถตู้สาธารณะลงมาทำร้าย เหตุเกิดเมื่อคื...   \n",
       "228  ฝนตกในกรุงเทพอีกแล้ว วันที่10ธค.2561ปั่นจักรยา...   \n",
       "253  ตำรวจจราจรเค้าไม่ทำงานกันหรอคะ เราไม่ได้มีเจตน...   \n",
       "264  จะซื้อ/เทิร์นรถคันแรกก็โดนพนักงานโตโยต้าชัวร์เ...   \n",
       "286  ถามหน่อยครับ สมมติรถราคา 80,000 ผ่อนไปได้ 60,0...   \n",
       "312  บีบแตร แล้วโดนหาเรื่อง แบบนี้ผมผิดมั้ยครับ เมื...   \n",
       "365  สมัคร Grab Food แล้ว เอากล่องกับกระเป๋าจากไหนค...   \n",
       "381  ค้างค่างวดรถ2เดือนผ่อนมา5ปียังเหลืออยู่30งวด จ...   \n",
       "402  เกิดอุบัติเหตุแต่รถร่วมไม่พาไปร.พ.ที่ใกล้ที่สุ...   \n",
       "497  คนขี้บ่น:PCXล้อClick ล้อมากๆ จะอายมั้ยนะ(ไม่ใช...   \n",
       "675  Scoopy i เสีย คือจะสอบถามอาการรถนะครับ scoopy ...   \n",
       "689  เข้าเกียร์3แล้วหลุดมาเกียร์ว่างเป็นเพราะ? อากา...   \n",
       "763  ขนมปังสำหรับลูกค้า vip ไปงาน motoR expo 2018 โ...   \n",
       "819  BMW รถดับเองเวลาลงจากรถ? ปัจจุบันใช้ 330e ครับ...   \n",
       "823  โอ้โห ตายยกครัว 5 ศพ พ่อแม่ลูก ตายยกครัว 5 ศพ!...   \n",
       "\n",
       "                                   title_content_clean  pos_score  neg_score  \\\n",
       "90   Audaxnumberห้วยโสมงด่วนnumberใจต้องนิ่งWindySn...         36         42   \n",
       "111  รถเก๋งu200bToyotaAltisu200bปี08u200bมีปัญหาu20...          0          6   \n",
       "131  เครื่องเวฟnumberไออยากทราบคับว่ามันเป็นที่อะไร...          2          9   \n",
       "146  ผมโดนประกันเรียกค่าเสียหายเกินจริงควรทำยังไงดี...          1         22   \n",
       "214  ใช้มอเตอร์ไซค์ในชีวิตประจำวันลำบากกันไหมคะคือเ...          0          6   \n",
       "219  ถูกคนขับรถตู้สาธารณะลงมาทำร้ายเหตุเกิดเมื่อคืน...          5         12   \n",
       "228  ฝนตกในกรุงเทพอีกแล้ววันที่10ธค2561ปั่นจักรยานท...          0          6   \n",
       "253  ตำรวจจราจรเค้าไม่ทำงานกันหรอคะเราไม่ได้มีเจตนา...          0          6   \n",
       "264  จะซื้อเทิร์นรถคันแรกก็โดนพนักงานโตโยต้าชัวร์เล...         10         24   \n",
       "286  ถามหน่อยครับสมมติรถราคาnumberผ่อนไปได้numberแล...          0          6   \n",
       "312  บีบแตรแล้วโดนหาเรื่องแบบนี้ผมผิดมั้ยครับเมื่อว...          2          9   \n",
       "365  สมัครGrabFoodแล้วเอากล่องกับกระเป๋าจากไหนคับคื...          0          7   \n",
       "381  ค้างค่างวดรถ2เดือนผ่อนมา5ปียังเหลืออยู่30งวดจะ...          0          6   \n",
       "402  เกิดอุบัติเหตุแต่รถร่วมไม่พาไปรพที่ใกล้ที่สุดห...          2          8   \n",
       "497  คนขี้บ่นPCXล้อClickล้อมากๆจะอายมั้ยนะไม่ใช่ละP...          3          9   \n",
       "675  Scoopyiเสียคือจะสอบถามอาการรถนะครับscoopyiตัวแ...          0          8   \n",
       "689  เข้าเกียร์3แล้วหลุดมาเกียร์ว่างเป็นเพราะอาการเ...          1          8   \n",
       "763  ขนมปังสำหรับลูกค้าvipไปงานmotoRexponumberโฉบไป...          0          8   \n",
       "819  BMWรถดับเองเวลาลงจากรถปัจจุบันใช้330eครับลงจาก...          1          7   \n",
       "823  โอ้โหตายยกครัวnumberศพพ่อแม่ลูกตายยกครัวnumber...          2         10   \n",
       "\n",
       "     sent_score  \n",
       "90           -6  \n",
       "111          -6  \n",
       "131          -7  \n",
       "146         -21  \n",
       "214          -6  \n",
       "219          -7  \n",
       "228          -6  \n",
       "253          -6  \n",
       "264         -14  \n",
       "286          -6  \n",
       "312          -7  \n",
       "365          -7  \n",
       "381          -6  \n",
       "402          -6  \n",
       "497          -6  \n",
       "675          -8  \n",
       "689          -7  \n",
       "763          -8  \n",
       "819          -6  \n",
       "823          -8  "
      ]
     },
     "execution_count": 25,
     "metadata": {},
     "output_type": "execute_result"
    }
   ],
   "source": [
    "df_post.loc[df_post.sent_score < -5].head(20)"
   ]
  },
  {
   "cell_type": "code",
   "execution_count": null,
   "metadata": {},
   "outputs": [],
   "source": []
  }
 ],
 "metadata": {
  "kernelspec": {
   "display_name": "Python 3",
   "language": "python",
   "name": "python3"
  },
  "language_info": {
   "codemirror_mode": {
    "name": "ipython",
    "version": 3
   },
   "file_extension": ".py",
   "mimetype": "text/x-python",
   "name": "python",
   "nbconvert_exporter": "python",
   "pygments_lexer": "ipython3",
   "version": "3.7.1"
  }
 },
 "nbformat": 4,
 "nbformat_minor": 2
}
