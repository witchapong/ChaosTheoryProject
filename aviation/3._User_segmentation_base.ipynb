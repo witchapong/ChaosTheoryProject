{
 "cells": [
  {
   "cell_type": "markdown",
   "metadata": {},
   "source": [
    "## Import libs and data"
   ]
  },
  {
   "cell_type": "code",
   "execution_count": 26,
   "metadata": {},
   "outputs": [],
   "source": [
    "import pandas as pd\n",
    "import re\n",
    "pd.options.display.max_columns = 999\n",
    "pd.options.display.max_rows = 999\n",
    "import numpy as np\n",
    "import matplotlib.pyplot as plt\n",
    "%matplotlib inline\n",
    "import seaborn as sns\n",
    "from tqdm import tqdm, tqdm_notebook, trange\n",
    "tqdm.pandas()\n",
    "from collections import Counter\n",
    "import pickle\n",
    "import squarify\n",
    "import collections"
   ]
  },
  {
   "cell_type": "code",
   "execution_count": 2,
   "metadata": {},
   "outputs": [],
   "source": [
    "df_user_x_cat = pd.read_csv('../src/pantip_user_cat.csv')"
   ]
  },
  {
   "cell_type": "code",
   "execution_count": 3,
   "metadata": {
    "scrolled": true
   },
   "outputs": [
    {
     "data": {
      "text/html": [
       "<div>\n",
       "<style scoped>\n",
       "    .dataframe tbody tr th:only-of-type {\n",
       "        vertical-align: middle;\n",
       "    }\n",
       "\n",
       "    .dataframe tbody tr th {\n",
       "        vertical-align: top;\n",
       "    }\n",
       "\n",
       "    .dataframe thead th {\n",
       "        text-align: right;\n",
       "    }\n",
       "</style>\n",
       "<table border=\"1\" class=\"dataframe\">\n",
       "  <thead>\n",
       "    <tr style=\"text-align: right;\">\n",
       "      <th></th>\n",
       "      <th>user_id</th>\n",
       "      <th>category</th>\n",
       "      <th>post_date</th>\n",
       "    </tr>\n",
       "  </thead>\n",
       "  <tbody>\n",
       "    <tr>\n",
       "      <th>0</th>\n",
       "      <td>4179868</td>\n",
       "      <td>travel</td>\n",
       "      <td>2018-12-06 21:31:06</td>\n",
       "    </tr>\n",
       "    <tr>\n",
       "      <th>1</th>\n",
       "      <td>2897151</td>\n",
       "      <td>travel</td>\n",
       "      <td>2018-12-06 21:19:04</td>\n",
       "    </tr>\n",
       "    <tr>\n",
       "      <th>2</th>\n",
       "      <td>772076</td>\n",
       "      <td>travel</td>\n",
       "      <td>2018-12-06 20:52:07</td>\n",
       "    </tr>\n",
       "    <tr>\n",
       "      <th>3</th>\n",
       "      <td>4977690</td>\n",
       "      <td>travel</td>\n",
       "      <td>2018-12-06 20:24:25</td>\n",
       "    </tr>\n",
       "    <tr>\n",
       "      <th>4</th>\n",
       "      <td>2239672</td>\n",
       "      <td>travel</td>\n",
       "      <td>2018-12-06 20:03:01</td>\n",
       "    </tr>\n",
       "  </tbody>\n",
       "</table>\n",
       "</div>"
      ],
      "text/plain": [
       "   user_id category            post_date\n",
       "0  4179868   travel  2018-12-06 21:31:06\n",
       "1  2897151   travel  2018-12-06 21:19:04\n",
       "2   772076   travel  2018-12-06 20:52:07\n",
       "3  4977690   travel  2018-12-06 20:24:25\n",
       "4  2239672   travel  2018-12-06 20:03:01"
      ]
     },
     "execution_count": 3,
     "metadata": {},
     "output_type": "execute_result"
    }
   ],
   "source": [
    "df_user_x_cat.head()"
   ]
  },
  {
   "cell_type": "code",
   "execution_count": 4,
   "metadata": {},
   "outputs": [
    {
     "data": {
      "text/plain": [
       "5915"
      ]
     },
     "execution_count": 4,
     "metadata": {},
     "output_type": "execute_result"
    }
   ],
   "source": [
    "df_user_x_cat.category.nunique()"
   ]
  },
  {
   "cell_type": "code",
   "execution_count": 5,
   "metadata": {},
   "outputs": [],
   "source": [
    "# select top 500 most popular categories\n",
    "cat_counter = Counter(df_user_x_cat.category.values)"
   ]
  },
  {
   "cell_type": "markdown",
   "metadata": {},
   "source": [
    "## create tags set and prepare dataframe"
   ]
  },
  {
   "cell_type": "code",
   "execution_count": 7,
   "metadata": {},
   "outputs": [],
   "source": [
    "# create list of tags\n",
    "tag_list=[]\n",
    "for text in df_user_x_cat.category:\n",
    "    tag_list.append(text.split(', '))\n",
    "\n",
    "all_tags = []\n",
    "for tl in tag_list:\n",
    "    for tag in tl:\n",
    "        if not tag in all_tags:\n",
    "            all_tags.append(tag)"
   ]
  },
  {
   "cell_type": "code",
   "execution_count": 8,
   "metadata": {},
   "outputs": [
    {
     "data": {
      "text/plain": [
       "['travel',\n",
       " 'auto',\n",
       " 'pantip_food',\n",
       " 'pantip_cartoon',\n",
       " 'pantip_chalermthai',\n",
       " 'pantip_chalermkrung',\n",
       " 'pantip_korea',\n",
       " 'pantip_gadget',\n",
       " 'pantip_siliconvalley',\n",
       " 'pantip_family',\n",
       " 'pantip_rajdumnern',\n",
       " 'pantip_social',\n",
       " 'pantip_klaibann',\n",
       " 'pantip_home',\n",
       " 'pantip_tvshow',\n",
       " 'pantip_region',\n",
       " 'pantip_mbk',\n",
       " 'pantip_supachalasai',\n",
       " 'pantip_lumpini',\n",
       " 'pantip_sinthorn',\n",
       " 'pantip_wahkor',\n",
       " 'pantip_library',\n",
       " 'pantip_siam',\n",
       " 'pantip_beauty',\n",
       " 'pantip_bangrak']"
      ]
     },
     "execution_count": 8,
     "metadata": {},
     "output_type": "execute_result"
    }
   ],
   "source": [
    "all_tags"
   ]
  },
  {
   "cell_type": "code",
   "execution_count": 6,
   "metadata": {},
   "outputs": [
    {
     "data": {
      "application/vnd.jupyter.widget-view+json": {
       "model_id": "1dc62a7e698940b28e826d5263429b0b",
       "version_major": 2,
       "version_minor": 0
      },
      "text/plain": [
       "HBox(children=(IntProgress(value=0, max=5805535), HTML(value='')))"
      ]
     },
     "metadata": {},
     "output_type": "display_data"
    },
    {
     "name": "stdout",
     "output_type": "stream",
     "text": [
      "\n"
     ]
    }
   ],
   "source": [
    "df_tags = pd.DataFrame(np.zeros((len(tag_list),len(all_tags))),columns=all_tags)\n",
    "\n",
    "for i in tqdm_notebook(range(len(tag_list))):\n",
    "    for tag in tag_list[i]:\n",
    "        df_tags.loc[i,tag] = 1\n",
    "\n",
    "df_tags['user_id'] = df_user_x_cat.user_id.values\n",
    "\n",
    "df_tags.to_csv('../tmp/df_tags.csv',index=False)"
   ]
  },
  {
   "cell_type": "code",
   "execution_count": 9,
   "metadata": {},
   "outputs": [],
   "source": [
    "df_tags = pd.read_csv('../tmp/df_tags.csv')"
   ]
  },
  {
   "cell_type": "code",
   "execution_count": 10,
   "metadata": {},
   "outputs": [
    {
     "data": {
      "text/html": [
       "<div>\n",
       "<style scoped>\n",
       "    .dataframe tbody tr th:only-of-type {\n",
       "        vertical-align: middle;\n",
       "    }\n",
       "\n",
       "    .dataframe tbody tr th {\n",
       "        vertical-align: top;\n",
       "    }\n",
       "\n",
       "    .dataframe thead th {\n",
       "        text-align: right;\n",
       "    }\n",
       "</style>\n",
       "<table border=\"1\" class=\"dataframe\">\n",
       "  <thead>\n",
       "    <tr style=\"text-align: right;\">\n",
       "      <th></th>\n",
       "      <th>travel</th>\n",
       "      <th>auto</th>\n",
       "      <th>pantip_food</th>\n",
       "      <th>pantip_cartoon</th>\n",
       "      <th>pantip_chalermthai</th>\n",
       "      <th>pantip_chalermkrung</th>\n",
       "      <th>pantip_korea</th>\n",
       "      <th>pantip_gadget</th>\n",
       "      <th>pantip_siliconvalley</th>\n",
       "      <th>pantip_family</th>\n",
       "      <th>pantip_rajdumnern</th>\n",
       "      <th>pantip_social</th>\n",
       "      <th>pantip_klaibann</th>\n",
       "      <th>pantip_home</th>\n",
       "      <th>pantip_tvshow</th>\n",
       "      <th>pantip_region</th>\n",
       "      <th>pantip_mbk</th>\n",
       "      <th>pantip_supachalasai</th>\n",
       "      <th>pantip_lumpini</th>\n",
       "      <th>pantip_sinthorn</th>\n",
       "      <th>pantip_wahkor</th>\n",
       "      <th>pantip_library</th>\n",
       "      <th>pantip_siam</th>\n",
       "      <th>pantip_beauty</th>\n",
       "      <th>pantip_bangrak</th>\n",
       "    </tr>\n",
       "    <tr>\n",
       "      <th>user_id</th>\n",
       "      <th></th>\n",
       "      <th></th>\n",
       "      <th></th>\n",
       "      <th></th>\n",
       "      <th></th>\n",
       "      <th></th>\n",
       "      <th></th>\n",
       "      <th></th>\n",
       "      <th></th>\n",
       "      <th></th>\n",
       "      <th></th>\n",
       "      <th></th>\n",
       "      <th></th>\n",
       "      <th></th>\n",
       "      <th></th>\n",
       "      <th></th>\n",
       "      <th></th>\n",
       "      <th></th>\n",
       "      <th></th>\n",
       "      <th></th>\n",
       "      <th></th>\n",
       "      <th></th>\n",
       "      <th></th>\n",
       "      <th></th>\n",
       "      <th></th>\n",
       "    </tr>\n",
       "  </thead>\n",
       "  <tbody>\n",
       "    <tr>\n",
       "      <th>4</th>\n",
       "      <td>3.0</td>\n",
       "      <td>0.0</td>\n",
       "      <td>4.0</td>\n",
       "      <td>3.0</td>\n",
       "      <td>2.0</td>\n",
       "      <td>0.0</td>\n",
       "      <td>0.0</td>\n",
       "      <td>0.0</td>\n",
       "      <td>1.0</td>\n",
       "      <td>5.0</td>\n",
       "      <td>0.0</td>\n",
       "      <td>1.0</td>\n",
       "      <td>0.0</td>\n",
       "      <td>0.0</td>\n",
       "      <td>1.0</td>\n",
       "      <td>1.0</td>\n",
       "      <td>0.0</td>\n",
       "      <td>0.0</td>\n",
       "      <td>1.0</td>\n",
       "      <td>0.0</td>\n",
       "      <td>1.0</td>\n",
       "      <td>2.0</td>\n",
       "      <td>0.0</td>\n",
       "      <td>0.0</td>\n",
       "      <td>0.0</td>\n",
       "    </tr>\n",
       "    <tr>\n",
       "      <th>5</th>\n",
       "      <td>0.0</td>\n",
       "      <td>0.0</td>\n",
       "      <td>0.0</td>\n",
       "      <td>0.0</td>\n",
       "      <td>0.0</td>\n",
       "      <td>0.0</td>\n",
       "      <td>0.0</td>\n",
       "      <td>0.0</td>\n",
       "      <td>0.0</td>\n",
       "      <td>0.0</td>\n",
       "      <td>0.0</td>\n",
       "      <td>0.0</td>\n",
       "      <td>0.0</td>\n",
       "      <td>0.0</td>\n",
       "      <td>0.0</td>\n",
       "      <td>0.0</td>\n",
       "      <td>0.0</td>\n",
       "      <td>0.0</td>\n",
       "      <td>0.0</td>\n",
       "      <td>1.0</td>\n",
       "      <td>0.0</td>\n",
       "      <td>0.0</td>\n",
       "      <td>0.0</td>\n",
       "      <td>0.0</td>\n",
       "      <td>0.0</td>\n",
       "    </tr>\n",
       "    <tr>\n",
       "      <th>13</th>\n",
       "      <td>0.0</td>\n",
       "      <td>1.0</td>\n",
       "      <td>0.0</td>\n",
       "      <td>0.0</td>\n",
       "      <td>1.0</td>\n",
       "      <td>1.0</td>\n",
       "      <td>0.0</td>\n",
       "      <td>0.0</td>\n",
       "      <td>0.0</td>\n",
       "      <td>0.0</td>\n",
       "      <td>0.0</td>\n",
       "      <td>0.0</td>\n",
       "      <td>0.0</td>\n",
       "      <td>0.0</td>\n",
       "      <td>0.0</td>\n",
       "      <td>0.0</td>\n",
       "      <td>0.0</td>\n",
       "      <td>0.0</td>\n",
       "      <td>0.0</td>\n",
       "      <td>1.0</td>\n",
       "      <td>0.0</td>\n",
       "      <td>0.0</td>\n",
       "      <td>0.0</td>\n",
       "      <td>0.0</td>\n",
       "      <td>0.0</td>\n",
       "    </tr>\n",
       "    <tr>\n",
       "      <th>101</th>\n",
       "      <td>0.0</td>\n",
       "      <td>0.0</td>\n",
       "      <td>0.0</td>\n",
       "      <td>0.0</td>\n",
       "      <td>1.0</td>\n",
       "      <td>0.0</td>\n",
       "      <td>0.0</td>\n",
       "      <td>0.0</td>\n",
       "      <td>0.0</td>\n",
       "      <td>0.0</td>\n",
       "      <td>0.0</td>\n",
       "      <td>0.0</td>\n",
       "      <td>0.0</td>\n",
       "      <td>0.0</td>\n",
       "      <td>0.0</td>\n",
       "      <td>0.0</td>\n",
       "      <td>0.0</td>\n",
       "      <td>0.0</td>\n",
       "      <td>0.0</td>\n",
       "      <td>0.0</td>\n",
       "      <td>0.0</td>\n",
       "      <td>0.0</td>\n",
       "      <td>0.0</td>\n",
       "      <td>0.0</td>\n",
       "      <td>0.0</td>\n",
       "    </tr>\n",
       "    <tr>\n",
       "      <th>123</th>\n",
       "      <td>1.0</td>\n",
       "      <td>0.0</td>\n",
       "      <td>5.0</td>\n",
       "      <td>1.0</td>\n",
       "      <td>0.0</td>\n",
       "      <td>0.0</td>\n",
       "      <td>0.0</td>\n",
       "      <td>0.0</td>\n",
       "      <td>2.0</td>\n",
       "      <td>0.0</td>\n",
       "      <td>0.0</td>\n",
       "      <td>1.0</td>\n",
       "      <td>0.0</td>\n",
       "      <td>92.0</td>\n",
       "      <td>0.0</td>\n",
       "      <td>0.0</td>\n",
       "      <td>0.0</td>\n",
       "      <td>0.0</td>\n",
       "      <td>0.0</td>\n",
       "      <td>4.0</td>\n",
       "      <td>0.0</td>\n",
       "      <td>0.0</td>\n",
       "      <td>0.0</td>\n",
       "      <td>2.0</td>\n",
       "      <td>0.0</td>\n",
       "    </tr>\n",
       "  </tbody>\n",
       "</table>\n",
       "</div>"
      ],
      "text/plain": [
       "         travel  auto  pantip_food  pantip_cartoon  pantip_chalermthai  \\\n",
       "user_id                                                                  \n",
       "4           3.0   0.0          4.0             3.0                 2.0   \n",
       "5           0.0   0.0          0.0             0.0                 0.0   \n",
       "13          0.0   1.0          0.0             0.0                 1.0   \n",
       "101         0.0   0.0          0.0             0.0                 1.0   \n",
       "123         1.0   0.0          5.0             1.0                 0.0   \n",
       "\n",
       "         pantip_chalermkrung  pantip_korea  pantip_gadget  \\\n",
       "user_id                                                     \n",
       "4                        0.0           0.0            0.0   \n",
       "5                        0.0           0.0            0.0   \n",
       "13                       1.0           0.0            0.0   \n",
       "101                      0.0           0.0            0.0   \n",
       "123                      0.0           0.0            0.0   \n",
       "\n",
       "         pantip_siliconvalley  pantip_family  pantip_rajdumnern  \\\n",
       "user_id                                                           \n",
       "4                         1.0            5.0                0.0   \n",
       "5                         0.0            0.0                0.0   \n",
       "13                        0.0            0.0                0.0   \n",
       "101                       0.0            0.0                0.0   \n",
       "123                       2.0            0.0                0.0   \n",
       "\n",
       "         pantip_social  pantip_klaibann  pantip_home  pantip_tvshow  \\\n",
       "user_id                                                               \n",
       "4                  1.0              0.0          0.0            1.0   \n",
       "5                  0.0              0.0          0.0            0.0   \n",
       "13                 0.0              0.0          0.0            0.0   \n",
       "101                0.0              0.0          0.0            0.0   \n",
       "123                1.0              0.0         92.0            0.0   \n",
       "\n",
       "         pantip_region  pantip_mbk  pantip_supachalasai  pantip_lumpini  \\\n",
       "user_id                                                                   \n",
       "4                  1.0         0.0                  0.0             1.0   \n",
       "5                  0.0         0.0                  0.0             0.0   \n",
       "13                 0.0         0.0                  0.0             0.0   \n",
       "101                0.0         0.0                  0.0             0.0   \n",
       "123                0.0         0.0                  0.0             0.0   \n",
       "\n",
       "         pantip_sinthorn  pantip_wahkor  pantip_library  pantip_siam  \\\n",
       "user_id                                                                \n",
       "4                    0.0            1.0             2.0          0.0   \n",
       "5                    1.0            0.0             0.0          0.0   \n",
       "13                   1.0            0.0             0.0          0.0   \n",
       "101                  0.0            0.0             0.0          0.0   \n",
       "123                  4.0            0.0             0.0          0.0   \n",
       "\n",
       "         pantip_beauty  pantip_bangrak  \n",
       "user_id                                 \n",
       "4                  0.0             0.0  \n",
       "5                  0.0             0.0  \n",
       "13                 0.0             0.0  \n",
       "101                0.0             0.0  \n",
       "123                2.0             0.0  "
      ]
     },
     "execution_count": 10,
     "metadata": {},
     "output_type": "execute_result"
    }
   ],
   "source": [
    "df_user_segment = df_tags.groupby('user_id').sum()\n",
    "df_user_segment.head()"
   ]
  },
  {
   "cell_type": "code",
   "execution_count": 11,
   "metadata": {},
   "outputs": [],
   "source": [
    "df_user_segment = df_user_segment.div(df_user_segment.sum(axis=1), axis=0)"
   ]
  },
  {
   "cell_type": "markdown",
   "metadata": {},
   "source": [
    "## Performing segmentation"
   ]
  },
  {
   "cell_type": "code",
   "execution_count": 12,
   "metadata": {},
   "outputs": [],
   "source": [
    "from sklearn.preprocessing import StandardScaler\n",
    "\n",
    "sc = StandardScaler()\n",
    "user_segment_sc = sc.fit_transform(df_user_segment)"
   ]
  },
  {
   "cell_type": "code",
   "execution_count": 13,
   "metadata": {},
   "outputs": [],
   "source": [
    "from sklearn.cluster import KMeans\n",
    "\n",
    "k_model = KMeans(n_clusters=7)\n",
    "\n",
    "segment = k_model.fit_predict(user_segment_sc)\n",
    "\n",
    "df_user_segment['segment_id'] = segment\n",
    "\n",
    "# summary statistic by segment\n",
    "df_segment = df_user_segment.groupby('segment_id')[all_tags].mean()\n",
    "\n",
    "df_user_segment.reset_index(inplace=True)\n",
    "\n",
    "df_segment = df_segment.join(df_user_segment.groupby('segment_id')['user_id'].count()).rename({'user_id':'total_user'},axis=1)"
   ]
  },
  {
   "cell_type": "code",
   "execution_count": 14,
   "metadata": {},
   "outputs": [
    {
     "data": {
      "text/html": [
       "<div>\n",
       "<style scoped>\n",
       "    .dataframe tbody tr th:only-of-type {\n",
       "        vertical-align: middle;\n",
       "    }\n",
       "\n",
       "    .dataframe tbody tr th {\n",
       "        vertical-align: top;\n",
       "    }\n",
       "\n",
       "    .dataframe thead th {\n",
       "        text-align: right;\n",
       "    }\n",
       "</style>\n",
       "<table border=\"1\" class=\"dataframe\">\n",
       "  <thead>\n",
       "    <tr style=\"text-align: right;\">\n",
       "      <th></th>\n",
       "      <th>travel</th>\n",
       "      <th>auto</th>\n",
       "      <th>pantip_food</th>\n",
       "      <th>pantip_cartoon</th>\n",
       "      <th>pantip_chalermthai</th>\n",
       "      <th>pantip_chalermkrung</th>\n",
       "      <th>pantip_korea</th>\n",
       "      <th>pantip_gadget</th>\n",
       "      <th>pantip_siliconvalley</th>\n",
       "      <th>pantip_family</th>\n",
       "      <th>pantip_rajdumnern</th>\n",
       "      <th>pantip_social</th>\n",
       "      <th>pantip_klaibann</th>\n",
       "      <th>pantip_home</th>\n",
       "      <th>pantip_tvshow</th>\n",
       "      <th>pantip_region</th>\n",
       "      <th>pantip_mbk</th>\n",
       "      <th>pantip_supachalasai</th>\n",
       "      <th>pantip_lumpini</th>\n",
       "      <th>pantip_sinthorn</th>\n",
       "      <th>pantip_wahkor</th>\n",
       "      <th>pantip_library</th>\n",
       "      <th>pantip_siam</th>\n",
       "      <th>pantip_beauty</th>\n",
       "      <th>pantip_bangrak</th>\n",
       "      <th>total_user</th>\n",
       "    </tr>\n",
       "    <tr>\n",
       "      <th>segment_id</th>\n",
       "      <th></th>\n",
       "      <th></th>\n",
       "      <th></th>\n",
       "      <th></th>\n",
       "      <th></th>\n",
       "      <th></th>\n",
       "      <th></th>\n",
       "      <th></th>\n",
       "      <th></th>\n",
       "      <th></th>\n",
       "      <th></th>\n",
       "      <th></th>\n",
       "      <th></th>\n",
       "      <th></th>\n",
       "      <th></th>\n",
       "      <th></th>\n",
       "      <th></th>\n",
       "      <th></th>\n",
       "      <th></th>\n",
       "      <th></th>\n",
       "      <th></th>\n",
       "      <th></th>\n",
       "      <th></th>\n",
       "      <th></th>\n",
       "      <th></th>\n",
       "      <th></th>\n",
       "    </tr>\n",
       "  </thead>\n",
       "  <tbody>\n",
       "    <tr>\n",
       "      <th>0</th>\n",
       "      <td>0.005148</td>\n",
       "      <td>0.009571</td>\n",
       "      <td>0.003195</td>\n",
       "      <td>0.010459</td>\n",
       "      <td>0.005067</td>\n",
       "      <td>0.004099</td>\n",
       "      <td>0.000550</td>\n",
       "      <td>0.002817</td>\n",
       "      <td>0.806739</td>\n",
       "      <td>0.002687</td>\n",
       "      <td>0.000449</td>\n",
       "      <td>0.014853</td>\n",
       "      <td>0.002311</td>\n",
       "      <td>0.010965</td>\n",
       "      <td>0.001034</td>\n",
       "      <td>0.004612</td>\n",
       "      <td>0.062154</td>\n",
       "      <td>0.002959</td>\n",
       "      <td>0.009105</td>\n",
       "      <td>0.006317</td>\n",
       "      <td>0.007138</td>\n",
       "      <td>0.008015</td>\n",
       "      <td>0.018595</td>\n",
       "      <td>0.000485</td>\n",
       "      <td>0.000675</td>\n",
       "      <td>82262</td>\n",
       "    </tr>\n",
       "    <tr>\n",
       "      <th>1</th>\n",
       "      <td>0.003953</td>\n",
       "      <td>0.005108</td>\n",
       "      <td>0.004194</td>\n",
       "      <td>0.004754</td>\n",
       "      <td>0.003682</td>\n",
       "      <td>0.006532</td>\n",
       "      <td>0.002029</td>\n",
       "      <td>0.000248</td>\n",
       "      <td>0.009124</td>\n",
       "      <td>0.016148</td>\n",
       "      <td>0.000520</td>\n",
       "      <td>0.047193</td>\n",
       "      <td>0.010274</td>\n",
       "      <td>0.003161</td>\n",
       "      <td>0.002540</td>\n",
       "      <td>0.005057</td>\n",
       "      <td>0.011040</td>\n",
       "      <td>0.002468</td>\n",
       "      <td>0.025597</td>\n",
       "      <td>0.004661</td>\n",
       "      <td>0.007743</td>\n",
       "      <td>0.160256</td>\n",
       "      <td>0.646936</td>\n",
       "      <td>0.000567</td>\n",
       "      <td>0.016218</td>\n",
       "      <td>229201</td>\n",
       "    </tr>\n",
       "    <tr>\n",
       "      <th>2</th>\n",
       "      <td>0.006513</td>\n",
       "      <td>0.004714</td>\n",
       "      <td>0.003174</td>\n",
       "      <td>0.010809</td>\n",
       "      <td>0.015933</td>\n",
       "      <td>0.822131</td>\n",
       "      <td>0.015354</td>\n",
       "      <td>0.000370</td>\n",
       "      <td>0.018164</td>\n",
       "      <td>0.002859</td>\n",
       "      <td>0.000209</td>\n",
       "      <td>0.007163</td>\n",
       "      <td>0.003120</td>\n",
       "      <td>0.003064</td>\n",
       "      <td>0.007610</td>\n",
       "      <td>0.005284</td>\n",
       "      <td>0.013873</td>\n",
       "      <td>0.003038</td>\n",
       "      <td>0.009692</td>\n",
       "      <td>0.002856</td>\n",
       "      <td>0.002306</td>\n",
       "      <td>0.010445</td>\n",
       "      <td>0.028346</td>\n",
       "      <td>0.001389</td>\n",
       "      <td>0.001583</td>\n",
       "      <td>34710</td>\n",
       "    </tr>\n",
       "    <tr>\n",
       "      <th>3</th>\n",
       "      <td>0.016741</td>\n",
       "      <td>0.094737</td>\n",
       "      <td>0.043859</td>\n",
       "      <td>0.033182</td>\n",
       "      <td>0.037739</td>\n",
       "      <td>0.011636</td>\n",
       "      <td>0.011487</td>\n",
       "      <td>0.003353</td>\n",
       "      <td>0.029857</td>\n",
       "      <td>0.012579</td>\n",
       "      <td>0.003333</td>\n",
       "      <td>0.111576</td>\n",
       "      <td>0.028897</td>\n",
       "      <td>0.067390</td>\n",
       "      <td>0.007351</td>\n",
       "      <td>0.008134</td>\n",
       "      <td>0.170984</td>\n",
       "      <td>0.041819</td>\n",
       "      <td>0.115541</td>\n",
       "      <td>0.076643</td>\n",
       "      <td>0.024376</td>\n",
       "      <td>0.011714</td>\n",
       "      <td>0.027278</td>\n",
       "      <td>0.004778</td>\n",
       "      <td>0.005016</td>\n",
       "      <td>527854</td>\n",
       "    </tr>\n",
       "    <tr>\n",
       "      <th>4</th>\n",
       "      <td>0.006581</td>\n",
       "      <td>0.012067</td>\n",
       "      <td>0.003536</td>\n",
       "      <td>0.002041</td>\n",
       "      <td>0.005837</td>\n",
       "      <td>0.003530</td>\n",
       "      <td>0.000051</td>\n",
       "      <td>0.000042</td>\n",
       "      <td>0.009045</td>\n",
       "      <td>0.002895</td>\n",
       "      <td>0.852277</td>\n",
       "      <td>0.019804</td>\n",
       "      <td>0.001429</td>\n",
       "      <td>0.006168</td>\n",
       "      <td>0.001800</td>\n",
       "      <td>0.005239</td>\n",
       "      <td>0.012972</td>\n",
       "      <td>0.012192</td>\n",
       "      <td>0.005261</td>\n",
       "      <td>0.017464</td>\n",
       "      <td>0.007542</td>\n",
       "      <td>0.007652</td>\n",
       "      <td>0.004289</td>\n",
       "      <td>0.000115</td>\n",
       "      <td>0.000171</td>\n",
       "      <td>11844</td>\n",
       "    </tr>\n",
       "    <tr>\n",
       "      <th>5</th>\n",
       "      <td>0.340031</td>\n",
       "      <td>0.036642</td>\n",
       "      <td>0.016490</td>\n",
       "      <td>0.002199</td>\n",
       "      <td>0.004416</td>\n",
       "      <td>0.004163</td>\n",
       "      <td>0.001833</td>\n",
       "      <td>0.000393</td>\n",
       "      <td>0.007777</td>\n",
       "      <td>0.225615</td>\n",
       "      <td>0.000785</td>\n",
       "      <td>0.030371</td>\n",
       "      <td>0.044718</td>\n",
       "      <td>0.013109</td>\n",
       "      <td>0.002126</td>\n",
       "      <td>0.154495</td>\n",
       "      <td>0.015002</td>\n",
       "      <td>0.003589</td>\n",
       "      <td>0.027383</td>\n",
       "      <td>0.008606</td>\n",
       "      <td>0.002326</td>\n",
       "      <td>0.006636</td>\n",
       "      <td>0.027478</td>\n",
       "      <td>0.007490</td>\n",
       "      <td>0.016326</td>\n",
       "      <td>161104</td>\n",
       "    </tr>\n",
       "    <tr>\n",
       "      <th>6</th>\n",
       "      <td>0.007270</td>\n",
       "      <td>0.004397</td>\n",
       "      <td>0.005499</td>\n",
       "      <td>0.005655</td>\n",
       "      <td>0.041750</td>\n",
       "      <td>0.045062</td>\n",
       "      <td>0.012358</td>\n",
       "      <td>0.000174</td>\n",
       "      <td>0.009902</td>\n",
       "      <td>0.004457</td>\n",
       "      <td>0.001405</td>\n",
       "      <td>0.011723</td>\n",
       "      <td>0.003008</td>\n",
       "      <td>0.003987</td>\n",
       "      <td>0.765824</td>\n",
       "      <td>0.003035</td>\n",
       "      <td>0.013240</td>\n",
       "      <td>0.011200</td>\n",
       "      <td>0.009938</td>\n",
       "      <td>0.004024</td>\n",
       "      <td>0.002207</td>\n",
       "      <td>0.009290</td>\n",
       "      <td>0.019968</td>\n",
       "      <td>0.004246</td>\n",
       "      <td>0.000382</td>\n",
       "      <td>17452</td>\n",
       "    </tr>\n",
       "  </tbody>\n",
       "</table>\n",
       "</div>"
      ],
      "text/plain": [
       "              travel      auto  pantip_food  pantip_cartoon  \\\n",
       "segment_id                                                    \n",
       "0           0.005148  0.009571     0.003195        0.010459   \n",
       "1           0.003953  0.005108     0.004194        0.004754   \n",
       "2           0.006513  0.004714     0.003174        0.010809   \n",
       "3           0.016741  0.094737     0.043859        0.033182   \n",
       "4           0.006581  0.012067     0.003536        0.002041   \n",
       "5           0.340031  0.036642     0.016490        0.002199   \n",
       "6           0.007270  0.004397     0.005499        0.005655   \n",
       "\n",
       "            pantip_chalermthai  pantip_chalermkrung  pantip_korea  \\\n",
       "segment_id                                                          \n",
       "0                     0.005067             0.004099      0.000550   \n",
       "1                     0.003682             0.006532      0.002029   \n",
       "2                     0.015933             0.822131      0.015354   \n",
       "3                     0.037739             0.011636      0.011487   \n",
       "4                     0.005837             0.003530      0.000051   \n",
       "5                     0.004416             0.004163      0.001833   \n",
       "6                     0.041750             0.045062      0.012358   \n",
       "\n",
       "            pantip_gadget  pantip_siliconvalley  pantip_family  \\\n",
       "segment_id                                                       \n",
       "0                0.002817              0.806739       0.002687   \n",
       "1                0.000248              0.009124       0.016148   \n",
       "2                0.000370              0.018164       0.002859   \n",
       "3                0.003353              0.029857       0.012579   \n",
       "4                0.000042              0.009045       0.002895   \n",
       "5                0.000393              0.007777       0.225615   \n",
       "6                0.000174              0.009902       0.004457   \n",
       "\n",
       "            pantip_rajdumnern  pantip_social  pantip_klaibann  pantip_home  \\\n",
       "segment_id                                                                   \n",
       "0                    0.000449       0.014853         0.002311     0.010965   \n",
       "1                    0.000520       0.047193         0.010274     0.003161   \n",
       "2                    0.000209       0.007163         0.003120     0.003064   \n",
       "3                    0.003333       0.111576         0.028897     0.067390   \n",
       "4                    0.852277       0.019804         0.001429     0.006168   \n",
       "5                    0.000785       0.030371         0.044718     0.013109   \n",
       "6                    0.001405       0.011723         0.003008     0.003987   \n",
       "\n",
       "            pantip_tvshow  pantip_region  pantip_mbk  pantip_supachalasai  \\\n",
       "segment_id                                                                  \n",
       "0                0.001034       0.004612    0.062154             0.002959   \n",
       "1                0.002540       0.005057    0.011040             0.002468   \n",
       "2                0.007610       0.005284    0.013873             0.003038   \n",
       "3                0.007351       0.008134    0.170984             0.041819   \n",
       "4                0.001800       0.005239    0.012972             0.012192   \n",
       "5                0.002126       0.154495    0.015002             0.003589   \n",
       "6                0.765824       0.003035    0.013240             0.011200   \n",
       "\n",
       "            pantip_lumpini  pantip_sinthorn  pantip_wahkor  pantip_library  \\\n",
       "segment_id                                                                   \n",
       "0                 0.009105         0.006317       0.007138        0.008015   \n",
       "1                 0.025597         0.004661       0.007743        0.160256   \n",
       "2                 0.009692         0.002856       0.002306        0.010445   \n",
       "3                 0.115541         0.076643       0.024376        0.011714   \n",
       "4                 0.005261         0.017464       0.007542        0.007652   \n",
       "5                 0.027383         0.008606       0.002326        0.006636   \n",
       "6                 0.009938         0.004024       0.002207        0.009290   \n",
       "\n",
       "            pantip_siam  pantip_beauty  pantip_bangrak  total_user  \n",
       "segment_id                                                          \n",
       "0              0.018595       0.000485        0.000675       82262  \n",
       "1              0.646936       0.000567        0.016218      229201  \n",
       "2              0.028346       0.001389        0.001583       34710  \n",
       "3              0.027278       0.004778        0.005016      527854  \n",
       "4              0.004289       0.000115        0.000171       11844  \n",
       "5              0.027478       0.007490        0.016326      161104  \n",
       "6              0.019968       0.004246        0.000382       17452  "
      ]
     },
     "execution_count": 14,
     "metadata": {},
     "output_type": "execute_result"
    }
   ],
   "source": [
    "df_segment"
   ]
  },
  {
   "cell_type": "code",
   "execution_count": 15,
   "metadata": {},
   "outputs": [],
   "source": [
    "df_user_segment.to_csv('../out/df_segment.csv',index=False)\n",
    "df_segment.to_csv('../out/df_segment.csv')"
   ]
  },
  {
   "cell_type": "code",
   "execution_count": 16,
   "metadata": {},
   "outputs": [],
   "source": [
    "df_segment = pd.read_csv('../out/df_segment.csv')\n",
    "df_segment.set_index('segment_id',inplace=True)"
   ]
  },
  {
   "cell_type": "code",
   "execution_count": 17,
   "metadata": {},
   "outputs": [],
   "source": [
    "segment_lst = df_segment.columns[:-1]\n",
    "\n",
    "# find top 3 traits for each segment\n",
    "seg_character = []\n",
    "for seg_id in df_segment.index:\n",
    "    seg_dict = dict()\n",
    "    top_3 = np.argsort(df_segment.loc[seg_id].values[:-1])[-3:]\n",
    "    for i in range(2, -1,-1):\n",
    "        seg_dict[segment_lst[top_3[i]]] = df_segment.loc[seg_id].values[top_3[i]]\n",
    "    seg_character.append(seg_dict)"
   ]
  },
  {
   "cell_type": "code",
   "execution_count": 18,
   "metadata": {},
   "outputs": [
    {
     "data": {
      "text/plain": [
       "[{'pantip_siliconvalley': 0.8067391282496326,\n",
       "  'pantip_mbk': 0.062153983528418874,\n",
       "  'pantip_siam': 0.018595198311176037},\n",
       " {'pantip_siam': 0.6469357292754989,\n",
       "  'pantip_library': 0.16025630124700205,\n",
       "  'pantip_social': 0.047192875283734614},\n",
       " {'pantip_chalermkrung': 0.8221311761483547,\n",
       "  'pantip_siam': 0.028346160281186143,\n",
       "  'pantip_siliconvalley': 0.018163744938812138},\n",
       " {'pantip_mbk': 0.1709838001314808,\n",
       "  'pantip_lumpini': 0.11554142502375807,\n",
       "  'pantip_social': 0.11157613999126947},\n",
       " {'pantip_rajdumnern': 0.8522773507081759,\n",
       "  'pantip_social': 0.019804463366629648,\n",
       "  'pantip_sinthorn': 0.017464465037337586},\n",
       " {'travel': 0.3400313943216099,\n",
       "  'pantip_family': 0.2256150948508757,\n",
       "  'pantip_region': 0.15449534571533638},\n",
       " {'pantip_tvshow': 0.7658243260397096,\n",
       "  'pantip_chalermkrung': 0.045062315126448316,\n",
       "  'pantip_chalermthai': 0.04174967327942662}]"
      ]
     },
     "execution_count": 18,
     "metadata": {},
     "output_type": "execute_result"
    }
   ],
   "source": [
    "seg_character"
   ]
  },
  {
   "cell_type": "code",
   "execution_count": 36,
   "metadata": {
    "scrolled": false
   },
   "outputs": [
    {
     "data": {
      "image/png": "[encoded data removed]",
      "text/plain": [
       "<Figure size 432x288 with 1 Axes>"
      ]
     },
     "metadata": {
      "needs_background": "light"
     },
     "output_type": "display_data"
    },
    {
     "data": {
      "image/png": "[encoded data removed]",
      "text/plain": [
       "<Figure size 432x288 with 1 Axes>"
      ]
     },
     "metadata": {
      "needs_background": "light"
     },
     "output_type": "display_data"
    },
    {
     "data": {
      "image/png": "[encoded data removed]",
      "text/plain": [
       "<Figure size 432x288 with 1 Axes>"
      ]
     },
     "metadata": {
      "needs_background": "light"
     },
     "output_type": "display_data"
    },
    {
     "data": {
      "image/png": "[encoded data removed]",
      "text/plain": [
       "<Figure size 432x288 with 1 Axes>"
      ]
     },
     "metadata": {
      "needs_background": "light"
     },
     "output_type": "display_data"
    },
    {
     "data": {
      "image/png": "[encoded data removed]",
      "text/plain": [
       "<Figure size 432x288 with 1 Axes>"
      ]
     },
     "metadata": {
      "needs_background": "light"
     },
     "output_type": "display_data"
    },
    {
     "data": {
      "image/png": "[encoded data removed]",
      "text/plain": [
       "<Figure size 432x288 with 1 Axes>"
      ]
     },
     "metadata": {
      "needs_background": "light"
     },
     "output_type": "display_data"
    },
    {
     "data": {
      "image/png": "[encoded data removed]",
      "text/plain": [
       "<Figure size 432x288 with 1 Axes>"
      ]
     },
     "metadata": {
      "needs_background": "light"
     },
     "output_type": "display_data"
    }
   ],
   "source": [
    "# visualize segment character\n",
    "for i in range(7):\n",
    "    df_plot = pd.DataFrame({'key':list(seg_character[i].keys()),'percent(%)':list(seg_character[i].values())})\n",
    "    sns.barplot(x='key',y='percent(%)',data=df_plot,).set_title(f'segment {i}')\n",
    "    plt.show()"
   ]
  },
  {
   "cell_type": "markdown",
   "metadata": {},
   "source": [
    "## Summarize segmentation per keyword"
   ]
  },
  {
   "cell_type": "code",
   "execution_count": 19,
   "metadata": {},
   "outputs": [],
   "source": [
    "# create user-segment mapper\n",
    "user_x_segment = dict()\n",
    "for i in range(len(df_user_segment)):\n",
    "    user_x_segment[df_user_segment.iloc[i]['user_id']] = df_user_segment.iloc[i]['segment_id']"
   ]
  },
  {
   "cell_type": "code",
   "execution_count": 20,
   "metadata": {},
   "outputs": [],
   "source": [
    "with open('../out/user_x_segment.pkl', 'wb') as fp:\n",
    "    pickle.dump(user_x_segment,fp)"
   ]
  },
  {
   "cell_type": "markdown",
   "metadata": {},
   "source": [
    "## check point"
   ]
  },
  {
   "cell_type": "code",
   "execution_count": 21,
   "metadata": {},
   "outputs": [],
   "source": [
    "with open('../out/user_x_segment.pkl', 'rb') as fp:\n",
    "    user_x_segment = pickle.load(fp)"
   ]
  },
  {
   "cell_type": "code",
   "execution_count": 22,
   "metadata": {},
   "outputs": [],
   "source": [
    "df_post = pd.read_csv('../out/aviation/df_post.csv')\n",
    "with open('../out/aviation/tokens_post.txt', 'rb') as fp:   #Un-pickling\n",
    "    tokens_post = pickle.load(fp)"
   ]
  },
  {
   "cell_type": "code",
   "execution_count": 24,
   "metadata": {},
   "outputs": [],
   "source": [
    "df_post['user_id'] = df_post['user_id'].astype(int)"
   ]
  },
  {
   "cell_type": "code",
   "execution_count": 25,
   "metadata": {},
   "outputs": [
    {
     "name": "stdout",
     "output_type": "stream",
     "text": [
      "total unique user: 1193\n"
     ]
    },
    {
     "data": {
      "image/png": "[encoded data removed]",
      "text/plain": [
       "<Figure size 432x288 with 1 Axes>"
      ]
     },
     "metadata": {
      "needs_background": "light"
     },
     "output_type": "display_data"
    }
   ],
   "source": [
    "# visualize user segment per keyword\n",
    "kws = ['การบินไทย','tg']\n",
    "\n",
    "idxs=[]\n",
    "for i,tkn in enumerate(tokens_post):\n",
    "    for kw in kws:\n",
    "        if kw in tkn:\n",
    "            idxs.append(i)\n",
    "            break\n",
    "            \n",
    "df_temp = df_post.iloc[idxs]\n",
    "\n",
    "unique_user = df_temp.user_id.unique()\n",
    "\n",
    "print('total unique user:',len(unique_user))\n",
    "\n",
    "corr_seg = []\n",
    "for user in unique_user:\n",
    "    corr_seg.append(user_x_segment[user])\n",
    "\n",
    "df_prod_seg = pd.DataFrame({'user_id':unique_user,'segment_id':corr_seg})\n",
    "\n",
    "squarify.plot(sizes=df_prod_seg.segment_id.value_counts().values, label=df_prod_seg.segment_id.value_counts().index, alpha=.8 )\n",
    "_=plt.axis('off')"
   ]
  },
  {
   "cell_type": "code",
   "execution_count": null,
   "metadata": {},
   "outputs": [],
   "source": []
  }
 ],
 "metadata": {
  "kernelspec": {
   "display_name": "Python 3",
   "language": "python",
   "name": "python3"
  },
  "language_info": {
   "codemirror_mode": {
    "name": "ipython",
    "version": 3
   },
   "file_extension": ".py",
   "mimetype": "text/x-python",
   "name": "python",
   "nbconvert_exporter": "python",
   "pygments_lexer": "ipython3",
   "version": "3.7.1"
  }
 },
 "nbformat": 4,
 "nbformat_minor": 2
}
