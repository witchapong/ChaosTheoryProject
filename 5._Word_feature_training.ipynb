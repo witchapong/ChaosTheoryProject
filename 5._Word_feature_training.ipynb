{
 "cells": [
  {
   "cell_type": "markdown",
   "metadata": {},
   "source": [
    "**Important: This notebook will only work with fastai-0.7.x. Do not try to run any fastai-1.x code from this path in the repository because it will load fastai-0.7.x**"
   ]
  },
  {
   "cell_type": "code",
   "execution_count": 1,
   "metadata": {},
   "outputs": [],
   "source": [
    "from fastai.text import *\n",
    "import html"
   ]
  },
  {
   "cell_type": "markdown",
   "metadata": {},
   "source": [
    "## directory setup"
   ]
  },
  {
   "cell_type": "code",
   "execution_count": 2,
   "metadata": {},
   "outputs": [
    {
     "name": "stdout",
     "output_type": "stream",
     "text": [
      "df_tags.csv  itos.pkl  tokens_user_flat.pkl  trn_ids.npy  val_ids.npy\r\n"
     ]
    }
   ],
   "source": [
    "# check original path for token\n",
    "!ls ../../../ChaosTheoryProject/tmp/"
   ]
  },
  {
   "cell_type": "code",
   "execution_count": 3,
   "metadata": {},
   "outputs": [
    {
     "name": "stdout",
     "output_type": "stream",
     "text": [
      "thwiki_itos.pkl  thwiki_lm.pth\r\n"
     ]
    }
   ],
   "source": [
    "# check original path for pretrained model\n",
    "!ls ../../../pretrained_wiki/"
   ]
  },
  {
   "cell_type": "code",
   "execution_count": 4,
   "metadata": {},
   "outputs": [],
   "source": [
    "# create data path and copy token\n",
    "DATA_PATH=Path('data_CT/data/')\n",
    "DATA_PATH.mkdir(exist_ok=True)\n",
    "!cp ../../../ChaosTheoryProject/tmp/tokens_user_flat.pkl data_CT/data/"
   ]
  },
  {
   "cell_type": "code",
   "execution_count": 5,
   "metadata": {},
   "outputs": [],
   "source": [
    "# create lm path\n",
    "LM_PATH=Path('data_CT/lm/')\n",
    "LM_PATH.mkdir(exist_ok=True)"
   ]
  },
  {
   "cell_type": "code",
   "execution_count": 6,
   "metadata": {},
   "outputs": [],
   "source": [
    "# make dir for temp folder\n",
    "(LM_PATH/'tmp').mkdir(exist_ok=True)"
   ]
  },
  {
   "cell_type": "code",
   "execution_count": 7,
   "metadata": {},
   "outputs": [],
   "source": [
    "# make dir for pretrained and copy pretrianed\n",
    "PRE_PATH = Path('data_CT/models/')\n",
    "PRE_PATH.mkdir(exist_ok=True)\n",
    "(PRE_PATH/'wiki-thai2fit').mkdir(exist_ok=True)\n",
    "!cp ../../../pretrained_wiki/thwiki_itos.pkl data_CT/models/wiki-thai2fit/\n",
    "!cp ../../../pretrained_wiki/thwiki_lm.pth data_CT/models/wiki-thai2fit/"
   ]
  },
  {
   "cell_type": "markdown",
   "metadata": {},
   "source": [
    "## import word token"
   ]
  },
  {
   "cell_type": "code",
   "execution_count": 8,
   "metadata": {},
   "outputs": [],
   "source": [
    "# read the token\n",
    "with open(f'{DATA_PATH}/tokens_user_flat.pkl','rb') as fp:\n",
    "    tok_data = pickle.load(fp)"
   ]
  },
  {
   "cell_type": "code",
   "execution_count": 9,
   "metadata": {},
   "outputs": [],
   "source": [
    "# split data for train & test\n",
    "tok_trn = tok_data[:int(0.9*len(tok_data))]\n",
    "tok_val = tok_data[int(0.9*len(tok_data)):]"
   ]
  },
  {
   "cell_type": "code",
   "execution_count": 10,
   "metadata": {},
   "outputs": [
    {
     "data": {
      "text/plain": [
       "(1091336, 121260)"
      ]
     },
     "execution_count": 10,
     "metadata": {},
     "output_type": "execute_result"
    }
   ],
   "source": [
    "len(tok_trn), len(tok_val)"
   ]
  },
  {
   "cell_type": "code",
   "execution_count": 11,
   "metadata": {},
   "outputs": [
    {
     "data": {
      "text/plain": [
       "[(' ', 215728),\n",
       " ('ที่', 16190),\n",
       " ('number', 14218),\n",
       " ('ครับ', 13641),\n",
       " ('จะ', 10128),\n",
       " ('ใน', 9789),\n",
       " ('ก็', 9596),\n",
       " ('มี', 9223),\n",
       " ('ไป', 8940),\n",
       " ('ได้', 8384),\n",
       " ('มา', 8372),\n",
       " ('ว่า', 8229),\n",
       " ('และ', 7465),\n",
       " ('เป็น', 7384),\n",
       " ('ผม', 7223),\n",
       " ('ไม่', 7132),\n",
       " ('ของ', 6808),\n",
       " ('ให้', 6459),\n",
       " ('แต่', 6438),\n",
       " ('แล้ว', 6402),\n",
       " ('ๆ', 6240),\n",
       " ('เลย', 5403),\n",
       " ('นี้', 4988),\n",
       " ('กับ', 4902),\n",
       " ('รถ', 4885)]"
      ]
     },
     "execution_count": 11,
     "metadata": {},
     "output_type": "execute_result"
    }
   ],
   "source": [
    "freq = Counter(t for t in tok_trn)\n",
    "freq.most_common(25)"
   ]
  },
  {
   "cell_type": "markdown",
   "metadata": {},
   "source": [
    "## encode tokens as index"
   ]
  },
  {
   "cell_type": "code",
   "execution_count": 12,
   "metadata": {},
   "outputs": [],
   "source": [
    "max_vocab = 60000\n",
    "min_freq = 2"
   ]
  },
  {
   "cell_type": "code",
   "execution_count": 13,
   "metadata": {},
   "outputs": [],
   "source": [
    "itos = [o for o,c in freq.most_common(max_vocab) if c>min_freq]\n",
    "itos.insert(0, '_pad_')\n",
    "itos.insert(0, '_unk_')"
   ]
  },
  {
   "cell_type": "markdown",
   "metadata": {},
   "source": [
    "We create a reverse mapping called stoi which is useful to lookup the index of a given token. stoi also has the same number of elements as itos. We use a high performance container called [collections.defaultdict](https://docs.python.org/2/library/collections.html#collections.defaultdict) to store our stoi mapping."
   ]
  },
  {
   "cell_type": "code",
   "execution_count": 14,
   "metadata": {},
   "outputs": [
    {
     "data": {
      "text/plain": [
       "14758"
      ]
     },
     "execution_count": 14,
     "metadata": {},
     "output_type": "execute_result"
    }
   ],
   "source": [
    "stoi = collections.defaultdict(lambda:0, {v:k for k,v in enumerate(itos)})\n",
    "len(itos)"
   ]
  },
  {
   "cell_type": "code",
   "execution_count": 15,
   "metadata": {},
   "outputs": [],
   "source": [
    "trn_lm = np.array([[stoi[o] for o in p] for p in tok_trn])\n",
    "val_lm = np.array([[stoi[o] for o in p] for p in tok_val])"
   ]
  },
  {
   "cell_type": "code",
   "execution_count": 16,
   "metadata": {},
   "outputs": [],
   "source": [
    "np.save(LM_PATH/'tmp'/'trn_ids.npy', trn_lm)\n",
    "np.save(LM_PATH/'tmp'/'val_ids.npy', val_lm)\n",
    "pickle.dump(itos, open(LM_PATH/'tmp'/'itos.pkl', 'wb'))\n",
    "\n",
    "trn_lm = np.load(LM_PATH/'tmp'/'trn_ids.npy')\n",
    "val_lm = np.load(LM_PATH/'tmp'/'val_ids.npy')\n",
    "itos = pickle.load(open(LM_PATH/'tmp'/'itos.pkl', 'rb'))"
   ]
  },
  {
   "cell_type": "code",
   "execution_count": 18,
   "metadata": {},
   "outputs": [
    {
     "data": {
      "text/plain": [
       "(14758, 1091336)"
      ]
     },
     "execution_count": 18,
     "metadata": {},
     "output_type": "execute_result"
    }
   ],
   "source": [
    "vs=len(itos)\n",
    "vs,len(trn_lm)"
   ]
  },
  {
   "cell_type": "markdown",
   "metadata": {},
   "source": [
    "## load pretrained thai2fit"
   ]
  },
  {
   "cell_type": "code",
   "execution_count": 19,
   "metadata": {},
   "outputs": [],
   "source": [
    "em_sz,nh,nl = 400,1550,4"
   ]
  },
  {
   "cell_type": "code",
   "execution_count": 20,
   "metadata": {},
   "outputs": [],
   "source": [
    "# some quick fix for version mismatch\n",
    "import torch._utils\n",
    "try:\n",
    "    torch._utils._rebuild_tensor_v2\n",
    "except AttributeError:\n",
    "    def _rebuild_tensor_v2(storage, storage_offset, size, stride, requires_grad, backward_hooks):\n",
    "        tensor = torch._utils._rebuild_tensor(storage, storage_offset, size, stride)\n",
    "        tensor.requires_grad = requires_grad\n",
    "        tensor._backward_hooks = backward_hooks\n",
    "        return tensor\n",
    "    torch._utils._rebuild_tensor_v2 = _rebuild_tensor_v2\n",
    "\n",
    "model = torch.load(PRE_PATH/'wiki-thai2fit'/'thwiki_lm.pth')"
   ]
  },
  {
   "cell_type": "code",
   "execution_count": 21,
   "metadata": {},
   "outputs": [],
   "source": [
    "wgts = model['model']"
   ]
  },
  {
   "cell_type": "code",
   "execution_count": 22,
   "metadata": {
    "scrolled": false
   },
   "outputs": [
    {
     "data": {
      "text/plain": [
       "OrderedDict([('0.encoder.weight', \n",
       "              -4.5102e-02  9.4020e-02  2.6328e-01  ...  -3.5127e-01  1.6034e-02 -8.3869e-02\n",
       "               4.6775e-02  1.3149e-01  4.2938e-02  ...  -3.7226e-01  1.1994e-01 -3.1550e-02\n",
       "              -3.0709e-01  1.5889e-01  1.5225e-01  ...  -2.1277e-01 -2.5210e-02 -9.4852e-02\n",
       "                              ...                   ⋱                   ...                \n",
       "               1.1984e-03  2.3873e-01  2.0026e-02  ...  -4.4483e-01  9.1052e-04 -1.4287e-01\n",
       "              -3.0914e-02  1.1426e-01 -7.9358e-02  ...  -5.2305e-01  1.7369e-01 -7.5106e-02\n",
       "              -2.2116e-02  9.4815e-02 -3.9665e-02  ...  -2.5060e-01  2.9178e-01 -2.2862e-01\n",
       "              [torch.cuda.FloatTensor of size 60005x400 (GPU 0)]),\n",
       "             ('0.encoder_dp.emb.weight', \n",
       "              -4.5102e-02  9.4020e-02  2.6328e-01  ...  -3.5127e-01  1.6034e-02 -8.3869e-02\n",
       "               4.6775e-02  1.3149e-01  4.2938e-02  ...  -3.7226e-01  1.1994e-01 -3.1550e-02\n",
       "              -3.0709e-01  1.5889e-01  1.5225e-01  ...  -2.1277e-01 -2.5210e-02 -9.4852e-02\n",
       "                              ...                   ⋱                   ...                \n",
       "               1.1984e-03  2.3873e-01  2.0026e-02  ...  -4.4483e-01  9.1052e-04 -1.4287e-01\n",
       "              -3.0914e-02  1.1426e-01 -7.9358e-02  ...  -5.2305e-01  1.7369e-01 -7.5106e-02\n",
       "              -2.2116e-02  9.4815e-02 -3.9665e-02  ...  -2.5060e-01  2.9178e-01 -2.2862e-01\n",
       "              [torch.cuda.FloatTensor of size 60005x400 (GPU 0)]),\n",
       "             ('0.rnns.0.weight_hh_l0_raw', \n",
       "               1.0138e-01  6.6736e-02 -4.2347e-03  ...  -3.0245e-02 -1.0380e-01  8.1077e-02\n",
       "               2.1831e-02 -2.5365e-01 -2.6937e-01  ...   1.3386e-02  1.4591e-01 -3.7801e-02\n",
       "               3.1506e-01 -7.2351e-02 -1.6678e-01  ...   3.4507e-03 -6.4036e-02  4.0553e-02\n",
       "                              ...                   ⋱                   ...                \n",
       "               7.3101e-02  1.1466e-02  1.2451e-01  ...   1.5551e-01 -9.8495e-02 -3.8392e-02\n",
       "              -2.7486e-01 -1.4293e-01 -4.7609e-02  ...  -2.2693e-02  6.1798e-02 -4.3780e-02\n",
       "              -4.9349e-02  1.0688e-01 -4.1584e-02  ...  -1.2035e-01  1.0861e-01  1.3847e-01\n",
       "              [torch.cuda.FloatTensor of size 6200x1550 (GPU 0)]),\n",
       "             ('0.rnns.0.module.weight_ih_l0', \n",
       "              -1.0628e-01  1.5540e-01 -1.2408e-01  ...  -1.4748e-01  1.4504e-01 -6.3418e-01\n",
       "               4.6040e-02  4.9123e-03 -9.0080e-02  ...  -1.1944e-01 -2.2047e-01  2.4174e-01\n",
       "              -4.1281e-01  2.8579e-03  2.1745e-01  ...  -1.0465e-02 -2.4467e-01 -2.3517e-01\n",
       "                              ...                   ⋱                   ...                \n",
       "               4.6473e-02  1.4791e-01 -4.7961e-02  ...  -6.8029e-02  7.1584e-02 -3.2298e-02\n",
       "               3.6310e-02 -3.3354e-01 -9.8274e-03  ...   1.2347e-01  2.3493e-01  2.8779e-01\n",
       "               1.9005e-02  1.2983e-01 -4.7996e-01  ...  -1.7482e-01  1.2253e-01  1.0477e-02\n",
       "              [torch.cuda.FloatTensor of size 6200x400 (GPU 0)]),\n",
       "             ('0.rnns.0.module.weight_hh_l0', \n",
       "               1.0138e-01  6.6736e-02 -4.2347e-03  ...  -3.0245e-02 -1.0380e-01  8.1077e-02\n",
       "               2.1831e-02 -2.5365e-01 -2.6937e-01  ...   1.3386e-02  1.4591e-01 -3.7801e-02\n",
       "               3.1506e-01 -7.2351e-02 -1.6678e-01  ...   3.4507e-03 -6.4036e-02  4.0553e-02\n",
       "                              ...                   ⋱                   ...                \n",
       "               7.3101e-02  1.1466e-02  1.2451e-01  ...   1.5551e-01 -9.8495e-02 -3.8392e-02\n",
       "              -2.7486e-01 -1.4293e-01 -4.7609e-02  ...  -2.2693e-02  6.1798e-02 -4.3780e-02\n",
       "              -4.9349e-02  1.0688e-01 -4.1584e-02  ...  -1.2035e-01  1.0861e-01  1.3847e-01\n",
       "              [torch.cuda.FloatTensor of size 6200x1550 (GPU 0)]),\n",
       "             ('0.rnns.0.module.bias_ih_l0', \n",
       "              -1.6151e-01\n",
       "              -4.0830e-01\n",
       "              -1.5403e-01\n",
       "                   ⋮     \n",
       "              -1.7567e-01\n",
       "              -4.1232e-02\n",
       "              -3.0159e-01\n",
       "              [torch.cuda.FloatTensor of size 6200 (GPU 0)]),\n",
       "             ('0.rnns.0.module.bias_hh_l0', \n",
       "              -0.1648\n",
       "              -0.4152\n",
       "              -0.1455\n",
       "                 ⋮   \n",
       "              -0.1897\n",
       "              -0.0545\n",
       "              -0.3026\n",
       "              [torch.cuda.FloatTensor of size 6200 (GPU 0)]),\n",
       "             ('0.rnns.1.weight_hh_l0_raw', \n",
       "              -8.6082e-02 -9.6881e-02  9.6781e-02  ...   1.7389e-01  1.0636e-01 -2.5643e-01\n",
       "              -2.2832e-01  6.4691e-02  7.6928e-02  ...   4.2578e-03  7.6562e-02  9.9258e-02\n",
       "               1.1504e-01 -7.2915e-02 -1.5502e-01  ...  -1.3231e-01 -2.8754e-02  2.9122e-02\n",
       "                              ...                   ⋱                   ...                \n",
       "              -2.2027e-02  4.3495e-02 -2.0001e-01  ...  -1.5482e-03  6.2393e-02 -1.3442e-01\n",
       "              -2.2850e-02  1.1414e-01  1.3231e-01  ...  -2.9067e-02  7.9356e-03  4.2175e-02\n",
       "              -6.6160e-02 -7.7653e-02  1.3918e-01  ...   2.6156e-01  1.3002e-01 -1.5424e-01\n",
       "              [torch.cuda.FloatTensor of size 6200x1550 (GPU 0)]),\n",
       "             ('0.rnns.1.module.weight_ih_l0', \n",
       "               7.8490e-04 -4.5360e-01 -1.7240e-01  ...   8.9156e-02  6.1580e-03 -2.3052e-01\n",
       "              -5.0275e-02  3.3472e-01 -7.0659e-02  ...  -4.5791e-02  3.1268e-01 -1.0307e-01\n",
       "               2.3601e-01 -1.8387e-01 -1.4129e-01  ...   1.5011e-01  1.3485e-01  1.3653e-01\n",
       "                              ...                   ⋱                   ...                \n",
       "               2.0152e-01  1.4239e-01 -1.3687e-01  ...   1.0223e-01  7.8944e-02 -1.6438e-01\n",
       "               1.8381e-01  1.9243e-01  2.5914e-01  ...   6.1594e-02 -1.9958e-01 -1.2704e-01\n",
       "               2.2124e-01 -1.3120e-01 -9.4350e-02  ...   2.4312e-01  3.2395e-01 -4.2340e-01\n",
       "              [torch.cuda.FloatTensor of size 6200x1550 (GPU 0)]),\n",
       "             ('0.rnns.1.module.weight_hh_l0', \n",
       "              -8.6082e-02 -9.6881e-02  9.6781e-02  ...   1.7389e-01  1.0636e-01 -2.5643e-01\n",
       "              -2.2832e-01  6.4691e-02  7.6928e-02  ...   4.2578e-03  7.6562e-02  9.9258e-02\n",
       "               1.1504e-01 -7.2915e-02 -1.5502e-01  ...  -1.3231e-01 -2.8754e-02  2.9122e-02\n",
       "                              ...                   ⋱                   ...                \n",
       "              -2.2027e-02  4.3495e-02 -2.0001e-01  ...  -1.5482e-03  6.2393e-02 -1.3442e-01\n",
       "              -2.2850e-02  1.1414e-01  1.3231e-01  ...  -2.9067e-02  7.9356e-03  4.2175e-02\n",
       "              -6.6160e-02 -7.7653e-02  1.3918e-01  ...   2.6156e-01  1.3002e-01 -1.5424e-01\n",
       "              [torch.cuda.FloatTensor of size 6200x1550 (GPU 0)]),\n",
       "             ('0.rnns.1.module.bias_ih_l0', \n",
       "              -3.0988e-01\n",
       "              -2.5911e-01\n",
       "              -3.5348e-01\n",
       "                   ⋮     \n",
       "              -3.2750e-01\n",
       "              -3.2268e-01\n",
       "              -4.5883e-01\n",
       "              [torch.cuda.FloatTensor of size 6200 (GPU 0)]),\n",
       "             ('0.rnns.1.module.bias_hh_l0', \n",
       "              -3.1122e-01\n",
       "              -2.6583e-01\n",
       "              -3.5411e-01\n",
       "                   ⋮     \n",
       "              -3.2113e-01\n",
       "              -3.0763e-01\n",
       "              -4.5938e-01\n",
       "              [torch.cuda.FloatTensor of size 6200 (GPU 0)]),\n",
       "             ('0.rnns.2.weight_hh_l0_raw', \n",
       "              -2.4554e-01 -1.6351e-01 -1.1053e-01  ...   3.8857e-03  7.4949e-02 -2.9063e-01\n",
       "              -9.7526e-02  6.1322e-01  3.1781e-01  ...  -2.4432e-01  2.2293e-01  5.8495e-02\n",
       "               9.1689e-02 -1.2600e-01 -1.3916e-02  ...  -4.7594e-02 -2.2686e-02 -1.7609e-01\n",
       "                              ...                   ⋱                   ...                \n",
       "              -1.5520e-01  1.6508e-02 -4.9385e-02  ...  -3.2385e-01 -2.7167e-01 -8.3913e-03\n",
       "              -9.6854e-02  7.9688e-02  9.4168e-04  ...  -1.5967e-01 -2.2801e-01 -2.4476e-01\n",
       "              -1.3900e-01  3.3235e-02 -5.7559e-02  ...  -1.9184e-01 -5.6969e-02 -7.3121e-02\n",
       "              [torch.cuda.FloatTensor of size 6200x1550 (GPU 0)]),\n",
       "             ('0.rnns.2.module.weight_ih_l0', \n",
       "               1.2616e-01 -3.6072e-01  1.6709e-02  ...  -1.8389e-01 -1.8796e-01 -2.1428e-01\n",
       "              -2.8670e-03 -5.2352e-02  1.6285e-01  ...  -7.5811e-03  2.0221e-01 -1.6767e-01\n",
       "               1.7979e-01 -3.8887e-02 -1.0867e-01  ...   3.7537e-02  1.3748e-01 -7.4881e-02\n",
       "                              ...                   ⋱                   ...                \n",
       "              -8.9963e-02 -1.2077e-01 -3.5066e-01  ...   3.4190e-02 -6.8317e-02 -1.5138e-01\n",
       "               1.4542e-01 -8.2243e-02  1.1595e-01  ...  -7.1406e-02  3.8760e-02  4.4486e-02\n",
       "               1.4282e-01  7.3185e-02  9.0916e-03  ...   1.1619e-01  3.5571e-01 -9.4111e-02\n",
       "              [torch.cuda.FloatTensor of size 6200x1550 (GPU 0)]),\n",
       "             ('0.rnns.2.module.weight_hh_l0', \n",
       "              -2.4554e-01 -1.6351e-01 -1.1053e-01  ...   3.8857e-03  7.4949e-02 -2.9063e-01\n",
       "              -9.7526e-02  6.1322e-01  3.1781e-01  ...  -2.4432e-01  2.2293e-01  5.8495e-02\n",
       "               9.1689e-02 -1.2600e-01 -1.3916e-02  ...  -4.7594e-02 -2.2686e-02 -1.7609e-01\n",
       "                              ...                   ⋱                   ...                \n",
       "              -1.5520e-01  1.6508e-02 -4.9385e-02  ...  -3.2385e-01 -2.7167e-01 -8.3913e-03\n",
       "              -9.6854e-02  7.9688e-02  9.4168e-04  ...  -1.5967e-01 -2.2801e-01 -2.4476e-01\n",
       "              -1.3900e-01  3.3235e-02 -5.7559e-02  ...  -1.9184e-01 -5.6969e-02 -7.3121e-02\n",
       "              [torch.cuda.FloatTensor of size 6200x1550 (GPU 0)]),\n",
       "             ('0.rnns.2.module.bias_ih_l0', \n",
       "              -0.4478\n",
       "              -0.3667\n",
       "              -0.3899\n",
       "                 ⋮   \n",
       "              -0.2782\n",
       "              -0.3917\n",
       "              -0.4682\n",
       "              [torch.cuda.FloatTensor of size 6200 (GPU 0)]),\n",
       "             ('0.rnns.2.module.bias_hh_l0', \n",
       "              -0.4415\n",
       "              -0.3765\n",
       "              -0.3959\n",
       "                 ⋮   \n",
       "              -0.2866\n",
       "              -0.3855\n",
       "              -0.4647\n",
       "              [torch.cuda.FloatTensor of size 6200 (GPU 0)]),\n",
       "             ('0.rnns.3.weight_hh_l0_raw', \n",
       "              -8.4389e-02 -2.8644e-02  3.5542e-02  ...  -2.8283e-02 -3.4789e-02 -5.7591e-02\n",
       "               1.0207e-01 -8.9030e-02  2.9602e-02  ...  -9.8719e-03 -2.8769e-02  7.5624e-03\n",
       "              -8.5957e-03 -8.8126e-03  1.7033e-01  ...   5.0757e-02  8.1693e-02 -4.9441e-02\n",
       "                              ...                   ⋱                   ...                \n",
       "               6.7831e-02  2.7039e-02  2.6795e-02  ...  -2.9261e-01  9.0621e-03  5.9535e-02\n",
       "               9.0669e-02  3.8097e-02 -1.5713e-01  ...   2.0764e-02  1.3382e-01  2.2304e-01\n",
       "              -1.2131e-01 -5.4568e-02 -1.1700e-01  ...   3.0831e-02  2.5938e-02 -9.6020e-02\n",
       "              [torch.cuda.FloatTensor of size 1600x400 (GPU 0)]),\n",
       "             ('0.rnns.3.module.weight_ih_l0', \n",
       "              -9.3970e-02  4.7566e-02 -1.4645e-01  ...  -6.0115e-02 -2.6125e-01 -2.2553e-02\n",
       "               3.0111e-01  3.9724e-01  2.3070e-01  ...  -2.5790e-01 -3.0965e-02  5.8006e-03\n",
       "               1.7174e-01 -2.0566e-01  1.2935e-01  ...  -2.2412e-02  1.9519e-01 -2.5144e-01\n",
       "                              ...                   ⋱                   ...                \n",
       "              -2.7384e-01 -9.7460e-02  1.1766e-01  ...   5.1694e-02 -2.1343e-01  2.6513e-01\n",
       "              -3.4726e-01 -3.7297e-01  2.3584e-01  ...   3.1167e-01  9.4678e-02  1.5575e-01\n",
       "              -6.9079e-02  2.1289e-01  1.0391e-01  ...   1.1922e-01 -2.8961e-01  2.9195e-01\n",
       "              [torch.cuda.FloatTensor of size 1600x1550 (GPU 0)]),\n",
       "             ('0.rnns.3.module.weight_hh_l0', \n",
       "              -8.4389e-02 -2.8644e-02  3.5542e-02  ...  -2.8283e-02 -3.4789e-02 -5.7591e-02\n",
       "               1.0207e-01 -8.9030e-02  2.9602e-02  ...  -9.8719e-03 -2.8769e-02  7.5624e-03\n",
       "              -8.5957e-03 -8.8126e-03  1.7033e-01  ...   5.0757e-02  8.1693e-02 -4.9441e-02\n",
       "                              ...                   ⋱                   ...                \n",
       "               6.7831e-02  2.7039e-02  2.6795e-02  ...  -2.9261e-01  9.0621e-03  5.9535e-02\n",
       "               9.0669e-02  3.8097e-02 -1.5713e-01  ...   2.0764e-02  1.3382e-01  2.2304e-01\n",
       "              -1.2131e-01 -5.4568e-02 -1.1700e-01  ...   3.0831e-02  2.5938e-02 -9.6020e-02\n",
       "              [torch.cuda.FloatTensor of size 1600x400 (GPU 0)]),\n",
       "             ('0.rnns.3.module.bias_ih_l0', \n",
       "               0.0600\n",
       "               0.1542\n",
       "               0.1138\n",
       "                 ⋮   \n",
       "               0.4141\n",
       "               0.6629\n",
       "               0.6203\n",
       "              [torch.cuda.FloatTensor of size 1600 (GPU 0)]),\n",
       "             ('0.rnns.3.module.bias_hh_l0', \n",
       "               0.0792\n",
       "               0.1865\n",
       "               0.0980\n",
       "                 ⋮   \n",
       "               0.3850\n",
       "               0.6291\n",
       "               0.6372\n",
       "              [torch.cuda.FloatTensor of size 1600 (GPU 0)]),\n",
       "             ('1.decoder.weight', \n",
       "              -4.5102e-02  9.4020e-02  2.6328e-01  ...  -3.5127e-01  1.6034e-02 -8.3869e-02\n",
       "               4.6775e-02  1.3149e-01  4.2938e-02  ...  -3.7226e-01  1.1994e-01 -3.1550e-02\n",
       "              -3.0709e-01  1.5889e-01  1.5225e-01  ...  -2.1277e-01 -2.5210e-02 -9.4852e-02\n",
       "                              ...                   ⋱                   ...                \n",
       "               1.1984e-03  2.3873e-01  2.0026e-02  ...  -4.4483e-01  9.1052e-04 -1.4287e-01\n",
       "              -3.0914e-02  1.1426e-01 -7.9358e-02  ...  -5.2305e-01  1.7369e-01 -7.5106e-02\n",
       "              -2.2116e-02  9.4815e-02 -3.9665e-02  ...  -2.5060e-01  2.9178e-01 -2.2862e-01\n",
       "              [torch.cuda.FloatTensor of size 60005x400 (GPU 0)]),\n",
       "             ('1.decoder.bias', \n",
       "                2.3001\n",
       "              -11.6117\n",
       "               -2.9025\n",
       "                 ⋮    \n",
       "              -10.6869\n",
       "              -10.9216\n",
       "              -10.5704\n",
       "              [torch.cuda.FloatTensor of size 60005 (GPU 0)])])"
      ]
     },
     "execution_count": 22,
     "metadata": {},
     "output_type": "execute_result"
    }
   ],
   "source": [
    "wgts"
   ]
  },
  {
   "cell_type": "markdown",
   "metadata": {},
   "source": [
    "initialize word embedding weight from pretrained"
   ]
  },
  {
   "cell_type": "code",
   "execution_count": 23,
   "metadata": {},
   "outputs": [],
   "source": [
    "enc_wgts = to_np(wgts['0.encoder.weight'])\n",
    "row_m = enc_wgts.mean(0)"
   ]
  },
  {
   "cell_type": "code",
   "execution_count": 24,
   "metadata": {},
   "outputs": [],
   "source": [
    "itos2 = pickle.load((PRE_PATH/'wiki-thai2fit'/'thwiki_itos.pkl').open('rb'))\n",
    "stoi2 = collections.defaultdict(lambda:-1, {v:k for k,v in enumerate(itos2)})"
   ]
  },
  {
   "cell_type": "code",
   "execution_count": 25,
   "metadata": {},
   "outputs": [],
   "source": [
    "new_w = np.zeros((vs, em_sz), dtype=np.float32)\n",
    "for i,w in enumerate(itos):\n",
    "    r = stoi2[w]\n",
    "    new_w[i] = enc_wgts[r] if r>=0 else row_m"
   ]
  },
  {
   "cell_type": "code",
   "execution_count": 26,
   "metadata": {},
   "outputs": [],
   "source": [
    "wgts['0.encoder.weight'] = T(new_w)\n",
    "wgts['0.encoder_dp.emb.weight'] = T(np.copy(new_w))\n",
    "wgts['1.decoder.weight'] = T(np.copy(new_w))"
   ]
  },
  {
   "cell_type": "markdown",
   "metadata": {},
   "source": [
    "## Language model"
   ]
  },
  {
   "cell_type": "code",
   "execution_count": 27,
   "metadata": {},
   "outputs": [],
   "source": [
    "wd=1e-7\n",
    "bptt=70\n",
    "bs=52\n",
    "opt_fn = partial(optim.Adam, betas=(0.8, 0.99))"
   ]
  },
  {
   "cell_type": "markdown",
   "metadata": {},
   "source": [
    "The goal of the LM is to learn to predict a word/token given a preceeding set of words(tokens). We take all the movie reviews in both the 90k training set and 10k validation set and concatenate them to form long strings of tokens. In fastai, we use the `LanguageModelLoader` to create a data loader which makes it easy to create and use bptt sized mini batches. The  `LanguageModelLoader` takes a concatenated string of tokens and returns a loader.\n",
    "\n",
    "We have a special modeldata object class for LMs called `LanguageModelData` to which we can pass the training and validation loaders and get in return the model itself."
   ]
  },
  {
   "cell_type": "code",
   "execution_count": 28,
   "metadata": {},
   "outputs": [],
   "source": [
    "trn_dl = LanguageModelLoader(np.concatenate(trn_lm), bs, bptt)\n",
    "val_dl = LanguageModelLoader(np.concatenate(val_lm), bs, bptt)\n",
    "md = LanguageModelData(LM_PATH, 1, vs, trn_dl, val_dl, bs=bs, bptt=bptt)"
   ]
  },
  {
   "cell_type": "markdown",
   "metadata": {},
   "source": [
    "We setup the dropouts for the model - these values have been chosen after experimentation. If you need to update them for custom LMs, you can change the weighting factor (0.7 here) based on the amount of data you have. For more data, you can reduce dropout factor and for small datasets, you can reduce overfitting by choosing a higher dropout factor. *No other dropout value requires tuning*"
   ]
  },
  {
   "cell_type": "code",
   "execution_count": 29,
   "metadata": {},
   "outputs": [],
   "source": [
    "drops = np.array([0.25, 0.1, 0.2, 0.02, 0.15])*0.7"
   ]
  },
  {
   "cell_type": "markdown",
   "metadata": {},
   "source": [
    "We first tune the last embedding layer so that the missing tokens initialized with mean weights get tuned properly. So we freeze everything except the last layer.\n",
    "\n",
    "We also keep track of the *accuracy* metric."
   ]
  },
  {
   "cell_type": "code",
   "execution_count": 30,
   "metadata": {},
   "outputs": [],
   "source": [
    "learner= md.get_model(opt_fn, em_sz, nh, nl, \n",
    "    dropouti=drops[0], dropout=drops[1], wdrop=drops[2], dropoute=drops[3], dropouth=drops[4])\n",
    "\n",
    "learner.metrics = [accuracy]\n",
    "learner.freeze_to(-1)"
   ]
  },
  {
   "cell_type": "code",
   "execution_count": 42,
   "metadata": {},
   "outputs": [
    {
     "data": {
      "text/plain": [
       "odict_keys(['0.encoder.weight', '0.encoder_with_dropout.embed.weight', '0.rnns.0.module.weight_ih_l0', '0.rnns.0.module.bias_ih_l0', '0.rnns.0.module.bias_hh_l0', '0.rnns.0.module.weight_hh_l0_raw', '0.rnns.1.module.weight_ih_l0', '0.rnns.1.module.bias_ih_l0', '0.rnns.1.module.bias_hh_l0', '0.rnns.1.module.weight_hh_l0_raw', '0.rnns.2.module.weight_ih_l0', '0.rnns.2.module.bias_ih_l0', '0.rnns.2.module.bias_hh_l0', '0.rnns.2.module.weight_hh_l0_raw', '0.rnns.3.module.weight_ih_l0', '0.rnns.3.module.bias_ih_l0', '0.rnns.3.module.bias_hh_l0', '0.rnns.3.module.weight_hh_l0_raw', '1.decoder.weight'])"
      ]
     },
     "execution_count": 42,
     "metadata": {},
     "output_type": "execute_result"
    }
   ],
   "source": [
    "learner.model.state_dict().keys()"
   ]
  },
  {
   "cell_type": "code",
   "execution_count": 44,
   "metadata": {},
   "outputs": [],
   "source": [
    "fast2pretrained_mapper = {'0.encoder_with_dropout.embed.weight':'0.encoder_dp.emb.weight',\n",
    "'0.rnns.0.module.weight_hh_l0_raw':'0.rnns.0.weight_hh_l0_raw',\n",
    "'0.rnns.1.module.weight_hh_l0_raw':'0.rnns.1.weight_hh_l0_raw',\n",
    "'0.rnns.2.module.weight_hh_l0_raw':'0.rnns.2.weight_hh_l0_raw',\n",
    "'0.rnns.3.module.weight_hh_l0_raw':'0.rnns.3.weight_hh_l0_raw'}"
   ]
  },
  {
   "cell_type": "code",
   "execution_count": 45,
   "metadata": {},
   "outputs": [],
   "source": [
    "new_wgts = collections.OrderedDict()"
   ]
  },
  {
   "cell_type": "code",
   "execution_count": 46,
   "metadata": {},
   "outputs": [],
   "source": [
    "for key in learner.model.state_dict().keys():\n",
    "    if key in fast2pretrained_mapper:\n",
    "        new_wgts[key] = wgts[fast2pretrained_mapper[key]]\n",
    "    else:\n",
    "        new_wgts[key] = wgts[key]"
   ]
  },
  {
   "cell_type": "code",
   "execution_count": 49,
   "metadata": {},
   "outputs": [],
   "source": [
    "learner.model.load_state_dict(new_wgts)"
   ]
  },
  {
   "cell_type": "code",
   "execution_count": 50,
   "metadata": {},
   "outputs": [],
   "source": [
    "lr=1e-3\n",
    "lrs = lr"
   ]
  },
  {
   "cell_type": "code",
   "execution_count": 52,
   "metadata": {},
   "outputs": [
    {
     "data": {
      "application/vnd.jupyter.widget-view+json": {
       "model_id": "0ace640955f44e67b3c802329dde4e38",
       "version_major": 2,
       "version_minor": 0
      },
      "text/plain": [
       "HBox(children=(IntProgress(value=0, description='Epoch', max=1, style=ProgressStyle(description_width='initial…"
      ]
     },
     "metadata": {},
     "output_type": "display_data"
    },
    {
     "name": "stdout",
     "output_type": "stream",
     "text": [
      "epoch      trn_loss   val_loss   accuracy                     \n",
      "    0      3.431724   3.239423   0.19707   \n",
      "\n"
     ]
    },
    {
     "data": {
      "text/plain": [
       "[array([3.23942]), 0.19707024606565635]"
      ]
     },
     "execution_count": 52,
     "metadata": {},
     "output_type": "execute_result"
    }
   ],
   "source": [
    "learner.fit(lrs/2, 1, wds=wd, use_clr=(32,2), cycle_len=1)"
   ]
  },
  {
   "cell_type": "markdown",
   "metadata": {},
   "source": [
    "Note that we print out accuracy and keep track of how often we end up predicting the target word correctly. While this is a good metric to check, it is not part of our loss function as it can get quite bumpy. We only minimize cross-entropy loss in the LM.\n",
    "\n",
    "The exponent of the cross-entropy loss is called the perplexity of the LM. (low perplexity is better)."
   ]
  },
  {
   "cell_type": "code",
   "execution_count": 53,
   "metadata": {},
   "outputs": [],
   "source": [
    "learner.save('lm_last_ft')"
   ]
  },
  {
   "cell_type": "code",
   "execution_count": 54,
   "metadata": {},
   "outputs": [],
   "source": [
    "learner.load('lm_last_ft')"
   ]
  },
  {
   "cell_type": "code",
   "execution_count": 55,
   "metadata": {},
   "outputs": [],
   "source": [
    "learner.unfreeze()"
   ]
  },
  {
   "cell_type": "code",
   "execution_count": 56,
   "metadata": {},
   "outputs": [
    {
     "data": {
      "application/vnd.jupyter.widget-view+json": {
       "model_id": "16fc3a6d153a4387831eff3c9f6519a2",
       "version_major": 2,
       "version_minor": 0
      },
      "text/plain": [
       "HBox(children=(IntProgress(value=0, description='Epoch', max=1, style=ProgressStyle(description_width='initial…"
      ]
     },
     "metadata": {},
     "output_type": "display_data"
    },
    {
     "name": "stdout",
     "output_type": "stream",
     "text": [
      "epoch      trn_loss   val_loss   accuracy                     \n",
      "    0      1.886351   1.834894   0.504208  \n",
      "\n"
     ]
    }
   ],
   "source": [
    "learner.lr_find(start_lr=lrs/10, end_lr=lrs*10, linear=True)"
   ]
  },
  {
   "cell_type": "code",
   "execution_count": 57,
   "metadata": {},
   "outputs": [
    {
     "data": {
      "image/png": "[encoded data removed]",
      "text/plain": [
       "<Figure size 432x288 with 1 Axes>"
      ]
     },
     "metadata": {
      "needs_background": "light"
     },
     "output_type": "display_data"
    }
   ],
   "source": [
    "learner.sched.plot()"
   ]
  },
  {
   "cell_type": "code",
   "execution_count": 58,
   "metadata": {},
   "outputs": [
    {
     "data": {
      "application/vnd.jupyter.widget-view+json": {
       "model_id": "502dba906e224334882f319340869004",
       "version_major": 2,
       "version_minor": 0
      },
      "text/plain": [
       "HBox(children=(IntProgress(value=0, description='Epoch', max=15, style=ProgressStyle(description_width='initia…"
      ]
     },
     "metadata": {},
     "output_type": "display_data"
    },
    {
     "name": "stdout",
     "output_type": "stream",
     "text": [
      "epoch      trn_loss   val_loss   accuracy                     \n",
      "    0      1.952691   1.813296   0.510141  \n",
      "    1      1.727431   1.626613   0.559865                     \n",
      "    2      1.619      1.536573   0.583123                     \n",
      "    3      1.536184   1.49491    0.595963                     \n",
      "    4      1.478104   1.459113   0.605552                     \n",
      "    5      1.418308   1.440864   0.610867                     \n",
      "    6      1.410077   1.416643   0.615639                     \n",
      "    7      1.350661   1.422479   0.620374                     \n",
      "    8      1.306432   1.425102   0.622137                     \n",
      "    9      1.282909   1.418708   0.624518                     \n",
      "    10     1.264872   1.41758    0.626054                     \n",
      "    11     1.26431    1.401287   0.627947                     \n",
      "    12     1.208531   1.419211   0.629134                     \n",
      "    13     1.247707   1.410038   0.630081                     \n",
      "    14     1.184575   1.427028   0.629881                     \n",
      "\n"
     ]
    },
    {
     "data": {
      "text/plain": [
       "[array([1.42703]), 0.6298805415630341]"
      ]
     },
     "execution_count": 58,
     "metadata": {},
     "output_type": "execute_result"
    }
   ],
   "source": [
    "learner.fit(lrs, 1, wds=wd, use_clr=(20,10), cycle_len=15)"
   ]
  },
  {
   "cell_type": "markdown",
   "metadata": {},
   "source": [
    "We save the trained model weights and separately save the encoder part of the LM model as well. This will serve as our backbone in the classification task model."
   ]
  },
  {
   "cell_type": "code",
   "execution_count": 59,
   "metadata": {},
   "outputs": [],
   "source": [
    "learner.save('lm1')"
   ]
  },
  {
   "cell_type": "code",
   "execution_count": 60,
   "metadata": {},
   "outputs": [],
   "source": [
    "learner.save_encoder('lm1_enc')"
   ]
  },
  {
   "cell_type": "code",
   "execution_count": 61,
   "metadata": {},
   "outputs": [
    {
     "data": {
      "image/png": "[encoded data removed]",
      "text/plain": [
       "<Figure size 432x288 with 1 Axes>"
      ]
     },
     "metadata": {
      "needs_background": "light"
     },
     "output_type": "display_data"
    }
   ],
   "source": [
    "learner.sched.plot_loss()"
   ]
  }
 ],
 "metadata": {
  "kernelspec": {
   "display_name": "Python 3",
   "language": "python",
   "name": "python3"
  },
  "language_info": {
   "codemirror_mode": {
    "name": "ipython",
    "version": 3
   },
   "file_extension": ".py",
   "mimetype": "text/x-python",
   "name": "python",
   "nbconvert_exporter": "python",
   "pygments_lexer": "ipython3",
   "version": "3.6.8"
  }
 },
 "nbformat": 4,
 "nbformat_minor": 2
}
